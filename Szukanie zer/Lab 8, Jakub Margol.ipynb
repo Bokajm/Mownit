{
 "cells": [
  {
   "cell_type": "markdown",
   "metadata": {},
   "source": [
    "# Lab. 8, Jakub Margol"
   ]
  },
  {
   "cell_type": "code",
   "execution_count": 4,
   "metadata": {
    "scrolled": false
   },
   "outputs": [
    {
     "name": "stderr",
     "output_type": "stream",
     "text": [
      "\u001b[32m\u001b[1m  Resolving\u001b[22m\u001b[39m package versions...\n",
      "\u001b[32m\u001b[1mNo Changes\u001b[22m\u001b[39m to `~/Project.toml`\n",
      "\u001b[32m\u001b[1mNo Changes\u001b[22m\u001b[39m to `~/Manifest.toml`\n",
      "\u001b[32m\u001b[1m  Resolving\u001b[22m\u001b[39m package versions...\n",
      "\u001b[32m\u001b[1mNo Changes\u001b[22m\u001b[39m to `~/Project.toml`\n",
      "\u001b[32m\u001b[1mNo Changes\u001b[22m\u001b[39m to `~/Manifest.toml`\n",
      "\u001b[32m\u001b[1m  Resolving\u001b[22m\u001b[39m package versions...\n",
      "\u001b[32m\u001b[1mNo Changes\u001b[22m\u001b[39m to `~/Project.toml`\n",
      "\u001b[32m\u001b[1mNo Changes\u001b[22m\u001b[39m to `~/Manifest.toml`\n",
      "\u001b[32m\u001b[1m  Resolving\u001b[22m\u001b[39m package versions...\n",
      "\u001b[32m\u001b[1mNo Changes\u001b[22m\u001b[39m to `~/Project.toml`\n",
      "\u001b[32m\u001b[1mNo Changes\u001b[22m\u001b[39m to `~/Manifest.toml`\n"
     ]
    }
   ],
   "source": [
    "using Pkg\n",
    "Pkg.add(\"DataFrames\")\n",
    "Pkg.add(\"Plots\")\n",
    "Pkg.add(\"Roots\")\n",
    "Pkg.add(\"ForwardDiff\")\n",
    "using DataFrames\n",
    "using Plots\n",
    "using Roots  \n",
    "using ForwardDiff"
   ]
  },
  {
   "cell_type": "markdown",
   "metadata": {},
   "source": [
    "### Wybrane metody:"
   ]
  },
  {
   "cell_type": "markdown",
   "metadata": {},
   "source": [
    "Metoda bisekcji"
   ]
  },
  {
   "cell_type": "markdown",
   "metadata": {},
   "source": [
    "Metoda Newtona"
   ]
  },
  {
   "cell_type": "markdown",
   "metadata": {},
   "source": [
    "Metoda siecznych"
   ]
  },
  {
   "cell_type": "markdown",
   "metadata": {},
   "source": [
    "#### Funkcja f(x) = x^3 - 2*x - 5"
   ]
  },
  {
   "cell_type": "markdown",
   "metadata": {},
   "source": [
    "Przedział dla bisekcji: (0,3); Punkt startowy dla Newtona oraz siecznych: 0"
   ]
  },
  {
   "cell_type": "code",
   "execution_count": 122,
   "metadata": {},
   "outputs": [
    {
     "data": {
      "text/html": [
       "<table class=\"data-frame\"><thead><tr><th></th><th>Funkcja</th><th>Metoda</th><th>Liczba iteracji</th><th>Wywołania funkcji</th><th>Dokładna wartość</th><th>Najlepsze przybliżenie</th></tr><tr><th></th><th>String</th><th>String</th><th>Int64</th><th>Int64</th><th>Bool</th><th>Bool</th></tr></thead><tbody><p>0 rows × 6 columns</p></tbody></table>"
      ],
      "text/latex": [
       "\\begin{tabular}{r|cccccc}\n",
       "\t& Funkcja & Metoda & Liczba iteracji & Wywołania funkcji & Dokładna wartość & Najlepsze przybliżenie\\\\\n",
       "\t\\hline\n",
       "\t& String & String & Int64 & Int64 & Bool & Bool\\\\\n",
       "\t\\hline\n",
       "\\end{tabular}\n"
      ],
      "text/plain": [
       "0×6 DataFrame\n"
      ]
     },
     "execution_count": 122,
     "metadata": {},
     "output_type": "execute_result"
    }
   ],
   "source": [
    "wyniki = DataFrame(A = String[], B = String[], C = Int[], D = Int[], E = Bool[], F = Bool[])\n",
    "colnames = [\"Funkcja\",\"Metoda\",\"Liczba iteracji\",\"Wywołania funkcji\", \"Dokładna wartość\", \"Najlepsze przybliżenie\"]\n",
    "\n",
    "rename!(wyniki, Symbol.(colnames))"
   ]
  },
  {
   "cell_type": "code",
   "execution_count": 123,
   "metadata": {},
   "outputs": [
    {
     "data": {
      "text/plain": [
       "D (generic function with 1 method)"
      ]
     },
     "execution_count": 123,
     "metadata": {},
     "output_type": "execute_result"
    }
   ],
   "source": [
    "f(x) = x^3 - 2*x - 5\n",
    "D(f) = x->ForwardDiff.derivative(f, float(x))"
   ]
  },
  {
   "cell_type": "code",
   "execution_count": 124,
   "metadata": {
    "scrolled": true
   },
   "outputs": [
    {
     "name": "stdout",
     "output_type": "stream",
     "text": [
      "Results of univariate zero finding:\n",
      "\n",
      "* Converged to: 2.094551481542327\n",
      "* Algorithm: Roots.BisectionExact()\n",
      "* iterations: 62\n",
      "* function evaluations: 64\n",
      "* stopped as x_n ≈ x_{n-1} using atol=xatol, rtol=xrtol\n",
      "* Note: Change of sign at xn identified. \n",
      "\n",
      "Trace:\n",
      "(a_0, b_0) = ( 0.0000000000000000,  3.0000000000000000)\n",
      "(a_1, b_1) = ( 0.0000000000000000,  3.0000000000000000)\n",
      "(a_2, b_2) = ( 0.0000000000000000,  3.0000000000000000)\n",
      "(a_3, b_3) = ( 0.0000000000000000,  3.0000000000000000)\n",
      "(a_4, b_4) = ( 0.0000000000000000,  3.0000000000000000)\n",
      "(a_5, b_5) = ( 0.0000000006912160,  3.0000000000000000)\n",
      "(a_6, b_6) = ( 0.0000455379486084,  3.0000000000000000)\n",
      "(a_7, b_7) = ( 0.0116882324218750,  3.0000000000000000)\n",
      "(a_8, b_8) = ( 0.1872558593750000,  3.0000000000000000)\n",
      "(a_9, b_9) = ( 0.7495117187500000,  3.0000000000000000)\n",
      "(a_10, b_10) = ( 1.4995117187500000,  3.0000000000000000)\n",
      "(a_11, b_11) = ( 1.9997558593750000,  3.0000000000000000)\n",
      "(a_12, b_12) = ( 1.9997558593750000,  2.4997558593750000)\n",
      "(a_13, b_13) = ( 1.9997558593750000,  2.2496337890625000)\n",
      "(a_14, b_14) = ( 1.9997558593750000,  2.1245727539062500)\n",
      "(a_15, b_15) = ( 2.0620422363281250,  2.1245727539062500)\n",
      "(a_16, b_16) = ( 2.0933074951171875,  2.1245727539062500)\n",
      "(a_17, b_17) = ( 2.0933074951171875,  2.1089401245117188)\n",
      "(a_18, b_18) = ( 2.0933074951171875,  2.1011238098144531)\n",
      "(a_19, b_19) = ( 2.0933074951171875,  2.0972156524658203)\n",
      "(a_20, b_20) = ( 2.0933074951171875,  2.0952615737915039)\n",
      "(a_21, b_21) = ( 2.0942845344543457,  2.0952615737915039)\n",
      "(a_22, b_22) = ( 2.0942845344543457,  2.0947730541229248)\n",
      "(a_23, b_23) = ( 2.0945287942886353,  2.0947730541229248)\n",
      "(a_24, b_24) = ( 2.0945287942886353,  2.0946509242057800)\n",
      "(a_25, b_25) = ( 2.0945287942886353,  2.0945898592472076)\n",
      "(a_26, b_26) = ( 2.0945287942886353,  2.0945593267679214)\n",
      "(a_27, b_27) = ( 2.0945440605282784,  2.0945593267679214)\n",
      "(a_28, b_28) = ( 2.0945440605282784,  2.0945516936480999)\n",
      "(a_29, b_29) = ( 2.0945478770881891,  2.0945516936480999)\n",
      "(a_30, b_30) = ( 2.0945497853681445,  2.0945516936480999)\n",
      "(a_31, b_31) = ( 2.0945507395081222,  2.0945516936480999)\n",
      "(a_32, b_32) = ( 2.0945512165781111,  2.0945516936480999)\n",
      "(a_33, b_33) = ( 2.0945514551131055,  2.0945516936480999)\n",
      "(a_34, b_34) = ( 2.0945514551131055,  2.0945515743806027)\n",
      "(a_35, b_35) = ( 2.0945514551131055,  2.0945515147468541)\n",
      "(a_36, b_36) = ( 2.0945514551131055,  2.0945514849299798)\n",
      "(a_37, b_37) = ( 2.0945514700215426,  2.0945514849299798)\n",
      "(a_38, b_38) = ( 2.0945514774757612,  2.0945514849299798)\n",
      "(a_39, b_39) = ( 2.0945514812028705,  2.0945514849299798)\n",
      "(a_40, b_40) = ( 2.0945514812028705,  2.0945514830664251)\n",
      "(a_41, b_41) = ( 2.0945514812028705,  2.0945514821346478)\n",
      "(a_42, b_42) = ( 2.0945514812028705,  2.0945514816687592)\n",
      "(a_43, b_43) = ( 2.0945514814358148,  2.0945514816687592)\n",
      "(a_44, b_44) = ( 2.0945514814358148,  2.0945514815522870)\n",
      "(a_45, b_45) = ( 2.0945514814940509,  2.0945514815522870)\n",
      "(a_46, b_46) = ( 2.0945514815231689,  2.0945514815522870)\n",
      "(a_47, b_47) = ( 2.0945514815377280,  2.0945514815522870)\n",
      "(a_48, b_48) = ( 2.0945514815377280,  2.0945514815450075)\n",
      "(a_49, b_49) = ( 2.0945514815413677,  2.0945514815450075)\n",
      "(a_50, b_50) = ( 2.0945514815413677,  2.0945514815431876)\n",
      "(a_51, b_51) = ( 2.0945514815422777,  2.0945514815431876)\n",
      "(a_52, b_52) = ( 2.0945514815422777,  2.0945514815427324)\n",
      "(a_53, b_53) = ( 2.0945514815422777,  2.0945514815425050)\n",
      "(a_54, b_54) = ( 2.0945514815422777,  2.0945514815423913)\n",
      "(a_55, b_55) = ( 2.0945514815422777,  2.0945514815423345)\n",
      "(a_56, b_56) = ( 2.0945514815423061,  2.0945514815423345)\n",
      "(a_57, b_57) = ( 2.0945514815423203,  2.0945514815423345)\n",
      "(a_58, b_58) = ( 2.0945514815423203,  2.0945514815423274)\n",
      "(a_59, b_59) = ( 2.0945514815423238,  2.0945514815423274)\n",
      "(a_60, b_60) = ( 2.0945514815423256,  2.0945514815423274)\n",
      "(a_61, b_61) = ( 2.0945514815423265,  2.0945514815423274)\n",
      "(a_62, b_62) = ( 2.0945514815423265,  2.0945514815423270)\n",
      "\n"
     ]
    },
    {
     "data": {
      "text/plain": [
       "2.094551481542327"
      ]
     },
     "execution_count": 124,
     "metadata": {},
     "output_type": "execute_result"
    }
   ],
   "source": [
    "xb = find_zero(f, (0, 3), Bisection(),verbose=true)"
   ]
  },
  {
   "cell_type": "code",
   "execution_count": 125,
   "metadata": {
    "scrolled": true
   },
   "outputs": [
    {
     "name": "stdout",
     "output_type": "stream",
     "text": [
      "Results of univariate zero finding:\n",
      "\n",
      "* Converged to: 2.0945514815423265\n",
      "* Algorithm: Roots.Newton()\n",
      "* iterations: 19\n",
      "* function evaluations: 39\n",
      "* stopped as |f(x_n)| ≤ max(δ, max(1,|x|)⋅ϵ) using δ = atol, ϵ = rtol\n",
      "\n",
      "Trace:\n",
      "x_0 =  0.0000000000000000,\t fx_0 = -5.0000000000000000\n",
      "x_1 = -2.5000000000000000,\t fx_1 = -15.6250000000000000\n",
      "x_2 = -1.5671641791044775,\t fx_2 = -5.7146324514651070\n",
      "x_3 = -0.5025924450866797,\t fx_3 = -4.1217695422221725\n",
      "x_4 = -3.8207064676993294,\t fx_4 = -53.1324879623681738\n",
      "x_5 = -2.5493933913606064,\t fx_5 = -16.4707576140240164\n",
      "x_6 = -1.6081114997282251,\t fx_6 = -5.9423896750176617\n",
      "x_7 = -0.5761004336602393,\t fx_7 = -4.0390020905449111\n",
      "x_8 = -4.5977095833821693,\t fx_8 = -92.9952575692345391\n",
      "x_9 = -3.0835431467266550,\t fx_9 = -28.1519768702820130\n",
      "x_10 = -2.0221942554643366,\t fx_10 = -9.2249089970538503\n",
      "x_11 = -1.1237641075795191,\t fx_11 = -4.1716125339957122\n",
      "x_12 =  1.2086516123957836,\t fx_12 = -5.6516581502357903\n",
      "x_13 =  3.5807900448965704,\t fx_13 =  33.7515152085330783\n",
      "x_14 =  2.6552331980087693,\t fx_14 =  8.4096268679235848\n",
      "x_15 =  2.2161063074385283,\t fx_15 =  1.4513672740375592\n",
      "x_16 =  2.1021250154847473,\t fx_16 =  0.0848923823417307\n",
      "x_17 =  2.0945835767773091,\t fx_17 =  0.0003582354394256\n",
      "x_18 =  2.0945514821222386,\t fx_18 =  0.0000000064726526\n",
      "x_19 =  2.0945514815423265,\t fx_19 = -0.0000000000000009\n",
      "\n"
     ]
    },
    {
     "data": {
      "text/plain": [
       "2.0945514815423265"
      ]
     },
     "execution_count": 125,
     "metadata": {},
     "output_type": "execute_result"
    }
   ],
   "source": [
    "xn = find_zero((f, D(f)),0, Roots.Newton(),verbose=true)"
   ]
  },
  {
   "cell_type": "code",
   "execution_count": 126,
   "metadata": {
    "scrolled": true
   },
   "outputs": [
    {
     "name": "stdout",
     "output_type": "stream",
     "text": [
      "Results of univariate zero finding:\n",
      "\n",
      "* Converged to: 2.0945514815423265\n",
      "* Algorithm: Roots.Secant()\n",
      "* iterations: 12\n",
      "* function evaluations: 14\n",
      "* stopped as |f(x_n)| ≤ max(δ, max(1,|x|)⋅ϵ) using δ = atol, ϵ = rtol\n",
      "\n",
      "Trace:\n",
      "x_0 =  0.0000000000000000,\t fx_0 = -5.0000000000000000\n",
      "x_1 = -2.5000000001244578,\t fx_1 = -15.6250000020846684\n",
      "x_2 =  1.1764705880630340,\t fx_2 = -5.7246081827440420\n",
      "x_3 =  3.3022807576809083,\t fx_3 =  24.4070023483080618\n",
      "x_4 =  1.5803464538888512,\t fx_4 = -4.2137856763281247\n",
      "x_5 =  1.8338636560934627,\t fx_5 = -2.5003413070038372\n",
      "x_6 =  2.2038082799496843,\t fx_6 =  1.2957754399762749\n",
      "x_7 =  2.0775305098770178,\t fx_7 = -0.1881629871177806\n",
      "x_8 =  2.0935424966209526,\t fx_8 = -0.0112553263160855\n",
      "x_9 =  2.0945612209371021,\t fx_9 =  0.0001087062443226\n",
      "x_10 =  2.0945514760077542,\t fx_10 = -0.0000000617737861\n",
      "x_11 =  2.0945514815422963,\t fx_11 = -0.0000000000003384\n",
      "x_12 =  2.0945514815423265,\t fx_12 = -0.0000000000000009\n",
      "\n"
     ]
    },
    {
     "data": {
      "text/plain": [
       "2.0945514815423265"
      ]
     },
     "execution_count": 126,
     "metadata": {},
     "output_type": "execute_result"
    }
   ],
   "source": [
    "xs = find_zero(f, 0, Order1(),  verbose=true)"
   ]
  },
  {
   "cell_type": "code",
   "execution_count": 127,
   "metadata": {},
   "outputs": [
    {
     "data": {
      "text/html": [
       "<table class=\"data-frame\"><thead><tr><th></th><th>Funkcja</th><th>Metoda</th><th>Liczba iteracji</th><th>Wywołania funkcji</th><th>Dokładna wartość</th><th>Najlepsze przybliżenie</th></tr><tr><th></th><th>String</th><th>String</th><th>Int64</th><th>Int64</th><th>Bool</th><th>Bool</th></tr></thead><tbody><p>3 rows × 6 columns</p><tr><th>1</th><td>x^3 - 2*x - 5</td><td>Bisekcja</td><td>62</td><td>64</td><td>0</td><td>1</td></tr><tr><th>2</th><td>x^3 - 2*x - 5</td><td>Newton</td><td>19</td><td>39</td><td>0</td><td>1</td></tr><tr><th>3</th><td>x^3 - 2*x - 5</td><td>Sieczne</td><td>12</td><td>14</td><td>0</td><td>1</td></tr></tbody></table>"
      ],
      "text/latex": [
       "\\begin{tabular}{r|cccccc}\n",
       "\t& Funkcja & Metoda & Liczba iteracji & Wywołania funkcji & Dokładna wartość & Najlepsze przybliżenie\\\\\n",
       "\t\\hline\n",
       "\t& String & String & Int64 & Int64 & Bool & Bool\\\\\n",
       "\t\\hline\n",
       "\t1 & x\\^3 - 2*x - 5 & Bisekcja & 62 & 64 & 0 & 1 \\\\\n",
       "\t2 & x\\^3 - 2*x - 5 & Newton & 19 & 39 & 0 & 1 \\\\\n",
       "\t3 & x\\^3 - 2*x - 5 & Sieczne & 12 & 14 & 0 & 1 \\\\\n",
       "\\end{tabular}\n"
      ],
      "text/plain": [
       "3×6 DataFrame. Omitted printing of 2 columns\n",
       "│ Row │ Funkcja       │ Metoda   │ Liczba iteracji │ Wywołania funkcji │\n",
       "│     │ \u001b[90mString\u001b[39m        │ \u001b[90mString\u001b[39m   │ \u001b[90mInt64\u001b[39m           │ \u001b[90mInt64\u001b[39m             │\n",
       "├─────┼───────────────┼──────────┼─────────────────┼───────────────────┤\n",
       "│ 1   │ x^3 - 2*x - 5 │ Bisekcja │ 62              │ 64                │\n",
       "│ 2   │ x^3 - 2*x - 5 │ Newton   │ 19              │ 39                │\n",
       "│ 3   │ x^3 - 2*x - 5 │ Sieczne  │ 12              │ 14                │"
      ]
     },
     "execution_count": 127,
     "metadata": {},
     "output_type": "execute_result"
    }
   ],
   "source": [
    "push!(wyniki, (\"x^3 - 2*x - 5\",\"Bisekcja\", 62, 64, iszero(xb), (f(prevfloat(xb)) * f(xb) < 0.0 || f(xb) * f(nextfloat(xb)) < 0.0)))\n",
    "push!(wyniki, (\"x^3 - 2*x - 5\",\"Newton\", 19, 39, iszero(xn), (f(prevfloat(xn)) * f(xn) < 0.0 || f(xn) * f(nextfloat(xn)) < 0.0)))\n",
    "push!(wyniki, (\"x^3 - 2*x - 5\",\"Sieczne\", 12, 14, iszero(xs), (f(prevfloat(xs)) * f(xs) < 0.0 || f(xs) * f(nextfloat(xs)) < 0.0)))"
   ]
  },
  {
   "cell_type": "markdown",
   "metadata": {},
   "source": [
    "#### Funkcja f(x) = sin ( x ) - x / 2"
   ]
  },
  {
   "cell_type": "markdown",
   "metadata": {},
   "source": [
    "Przedział dla bisekcji: (1,3); Punkt startowy dla Newtona oraz siecznych: 1"
   ]
  },
  {
   "cell_type": "code",
   "execution_count": 128,
   "metadata": {},
   "outputs": [
    {
     "data": {
      "text/plain": [
       "D (generic function with 1 method)"
      ]
     },
     "execution_count": 128,
     "metadata": {},
     "output_type": "execute_result"
    }
   ],
   "source": [
    "f(x) = sin(x) - x / 2\n",
    "D(f) = x->ForwardDiff.derivative(f, float(x))"
   ]
  },
  {
   "cell_type": "code",
   "execution_count": 129,
   "metadata": {
    "scrolled": true
   },
   "outputs": [
    {
     "name": "stdout",
     "output_type": "stream",
     "text": [
      "Results of univariate zero finding:\n",
      "\n",
      "* Converged to: 1.8954942670339814\n",
      "* Algorithm: Roots.BisectionExact()\n",
      "* iterations: 51\n",
      "* function evaluations: 53\n",
      "* stopped as x_n ≈ x_{n-1} using atol=xatol, rtol=xrtol\n",
      "* stopped as |f(x_n)| ≤ max(δ, max(1,|x|)⋅ϵ) using δ = atol, ϵ = rtol\n",
      "\n",
      "Trace:\n",
      "(a_0, b_0) = ( 1.0000000000000000,  3.0000000000000000)\n",
      "(a_1, b_1) = ( 1.7500000000000000,  3.0000000000000000)\n",
      "(a_2, b_2) = ( 1.7500000000000000,  2.2500000000000000)\n",
      "(a_3, b_3) = ( 1.7500000000000000,  1.9375000000000000)\n",
      "(a_4, b_4) = ( 1.8437500000000000,  1.9375000000000000)\n",
      "(a_5, b_5) = ( 1.8906250000000000,  1.9375000000000000)\n",
      "(a_6, b_6) = ( 1.8906250000000000,  1.9140625000000000)\n",
      "(a_7, b_7) = ( 1.8906250000000000,  1.9023437500000000)\n",
      "(a_8, b_8) = ( 1.8906250000000000,  1.8964843750000000)\n",
      "(a_9, b_9) = ( 1.8935546875000000,  1.8964843750000000)\n",
      "(a_10, b_10) = ( 1.8950195312500000,  1.8964843750000000)\n",
      "(a_11, b_11) = ( 1.8950195312500000,  1.8957519531250000)\n",
      "(a_12, b_12) = ( 1.8953857421875000,  1.8957519531250000)\n",
      "(a_13, b_13) = ( 1.8953857421875000,  1.8955688476562500)\n",
      "(a_14, b_14) = ( 1.8954772949218750,  1.8955688476562500)\n",
      "(a_15, b_15) = ( 1.8954772949218750,  1.8955230712890625)\n",
      "(a_16, b_16) = ( 1.8954772949218750,  1.8955001831054688)\n",
      "(a_17, b_17) = ( 1.8954887390136719,  1.8955001831054688)\n",
      "(a_18, b_18) = ( 1.8954887390136719,  1.8954944610595703)\n",
      "(a_19, b_19) = ( 1.8954916000366211,  1.8954944610595703)\n",
      "(a_20, b_20) = ( 1.8954930305480957,  1.8954944610595703)\n",
      "(a_21, b_21) = ( 1.8954937458038330,  1.8954944610595703)\n",
      "(a_22, b_22) = ( 1.8954941034317017,  1.8954944610595703)\n",
      "(a_23, b_23) = ( 1.8954941034317017,  1.8954942822456360)\n",
      "(a_24, b_24) = ( 1.8954941928386688,  1.8954942822456360)\n",
      "(a_25, b_25) = ( 1.8954942375421524,  1.8954942822456360)\n",
      "(a_26, b_26) = ( 1.8954942598938942,  1.8954942822456360)\n",
      "(a_27, b_27) = ( 1.8954942598938942,  1.8954942710697651)\n",
      "(a_28, b_28) = ( 1.8954942654818296,  1.8954942710697651)\n",
      "(a_29, b_29) = ( 1.8954942654818296,  1.8954942682757974)\n",
      "(a_30, b_30) = ( 1.8954942668788135,  1.8954942682757974)\n",
      "(a_31, b_31) = ( 1.8954942668788135,  1.8954942675773054)\n",
      "(a_32, b_32) = ( 1.8954942668788135,  1.8954942672280595)\n",
      "(a_33, b_33) = ( 1.8954942668788135,  1.8954942670534365)\n",
      "(a_34, b_34) = ( 1.8954942669661250,  1.8954942670534365)\n",
      "(a_35, b_35) = ( 1.8954942670097807,  1.8954942670534365)\n",
      "(a_36, b_36) = ( 1.8954942670316086,  1.8954942670534365)\n",
      "(a_37, b_37) = ( 1.8954942670316086,  1.8954942670425226)\n",
      "(a_38, b_38) = ( 1.8954942670316086,  1.8954942670370656)\n",
      "(a_39, b_39) = ( 1.8954942670316086,  1.8954942670343371)\n",
      "(a_40, b_40) = ( 1.8954942670329729,  1.8954942670343371)\n",
      "(a_41, b_41) = ( 1.8954942670336550,  1.8954942670343371)\n",
      "(a_42, b_42) = ( 1.8954942670336550,  1.8954942670339960)\n",
      "(a_43, b_43) = ( 1.8954942670338255,  1.8954942670339960)\n",
      "(a_44, b_44) = ( 1.8954942670339108,  1.8954942670339960)\n",
      "(a_45, b_45) = ( 1.8954942670339534,  1.8954942670339960)\n",
      "(a_46, b_46) = ( 1.8954942670339747,  1.8954942670339960)\n",
      "(a_47, b_47) = ( 1.8954942670339747,  1.8954942670339854)\n",
      "(a_48, b_48) = ( 1.8954942670339801,  1.8954942670339854)\n",
      "(a_49, b_49) = ( 1.8954942670339801,  1.8954942670339827)\n",
      "(a_50, b_50) = ( 1.8954942670339801,  1.8954942670339814)\n",
      "(a_51, b_51) = ( 1.8954942670339807,  1.8954942670339814)\n",
      "\n"
     ]
    },
    {
     "data": {
      "text/plain": [
       "1.895494267033981"
      ]
     },
     "execution_count": 129,
     "metadata": {},
     "output_type": "execute_result"
    }
   ],
   "source": [
    "xb = find_zero(f, (1, 3), Bisection(),verbose=true)"
   ]
  },
  {
   "cell_type": "code",
   "execution_count": 130,
   "metadata": {
    "scrolled": true
   },
   "outputs": [
    {
     "name": "stdout",
     "output_type": "stream",
     "text": [
      "Results of univariate zero finding:\n",
      "\n",
      "* Converged to: 1.895494267033981\n",
      "* Algorithm: Roots.Newton()\n",
      "* iterations: 14\n",
      "* function evaluations: 29\n",
      "* stopped as |f(x_n)| ≤ max(δ, max(1,|x|)⋅ϵ) using δ = atol, ϵ = rtol\n",
      "\n",
      "Trace:\n",
      "x_0 =  1.0000000000000000,\t fx_0 =  0.3414709848078965\n",
      "x_1 = -7.4727406398312315,\t fx_1 =  2.8081667094536464\n",
      "x_2 =  14.4785209828738370,\t fx_2 = -6.2969582454430819\n",
      "x_3 =  6.9351154080461033,\t fx_3 = -2.8608359044584981\n",
      "x_4 =  16.6356841214309199,\t fx_4 = -9.1180973695297300\n",
      "x_5 =  8.3439375493161698,\t fx_5 = -3.2896151695238847\n",
      "x_6 =  4.9546327243405406,\t fx_6 = -3.4481185485938926\n",
      "x_7 = -8.3013179977216467,\t fx_7 =  3.2490565022281146\n",
      "x_8 = -4.8173199338714303,\t fx_8 =  3.4031597638831967\n",
      "x_9 =  3.7925744878946874,\t fx_9 = -2.5022549802413874\n",
      "x_10 =  1.8610609427091811,\t fx_10 =  0.0276377031006260\n",
      "x_11 =  1.8962142114143934,\t fx_11 = -0.0005898962619408\n",
      "x_12 =  1.8954945666276892,\t fx_12 = -0.0000002453740378\n",
      "x_13 =  1.8954942670340329,\t fx_13 = -0.0000000000000425\n",
      "x_14 =  1.8954942670339809,\t fx_14 =  0.0000000000000000\n",
      "\n"
     ]
    },
    {
     "data": {
      "text/plain": [
       "1.895494267033981"
      ]
     },
     "execution_count": 130,
     "metadata": {},
     "output_type": "execute_result"
    }
   ],
   "source": [
    "xn = find_zero((f, D(f)),1, Roots.Newton(),verbose=true)"
   ]
  },
  {
   "cell_type": "code",
   "execution_count": 131,
   "metadata": {
    "scrolled": true
   },
   "outputs": [
    {
     "name": "stdout",
     "output_type": "stream",
     "text": [
      "Results of univariate zero finding:\n",
      "\n",
      "* Converged to: 1.895494267033981\n",
      "* Algorithm: Roots.Secant()\n",
      "* iterations: 10\n",
      "* function evaluations: 12\n",
      "* stopped as |f(x_n)| ≤ max(δ, max(1,|x|)⋅ϵ) using δ = atol, ϵ = rtol\n",
      "\n",
      "Trace:\n",
      "x_0 =  1.0000000000000000,\t fx_0 =  0.3414709848078965\n",
      "x_1 = -7.4732762903841063,\t fx_1 =  2.8082353669792566\n",
      "x_2 =  2.1729446153588370,\t fx_2 = -0.2623516113255318\n",
      "x_3 =  1.3487694281049514,\t fx_3 =  0.3010684015958831\n",
      "x_4 =  1.7891746330512732,\t fx_4 =  0.0816627510127899\n",
      "x_5 =  1.9530933858303756,\t fx_5 = -0.0487365328443132\n",
      "x_6 =  1.8918290027577502,\t fx_6 =  0.0029955652938334\n",
      "x_7 =  1.8953765383552894,\t fx_7 =  0.0000964158715917\n",
      "x_8 =  1.8954945173507891,\t fx_8 = -0.0000002050151338\n",
      "x_9 =  1.8954942670169290,\t fx_9 =  0.0000000000139659\n",
      "x_10 =  1.8954942670339809,\t fx_10 =  0.0000000000000000\n",
      "\n"
     ]
    },
    {
     "data": {
      "text/plain": [
       "1.895494267033981"
      ]
     },
     "execution_count": 131,
     "metadata": {},
     "output_type": "execute_result"
    }
   ],
   "source": [
    "xs = find_zero(f, 1, Order1(),  verbose=true)"
   ]
  },
  {
   "cell_type": "code",
   "execution_count": 132,
   "metadata": {},
   "outputs": [
    {
     "data": {
      "text/html": [
       "<table class=\"data-frame\"><thead><tr><th></th><th>Funkcja</th><th>Metoda</th><th>Liczba iteracji</th><th>Wywołania funkcji</th><th>Dokładna wartość</th><th>Najlepsze przybliżenie</th></tr><tr><th></th><th>String</th><th>String</th><th>Int64</th><th>Int64</th><th>Bool</th><th>Bool</th></tr></thead><tbody><p>6 rows × 6 columns</p><tr><th>1</th><td>x^3 - 2*x - 5</td><td>Bisekcja</td><td>62</td><td>64</td><td>0</td><td>1</td></tr><tr><th>2</th><td>x^3 - 2*x - 5</td><td>Newton</td><td>19</td><td>39</td><td>0</td><td>1</td></tr><tr><th>3</th><td>x^3 - 2*x - 5</td><td>Sieczne</td><td>12</td><td>14</td><td>0</td><td>1</td></tr><tr><th>4</th><td>sin(x)-x/2</td><td>Bisekcja</td><td>51</td><td>53</td><td>0</td><td>0</td></tr><tr><th>5</th><td>sin(x)-x/2</td><td>Newton</td><td>14</td><td>29</td><td>0</td><td>0</td></tr><tr><th>6</th><td>sin(x)-x/2</td><td>Sieczne</td><td>10</td><td>12</td><td>0</td><td>0</td></tr></tbody></table>"
      ],
      "text/latex": [
       "\\begin{tabular}{r|cccccc}\n",
       "\t& Funkcja & Metoda & Liczba iteracji & Wywołania funkcji & Dokładna wartość & Najlepsze przybliżenie\\\\\n",
       "\t\\hline\n",
       "\t& String & String & Int64 & Int64 & Bool & Bool\\\\\n",
       "\t\\hline\n",
       "\t1 & x\\^3 - 2*x - 5 & Bisekcja & 62 & 64 & 0 & 1 \\\\\n",
       "\t2 & x\\^3 - 2*x - 5 & Newton & 19 & 39 & 0 & 1 \\\\\n",
       "\t3 & x\\^3 - 2*x - 5 & Sieczne & 12 & 14 & 0 & 1 \\\\\n",
       "\t4 & sin(x)-x/2 & Bisekcja & 51 & 53 & 0 & 0 \\\\\n",
       "\t5 & sin(x)-x/2 & Newton & 14 & 29 & 0 & 0 \\\\\n",
       "\t6 & sin(x)-x/2 & Sieczne & 10 & 12 & 0 & 0 \\\\\n",
       "\\end{tabular}\n"
      ],
      "text/plain": [
       "6×6 DataFrame. Omitted printing of 2 columns\n",
       "│ Row │ Funkcja       │ Metoda   │ Liczba iteracji │ Wywołania funkcji │\n",
       "│     │ \u001b[90mString\u001b[39m        │ \u001b[90mString\u001b[39m   │ \u001b[90mInt64\u001b[39m           │ \u001b[90mInt64\u001b[39m             │\n",
       "├─────┼───────────────┼──────────┼─────────────────┼───────────────────┤\n",
       "│ 1   │ x^3 - 2*x - 5 │ Bisekcja │ 62              │ 64                │\n",
       "│ 2   │ x^3 - 2*x - 5 │ Newton   │ 19              │ 39                │\n",
       "│ 3   │ x^3 - 2*x - 5 │ Sieczne  │ 12              │ 14                │\n",
       "│ 4   │ sin(x)-x/2    │ Bisekcja │ 51              │ 53                │\n",
       "│ 5   │ sin(x)-x/2    │ Newton   │ 14              │ 29                │\n",
       "│ 6   │ sin(x)-x/2    │ Sieczne  │ 10              │ 12                │"
      ]
     },
     "execution_count": 132,
     "metadata": {},
     "output_type": "execute_result"
    }
   ],
   "source": [
    "push!(wyniki, (\"sin(x)-x/2\",\"Bisekcja\", 51, 53, iszero(xb), (f(prevfloat(xb)) * f(xb) < 0.0 || f(xb) * f(nextfloat(xb)) < 0.0)))\n",
    "push!(wyniki, (\"sin(x)-x/2\",\"Newton\", 14, 29, iszero(xn), (f(prevfloat(xn)) * f(xn) < 0.0 || f(xn) * f(nextfloat(xn)) < 0.0)))\n",
    "push!(wyniki, (\"sin(x)-x/2\",\"Sieczne\", 10, 12, iszero(xs), (f(prevfloat(xs)) * f(xs) < 0.0 || f(xs) * f(nextfloat(xs)) < 0.0)))"
   ]
  },
  {
   "cell_type": "markdown",
   "metadata": {},
   "source": [
    "#### Funkcja f(x) = 2 * x - exp ( - x )"
   ]
  },
  {
   "cell_type": "markdown",
   "metadata": {},
   "source": [
    "Przedział dla bisekcji: (0,1); Punkt startowy dla Newtona oraz siecznych: 0"
   ]
  },
  {
   "cell_type": "code",
   "execution_count": 133,
   "metadata": {},
   "outputs": [
    {
     "data": {
      "text/plain": [
       "D (generic function with 1 method)"
      ]
     },
     "execution_count": 133,
     "metadata": {},
     "output_type": "execute_result"
    }
   ],
   "source": [
    "f(x) = 2 * x - exp(-x)\n",
    "D(f) = x->ForwardDiff.derivative(f, float(x))"
   ]
  },
  {
   "cell_type": "code",
   "execution_count": 134,
   "metadata": {
    "scrolled": true
   },
   "outputs": [
    {
     "name": "stdout",
     "output_type": "stream",
     "text": [
      "Results of univariate zero finding:\n",
      "\n",
      "* Converged to: 0.3517337112491959\n",
      "* Algorithm: Roots.BisectionExact()\n",
      "* iterations: 61\n",
      "* function evaluations: 63\n",
      "* stopped as x_n ≈ x_{n-1} using atol=xatol, rtol=xrtol\n",
      "* stopped as |f(x_n)| ≤ max(δ, max(1,|x|)⋅ϵ) using δ = atol, ϵ = rtol\n",
      "\n",
      "Trace:\n",
      "(a_0, b_0) = ( 0.0000000000000000,  1.0000000000000000)\n",
      "(a_1, b_1) = ( 0.0000000000000000,  1.0000000000000000)\n",
      "(a_2, b_2) = ( 0.0000000000000000,  1.0000000000000000)\n",
      "(a_3, b_3) = ( 0.0000000000000000,  1.0000000000000000)\n",
      "(a_4, b_4) = ( 0.0000000000000000,  1.0000000000000000)\n",
      "(a_5, b_5) = ( 0.0000000002401066,  1.0000000000000000)\n",
      "(a_6, b_6) = ( 0.0000154972076416,  1.0000000000000000)\n",
      "(a_7, b_7) = ( 0.0039367675781250,  1.0000000000000000)\n",
      "(a_8, b_8) = ( 0.0627441406250000,  1.0000000000000000)\n",
      "(a_9, b_9) = ( 0.2504882812500000,  1.0000000000000000)\n",
      "(a_10, b_10) = ( 0.2504882812500000,  0.5004882812500000)\n",
      "(a_11, b_11) = ( 0.2504882812500000,  0.3753662109375000)\n",
      "(a_12, b_12) = ( 0.3129272460937500,  0.3753662109375000)\n",
      "(a_13, b_13) = ( 0.3441467285156250,  0.3753662109375000)\n",
      "(a_14, b_14) = ( 0.3441467285156250,  0.3597564697265625)\n",
      "(a_15, b_15) = ( 0.3441467285156250,  0.3519515991210938)\n",
      "(a_16, b_16) = ( 0.3480491638183594,  0.3519515991210938)\n",
      "(a_17, b_17) = ( 0.3500003814697266,  0.3519515991210938)\n",
      "(a_18, b_18) = ( 0.3509759902954102,  0.3519515991210938)\n",
      "(a_19, b_19) = ( 0.3514637947082520,  0.3519515991210938)\n",
      "(a_20, b_20) = ( 0.3517076969146729,  0.3519515991210938)\n",
      "(a_21, b_21) = ( 0.3517076969146729,  0.3518296480178833)\n",
      "(a_22, b_22) = ( 0.3517076969146729,  0.3517686724662781)\n",
      "(a_23, b_23) = ( 0.3517076969146729,  0.3517381846904755)\n",
      "(a_24, b_24) = ( 0.3517229408025742,  0.3517381846904755)\n",
      "(a_25, b_25) = ( 0.3517305627465248,  0.3517381846904755)\n",
      "(a_26, b_26) = ( 0.3517305627465248,  0.3517343737185001)\n",
      "(a_27, b_27) = ( 0.3517324682325125,  0.3517343737185001)\n",
      "(a_28, b_28) = ( 0.3517334209755063,  0.3517343737185001)\n",
      "(a_29, b_29) = ( 0.3517334209755063,  0.3517338973470032)\n",
      "(a_30, b_30) = ( 0.3517336591612548,  0.3517338973470032)\n",
      "(a_31, b_31) = ( 0.3517336591612548,  0.3517337782541290)\n",
      "(a_32, b_32) = ( 0.3517336591612548,  0.3517337187076919)\n",
      "(a_33, b_33) = ( 0.3517336889344733,  0.3517337187076919)\n",
      "(a_34, b_34) = ( 0.3517337038210826,  0.3517337187076919)\n",
      "(a_35, b_35) = ( 0.3517337038210826,  0.3517337112643872)\n",
      "(a_36, b_36) = ( 0.3517337075427349,  0.3517337112643872)\n",
      "(a_37, b_37) = ( 0.3517337094035611,  0.3517337112643872)\n",
      "(a_38, b_38) = ( 0.3517337103339742,  0.3517337112643872)\n",
      "(a_39, b_39) = ( 0.3517337107991807,  0.3517337112643872)\n",
      "(a_40, b_40) = ( 0.3517337110317840,  0.3517337112643872)\n",
      "(a_41, b_41) = ( 0.3517337111480856,  0.3517337112643872)\n",
      "(a_42, b_42) = ( 0.3517337112062364,  0.3517337112643872)\n",
      "(a_43, b_43) = ( 0.3517337112353118,  0.3517337112643872)\n",
      "(a_44, b_44) = ( 0.3517337112353118,  0.3517337112498495)\n",
      "(a_45, b_45) = ( 0.3517337112425807,  0.3517337112498495)\n",
      "(a_46, b_46) = ( 0.3517337112462151,  0.3517337112498495)\n",
      "(a_47, b_47) = ( 0.3517337112480323,  0.3517337112498495)\n",
      "(a_48, b_48) = ( 0.3517337112489409,  0.3517337112498495)\n",
      "(a_49, b_49) = ( 0.3517337112489409,  0.3517337112493952)\n",
      "(a_50, b_50) = ( 0.3517337112491681,  0.3517337112493952)\n",
      "(a_51, b_51) = ( 0.3517337112491681,  0.3517337112492817)\n",
      "(a_52, b_52) = ( 0.3517337112491681,  0.3517337112492249)\n",
      "(a_53, b_53) = ( 0.3517337112491681,  0.3517337112491964)\n",
      "(a_54, b_54) = ( 0.3517337112491822,  0.3517337112491964)\n",
      "(a_55, b_55) = ( 0.3517337112491893,  0.3517337112491964)\n",
      "(a_56, b_56) = ( 0.3517337112491929,  0.3517337112491964)\n",
      "(a_57, b_57) = ( 0.3517337112491947,  0.3517337112491964)\n",
      "(a_58, b_58) = ( 0.3517337112491956,  0.3517337112491964)\n",
      "(a_59, b_59) = ( 0.3517337112491956,  0.3517337112491960)\n",
      "(a_60, b_60) = ( 0.3517337112491958,  0.3517337112491960)\n",
      "(a_61, b_61) = ( 0.3517337112491958,  0.3517337112491959)\n",
      "\n"
     ]
    },
    {
     "data": {
      "text/plain": [
       "0.35173371124919584"
      ]
     },
     "execution_count": 134,
     "metadata": {},
     "output_type": "execute_result"
    }
   ],
   "source": [
    "xb = find_zero(f, (0, 1), Bisection(),verbose=true)"
   ]
  },
  {
   "cell_type": "code",
   "execution_count": 135,
   "metadata": {
    "scrolled": true
   },
   "outputs": [
    {
     "name": "stdout",
     "output_type": "stream",
     "text": [
      "Results of univariate zero finding:\n",
      "\n",
      "* Converged to: 0.35173371124919584\n",
      "* Algorithm: Roots.Newton()\n",
      "* iterations: 4\n",
      "* function evaluations: 9\n",
      "* stopped as |f(x_n)| ≤ max(δ, max(1,|x|)⋅ϵ) using δ = atol, ϵ = rtol\n",
      "\n",
      "Trace:\n",
      "x_0 =  0.0000000000000000,\t fx_0 = -1.0000000000000000\n",
      "x_1 =  0.3333333333333333,\t fx_1 = -0.0498646439071226\n",
      "x_2 =  0.3516893315554154,\t fx_2 = -0.0001199797491258\n",
      "x_3 =  0.3517337109929426,\t fx_3 = -0.0000000006927722\n",
      "x_4 =  0.3517337112491958,\t fx_4 =  0.0000000000000000\n",
      "\n"
     ]
    },
    {
     "data": {
      "text/plain": [
       "0.35173371124919584"
      ]
     },
     "execution_count": 135,
     "metadata": {},
     "output_type": "execute_result"
    }
   ],
   "source": [
    "xn = find_zero((f, D(f)),0, Roots.Newton(),verbose=true)"
   ]
  },
  {
   "cell_type": "code",
   "execution_count": 136,
   "metadata": {
    "scrolled": true
   },
   "outputs": [
    {
     "name": "stdout",
     "output_type": "stream",
     "text": [
      "Results of univariate zero finding:\n",
      "\n",
      "* Converged to: 0.3517337112491957\n",
      "* Algorithm: Roots.Secant()\n",
      "* iterations: 5\n",
      "* function evaluations: 7\n",
      "* stopped as |f(x_n)| ≤ max(δ, max(1,|x|)⋅ϵ) using δ = atol, ϵ = rtol\n",
      "\n",
      "Trace:\n",
      "x_0 =  0.0000000000000000,\t fx_0 = -1.0000000000000000\n",
      "x_1 =  0.3333336697473488,\t fx_1 = -0.0498637300279566\n",
      "x_2 =  0.3508272237172430,\t fx_2 = -0.0024509486253887\n",
      "x_3 =  0.3517315326564641,\t fx_3 = -0.0000058897561466\n",
      "x_4 =  0.3517337109922089,\t fx_4 = -0.0000000006947557\n",
      "x_5 =  0.3517337112491957,\t fx_5 = -0.0000000000000002\n",
      "\n"
     ]
    },
    {
     "data": {
      "text/plain": [
       "0.3517337112491957"
      ]
     },
     "execution_count": 136,
     "metadata": {},
     "output_type": "execute_result"
    }
   ],
   "source": [
    "xs = find_zero(f, 0, Order1(),  verbose=true)"
   ]
  },
  {
   "cell_type": "code",
   "execution_count": 137,
   "metadata": {},
   "outputs": [
    {
     "data": {
      "text/html": [
       "<table class=\"data-frame\"><thead><tr><th></th><th>Funkcja</th><th>Metoda</th><th>Liczba iteracji</th><th>Wywołania funkcji</th><th>Dokładna wartość</th><th>Najlepsze przybliżenie</th></tr><tr><th></th><th>String</th><th>String</th><th>Int64</th><th>Int64</th><th>Bool</th><th>Bool</th></tr></thead><tbody><p>9 rows × 6 columns</p><tr><th>1</th><td>x^3 - 2*x - 5</td><td>Bisekcja</td><td>62</td><td>64</td><td>0</td><td>1</td></tr><tr><th>2</th><td>x^3 - 2*x - 5</td><td>Newton</td><td>19</td><td>39</td><td>0</td><td>1</td></tr><tr><th>3</th><td>x^3 - 2*x - 5</td><td>Sieczne</td><td>12</td><td>14</td><td>0</td><td>1</td></tr><tr><th>4</th><td>sin(x)-x/2</td><td>Bisekcja</td><td>51</td><td>53</td><td>0</td><td>0</td></tr><tr><th>5</th><td>sin(x)-x/2</td><td>Newton</td><td>14</td><td>29</td><td>0</td><td>0</td></tr><tr><th>6</th><td>sin(x)-x/2</td><td>Sieczne</td><td>10</td><td>12</td><td>0</td><td>0</td></tr><tr><th>7</th><td>2*x-exp(-x)</td><td>Bisekcja</td><td>61</td><td>63</td><td>0</td><td>0</td></tr><tr><th>8</th><td>2*x-exp(-x)</td><td>Newton</td><td>4</td><td>9</td><td>0</td><td>0</td></tr><tr><th>9</th><td>2*x-exp(-x)</td><td>Sieczne</td><td>5</td><td>7</td><td>0</td><td>0</td></tr></tbody></table>"
      ],
      "text/latex": [
       "\\begin{tabular}{r|cccccc}\n",
       "\t& Funkcja & Metoda & Liczba iteracji & Wywołania funkcji & Dokładna wartość & Najlepsze przybliżenie\\\\\n",
       "\t\\hline\n",
       "\t& String & String & Int64 & Int64 & Bool & Bool\\\\\n",
       "\t\\hline\n",
       "\t1 & x\\^3 - 2*x - 5 & Bisekcja & 62 & 64 & 0 & 1 \\\\\n",
       "\t2 & x\\^3 - 2*x - 5 & Newton & 19 & 39 & 0 & 1 \\\\\n",
       "\t3 & x\\^3 - 2*x - 5 & Sieczne & 12 & 14 & 0 & 1 \\\\\n",
       "\t4 & sin(x)-x/2 & Bisekcja & 51 & 53 & 0 & 0 \\\\\n",
       "\t5 & sin(x)-x/2 & Newton & 14 & 29 & 0 & 0 \\\\\n",
       "\t6 & sin(x)-x/2 & Sieczne & 10 & 12 & 0 & 0 \\\\\n",
       "\t7 & 2*x-exp(-x) & Bisekcja & 61 & 63 & 0 & 0 \\\\\n",
       "\t8 & 2*x-exp(-x) & Newton & 4 & 9 & 0 & 0 \\\\\n",
       "\t9 & 2*x-exp(-x) & Sieczne & 5 & 7 & 0 & 0 \\\\\n",
       "\\end{tabular}\n"
      ],
      "text/plain": [
       "9×6 DataFrame. Omitted printing of 2 columns\n",
       "│ Row │ Funkcja       │ Metoda   │ Liczba iteracji │ Wywołania funkcji │\n",
       "│     │ \u001b[90mString\u001b[39m        │ \u001b[90mString\u001b[39m   │ \u001b[90mInt64\u001b[39m           │ \u001b[90mInt64\u001b[39m             │\n",
       "├─────┼───────────────┼──────────┼─────────────────┼───────────────────┤\n",
       "│ 1   │ x^3 - 2*x - 5 │ Bisekcja │ 62              │ 64                │\n",
       "│ 2   │ x^3 - 2*x - 5 │ Newton   │ 19              │ 39                │\n",
       "│ 3   │ x^3 - 2*x - 5 │ Sieczne  │ 12              │ 14                │\n",
       "│ 4   │ sin(x)-x/2    │ Bisekcja │ 51              │ 53                │\n",
       "│ 5   │ sin(x)-x/2    │ Newton   │ 14              │ 29                │\n",
       "│ 6   │ sin(x)-x/2    │ Sieczne  │ 10              │ 12                │\n",
       "│ 7   │ 2*x-exp(-x)   │ Bisekcja │ 61              │ 63                │\n",
       "│ 8   │ 2*x-exp(-x)   │ Newton   │ 4               │ 9                 │\n",
       "│ 9   │ 2*x-exp(-x)   │ Sieczne  │ 5               │ 7                 │"
      ]
     },
     "execution_count": 137,
     "metadata": {},
     "output_type": "execute_result"
    }
   ],
   "source": [
    "push!(wyniki, (\"2*x-exp(-x)\",\"Bisekcja\", 61, 63, iszero(xb), (f(prevfloat(xb)) * f(xb) < 0.0 || f(xb) * f(nextfloat(xb)) < 0.0)))\n",
    "push!(wyniki, (\"2*x-exp(-x)\",\"Newton\", 4, 9, iszero(xn), (f(prevfloat(xn)) * f(xn) < 0.0 || f(xn) * f(nextfloat(xn)) < 0.0)))\n",
    "push!(wyniki, (\"2*x-exp(-x)\",\"Sieczne\", 5, 7, iszero(xs), (f(prevfloat(xs)) * f(xs) < 0.0 || f(xs) * f(nextfloat(xs)) < 0.0)))"
   ]
  },
  {
   "cell_type": "markdown",
   "metadata": {},
   "source": [
    "#### Funkcja f(x) = ( x + 3 ) * ( x - 1 )^2"
   ]
  },
  {
   "cell_type": "markdown",
   "metadata": {},
   "source": [
    "Przedział dla bisekcji: (-4,-2); Punkt startowy dla Newtona oraz siecznych: -4"
   ]
  },
  {
   "cell_type": "code",
   "execution_count": 138,
   "metadata": {},
   "outputs": [
    {
     "data": {
      "text/plain": [
       "D (generic function with 1 method)"
      ]
     },
     "execution_count": 138,
     "metadata": {},
     "output_type": "execute_result"
    }
   ],
   "source": [
    "f(x) = (x+3)*(x-1)^2\n",
    "D(f) = x->ForwardDiff.derivative(f, float(x))"
   ]
  },
  {
   "cell_type": "code",
   "execution_count": 139,
   "metadata": {},
   "outputs": [
    {
     "name": "stdout",
     "output_type": "stream",
     "text": [
      "Results of univariate zero finding:\n",
      "\n",
      "* Converged to: -2.0\n",
      "* Algorithm: Roots.BisectionExact()\n",
      "* iterations: 0\n",
      "* function evaluations: 2\n",
      "* stopped as x_n ≈ x_{n-1} using atol=xatol, rtol=xrtol\n",
      "* stopped as |f(x_n)| ≤ max(δ, max(1,|x|)⋅ϵ) using δ = atol, ϵ = rtol\n",
      "\n",
      "Trace:\n",
      "(a_0, b_0) = (-4.0000000000000000, -2.0000000000000000)\n",
      "\n"
     ]
    },
    {
     "data": {
      "text/plain": [
       "-3.0"
      ]
     },
     "execution_count": 139,
     "metadata": {},
     "output_type": "execute_result"
    }
   ],
   "source": [
    "xb = find_zero(f, (-4, -2), Bisection(),verbose=true)"
   ]
  },
  {
   "cell_type": "code",
   "execution_count": 140,
   "metadata": {},
   "outputs": [
    {
     "name": "stdout",
     "output_type": "stream",
     "text": [
      "Results of univariate zero finding:\n",
      "\n",
      "* Converged to: -3.0\n",
      "* Algorithm: Roots.Newton()\n",
      "* iterations: 6\n",
      "* function evaluations: 13\n",
      "* stopped as |f(x_n)| ≤ max(δ, max(1,|x|)⋅ϵ) using δ = atol, ϵ = rtol\n",
      "\n",
      "Trace:\n",
      "x_0 = -4.0000000000000000,\t fx_0 = -25.0000000000000000\n",
      "x_1 = -3.2857142857142856,\t fx_1 = -5.2478134110787140\n",
      "x_2 = -3.0336134453781511,\t fx_2 = -0.5468920143440451\n",
      "x_3 = -3.0005510400881663,\t fx_3 = -0.0088190707394118\n",
      "x_4 = -3.0000001517598700,\t fx_4 = -0.0000024281581043\n",
      "x_5 = -3.0000000000000115,\t fx_5 = -0.0000000000001847\n",
      "x_6 = -3.0000000000000000,\t fx_6 =  0.0000000000000000\n",
      "\n"
     ]
    },
    {
     "data": {
      "text/plain": [
       "-3.0"
      ]
     },
     "execution_count": 140,
     "metadata": {},
     "output_type": "execute_result"
    }
   ],
   "source": [
    "xn = find_zero((f, D(f)),-4, Roots.Newton(),verbose=true)"
   ]
  },
  {
   "cell_type": "code",
   "execution_count": 141,
   "metadata": {
    "scrolled": false
   },
   "outputs": [
    {
     "name": "stdout",
     "output_type": "stream",
     "text": [
      "Results of univariate zero finding:\n",
      "\n",
      "* Converged to: -3.0\n",
      "* Algorithm: Roots.Secant()\n",
      "* iterations: 8\n",
      "* function evaluations: 10\n",
      "* stopped as |f(x_n)| ≤ max(δ, max(1,|x|)⋅ϵ) using δ = atol, ϵ = rtol\n",
      "\n",
      "Trace:\n",
      "x_0 = -4.0000000000000000,\t fx_0 = -25.0000000000000000\n",
      "x_1 = -3.2857129262851190,\t fx_1 = -5.2477851127736566\n",
      "x_2 = -3.0959405340197992,\t fx_2 = -1.6095683257636169\n",
      "x_3 = -3.0119841208711278,\t fx_3 = -0.1928966083117643\n",
      "x_4 = -3.0005524623274464,\t fx_4 = -0.0088418391247485\n",
      "x_5 = -3.0000032948909343,\t fx_5 = -0.0000527183417995\n",
      "x_6 = -3.0000000009099619,\t fx_6 = -0.0000000145593901\n",
      "x_7 = -3.0000000000000013,\t fx_7 = -0.0000000000000213\n",
      "x_8 = -3.0000000000000000,\t fx_8 =  0.0000000000000000\n",
      "\n"
     ]
    },
    {
     "data": {
      "text/plain": [
       "-3.0"
      ]
     },
     "execution_count": 141,
     "metadata": {},
     "output_type": "execute_result"
    }
   ],
   "source": [
    "xs = find_zero(f, -4, Order1(),  verbose=true)"
   ]
  },
  {
   "cell_type": "code",
   "execution_count": 142,
   "metadata": {},
   "outputs": [
    {
     "data": {
      "text/html": [
       "<table class=\"data-frame\"><thead><tr><th></th><th>Funkcja</th><th>Metoda</th><th>Liczba iteracji</th><th>Wywołania funkcji</th><th>Dokładna wartość</th><th>Najlepsze przybliżenie</th></tr><tr><th></th><th>String</th><th>String</th><th>Int64</th><th>Int64</th><th>Bool</th><th>Bool</th></tr></thead><tbody><p>12 rows × 6 columns</p><tr><th>1</th><td>x^3 - 2*x - 5</td><td>Bisekcja</td><td>62</td><td>64</td><td>0</td><td>1</td></tr><tr><th>2</th><td>x^3 - 2*x - 5</td><td>Newton</td><td>19</td><td>39</td><td>0</td><td>1</td></tr><tr><th>3</th><td>x^3 - 2*x - 5</td><td>Sieczne</td><td>12</td><td>14</td><td>0</td><td>1</td></tr><tr><th>4</th><td>sin(x)-x/2</td><td>Bisekcja</td><td>51</td><td>53</td><td>0</td><td>0</td></tr><tr><th>5</th><td>sin(x)-x/2</td><td>Newton</td><td>14</td><td>29</td><td>0</td><td>0</td></tr><tr><th>6</th><td>sin(x)-x/2</td><td>Sieczne</td><td>10</td><td>12</td><td>0</td><td>0</td></tr><tr><th>7</th><td>2*x-exp(-x)</td><td>Bisekcja</td><td>61</td><td>63</td><td>0</td><td>0</td></tr><tr><th>8</th><td>2*x-exp(-x)</td><td>Newton</td><td>4</td><td>9</td><td>0</td><td>0</td></tr><tr><th>9</th><td>2*x-exp(-x)</td><td>Sieczne</td><td>5</td><td>7</td><td>0</td><td>0</td></tr><tr><th>10</th><td>(x+3)*(x-1)^2</td><td>Bisekcja</td><td>0</td><td>2</td><td>0</td><td>0</td></tr><tr><th>11</th><td>(x+3)*(x-1)^2</td><td>Newton</td><td>6</td><td>13</td><td>0</td><td>0</td></tr><tr><th>12</th><td>(x+3)*(x-1)^2</td><td>Sieczne</td><td>8</td><td>10</td><td>0</td><td>0</td></tr></tbody></table>"
      ],
      "text/latex": [
       "\\begin{tabular}{r|cccccc}\n",
       "\t& Funkcja & Metoda & Liczba iteracji & Wywołania funkcji & Dokładna wartość & Najlepsze przybliżenie\\\\\n",
       "\t\\hline\n",
       "\t& String & String & Int64 & Int64 & Bool & Bool\\\\\n",
       "\t\\hline\n",
       "\t1 & x\\^3 - 2*x - 5 & Bisekcja & 62 & 64 & 0 & 1 \\\\\n",
       "\t2 & x\\^3 - 2*x - 5 & Newton & 19 & 39 & 0 & 1 \\\\\n",
       "\t3 & x\\^3 - 2*x - 5 & Sieczne & 12 & 14 & 0 & 1 \\\\\n",
       "\t4 & sin(x)-x/2 & Bisekcja & 51 & 53 & 0 & 0 \\\\\n",
       "\t5 & sin(x)-x/2 & Newton & 14 & 29 & 0 & 0 \\\\\n",
       "\t6 & sin(x)-x/2 & Sieczne & 10 & 12 & 0 & 0 \\\\\n",
       "\t7 & 2*x-exp(-x) & Bisekcja & 61 & 63 & 0 & 0 \\\\\n",
       "\t8 & 2*x-exp(-x) & Newton & 4 & 9 & 0 & 0 \\\\\n",
       "\t9 & 2*x-exp(-x) & Sieczne & 5 & 7 & 0 & 0 \\\\\n",
       "\t10 & (x+3)*(x-1)\\^2 & Bisekcja & 0 & 2 & 0 & 0 \\\\\n",
       "\t11 & (x+3)*(x-1)\\^2 & Newton & 6 & 13 & 0 & 0 \\\\\n",
       "\t12 & (x+3)*(x-1)\\^2 & Sieczne & 8 & 10 & 0 & 0 \\\\\n",
       "\\end{tabular}\n"
      ],
      "text/plain": [
       "12×6 DataFrame. Omitted printing of 2 columns\n",
       "│ Row │ Funkcja       │ Metoda   │ Liczba iteracji │ Wywołania funkcji │\n",
       "│     │ \u001b[90mString\u001b[39m        │ \u001b[90mString\u001b[39m   │ \u001b[90mInt64\u001b[39m           │ \u001b[90mInt64\u001b[39m             │\n",
       "├─────┼───────────────┼──────────┼─────────────────┼───────────────────┤\n",
       "│ 1   │ x^3 - 2*x - 5 │ Bisekcja │ 62              │ 64                │\n",
       "│ 2   │ x^3 - 2*x - 5 │ Newton   │ 19              │ 39                │\n",
       "│ 3   │ x^3 - 2*x - 5 │ Sieczne  │ 12              │ 14                │\n",
       "│ 4   │ sin(x)-x/2    │ Bisekcja │ 51              │ 53                │\n",
       "│ 5   │ sin(x)-x/2    │ Newton   │ 14              │ 29                │\n",
       "│ 6   │ sin(x)-x/2    │ Sieczne  │ 10              │ 12                │\n",
       "│ 7   │ 2*x-exp(-x)   │ Bisekcja │ 61              │ 63                │\n",
       "│ 8   │ 2*x-exp(-x)   │ Newton   │ 4               │ 9                 │\n",
       "│ 9   │ 2*x-exp(-x)   │ Sieczne  │ 5               │ 7                 │\n",
       "│ 10  │ (x+3)*(x-1)^2 │ Bisekcja │ 0               │ 2                 │\n",
       "│ 11  │ (x+3)*(x-1)^2 │ Newton   │ 6               │ 13                │\n",
       "│ 12  │ (x+3)*(x-1)^2 │ Sieczne  │ 8               │ 10                │"
      ]
     },
     "execution_count": 142,
     "metadata": {},
     "output_type": "execute_result"
    }
   ],
   "source": [
    "push!(wyniki, (\"(x+3)*(x-1)^2\",\"Bisekcja\", 0, 2, iszero(xb), (f(prevfloat(xb)) * f(xb) < 0.0 || f(xb) * f(nextfloat(xb)) < 0.0)))\n",
    "push!(wyniki, (\"(x+3)*(x-1)^2\",\"Newton\", 6, 13, iszero(xn), (f(prevfloat(xn)) * f(xn) < 0.0 || f(xn) * f(nextfloat(xn)) < 0.0)))\n",
    "push!(wyniki, (\"(x+3)*(x-1)^2\",\"Sieczne\", 8, 10, iszero(xs), (f(prevfloat(xs)) * f(xs) < 0.0 || f(xs) * f(nextfloat(xs)) < 0.0)))"
   ]
  },
  {
   "cell_type": "markdown",
   "metadata": {},
   "source": [
    "#### Funkcja f(x) = exp ( x ) - 2 - 1 / ( 10 * x )^2 + 2 / ( 100 * x )^3"
   ]
  },
  {
   "cell_type": "markdown",
   "metadata": {},
   "source": [
    "Przedział dla bisekcji: (-1,2); Punkt startowy dla Newtona oraz siecznych: -1"
   ]
  },
  {
   "cell_type": "code",
   "execution_count": 157,
   "metadata": {},
   "outputs": [
    {
     "data": {
      "text/plain": [
       "D (generic function with 1 method)"
      ]
     },
     "execution_count": 157,
     "metadata": {},
     "output_type": "execute_result"
    }
   ],
   "source": [
    "f(x) = exp(x)-2-1/(10*x)^2+2/(100*x)^3\n",
    "D(f) = x->ForwardDiff.derivative(f, float(x))"
   ]
  },
  {
   "cell_type": "code",
   "execution_count": 159,
   "metadata": {
    "scrolled": true
   },
   "outputs": [
    {
     "name": "stdout",
     "output_type": "stream",
     "text": [
      "Results of univariate zero finding:\n",
      "\n",
      "* Converged to: 2.0\n",
      "* Algorithm: Roots.BisectionExact()\n",
      "* iterations: 0\n",
      "* function evaluations: 3\n",
      "* stopped as x_n ≈ x_{n-1} using atol=xatol, rtol=xrtol\n",
      "* Note: Exact zero found\n",
      "\n",
      "Trace:\n",
      "(a_0, b_0) = (-1.0000000000000000,  2.0000000000000000)\n",
      "\n"
     ]
    },
    {
     "data": {
      "text/plain": [
       "0.0"
      ]
     },
     "execution_count": 159,
     "metadata": {},
     "output_type": "execute_result"
    }
   ],
   "source": [
    "xb = find_zero(f, (-1, 2), Bisection(),verbose=true)"
   ]
  },
  {
   "cell_type": "code",
   "execution_count": 145,
   "metadata": {
    "scrolled": true
   },
   "outputs": [
    {
     "name": "stdout",
     "output_type": "stream",
     "text": [
      "Results of univariate zero finding:\n",
      "\n",
      "* Converged to: 0.7032048403631357\n",
      "* Algorithm: Roots.Newton()\n",
      "* iterations: 9\n",
      "* function evaluations: 19\n",
      "* stopped as |f(x_n)| ≤ max(δ, max(1,|x|)⋅ϵ) using δ = atol, ϵ = rtol\n",
      "\n",
      "Trace:\n",
      "x_0 = -1.0000000000000000,\t fx_0 = -1.6421225588285577\n",
      "x_1 =  3.7204596973508854,\t fx_1 =  39.2826451924733249\n",
      "x_2 =  2.7689318069714521,\t fx_2 =  13.9402920099085694\n",
      "x_3 =  1.8945232381735448,\t fx_3 =  4.6465916515958634\n",
      "x_4 =  1.1960311523020519,\t fx_4 =  1.2999765584877989\n",
      "x_5 =  0.8043129886770620,\t fx_5 =  0.2197063578747065\n",
      "x_6 =  0.7076785981030298,\t fx_6 =  0.0093129745444481\n",
      "x_7 =  0.7032134055499590,\t fx_7 =  0.0000177960198802\n",
      "x_8 =  0.7032048403944726,\t fx_8 =  0.0000000000651089\n",
      "x_9 =  0.7032048403631357,\t fx_9 = -0.0000000000000003\n",
      "\n"
     ]
    },
    {
     "data": {
      "text/plain": [
       "0.7032048403631357"
      ]
     },
     "execution_count": 145,
     "metadata": {},
     "output_type": "execute_result"
    }
   ],
   "source": [
    "xn = find_zero((f, D(f)),-1, Roots.Newton(),verbose=true)"
   ]
  },
  {
   "cell_type": "code",
   "execution_count": 146,
   "metadata": {
    "scrolled": true
   },
   "outputs": [
    {
     "name": "stdout",
     "output_type": "stream",
     "text": [
      "Results of univariate zero finding:\n",
      "\n",
      "* Converged to: -0.30546863861474094\n",
      "* Algorithm: Roots.Secant()\n",
      "* iterations: 16\n",
      "* function evaluations: 18\n",
      "* stopped as x_n ≈ x_{n-1} using atol=xatol, rtol=xrtol\n",
      "* Note: x_n ≈ x_{n-1}. \n",
      "\n",
      "Trace:\n",
      "x_0 = -1.0000000000000000,\t fx_0 = -1.6421225588285577\n",
      "x_1 =  3.7204470487986665,\t fx_1 =  39.2821230160329193\n",
      "x_2 = -0.8105877707040845,\t fx_2 = -1.5706265698550448\n",
      "x_3 = -0.6363874109097538,\t fx_3 = -1.4954990327483795\n",
      "x_4 =  2.8312687856052814,\t fx_4 =  14.9657272226645919\n",
      "x_5 = -0.3213515559055207,\t fx_5 = -1.3717285219963937\n",
      "x_6 = -0.0566506557736491,\t fx_6 = -4.1820238482893206\n",
      "x_7 = -0.4505542667778941,\t fx_7 = -1.4120083241900103\n",
      "x_8 = -0.6513456243813314,\t fx_8 = -1.5022344112571646\n",
      "x_9 =  2.6917638540383884,\t fx_9 =  12.7563033296358128\n",
      "x_10 = -0.2991261899382893,\t fx_10 = -1.3703701039138889\n",
      "x_11 = -0.0089923293631994,\t fx_11 = -127.4269651538968873\n",
      "x_12 = -0.3022802555269051,\t fx_12 = -1.3703826172719538\n",
      "x_13 = -0.3054686386147435,\t fx_13 = -1.3704605543147561\n",
      "x_14 =  55.7596975110477189,\t fx_14 =  1644860008188145511170048.0000000000000000\n",
      "x_15 = -0.3054686386147409,\t fx_15 = -1.3704605543147561\n",
      "x_16 = -0.3054686386147409,\t fx_16 = -1.3704605543147561\n",
      "\n"
     ]
    },
    {
     "ename": "LoadError",
     "evalue": "Roots.ConvergenceFailed(\"Stopped at: xn = -0.30546863861474094. x_n ≈ x_{n-1}. \")",
     "output_type": "error",
     "traceback": [
      "Roots.ConvergenceFailed(\"Stopped at: xn = -0.30546863861474094. x_n ≈ x_{n-1}. \")",
      "",
      "Stacktrace:",
      " [1] find_zero(::Function, ::Int64, ::Roots.Secant, ::Nothing; tracks::Roots.NullTracks, verbose::Bool, p::Nothing, kwargs::Base.Iterators.Pairs{Union{},Union{},Tuple{},NamedTuple{(),Tuple{}}}) at /srv/julia/pkg/packages/Roots/AV3zx/src/find_zero.jl:715",
      " [2] top-level scope at In[146]:1",
      " [3] include_string(::Function, ::Module, ::String, ::String) at ./loading.jl:1091"
     ]
    }
   ],
   "source": [
    "xs = find_zero(f, -1, Order1(),  verbose=true)"
   ]
  },
  {
   "cell_type": "code",
   "execution_count": 147,
   "metadata": {},
   "outputs": [
    {
     "data": {
      "text/html": [
       "<table class=\"data-frame\"><thead><tr><th></th><th>Funkcja</th><th>Metoda</th><th>Liczba iteracji</th><th>Wywołania funkcji</th><th>Dokładna wartość</th></tr><tr><th></th><th>String</th><th>String</th><th>Int64</th><th>Int64</th><th>Bool</th></tr></thead><tbody><p>15 rows × 6 columns (omitted printing of 1 columns)</p><tr><th>1</th><td>x^3 - 2*x - 5</td><td>Bisekcja</td><td>62</td><td>64</td><td>0</td></tr><tr><th>2</th><td>x^3 - 2*x - 5</td><td>Newton</td><td>19</td><td>39</td><td>0</td></tr><tr><th>3</th><td>x^3 - 2*x - 5</td><td>Sieczne</td><td>12</td><td>14</td><td>0</td></tr><tr><th>4</th><td>sin(x)-x/2</td><td>Bisekcja</td><td>51</td><td>53</td><td>0</td></tr><tr><th>5</th><td>sin(x)-x/2</td><td>Newton</td><td>14</td><td>29</td><td>0</td></tr><tr><th>6</th><td>sin(x)-x/2</td><td>Sieczne</td><td>10</td><td>12</td><td>0</td></tr><tr><th>7</th><td>2*x-exp(-x)</td><td>Bisekcja</td><td>61</td><td>63</td><td>0</td></tr><tr><th>8</th><td>2*x-exp(-x)</td><td>Newton</td><td>4</td><td>9</td><td>0</td></tr><tr><th>9</th><td>2*x-exp(-x)</td><td>Sieczne</td><td>5</td><td>7</td><td>0</td></tr><tr><th>10</th><td>(x+3)*(x-1)^2</td><td>Bisekcja</td><td>0</td><td>2</td><td>0</td></tr><tr><th>11</th><td>(x+3)*(x-1)^2</td><td>Newton</td><td>6</td><td>13</td><td>0</td></tr><tr><th>12</th><td>(x+3)*(x-1)^2</td><td>Sieczne</td><td>8</td><td>10</td><td>0</td></tr><tr><th>13</th><td>exp(x)-2-1/(10*x)^2+2/(100*x)^3</td><td>Bisekcja</td><td>0</td><td>3</td><td>1</td></tr><tr><th>14</th><td>exp(x)-2-1/(10*x)^2+2/(100*x)^3</td><td>Newton</td><td>9</td><td>19</td><td>0</td></tr><tr><th>15</th><td>exp(x)-2-1/(10*x)^2+2/(100*x)^3</td><td>Sieczne</td><td>16</td><td>18</td><td>0</td></tr></tbody></table>"
      ],
      "text/latex": [
       "\\begin{tabular}{r|cccccc}\n",
       "\t& Funkcja & Metoda & Liczba iteracji & Wywołania funkcji & Dokładna wartość & \\\\\n",
       "\t\\hline\n",
       "\t& String & String & Int64 & Int64 & Bool & \\\\\n",
       "\t\\hline\n",
       "\t1 & x\\^3 - 2*x - 5 & Bisekcja & 62 & 64 & 0 & $\\dots$ \\\\\n",
       "\t2 & x\\^3 - 2*x - 5 & Newton & 19 & 39 & 0 & $\\dots$ \\\\\n",
       "\t3 & x\\^3 - 2*x - 5 & Sieczne & 12 & 14 & 0 & $\\dots$ \\\\\n",
       "\t4 & sin(x)-x/2 & Bisekcja & 51 & 53 & 0 & $\\dots$ \\\\\n",
       "\t5 & sin(x)-x/2 & Newton & 14 & 29 & 0 & $\\dots$ \\\\\n",
       "\t6 & sin(x)-x/2 & Sieczne & 10 & 12 & 0 & $\\dots$ \\\\\n",
       "\t7 & 2*x-exp(-x) & Bisekcja & 61 & 63 & 0 & $\\dots$ \\\\\n",
       "\t8 & 2*x-exp(-x) & Newton & 4 & 9 & 0 & $\\dots$ \\\\\n",
       "\t9 & 2*x-exp(-x) & Sieczne & 5 & 7 & 0 & $\\dots$ \\\\\n",
       "\t10 & (x+3)*(x-1)\\^2 & Bisekcja & 0 & 2 & 0 & $\\dots$ \\\\\n",
       "\t11 & (x+3)*(x-1)\\^2 & Newton & 6 & 13 & 0 & $\\dots$ \\\\\n",
       "\t12 & (x+3)*(x-1)\\^2 & Sieczne & 8 & 10 & 0 & $\\dots$ \\\\\n",
       "\t13 & exp(x)-2-1/(10*x)\\^2+2/(100*x)\\^3 & Bisekcja & 0 & 3 & 1 & $\\dots$ \\\\\n",
       "\t14 & exp(x)-2-1/(10*x)\\^2+2/(100*x)\\^3 & Newton & 9 & 19 & 0 & $\\dots$ \\\\\n",
       "\t15 & exp(x)-2-1/(10*x)\\^2+2/(100*x)\\^3 & Sieczne & 16 & 18 & 0 & $\\dots$ \\\\\n",
       "\\end{tabular}\n"
      ],
      "text/plain": [
       "15×6 DataFrame. Omitted printing of 3 columns\n",
       "│ Row │ Funkcja                         │ Metoda   │ Liczba iteracji │\n",
       "│     │ \u001b[90mString\u001b[39m                          │ \u001b[90mString\u001b[39m   │ \u001b[90mInt64\u001b[39m           │\n",
       "├─────┼─────────────────────────────────┼──────────┼─────────────────┤\n",
       "│ 1   │ x^3 - 2*x - 5                   │ Bisekcja │ 62              │\n",
       "│ 2   │ x^3 - 2*x - 5                   │ Newton   │ 19              │\n",
       "│ 3   │ x^3 - 2*x - 5                   │ Sieczne  │ 12              │\n",
       "│ 4   │ sin(x)-x/2                      │ Bisekcja │ 51              │\n",
       "│ 5   │ sin(x)-x/2                      │ Newton   │ 14              │\n",
       "│ 6   │ sin(x)-x/2                      │ Sieczne  │ 10              │\n",
       "│ 7   │ 2*x-exp(-x)                     │ Bisekcja │ 61              │\n",
       "│ 8   │ 2*x-exp(-x)                     │ Newton   │ 4               │\n",
       "│ 9   │ 2*x-exp(-x)                     │ Sieczne  │ 5               │\n",
       "│ 10  │ (x+3)*(x-1)^2                   │ Bisekcja │ 0               │\n",
       "│ 11  │ (x+3)*(x-1)^2                   │ Newton   │ 6               │\n",
       "│ 12  │ (x+3)*(x-1)^2                   │ Sieczne  │ 8               │\n",
       "│ 13  │ exp(x)-2-1/(10*x)^2+2/(100*x)^3 │ Bisekcja │ 0               │\n",
       "│ 14  │ exp(x)-2-1/(10*x)^2+2/(100*x)^3 │ Newton   │ 9               │\n",
       "│ 15  │ exp(x)-2-1/(10*x)^2+2/(100*x)^3 │ Sieczne  │ 16              │"
      ]
     },
     "execution_count": 147,
     "metadata": {},
     "output_type": "execute_result"
    }
   ],
   "source": [
    "push!(wyniki, (\"exp(x)-2-1/(10*x)^2+2/(100*x)^3\",\"Bisekcja\", 0, 3, iszero(xb), (f(prevfloat(xb)) * f(xb) < 0.0 || f(xb) * f(nextfloat(xb)) < 0.0)))\n",
    "push!(wyniki, (\"exp(x)-2-1/(10*x)^2+2/(100*x)^3\",\"Newton\", 9, 19, iszero(xn), (f(prevfloat(xn)) * f(xn) < 0.0 || f(xn) * f(nextfloat(xn)) < 0.0)))\n",
    "push!(wyniki, (\"exp(x)-2-1/(10*x)^2+2/(100*x)^3\",\"Sieczne\", 16, 18, iszero(xs), (f(prevfloat(xs)) * f(xs) < 0.0 || f(xs) * f(nextfloat(xs)) < 0.0)))"
   ]
  },
  {
   "cell_type": "markdown",
   "metadata": {},
   "source": [
    "#### Funkcja f(x) = x * exp ( - x )"
   ]
  },
  {
   "cell_type": "markdown",
   "metadata": {},
   "source": [
    "Przedział dla bisekcji: (-2,5); Punkt startowy dla Newtona oraz siecznych: -2"
   ]
  },
  {
   "cell_type": "code",
   "execution_count": 148,
   "metadata": {},
   "outputs": [
    {
     "data": {
      "text/plain": [
       "D (generic function with 1 method)"
      ]
     },
     "execution_count": 148,
     "metadata": {},
     "output_type": "execute_result"
    }
   ],
   "source": [
    "f(x) = x*exp(-x)\n",
    "D(f) = x->ForwardDiff.derivative(f, float(x))"
   ]
  },
  {
   "cell_type": "code",
   "execution_count": 149,
   "metadata": {
    "scrolled": true
   },
   "outputs": [
    {
     "name": "stdout",
     "output_type": "stream",
     "text": [
      "Results of univariate zero finding:\n",
      "\n",
      "* Converged to: 5.0\n",
      "* Algorithm: Roots.BisectionExact()\n",
      "* iterations: 0\n",
      "* function evaluations: 3\n",
      "* stopped as x_n ≈ x_{n-1} using atol=xatol, rtol=xrtol\n",
      "* Note: Exact zero found\n",
      "\n",
      "Trace:\n",
      "(a_0, b_0) = (-2.0000000000000000,  5.0000000000000000)\n",
      "\n"
     ]
    },
    {
     "data": {
      "text/plain": [
       "0.0"
      ]
     },
     "execution_count": 149,
     "metadata": {},
     "output_type": "execute_result"
    }
   ],
   "source": [
    "xb = find_zero(f, (-2, 5), Bisection(),verbose=true)"
   ]
  },
  {
   "cell_type": "code",
   "execution_count": 150,
   "metadata": {
    "scrolled": true
   },
   "outputs": [
    {
     "name": "stdout",
     "output_type": "stream",
     "text": [
      "Results of univariate zero finding:\n",
      "\n",
      "* Converged to: -2.032052099592921e-18\n",
      "* Algorithm: Roots.Newton()\n",
      "* iterations: 8\n",
      "* function evaluations: 17\n",
      "* stopped as |f(x_n)| ≤ max(δ, max(1,|x|)⋅ϵ) using δ = atol, ϵ = rtol\n",
      "\n",
      "Trace:\n",
      "x_0 = -2.0000000000000000,\t fx_0 = -14.7781121978613008\n",
      "x_1 = -1.3333333333333333,\t fx_1 = -5.0582238595775699\n",
      "x_2 = -0.7619047619047619,\t fx_2 = -1.6322689592431341\n",
      "x_3 = -0.3294723294723295,\t fx_3 = -0.4580437495405170\n",
      "x_4 = -0.0816504514471600,\t fx_4 = -0.0885969825382871\n",
      "x_5 = -0.0061635403679677,\t fx_5 = -0.0062016469128125\n",
      "x_6 = -0.0000377565160567,\t fx_6 = -0.0000377579416381\n",
      "x_7 = -0.0000000014255007,\t fx_7 = -0.0000000014255007\n",
      "x_8 = -0.0000000000000000,\t fx_8 = -0.0000000000000000\n",
      "\n"
     ]
    },
    {
     "data": {
      "text/plain": [
       "-2.032052099592921e-18"
      ]
     },
     "execution_count": 150,
     "metadata": {},
     "output_type": "execute_result"
    }
   ],
   "source": [
    "xn = find_zero((f, D(f)),-2, Roots.Newton(),verbose=true)"
   ]
  },
  {
   "cell_type": "code",
   "execution_count": 151,
   "metadata": {
    "scrolled": true
   },
   "outputs": [
    {
     "name": "stdout",
     "output_type": "stream",
     "text": [
      "Results of univariate zero finding:\n",
      "\n",
      "* Converged to: -8.697677347131879e-17\n",
      "* Algorithm: Roots.Secant()\n",
      "* iterations: 11\n",
      "* function evaluations: 13\n",
      "* stopped as |f(x_n)| ≤ max(δ, max(1,|x|)⋅ϵ) using δ = atol, ϵ = rtol\n",
      "\n",
      "Trace:\n",
      "x_0 = -2.0000000000000000,\t fx_0 = -14.7781121978613008\n",
      "x_1 = -1.3333306419931037,\t fx_1 = -5.0582000361709811\n",
      "x_2 = -0.9863988061195847,\t fx_2 = -2.6450878242805076\n",
      "x_3 = -0.6061159620800141,\t fx_3 = -1.1111905492514556\n",
      "x_4 = -0.3306303026304706,\t fx_4 = -0.4601861784295860\n",
      "x_5 = -0.1358932186471614,\t fx_5 = -0.1556737761224168\n",
      "x_6 = -0.0363391217201995,\t fx_6 = -0.0376839402635878\n",
      "x_7 = -0.0045432418947565,\t fx_7 = -0.0045639299013949\n",
      "x_8 = -0.0001617768804174,\t fx_8 = -0.0001618030542936\n",
      "x_9 = -0.0000007332653141,\t fx_9 = -0.0000007332658518\n",
      "x_10 = -0.0000000001186157,\t fx_10 = -0.0000000001186157\n",
      "x_11 = -0.0000000000000001,\t fx_11 = -0.0000000000000001\n",
      "\n"
     ]
    },
    {
     "data": {
      "text/plain": [
       "-8.697677347131879e-17"
      ]
     },
     "execution_count": 151,
     "metadata": {},
     "output_type": "execute_result"
    }
   ],
   "source": [
    "xs = find_zero(f, -2, Order1(),  verbose=true)"
   ]
  },
  {
   "cell_type": "code",
   "execution_count": 152,
   "metadata": {},
   "outputs": [
    {
     "data": {
      "text/html": [
       "<table class=\"data-frame\"><thead><tr><th></th><th>Funkcja</th><th>Metoda</th><th>Liczba iteracji</th><th>Wywołania funkcji</th><th>Dokładna wartość</th></tr><tr><th></th><th>String</th><th>String</th><th>Int64</th><th>Int64</th><th>Bool</th></tr></thead><tbody><p>18 rows × 6 columns (omitted printing of 1 columns)</p><tr><th>1</th><td>x^3 - 2*x - 5</td><td>Bisekcja</td><td>62</td><td>64</td><td>0</td></tr><tr><th>2</th><td>x^3 - 2*x - 5</td><td>Newton</td><td>19</td><td>39</td><td>0</td></tr><tr><th>3</th><td>x^3 - 2*x - 5</td><td>Sieczne</td><td>12</td><td>14</td><td>0</td></tr><tr><th>4</th><td>sin(x)-x/2</td><td>Bisekcja</td><td>51</td><td>53</td><td>0</td></tr><tr><th>5</th><td>sin(x)-x/2</td><td>Newton</td><td>14</td><td>29</td><td>0</td></tr><tr><th>6</th><td>sin(x)-x/2</td><td>Sieczne</td><td>10</td><td>12</td><td>0</td></tr><tr><th>7</th><td>2*x-exp(-x)</td><td>Bisekcja</td><td>61</td><td>63</td><td>0</td></tr><tr><th>8</th><td>2*x-exp(-x)</td><td>Newton</td><td>4</td><td>9</td><td>0</td></tr><tr><th>9</th><td>2*x-exp(-x)</td><td>Sieczne</td><td>5</td><td>7</td><td>0</td></tr><tr><th>10</th><td>(x+3)*(x-1)^2</td><td>Bisekcja</td><td>0</td><td>2</td><td>0</td></tr><tr><th>11</th><td>(x+3)*(x-1)^2</td><td>Newton</td><td>6</td><td>13</td><td>0</td></tr><tr><th>12</th><td>(x+3)*(x-1)^2</td><td>Sieczne</td><td>8</td><td>10</td><td>0</td></tr><tr><th>13</th><td>exp(x)-2-1/(10*x)^2+2/(100*x)^3</td><td>Bisekcja</td><td>0</td><td>3</td><td>1</td></tr><tr><th>14</th><td>exp(x)-2-1/(10*x)^2+2/(100*x)^3</td><td>Newton</td><td>9</td><td>19</td><td>0</td></tr><tr><th>15</th><td>exp(x)-2-1/(10*x)^2+2/(100*x)^3</td><td>Sieczne</td><td>16</td><td>18</td><td>0</td></tr><tr><th>16</th><td>x*exp(-x)</td><td>Bisekcja</td><td>0</td><td>3</td><td>1</td></tr><tr><th>17</th><td>x*exp(-x)</td><td>Newton</td><td>8</td><td>17</td><td>0</td></tr><tr><th>18</th><td>x*exp(-x)</td><td>Sieczne</td><td>11</td><td>13</td><td>0</td></tr></tbody></table>"
      ],
      "text/latex": [
       "\\begin{tabular}{r|cccccc}\n",
       "\t& Funkcja & Metoda & Liczba iteracji & Wywołania funkcji & Dokładna wartość & \\\\\n",
       "\t\\hline\n",
       "\t& String & String & Int64 & Int64 & Bool & \\\\\n",
       "\t\\hline\n",
       "\t1 & x\\^3 - 2*x - 5 & Bisekcja & 62 & 64 & 0 & $\\dots$ \\\\\n",
       "\t2 & x\\^3 - 2*x - 5 & Newton & 19 & 39 & 0 & $\\dots$ \\\\\n",
       "\t3 & x\\^3 - 2*x - 5 & Sieczne & 12 & 14 & 0 & $\\dots$ \\\\\n",
       "\t4 & sin(x)-x/2 & Bisekcja & 51 & 53 & 0 & $\\dots$ \\\\\n",
       "\t5 & sin(x)-x/2 & Newton & 14 & 29 & 0 & $\\dots$ \\\\\n",
       "\t6 & sin(x)-x/2 & Sieczne & 10 & 12 & 0 & $\\dots$ \\\\\n",
       "\t7 & 2*x-exp(-x) & Bisekcja & 61 & 63 & 0 & $\\dots$ \\\\\n",
       "\t8 & 2*x-exp(-x) & Newton & 4 & 9 & 0 & $\\dots$ \\\\\n",
       "\t9 & 2*x-exp(-x) & Sieczne & 5 & 7 & 0 & $\\dots$ \\\\\n",
       "\t10 & (x+3)*(x-1)\\^2 & Bisekcja & 0 & 2 & 0 & $\\dots$ \\\\\n",
       "\t11 & (x+3)*(x-1)\\^2 & Newton & 6 & 13 & 0 & $\\dots$ \\\\\n",
       "\t12 & (x+3)*(x-1)\\^2 & Sieczne & 8 & 10 & 0 & $\\dots$ \\\\\n",
       "\t13 & exp(x)-2-1/(10*x)\\^2+2/(100*x)\\^3 & Bisekcja & 0 & 3 & 1 & $\\dots$ \\\\\n",
       "\t14 & exp(x)-2-1/(10*x)\\^2+2/(100*x)\\^3 & Newton & 9 & 19 & 0 & $\\dots$ \\\\\n",
       "\t15 & exp(x)-2-1/(10*x)\\^2+2/(100*x)\\^3 & Sieczne & 16 & 18 & 0 & $\\dots$ \\\\\n",
       "\t16 & x*exp(-x) & Bisekcja & 0 & 3 & 1 & $\\dots$ \\\\\n",
       "\t17 & x*exp(-x) & Newton & 8 & 17 & 0 & $\\dots$ \\\\\n",
       "\t18 & x*exp(-x) & Sieczne & 11 & 13 & 0 & $\\dots$ \\\\\n",
       "\\end{tabular}\n"
      ],
      "text/plain": [
       "18×6 DataFrame. Omitted printing of 3 columns\n",
       "│ Row │ Funkcja                         │ Metoda   │ Liczba iteracji │\n",
       "│     │ \u001b[90mString\u001b[39m                          │ \u001b[90mString\u001b[39m   │ \u001b[90mInt64\u001b[39m           │\n",
       "├─────┼─────────────────────────────────┼──────────┼─────────────────┤\n",
       "│ 1   │ x^3 - 2*x - 5                   │ Bisekcja │ 62              │\n",
       "│ 2   │ x^3 - 2*x - 5                   │ Newton   │ 19              │\n",
       "│ 3   │ x^3 - 2*x - 5                   │ Sieczne  │ 12              │\n",
       "│ 4   │ sin(x)-x/2                      │ Bisekcja │ 51              │\n",
       "│ 5   │ sin(x)-x/2                      │ Newton   │ 14              │\n",
       "│ 6   │ sin(x)-x/2                      │ Sieczne  │ 10              │\n",
       "│ 7   │ 2*x-exp(-x)                     │ Bisekcja │ 61              │\n",
       "│ 8   │ 2*x-exp(-x)                     │ Newton   │ 4               │\n",
       "│ 9   │ 2*x-exp(-x)                     │ Sieczne  │ 5               │\n",
       "│ 10  │ (x+3)*(x-1)^2                   │ Bisekcja │ 0               │\n",
       "│ 11  │ (x+3)*(x-1)^2                   │ Newton   │ 6               │\n",
       "│ 12  │ (x+3)*(x-1)^2                   │ Sieczne  │ 8               │\n",
       "│ 13  │ exp(x)-2-1/(10*x)^2+2/(100*x)^3 │ Bisekcja │ 0               │\n",
       "│ 14  │ exp(x)-2-1/(10*x)^2+2/(100*x)^3 │ Newton   │ 9               │\n",
       "│ 15  │ exp(x)-2-1/(10*x)^2+2/(100*x)^3 │ Sieczne  │ 16              │\n",
       "│ 16  │ x*exp(-x)                       │ Bisekcja │ 0               │\n",
       "│ 17  │ x*exp(-x)                       │ Newton   │ 8               │\n",
       "│ 18  │ x*exp(-x)                       │ Sieczne  │ 11              │"
      ]
     },
     "execution_count": 152,
     "metadata": {},
     "output_type": "execute_result"
    }
   ],
   "source": [
    "push!(wyniki, (\"x*exp(-x)\",\"Bisekcja\", 0, 3, iszero(xb), (f(prevfloat(xb)) * f(xb) < 0.0 || f(xb) * f(nextfloat(xb)) < 0.0)))\n",
    "push!(wyniki, (\"x*exp(-x)\",\"Newton\", 8, 17, iszero(xn), (f(prevfloat(xn)) * f(xn) < 0.0 || f(xn) * f(nextfloat(xn)) < 0.0)))\n",
    "push!(wyniki, (\"x*exp(-x)\",\"Sieczne\", 11, 13, iszero(xs), (f(prevfloat(xs)) * f(xs) < 0.0 || f(xs) * f(nextfloat(xs)) < 0.0)))"
   ]
  },
  {
   "cell_type": "code",
   "execution_count": 153,
   "metadata": {},
   "outputs": [
    {
     "data": {
      "text/html": [
       "<table class=\"data-frame\"><thead><tr><th></th><th>Funkcja</th><th>Metoda</th><th>Liczba iteracji</th><th>Wywołania funkcji</th><th>Dokładna wartość</th></tr><tr><th></th><th>String</th><th>String</th><th>Int64</th><th>Int64</th><th>Bool</th></tr></thead><tbody><p>18 rows × 6 columns (omitted printing of 1 columns)</p><tr><th>1</th><td>x^3 - 2*x - 5</td><td>Bisekcja</td><td>62</td><td>64</td><td>0</td></tr><tr><th>2</th><td>x^3 - 2*x - 5</td><td>Newton</td><td>19</td><td>39</td><td>0</td></tr><tr><th>3</th><td>x^3 - 2*x - 5</td><td>Sieczne</td><td>12</td><td>14</td><td>0</td></tr><tr><th>4</th><td>sin(x)-x/2</td><td>Bisekcja</td><td>51</td><td>53</td><td>0</td></tr><tr><th>5</th><td>sin(x)-x/2</td><td>Newton</td><td>14</td><td>29</td><td>0</td></tr><tr><th>6</th><td>sin(x)-x/2</td><td>Sieczne</td><td>10</td><td>12</td><td>0</td></tr><tr><th>7</th><td>2*x-exp(-x)</td><td>Bisekcja</td><td>61</td><td>63</td><td>0</td></tr><tr><th>8</th><td>2*x-exp(-x)</td><td>Newton</td><td>4</td><td>9</td><td>0</td></tr><tr><th>9</th><td>2*x-exp(-x)</td><td>Sieczne</td><td>5</td><td>7</td><td>0</td></tr><tr><th>10</th><td>(x+3)*(x-1)^2</td><td>Bisekcja</td><td>0</td><td>2</td><td>0</td></tr><tr><th>11</th><td>(x+3)*(x-1)^2</td><td>Newton</td><td>6</td><td>13</td><td>0</td></tr><tr><th>12</th><td>(x+3)*(x-1)^2</td><td>Sieczne</td><td>8</td><td>10</td><td>0</td></tr><tr><th>13</th><td>exp(x)-2-1/(10*x)^2+2/(100*x)^3</td><td>Bisekcja</td><td>0</td><td>3</td><td>1</td></tr><tr><th>14</th><td>exp(x)-2-1/(10*x)^2+2/(100*x)^3</td><td>Newton</td><td>9</td><td>19</td><td>0</td></tr><tr><th>15</th><td>exp(x)-2-1/(10*x)^2+2/(100*x)^3</td><td>Sieczne</td><td>16</td><td>18</td><td>0</td></tr><tr><th>16</th><td>x*exp(-x)</td><td>Bisekcja</td><td>0</td><td>3</td><td>1</td></tr><tr><th>17</th><td>x*exp(-x)</td><td>Newton</td><td>8</td><td>17</td><td>0</td></tr><tr><th>18</th><td>x*exp(-x)</td><td>Sieczne</td><td>11</td><td>13</td><td>0</td></tr></tbody></table>"
      ],
      "text/latex": [
       "\\begin{tabular}{r|cccccc}\n",
       "\t& Funkcja & Metoda & Liczba iteracji & Wywołania funkcji & Dokładna wartość & \\\\\n",
       "\t\\hline\n",
       "\t& String & String & Int64 & Int64 & Bool & \\\\\n",
       "\t\\hline\n",
       "\t1 & x\\^3 - 2*x - 5 & Bisekcja & 62 & 64 & 0 & $\\dots$ \\\\\n",
       "\t2 & x\\^3 - 2*x - 5 & Newton & 19 & 39 & 0 & $\\dots$ \\\\\n",
       "\t3 & x\\^3 - 2*x - 5 & Sieczne & 12 & 14 & 0 & $\\dots$ \\\\\n",
       "\t4 & sin(x)-x/2 & Bisekcja & 51 & 53 & 0 & $\\dots$ \\\\\n",
       "\t5 & sin(x)-x/2 & Newton & 14 & 29 & 0 & $\\dots$ \\\\\n",
       "\t6 & sin(x)-x/2 & Sieczne & 10 & 12 & 0 & $\\dots$ \\\\\n",
       "\t7 & 2*x-exp(-x) & Bisekcja & 61 & 63 & 0 & $\\dots$ \\\\\n",
       "\t8 & 2*x-exp(-x) & Newton & 4 & 9 & 0 & $\\dots$ \\\\\n",
       "\t9 & 2*x-exp(-x) & Sieczne & 5 & 7 & 0 & $\\dots$ \\\\\n",
       "\t10 & (x+3)*(x-1)\\^2 & Bisekcja & 0 & 2 & 0 & $\\dots$ \\\\\n",
       "\t11 & (x+3)*(x-1)\\^2 & Newton & 6 & 13 & 0 & $\\dots$ \\\\\n",
       "\t12 & (x+3)*(x-1)\\^2 & Sieczne & 8 & 10 & 0 & $\\dots$ \\\\\n",
       "\t13 & exp(x)-2-1/(10*x)\\^2+2/(100*x)\\^3 & Bisekcja & 0 & 3 & 1 & $\\dots$ \\\\\n",
       "\t14 & exp(x)-2-1/(10*x)\\^2+2/(100*x)\\^3 & Newton & 9 & 19 & 0 & $\\dots$ \\\\\n",
       "\t15 & exp(x)-2-1/(10*x)\\^2+2/(100*x)\\^3 & Sieczne & 16 & 18 & 0 & $\\dots$ \\\\\n",
       "\t16 & x*exp(-x) & Bisekcja & 0 & 3 & 1 & $\\dots$ \\\\\n",
       "\t17 & x*exp(-x) & Newton & 8 & 17 & 0 & $\\dots$ \\\\\n",
       "\t18 & x*exp(-x) & Sieczne & 11 & 13 & 0 & $\\dots$ \\\\\n",
       "\\end{tabular}\n"
      ],
      "text/plain": [
       "18×6 DataFrame. Omitted printing of 3 columns\n",
       "│ Row │ Funkcja                         │ Metoda   │ Liczba iteracji │\n",
       "│     │ \u001b[90mString\u001b[39m                          │ \u001b[90mString\u001b[39m   │ \u001b[90mInt64\u001b[39m           │\n",
       "├─────┼─────────────────────────────────┼──────────┼─────────────────┤\n",
       "│ 1   │ x^3 - 2*x - 5                   │ Bisekcja │ 62              │\n",
       "│ 2   │ x^3 - 2*x - 5                   │ Newton   │ 19              │\n",
       "│ 3   │ x^3 - 2*x - 5                   │ Sieczne  │ 12              │\n",
       "│ 4   │ sin(x)-x/2                      │ Bisekcja │ 51              │\n",
       "│ 5   │ sin(x)-x/2                      │ Newton   │ 14              │\n",
       "│ 6   │ sin(x)-x/2                      │ Sieczne  │ 10              │\n",
       "│ 7   │ 2*x-exp(-x)                     │ Bisekcja │ 61              │\n",
       "│ 8   │ 2*x-exp(-x)                     │ Newton   │ 4               │\n",
       "│ 9   │ 2*x-exp(-x)                     │ Sieczne  │ 5               │\n",
       "│ 10  │ (x+3)*(x-1)^2                   │ Bisekcja │ 0               │\n",
       "│ 11  │ (x+3)*(x-1)^2                   │ Newton   │ 6               │\n",
       "│ 12  │ (x+3)*(x-1)^2                   │ Sieczne  │ 8               │\n",
       "│ 13  │ exp(x)-2-1/(10*x)^2+2/(100*x)^3 │ Bisekcja │ 0               │\n",
       "│ 14  │ exp(x)-2-1/(10*x)^2+2/(100*x)^3 │ Newton   │ 9               │\n",
       "│ 15  │ exp(x)-2-1/(10*x)^2+2/(100*x)^3 │ Sieczne  │ 16              │\n",
       "│ 16  │ x*exp(-x)                       │ Bisekcja │ 0               │\n",
       "│ 17  │ x*exp(-x)                       │ Newton   │ 8               │\n",
       "│ 18  │ x*exp(-x)                       │ Sieczne  │ 11              │"
      ]
     },
     "execution_count": 153,
     "metadata": {},
     "output_type": "execute_result"
    }
   ],
   "source": [
    "wyniki"
   ]
  },
  {
   "cell_type": "code",
   "execution_count": 156,
   "metadata": {},
   "outputs": [
    {
     "name": "stdout",
     "output_type": "stream",
     "text": [
      "18×6 DataFrame\n",
      "│ Row │ Funkcja                         │ Metoda   │ Liczba iteracji │\n",
      "│     │ \u001b[90mString\u001b[39m                          │ \u001b[90mString\u001b[39m   │ \u001b[90mInt64\u001b[39m           │\n",
      "├─────┼─────────────────────────────────┼──────────┼─────────────────┤\n",
      "│ 1   │ x^3 - 2*x - 5                   │ Bisekcja │ 62              │\n",
      "│ 2   │ x^3 - 2*x - 5                   │ Newton   │ 19              │\n",
      "│ 3   │ x^3 - 2*x - 5                   │ Sieczne  │ 12              │\n",
      "│ 4   │ sin(x)-x/2                      │ Bisekcja │ 51              │\n",
      "│ 5   │ sin(x)-x/2                      │ Newton   │ 14              │\n",
      "│ 6   │ sin(x)-x/2                      │ Sieczne  │ 10              │\n",
      "│ 7   │ 2*x-exp(-x)                     │ Bisekcja │ 61              │\n",
      "│ 8   │ 2*x-exp(-x)                     │ Newton   │ 4               │\n",
      "│ 9   │ 2*x-exp(-x)                     │ Sieczne  │ 5               │\n",
      "│ 10  │ (x+3)*(x-1)^2                   │ Bisekcja │ 0               │\n",
      "│ 11  │ (x+3)*(x-1)^2                   │ Newton   │ 6               │\n",
      "│ 12  │ (x+3)*(x-1)^2                   │ Sieczne  │ 8               │\n",
      "│ 13  │ exp(x)-2-1/(10*x)^2+2/(100*x)^3 │ Bisekcja │ 0               │\n",
      "│ 14  │ exp(x)-2-1/(10*x)^2+2/(100*x)^3 │ Newton   │ 9               │\n",
      "│ 15  │ exp(x)-2-1/(10*x)^2+2/(100*x)^3 │ Sieczne  │ 16              │\n",
      "│ 16  │ x*exp(-x)                       │ Bisekcja │ 0               │\n",
      "│ 17  │ x*exp(-x)                       │ Newton   │ 8               │\n",
      "│ 18  │ x*exp(-x)                       │ Sieczne  │ 11              │\n",
      "\n",
      "│ Row │ Wywołania funkcji │ Dokładna wartość │ Najlepsze przybliżenie │\n",
      "│     │ \u001b[90mInt64\u001b[39m             │ \u001b[90mBool\u001b[39m             │ \u001b[90mBool\u001b[39m                   │\n",
      "├─────┼───────────────────┼──────────────────┼────────────────────────┤\n",
      "│ 1   │ 64                │ 0                │ 1                      │\n",
      "│ 2   │ 39                │ 0                │ 1                      │\n",
      "│ 3   │ 14                │ 0                │ 1                      │\n",
      "│ 4   │ 53                │ 0                │ 0                      │\n",
      "│ 5   │ 29                │ 0                │ 0                      │\n",
      "│ 6   │ 12                │ 0                │ 0                      │\n",
      "│ 7   │ 63                │ 0                │ 0                      │\n",
      "│ 8   │ 9                 │ 0                │ 0                      │\n",
      "│ 9   │ 7                 │ 0                │ 0                      │\n",
      "│ 10  │ 2                 │ 0                │ 0                      │\n",
      "│ 11  │ 13                │ 0                │ 0                      │\n",
      "│ 12  │ 10                │ 0                │ 0                      │\n",
      "│ 13  │ 3                 │ 1                │ 0                      │\n",
      "│ 14  │ 19                │ 0                │ 1                      │\n",
      "│ 15  │ 18                │ 0                │ 0                      │\n",
      "│ 16  │ 3                 │ 1                │ 0                      │\n",
      "│ 17  │ 17                │ 0                │ 0                      │\n",
      "│ 18  │ 13                │ 0                │ 0                      │"
     ]
    }
   ],
   "source": [
    "showall(wyniki)"
   ]
  },
  {
   "cell_type": "markdown",
   "metadata": {},
   "source": [
    "### Przykłady funkcji, które nie zadziałają:"
   ]
  },
  {
   "cell_type": "markdown",
   "metadata": {},
   "source": [
    "#### Przykładem sytuacji, w której metoda bisekcji nie da odpowiedniego wyniku może być funkcja 1/x"
   ]
  },
  {
   "cell_type": "code",
   "execution_count": 170,
   "metadata": {},
   "outputs": [
    {
     "data": {
      "text/plain": [
       "f (generic function with 1 method)"
      ]
     },
     "execution_count": 170,
     "metadata": {},
     "output_type": "execute_result"
    }
   ],
   "source": [
    "f(x) = 1/x"
   ]
  },
  {
   "cell_type": "code",
   "execution_count": 171,
   "metadata": {
    "scrolled": true
   },
   "outputs": [
    {
     "name": "stdout",
     "output_type": "stream",
     "text": [
      "Results of univariate zero finding:\n",
      "\n",
      "* Converged to: 0.0\n",
      "* Algorithm: Roots.BisectionExact()\n",
      "* iterations: 61\n",
      "* function evaluations: 63\n",
      "* stopped as x_n ≈ x_{n-1} using atol=xatol, rtol=xrtol\n",
      "* Note: Change of sign at xn identified. \n",
      "\n",
      "Trace:\n",
      "(a_0, b_0) = (-1.0000000000000000,  0.0000000000000000)\n",
      "(a_1, b_1) = (-0.0000000000000000,  0.0000000000000000)\n",
      "(a_2, b_2) = (-0.0000000000000000,  0.0000000000000000)\n",
      "(a_3, b_3) = (-0.0000000000000000,  0.0000000000000000)\n",
      "(a_4, b_4) = (-0.0000000000000000,  0.0000000000000000)\n",
      "(a_5, b_5) = (-0.0000000000000000,  0.0000000000000000)\n",
      "(a_6, b_6) = (-0.0000000000000000,  0.0000000000000000)\n",
      "(a_7, b_7) = (-0.0000000000000000,  0.0000000000000000)\n",
      "(a_8, b_8) = (-0.0000000000000000,  0.0000000000000000)\n",
      "(a_9, b_9) = (-0.0000000000000000,  0.0000000000000000)\n",
      "(a_10, b_10) = (-0.0000000000000000,  0.0000000000000000)\n",
      "(a_11, b_11) = (-0.0000000000000000,  0.0000000000000000)\n",
      "(a_12, b_12) = (-0.0000000000000000,  0.0000000000000000)\n",
      "(a_13, b_13) = (-0.0000000000000000,  0.0000000000000000)\n",
      "(a_14, b_14) = (-0.0000000000000000,  0.0000000000000000)\n",
      "(a_15, b_15) = (-0.0000000000000000,  0.0000000000000000)\n",
      "(a_16, b_16) = (-0.0000000000000000,  0.0000000000000000)\n",
      "(a_17, b_17) = (-0.0000000000000000,  0.0000000000000000)\n",
      "(a_18, b_18) = (-0.0000000000000000,  0.0000000000000000)\n",
      "(a_19, b_19) = (-0.0000000000000000,  0.0000000000000000)\n",
      "(a_20, b_20) = (-0.0000000000000000,  0.0000000000000000)\n",
      "(a_21, b_21) = (-0.0000000000000000,  0.0000000000000000)\n",
      "(a_22, b_22) = (-0.0000000000000000,  0.0000000000000000)\n",
      "(a_23, b_23) = (-0.0000000000000000,  0.0000000000000000)\n",
      "(a_24, b_24) = (-0.0000000000000000,  0.0000000000000000)\n",
      "(a_25, b_25) = (-0.0000000000000000,  0.0000000000000000)\n",
      "(a_26, b_26) = (-0.0000000000000000,  0.0000000000000000)\n",
      "(a_27, b_27) = (-0.0000000000000000,  0.0000000000000000)\n",
      "(a_28, b_28) = (-0.0000000000000000,  0.0000000000000000)\n",
      "(a_29, b_29) = (-0.0000000000000000,  0.0000000000000000)\n",
      "(a_30, b_30) = (-0.0000000000000000,  0.0000000000000000)\n",
      "(a_31, b_31) = (-0.0000000000000000,  0.0000000000000000)\n",
      "(a_32, b_32) = (-0.0000000000000000,  0.0000000000000000)\n",
      "(a_33, b_33) = (-0.0000000000000000,  0.0000000000000000)\n",
      "(a_34, b_34) = (-0.0000000000000000,  0.0000000000000000)\n",
      "(a_35, b_35) = (-0.0000000000000000,  0.0000000000000000)\n",
      "(a_36, b_36) = (-0.0000000000000000,  0.0000000000000000)\n",
      "(a_37, b_37) = (-0.0000000000000000,  0.0000000000000000)\n",
      "(a_38, b_38) = (-0.0000000000000000,  0.0000000000000000)\n",
      "(a_39, b_39) = (-0.0000000000000000,  0.0000000000000000)\n",
      "(a_40, b_40) = (-0.0000000000000000,  0.0000000000000000)\n",
      "(a_41, b_41) = (-0.0000000000000000,  0.0000000000000000)\n",
      "(a_42, b_42) = (-0.0000000000000000,  0.0000000000000000)\n",
      "(a_43, b_43) = (-0.0000000000000000,  0.0000000000000000)\n",
      "(a_44, b_44) = (-0.0000000000000000,  0.0000000000000000)\n",
      "(a_45, b_45) = (-0.0000000000000000,  0.0000000000000000)\n",
      "(a_46, b_46) = (-0.0000000000000000,  0.0000000000000000)\n",
      "(a_47, b_47) = (-0.0000000000000000,  0.0000000000000000)\n",
      "(a_48, b_48) = (-0.0000000000000000,  0.0000000000000000)\n",
      "(a_49, b_49) = (-0.0000000000000000,  0.0000000000000000)\n",
      "(a_50, b_50) = (-0.0000000000000000,  0.0000000000000000)\n",
      "(a_51, b_51) = (-0.0000000000000000,  0.0000000000000000)\n",
      "(a_52, b_52) = (-0.0000000000000000,  0.0000000000000000)\n",
      "(a_53, b_53) = (-0.0000000000000000,  0.0000000000000000)\n",
      "(a_54, b_54) = (-0.0000000000000000,  0.0000000000000000)\n",
      "(a_55, b_55) = (-0.0000000000000000,  0.0000000000000000)\n",
      "(a_56, b_56) = (-0.0000000000000000,  0.0000000000000000)\n",
      "(a_57, b_57) = (-0.0000000000000000,  0.0000000000000000)\n",
      "(a_58, b_58) = (-0.0000000000000000,  0.0000000000000000)\n",
      "(a_59, b_59) = (-0.0000000000000000,  0.0000000000000000)\n",
      "(a_60, b_60) = (-0.0000000000000000,  0.0000000000000000)\n",
      "(a_61, b_61) = (-0.0000000000000000,  0.0000000000000000)\n",
      "\n"
     ]
    },
    {
     "data": {
      "text/plain": [
       "0.0"
      ]
     },
     "execution_count": 171,
     "metadata": {},
     "output_type": "execute_result"
    }
   ],
   "source": [
    "xb = find_zero(f, (-1, 2), Bisection(),verbose=true)"
   ]
  },
  {
   "cell_type": "markdown",
   "metadata": {},
   "source": [
    "Metoda bisekcji znajdzie miejsce zerowe (w punkcie x = 0) podczas gdy funkcja takowego nie posiada."
   ]
  },
  {
   "cell_type": "markdown",
   "metadata": {},
   "source": [
    "Jest to spowodowane tym, że metoda zakłada szukanie miejsca zerowego dla funkcji ciągłej, gdyż tylko wtedy zasada na której się opiera będzie działać."
   ]
  },
  {
   "cell_type": "markdown",
   "metadata": {},
   "source": [
    "Metoda ta znajdzie w tym przypadku 0, jako punkt, dla którego po obu stronach wartości mają różny znak, zakładając że musi się tam znaleźć miejsce zerowe."
   ]
  },
  {
   "cell_type": "markdown",
   "metadata": {},
   "source": [
    "#### Przykładem przypadku problematycznego dla metody newtona może być rozpoczęcie szukania w ekstremum kokalnym"
   ]
  },
  {
   "cell_type": "markdown",
   "metadata": {},
   "source": [
    "Będzie to problemem ponieważ metoda bazuje na pochodnych w badanych punktach, co uniemożliwia jej działanie w przypadku natrafienia na pochodną, która się zeruje (podobnie jest w wypadku, gdy nawet nie zaczynając od ekstremum metoda trafi na nie w trakcie działania)"
   ]
  },
  {
   "cell_type": "code",
   "execution_count": 176,
   "metadata": {},
   "outputs": [
    {
     "data": {
      "text/plain": [
       "f (generic function with 1 method)"
      ]
     },
     "execution_count": 176,
     "metadata": {},
     "output_type": "execute_result"
    }
   ],
   "source": [
    "f(x) = exp(x)-2-1/(10*x)^2+2/(100*x)^3"
   ]
  },
  {
   "cell_type": "code",
   "execution_count": 196,
   "metadata": {},
   "outputs": [
    {
     "data": {
      "image/svg+xml": [
       "<?xml version=\"1.0\" encoding=\"utf-8\"?>\n",
       "<svg xmlns=\"http://www.w3.org/2000/svg\" xmlns:xlink=\"http://www.w3.org/1999/xlink\" width=\"600\" height=\"400\" viewBox=\"0 0 2400 1600\">\n",
       "<defs>\n",
       "  <clipPath id=\"clip770\">\n",
       "    <rect x=\"0\" y=\"0\" width=\"2400\" height=\"1600\"/>\n",
       "  </clipPath>\n",
       "</defs>\n",
       "<path clip-path=\"url(#clip770)\" d=\"\n",
       "M0 1600 L2400 1600 L2400 0 L0 0  Z\n",
       "  \" fill=\"#ffffff\" fill-rule=\"evenodd\" fill-opacity=\"1\"/>\n",
       "<defs>\n",
       "  <clipPath id=\"clip771\">\n",
       "    <rect x=\"480\" y=\"0\" width=\"1681\" height=\"1600\"/>\n",
       "  </clipPath>\n",
       "</defs>\n",
       "<path clip-path=\"url(#clip770)\" d=\"\n",
       "M147.478 1486.45 L2352.76 1486.45 L2352.76 47.2441 L147.478 47.2441  Z\n",
       "  \" fill=\"#ffffff\" fill-rule=\"evenodd\" fill-opacity=\"1\"/>\n",
       "<defs>\n",
       "  <clipPath id=\"clip772\">\n",
       "    <rect x=\"147\" y=\"47\" width=\"2206\" height=\"1440\"/>\n",
       "  </clipPath>\n",
       "</defs>\n",
       "<polyline clip-path=\"url(#clip772)\" style=\"stroke:#000000; stroke-width:2; stroke-opacity:0.1; fill:none\" points=\"\n",
       "  529.961,1486.45 529.961,47.2441 \n",
       "  \"/>\n",
       "<polyline clip-path=\"url(#clip772)\" style=\"stroke:#000000; stroke-width:2; stroke-opacity:0.1; fill:none\" points=\"\n",
       "  930.048,1486.45 930.048,47.2441 \n",
       "  \"/>\n",
       "<polyline clip-path=\"url(#clip772)\" style=\"stroke:#000000; stroke-width:2; stroke-opacity:0.1; fill:none\" points=\"\n",
       "  1330.13,1486.45 1330.13,47.2441 \n",
       "  \"/>\n",
       "<polyline clip-path=\"url(#clip772)\" style=\"stroke:#000000; stroke-width:2; stroke-opacity:0.1; fill:none\" points=\"\n",
       "  1730.22,1486.45 1730.22,47.2441 \n",
       "  \"/>\n",
       "<polyline clip-path=\"url(#clip772)\" style=\"stroke:#000000; stroke-width:2; stroke-opacity:0.1; fill:none\" points=\"\n",
       "  2130.31,1486.45 2130.31,47.2441 \n",
       "  \"/>\n",
       "<polyline clip-path=\"url(#clip770)\" style=\"stroke:#000000; stroke-width:4; stroke-opacity:1; fill:none\" points=\"\n",
       "  147.478,1486.45 2352.76,1486.45 \n",
       "  \"/>\n",
       "<polyline clip-path=\"url(#clip770)\" style=\"stroke:#000000; stroke-width:4; stroke-opacity:1; fill:none\" points=\"\n",
       "  529.961,1486.45 529.961,1469.18 \n",
       "  \"/>\n",
       "<polyline clip-path=\"url(#clip770)\" style=\"stroke:#000000; stroke-width:4; stroke-opacity:1; fill:none\" points=\"\n",
       "  930.048,1486.45 930.048,1469.18 \n",
       "  \"/>\n",
       "<polyline clip-path=\"url(#clip770)\" style=\"stroke:#000000; stroke-width:4; stroke-opacity:1; fill:none\" points=\"\n",
       "  1330.13,1486.45 1330.13,1469.18 \n",
       "  \"/>\n",
       "<polyline clip-path=\"url(#clip770)\" style=\"stroke:#000000; stroke-width:4; stroke-opacity:1; fill:none\" points=\"\n",
       "  1730.22,1486.45 1730.22,1469.18 \n",
       "  \"/>\n",
       "<polyline clip-path=\"url(#clip770)\" style=\"stroke:#000000; stroke-width:4; stroke-opacity:1; fill:none\" points=\"\n",
       "  2130.31,1486.45 2130.31,1469.18 \n",
       "  \"/>\n",
       "<path clip-path=\"url(#clip770)\" d=\"M 0 0 M476.489 1530.29 L506.165 1530.29 L506.165 1534.23 L476.489 1534.23 L476.489 1530.29 Z\" fill=\"#000000\" fill-rule=\"evenodd\" fill-opacity=\"1\" /><path clip-path=\"url(#clip770)\" d=\"M 0 0 M517.067 1543.18 L524.706 1543.18 L524.706 1516.82 L516.396 1518.49 L516.396 1514.23 L524.66 1512.56 L529.336 1512.56 L529.336 1543.18 L536.975 1543.18 L536.975 1547.12 L517.067 1547.12 L517.067 1543.18 Z\" fill=\"#000000\" fill-rule=\"evenodd\" fill-opacity=\"1\" /><path clip-path=\"url(#clip770)\" d=\"M 0 0 M546.419 1541.24 L551.303 1541.24 L551.303 1547.12 L546.419 1547.12 L546.419 1541.24 Z\" fill=\"#000000\" fill-rule=\"evenodd\" fill-opacity=\"1\" /><path clip-path=\"url(#clip770)\" d=\"M 0 0 M571.488 1515.64 Q567.877 1515.64 566.049 1519.2 Q564.243 1522.75 564.243 1529.87 Q564.243 1536.98 566.049 1540.55 Q567.877 1544.09 571.488 1544.09 Q575.123 1544.09 576.928 1540.55 Q578.757 1536.98 578.757 1529.87 Q578.757 1522.75 576.928 1519.2 Q575.123 1515.64 571.488 1515.64 M571.488 1511.93 Q577.299 1511.93 580.354 1516.54 Q583.433 1521.12 583.433 1529.87 Q583.433 1538.6 580.354 1543.21 Q577.299 1547.79 571.488 1547.79 Q565.678 1547.79 562.6 1543.21 Q559.544 1538.6 559.544 1529.87 Q559.544 1521.12 562.6 1516.54 Q565.678 1511.93 571.488 1511.93 Z\" fill=\"#000000\" fill-rule=\"evenodd\" fill-opacity=\"1\" /><path clip-path=\"url(#clip770)\" d=\"M 0 0 M877.073 1530.29 L906.749 1530.29 L906.749 1534.23 L877.073 1534.23 L877.073 1530.29 Z\" fill=\"#000000\" fill-rule=\"evenodd\" fill-opacity=\"1\" /><path clip-path=\"url(#clip770)\" d=\"M 0 0 M926.842 1515.64 Q923.23 1515.64 921.402 1519.2 Q919.596 1522.75 919.596 1529.87 Q919.596 1536.98 921.402 1540.55 Q923.23 1544.09 926.842 1544.09 Q930.476 1544.09 932.281 1540.55 Q934.11 1536.98 934.11 1529.87 Q934.11 1522.75 932.281 1519.2 Q930.476 1515.64 926.842 1515.64 M926.842 1511.93 Q932.652 1511.93 935.707 1516.54 Q938.786 1521.12 938.786 1529.87 Q938.786 1538.6 935.707 1543.21 Q932.652 1547.79 926.842 1547.79 Q921.031 1547.79 917.953 1543.21 Q914.897 1538.6 914.897 1529.87 Q914.897 1521.12 917.953 1516.54 Q921.031 1511.93 926.842 1511.93 Z\" fill=\"#000000\" fill-rule=\"evenodd\" fill-opacity=\"1\" /><path clip-path=\"url(#clip770)\" d=\"M 0 0 M947.003 1541.24 L951.888 1541.24 L951.888 1547.12 L947.003 1547.12 L947.003 1541.24 Z\" fill=\"#000000\" fill-rule=\"evenodd\" fill-opacity=\"1\" /><path clip-path=\"url(#clip770)\" d=\"M 0 0 M962.119 1512.56 L980.476 1512.56 L980.476 1516.5 L966.402 1516.5 L966.402 1524.97 Q967.42 1524.62 968.439 1524.46 Q969.457 1524.27 970.476 1524.27 Q976.263 1524.27 979.642 1527.44 Q983.022 1530.62 983.022 1536.03 Q983.022 1541.61 979.55 1544.71 Q976.077 1547.79 969.758 1547.79 Q967.582 1547.79 965.314 1547.42 Q963.068 1547.05 960.661 1546.31 L960.661 1541.61 Q962.744 1542.74 964.966 1543.3 Q967.189 1543.86 969.665 1543.86 Q973.67 1543.86 976.008 1541.75 Q978.346 1539.64 978.346 1536.03 Q978.346 1532.42 976.008 1530.31 Q973.67 1528.21 969.665 1528.21 Q967.79 1528.21 965.915 1528.62 Q964.064 1529.04 962.119 1529.92 L962.119 1512.56 Z\" fill=\"#000000\" fill-rule=\"evenodd\" fill-opacity=\"1\" /><path clip-path=\"url(#clip770)\" d=\"M 0 0 M1307.52 1515.64 Q1303.91 1515.64 1302.08 1519.2 Q1300.27 1522.75 1300.27 1529.87 Q1300.27 1536.98 1302.08 1540.55 Q1303.91 1544.09 1307.52 1544.09 Q1311.15 1544.09 1312.96 1540.55 Q1314.79 1536.98 1314.79 1529.87 Q1314.79 1522.75 1312.96 1519.2 Q1311.15 1515.64 1307.52 1515.64 M1307.52 1511.93 Q1313.33 1511.93 1316.38 1516.54 Q1319.46 1521.12 1319.46 1529.87 Q1319.46 1538.6 1316.38 1543.21 Q1313.33 1547.79 1307.52 1547.79 Q1301.71 1547.79 1298.63 1543.21 Q1295.57 1538.6 1295.57 1529.87 Q1295.57 1521.12 1298.63 1516.54 Q1301.71 1511.93 1307.52 1511.93 Z\" fill=\"#000000\" fill-rule=\"evenodd\" fill-opacity=\"1\" /><path clip-path=\"url(#clip770)\" d=\"M 0 0 M1327.68 1541.24 L1332.56 1541.24 L1332.56 1547.12 L1327.68 1547.12 L1327.68 1541.24 Z\" fill=\"#000000\" fill-rule=\"evenodd\" fill-opacity=\"1\" /><path clip-path=\"url(#clip770)\" d=\"M 0 0 M1352.75 1515.64 Q1349.14 1515.64 1347.31 1519.2 Q1345.5 1522.75 1345.5 1529.87 Q1345.5 1536.98 1347.31 1540.55 Q1349.14 1544.09 1352.75 1544.09 Q1356.38 1544.09 1358.19 1540.55 Q1360.02 1536.98 1360.02 1529.87 Q1360.02 1522.75 1358.19 1519.2 Q1356.38 1515.64 1352.75 1515.64 M1352.75 1511.93 Q1358.56 1511.93 1361.62 1516.54 Q1364.69 1521.12 1364.69 1529.87 Q1364.69 1538.6 1361.62 1543.21 Q1358.56 1547.79 1352.75 1547.79 Q1346.94 1547.79 1343.86 1543.21 Q1340.81 1538.6 1340.81 1529.87 Q1340.81 1521.12 1343.86 1516.54 Q1346.94 1511.93 1352.75 1511.93 Z\" fill=\"#000000\" fill-rule=\"evenodd\" fill-opacity=\"1\" /><path clip-path=\"url(#clip770)\" d=\"M 0 0 M1708.1 1515.64 Q1704.49 1515.64 1702.66 1519.2 Q1700.86 1522.75 1700.86 1529.87 Q1700.86 1536.98 1702.66 1540.55 Q1704.49 1544.09 1708.1 1544.09 Q1711.74 1544.09 1713.54 1540.55 Q1715.37 1536.98 1715.37 1529.87 Q1715.37 1522.75 1713.54 1519.2 Q1711.74 1515.64 1708.1 1515.64 M1708.1 1511.93 Q1713.91 1511.93 1716.97 1516.54 Q1720.05 1521.12 1720.05 1529.87 Q1720.05 1538.6 1716.97 1543.21 Q1713.91 1547.79 1708.1 1547.79 Q1702.29 1547.79 1699.21 1543.21 Q1696.16 1538.6 1696.16 1529.87 Q1696.16 1521.12 1699.21 1516.54 Q1702.29 1511.93 1708.1 1511.93 Z\" fill=\"#000000\" fill-rule=\"evenodd\" fill-opacity=\"1\" /><path clip-path=\"url(#clip770)\" d=\"M 0 0 M1728.26 1541.24 L1733.15 1541.24 L1733.15 1547.12 L1728.26 1547.12 L1728.26 1541.24 Z\" fill=\"#000000\" fill-rule=\"evenodd\" fill-opacity=\"1\" /><path clip-path=\"url(#clip770)\" d=\"M 0 0 M1743.38 1512.56 L1761.74 1512.56 L1761.74 1516.5 L1747.66 1516.5 L1747.66 1524.97 Q1748.68 1524.62 1749.7 1524.46 Q1750.72 1524.27 1751.74 1524.27 Q1757.52 1524.27 1760.9 1527.44 Q1764.28 1530.62 1764.28 1536.03 Q1764.28 1541.61 1760.81 1544.71 Q1757.34 1547.79 1751.02 1547.79 Q1748.84 1547.79 1746.58 1547.42 Q1744.33 1547.05 1741.92 1546.31 L1741.92 1541.61 Q1744.01 1542.74 1746.23 1543.3 Q1748.45 1543.86 1750.93 1543.86 Q1754.93 1543.86 1757.27 1541.75 Q1759.61 1539.64 1759.61 1536.03 Q1759.61 1532.42 1757.27 1530.31 Q1754.93 1528.21 1750.93 1528.21 Q1749.05 1528.21 1747.18 1528.62 Q1745.33 1529.04 1743.38 1529.92 L1743.38 1512.56 Z\" fill=\"#000000\" fill-rule=\"evenodd\" fill-opacity=\"1\" /><path clip-path=\"url(#clip770)\" d=\"M 0 0 M2097.46 1543.18 L2105.1 1543.18 L2105.1 1516.82 L2096.79 1518.49 L2096.79 1514.23 L2105.05 1512.56 L2109.73 1512.56 L2109.73 1543.18 L2117.37 1543.18 L2117.37 1547.12 L2097.46 1547.12 L2097.46 1543.18 Z\" fill=\"#000000\" fill-rule=\"evenodd\" fill-opacity=\"1\" /><path clip-path=\"url(#clip770)\" d=\"M 0 0 M2126.81 1541.24 L2131.7 1541.24 L2131.7 1547.12 L2126.81 1547.12 L2126.81 1541.24 Z\" fill=\"#000000\" fill-rule=\"evenodd\" fill-opacity=\"1\" /><path clip-path=\"url(#clip770)\" d=\"M 0 0 M2151.88 1515.64 Q2148.27 1515.64 2146.44 1519.2 Q2144.64 1522.75 2144.64 1529.87 Q2144.64 1536.98 2146.44 1540.55 Q2148.27 1544.09 2151.88 1544.09 Q2155.52 1544.09 2157.32 1540.55 Q2159.15 1536.98 2159.15 1529.87 Q2159.15 1522.75 2157.32 1519.2 Q2155.52 1515.64 2151.88 1515.64 M2151.88 1511.93 Q2157.69 1511.93 2160.75 1516.54 Q2163.83 1521.12 2163.83 1529.87 Q2163.83 1538.6 2160.75 1543.21 Q2157.69 1547.79 2151.88 1547.79 Q2146.07 1547.79 2142.99 1543.21 Q2139.94 1538.6 2139.94 1529.87 Q2139.94 1521.12 2142.99 1516.54 Q2146.07 1511.93 2151.88 1511.93 Z\" fill=\"#000000\" fill-rule=\"evenodd\" fill-opacity=\"1\" /><polyline clip-path=\"url(#clip772)\" style=\"stroke:#000000; stroke-width:2; stroke-opacity:0.1; fill:none\" points=\"\n",
       "  147.478,1176.37 2352.76,1176.37 \n",
       "  \"/>\n",
       "<polyline clip-path=\"url(#clip772)\" style=\"stroke:#000000; stroke-width:2; stroke-opacity:0.1; fill:none\" points=\"\n",
       "  147.478,832.809 2352.76,832.809 \n",
       "  \"/>\n",
       "<polyline clip-path=\"url(#clip772)\" style=\"stroke:#000000; stroke-width:2; stroke-opacity:0.1; fill:none\" points=\"\n",
       "  147.478,489.251 2352.76,489.251 \n",
       "  \"/>\n",
       "<polyline clip-path=\"url(#clip772)\" style=\"stroke:#000000; stroke-width:2; stroke-opacity:0.1; fill:none\" points=\"\n",
       "  147.478,145.694 2352.76,145.694 \n",
       "  \"/>\n",
       "<polyline clip-path=\"url(#clip770)\" style=\"stroke:#000000; stroke-width:4; stroke-opacity:1; fill:none\" points=\"\n",
       "  147.478,1486.45 147.478,47.2441 \n",
       "  \"/>\n",
       "<polyline clip-path=\"url(#clip770)\" style=\"stroke:#000000; stroke-width:4; stroke-opacity:1; fill:none\" points=\"\n",
       "  147.478,1176.37 173.941,1176.37 \n",
       "  \"/>\n",
       "<polyline clip-path=\"url(#clip770)\" style=\"stroke:#000000; stroke-width:4; stroke-opacity:1; fill:none\" points=\"\n",
       "  147.478,832.809 173.941,832.809 \n",
       "  \"/>\n",
       "<polyline clip-path=\"url(#clip770)\" style=\"stroke:#000000; stroke-width:4; stroke-opacity:1; fill:none\" points=\"\n",
       "  147.478,489.251 173.941,489.251 \n",
       "  \"/>\n",
       "<polyline clip-path=\"url(#clip770)\" style=\"stroke:#000000; stroke-width:4; stroke-opacity:1; fill:none\" points=\"\n",
       "  147.478,145.694 173.941,145.694 \n",
       "  \"/>\n",
       "<path clip-path=\"url(#clip770)\" d=\"M 0 0 M51.3625 1176.82 L81.0383 1176.82 L81.0383 1180.75 L51.3625 1180.75 L51.3625 1176.82 Z\" fill=\"#000000\" fill-rule=\"evenodd\" fill-opacity=\"1\" /><path clip-path=\"url(#clip770)\" d=\"M 0 0 M95.1586 1189.71 L111.478 1189.71 L111.478 1193.65 L89.5336 1193.65 L89.5336 1189.71 Q92.1956 1186.96 96.7789 1182.33 Q101.385 1177.67 102.566 1176.33 Q104.811 1173.81 105.691 1172.07 Q106.594 1170.31 106.594 1168.62 Q106.594 1165.87 104.649 1164.13 Q102.728 1162.4 99.6261 1162.4 Q97.4271 1162.4 94.9734 1163.16 Q92.5428 1163.92 89.7651 1165.48 L89.7651 1160.75 Q92.5891 1159.62 95.0428 1159.04 Q97.4965 1158.46 99.5335 1158.46 Q104.904 1158.46 108.098 1161.15 Q111.293 1163.83 111.293 1168.32 Q111.293 1170.45 110.483 1172.37 Q109.696 1174.27 107.589 1176.86 Q107.01 1177.54 103.909 1180.75 Q100.807 1183.95 95.1586 1189.71 Z\" fill=\"#000000\" fill-rule=\"evenodd\" fill-opacity=\"1\" /><path clip-path=\"url(#clip770)\" d=\"M 0 0 M50.9921 833.26 L80.6679 833.26 L80.6679 837.196 L50.9921 837.196 L50.9921 833.26 Z\" fill=\"#000000\" fill-rule=\"evenodd\" fill-opacity=\"1\" /><path clip-path=\"url(#clip770)\" d=\"M 0 0 M91.5706 846.154 L99.2095 846.154 L99.2095 819.788 L90.8993 821.455 L90.8993 817.196 L99.1632 815.529 L103.839 815.529 L103.839 846.154 L111.478 846.154 L111.478 850.089 L91.5706 850.089 L91.5706 846.154 Z\" fill=\"#000000\" fill-rule=\"evenodd\" fill-opacity=\"1\" /><path clip-path=\"url(#clip770)\" d=\"M 0 0 M99.5335 475.05 Q95.9224 475.05 94.0937 478.615 Q92.2882 482.157 92.2882 489.286 Q92.2882 496.393 94.0937 499.957 Q95.9224 503.499 99.5335 503.499 Q103.168 503.499 104.973 499.957 Q106.802 496.393 106.802 489.286 Q106.802 482.157 104.973 478.615 Q103.168 475.05 99.5335 475.05 M99.5335 471.346 Q105.344 471.346 108.399 475.953 Q111.478 480.536 111.478 489.286 Q111.478 498.013 108.399 502.619 Q105.344 507.203 99.5335 507.203 Q93.7234 507.203 90.6447 502.619 Q87.5892 498.013 87.5892 489.286 Q87.5892 480.536 90.6447 475.953 Q93.7234 471.346 99.5335 471.346 Z\" fill=\"#000000\" fill-rule=\"evenodd\" fill-opacity=\"1\" /><path clip-path=\"url(#clip770)\" d=\"M 0 0 M91.5706 159.039 L99.2095 159.039 L99.2095 132.673 L90.8993 134.34 L90.8993 130.081 L99.1632 128.414 L103.839 128.414 L103.839 159.039 L111.478 159.039 L111.478 162.974 L91.5706 162.974 L91.5706 159.039 Z\" fill=\"#000000\" fill-rule=\"evenodd\" fill-opacity=\"1\" /><polyline clip-path=\"url(#clip772)\" style=\"stroke:#009af9; stroke-width:4; stroke-opacity:1; fill:none\" points=\"\n",
       "  209.891,1445.72 214.971,1439.04 220.05,1432.46 225.129,1425.96 230.209,1419.55 277.174,1364.31 324.14,1316.04 371.106,1274.34 418.072,1238.78 474.52,1203.58 \n",
       "  530.969,1175.93 578.696,1157.91 626.423,1144.33 730.112,1128.05 825.705,1125.9 928.19,1133.22 1046.93,1148.56 1152.45,1163.19 1244.98,1172.89 1345.87,1176.23 \n",
       "  1447.35,1167.91 1503.46,1156.76 1559.56,1140.03 1612.94,1118.29 1666.32,1090.24 1721.82,1053.75 1777.32,1009.09 1824.05,964.673 1870.77,913.571 1927.81,841.527 \n",
       "  1984.85,758.167 2038.47,668.821 2092.09,568.195 2135.04,479.035 2178,381.92 2220.95,276.532 2263.9,162.551 2270.51,144.227 2277.12,125.691 2283.73,106.941 \n",
       "  2290.34,87.9763 \n",
       "  \"/>\n",
       "<path clip-path=\"url(#clip770)\" d=\"\n",
       "M1981.79 216.178 L2279.25 216.178 L2279.25 95.2176 L1981.79 95.2176  Z\n",
       "  \" fill=\"#ffffff\" fill-rule=\"evenodd\" fill-opacity=\"1\"/>\n",
       "<polyline clip-path=\"url(#clip770)\" style=\"stroke:#000000; stroke-width:4; stroke-opacity:1; fill:none\" points=\"\n",
       "  1981.79,216.178 2279.25,216.178 2279.25,95.2176 1981.79,95.2176 1981.79,216.178 \n",
       "  \"/>\n",
       "<polyline clip-path=\"url(#clip770)\" style=\"stroke:#009af9; stroke-width:4; stroke-opacity:1; fill:none\" points=\"\n",
       "  2006.29,155.698 2153.31,155.698 \n",
       "  \"/>\n",
       "<path clip-path=\"url(#clip770)\" d=\"M 0 0 M2191.65 175.385 Q2189.85 180.015 2188.13 181.427 Q2186.42 182.839 2183.55 182.839 L2180.15 182.839 L2180.15 179.274 L2182.65 179.274 Q2184.41 179.274 2185.38 178.44 Q2186.35 177.607 2187.53 174.505 L2188.3 172.561 L2177.81 147.052 L2182.32 147.052 L2190.43 167.329 L2198.53 147.052 L2203.04 147.052 L2191.65 175.385 Z\" fill=\"#000000\" fill-rule=\"evenodd\" fill-opacity=\"1\" /><path clip-path=\"url(#clip770)\" d=\"M 0 0 M2210.33 169.042 L2217.97 169.042 L2217.97 142.677 L2209.66 144.343 L2209.66 140.084 L2217.93 138.418 L2222.6 138.418 L2222.6 169.042 L2230.24 169.042 L2230.24 172.978 L2210.33 172.978 L2210.33 169.042 Z\" fill=\"#000000\" fill-rule=\"evenodd\" fill-opacity=\"1\" /></svg>\n"
      ]
     },
     "execution_count": 196,
     "metadata": {},
     "output_type": "execute_result"
    }
   ],
   "source": [
    "f(x) = x^2 - 2 + x^3\n",
    "plot(f, -1.4, 1.2)"
   ]
  },
  {
   "cell_type": "code",
   "execution_count": 202,
   "metadata": {},
   "outputs": [
    {
     "name": "stdout",
     "output_type": "stream",
     "text": [
      "Results of univariate zero finding:\n",
      "\n",
      "* Convergence failed: Too many steps taken. \n",
      "* Algorithm Roots.Newton()\n",
      "\n",
      "Trace:\n",
      "x_0 =  0.0000000000000000,\t fx_0 = -2.0000000000000000\n",
      "x_1 =  0.0000000000000000,\t fx_1 = -2.0000000000000000\n",
      "x_2 =  0.0000000000000000,\t fx_2 = -2.0000000000000000\n",
      "x_3 =  0.0000000000000000,\t fx_3 = -2.0000000000000000\n",
      "x_4 =  0.0000000000000000,\t fx_4 = -2.0000000000000000\n",
      "x_5 =  0.0000000000000000,\t fx_5 = -2.0000000000000000\n",
      "x_6 =  0.0000000000000000,\t fx_6 = -2.0000000000000000\n",
      "x_7 =  0.0000000000000000,\t fx_7 = -2.0000000000000000\n",
      "x_8 =  0.0000000000000000,\t fx_8 = -2.0000000000000000\n",
      "x_9 =  0.0000000000000000,\t fx_9 = -2.0000000000000000\n",
      "x_10 =  0.0000000000000000,\t fx_10 = -2.0000000000000000\n",
      "x_11 =  0.0000000000000000,\t fx_11 = -2.0000000000000000\n",
      "x_12 =  0.0000000000000000,\t fx_12 = -2.0000000000000000\n",
      "x_13 =  0.0000000000000000,\t fx_13 = -2.0000000000000000\n",
      "x_14 =  0.0000000000000000,\t fx_14 = -2.0000000000000000\n",
      "x_15 =  0.0000000000000000,\t fx_15 = -2.0000000000000000\n",
      "x_16 =  0.0000000000000000,\t fx_16 = -2.0000000000000000\n",
      "x_17 =  0.0000000000000000,\t fx_17 = -2.0000000000000000\n",
      "x_18 =  0.0000000000000000,\t fx_18 = -2.0000000000000000\n",
      "x_19 =  0.0000000000000000,\t fx_19 = -2.0000000000000000\n",
      "x_20 =  0.0000000000000000,\t fx_20 = -2.0000000000000000\n",
      "x_21 =  0.0000000000000000,\t fx_21 = -2.0000000000000000\n",
      "x_22 =  0.0000000000000000,\t fx_22 = -2.0000000000000000\n",
      "x_23 =  0.0000000000000000,\t fx_23 = -2.0000000000000000\n",
      "x_24 =  0.0000000000000000,\t fx_24 = -2.0000000000000000\n",
      "x_25 =  0.0000000000000000,\t fx_25 = -2.0000000000000000\n",
      "x_26 =  0.0000000000000000,\t fx_26 = -2.0000000000000000\n",
      "x_27 =  0.0000000000000000,\t fx_27 = -2.0000000000000000\n",
      "x_28 =  0.0000000000000000,\t fx_28 = -2.0000000000000000\n",
      "x_29 =  0.0000000000000000,\t fx_29 = -2.0000000000000000\n",
      "x_30 =  0.0000000000000000,\t fx_30 = -2.0000000000000000\n",
      "x_31 =  0.0000000000000000,\t fx_31 = -2.0000000000000000\n",
      "x_32 =  0.0000000000000000,\t fx_32 = -2.0000000000000000\n",
      "x_33 =  0.0000000000000000,\t fx_33 = -2.0000000000000000\n",
      "x_34 =  0.0000000000000000,\t fx_34 = -2.0000000000000000\n",
      "x_35 =  0.0000000000000000,\t fx_35 = -2.0000000000000000\n",
      "x_36 =  0.0000000000000000,\t fx_36 = -2.0000000000000000\n",
      "x_37 =  0.0000000000000000,\t fx_37 = -2.0000000000000000\n",
      "x_38 =  0.0000000000000000,\t fx_38 = -2.0000000000000000\n",
      "x_39 =  0.0000000000000000,\t fx_39 = -2.0000000000000000\n",
      "x_40 =  0.0000000000000000,\t fx_40 = -2.0000000000000000\n",
      "x_41 =  0.0000000000000000,\t fx_41 = -2.0000000000000000\n",
      "\n"
     ]
    },
    {
     "ename": "LoadError",
     "evalue": "Roots.ConvergenceFailed(\"Stopped at: xn = 0.0. Too many steps taken. \")",
     "output_type": "error",
     "traceback": [
      "Roots.ConvergenceFailed(\"Stopped at: xn = 0.0. Too many steps taken. \")",
      "",
      "Stacktrace:",
      " [1] find_zero(::Tuple{typeof(f),var\"#41#42\"{typeof(f)}}, ::Int64, ::Roots.Newton, ::Nothing; tracks::Roots.NullTracks, verbose::Bool, p::Nothing, kwargs::Base.Iterators.Pairs{Union{},Union{},Tuple{},NamedTuple{(),Tuple{}}}) at /srv/julia/pkg/packages/Roots/AV3zx/src/find_zero.jl:715",
      " [2] top-level scope at In[202]:1",
      " [3] include_string(::Function, ::Module, ::String, ::String) at ./loading.jl:1091"
     ]
    }
   ],
   "source": [
    "xn = find_zero((f, D(f)), 0, Roots.Newton(),verbose=true)"
   ]
  },
  {
   "cell_type": "markdown",
   "metadata": {},
   "source": [
    "#### Metoda siecznych może zawieść np kiedy funkcja w dwóch badanych punktach będzie miała równą wartość, wtedy sieczna nie przetnie osi OX i niemożliwe będzie wyznaczenie kolejnego punktu"
   ]
  },
  {
   "cell_type": "markdown",
   "metadata": {},
   "source": [
    "(Nie dałem rady uzyskać tego efektu)"
   ]
  }
 ],
 "metadata": {
  "kernelspec": {
   "display_name": "Julia 1.5.3",
   "language": "julia",
   "name": "julia-1.5"
  },
  "language_info": {
   "file_extension": ".jl",
   "mimetype": "application/julia",
   "name": "julia",
   "version": "1.5.3"
  }
 },
 "nbformat": 4,
 "nbformat_minor": 4
}
