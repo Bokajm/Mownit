{
 "cells": [
  {
   "cell_type": "markdown",
   "metadata": {},
   "source": [
    "# Lab. 2, Jakub Margol"
   ]
  },
  {
   "cell_type": "code",
   "execution_count": 234,
   "metadata": {},
   "outputs": [
    {
     "name": "stderr",
     "output_type": "stream",
     "text": [
      "\u001b[32m\u001b[1m  Resolving\u001b[22m\u001b[39m package versions...\n",
      "\u001b[32m\u001b[1mNo Changes\u001b[22m\u001b[39m to `C:\\Users\\ffaro\\.julia\\environments\\v1.5\\Project.toml`\n",
      "\u001b[32m\u001b[1mNo Changes\u001b[22m\u001b[39m to `C:\\Users\\ffaro\\.julia\\environments\\v1.5\\Manifest.toml`\n",
      "\u001b[32m\u001b[1m  Resolving\u001b[22m\u001b[39m package versions...\n",
      "\u001b[32m\u001b[1mNo Changes\u001b[22m\u001b[39m to `C:\\Users\\ffaro\\.julia\\environments\\v1.5\\Project.toml`\n",
      "\u001b[32m\u001b[1mNo Changes\u001b[22m\u001b[39m to `C:\\Users\\ffaro\\.julia\\environments\\v1.5\\Manifest.toml`\n",
      "\u001b[32m\u001b[1m  Resolving\u001b[22m\u001b[39m package versions...\n",
      "\u001b[32m\u001b[1mNo Changes\u001b[22m\u001b[39m to `C:\\Users\\ffaro\\.julia\\environments\\v1.5\\Project.toml`\n",
      "\u001b[32m\u001b[1mNo Changes\u001b[22m\u001b[39m to `C:\\Users\\ffaro\\.julia\\environments\\v1.5\\Manifest.toml`\n"
     ]
    }
   ],
   "source": [
    "using Pkg\n",
    "Pkg.add(\"CSV\")\n",
    "Pkg.add(\"DataFrames\")\n",
    "Pkg.add(\"Plots\")\n",
    "using LinearAlgebra\n",
    "using CSV, DataFrames\n",
    "using DelimitedFiles\n",
    "using Statistics\n",
    "using Plots"
   ]
  },
  {
   "cell_type": "markdown",
   "metadata": {},
   "source": [
    "W celu sprawdzenia czasu działania funkcji będziemy wywoływać je na losowo wybranych wektorach.\n",
    "Dla każdego rozmiaru wektora wykonamy 10 różnych pomiarów.\n",
    "\n",
    "Wykonamy pomiary dla wektorów rozmiarów: 10, 20, 30 i 40\n",
    "\n",
    "Wyniki pomiarów będziemy przechowywać w osobnej tablicy dla każdego rozmiaru wektora."
   ]
  },
  {
   "cell_type": "code",
   "execution_count": 334,
   "metadata": {
    "scrolled": true
   },
   "outputs": [
    {
     "data": {
      "text/plain": [
       "10-element Array{Any,1}:\n",
       " 7.7e-6\n",
       " 2.401e-6\n",
       " 7.0e-7\n",
       " 5.99e-7\n",
       " 5.0e-7\n",
       " 7.0e-7\n",
       " 4.99e-7\n",
       " 3.99e-7\n",
       " 3.99e-7\n",
       " 3.99e-7"
      ]
     },
     "execution_count": 334,
     "metadata": {},
     "output_type": "execute_result"
    }
   ],
   "source": [
    "vectors = []\n",
    "\n",
    "for n in 1:11\n",
    "   push!(vectors, rand(1:30, 10)) \n",
    "end\n",
    "\n",
    "timesVec10 = []\n",
    "\n",
    "for n in 1:10\n",
    "    push!(timesVec10, (@timed dot(vectors[n], vectors[n+1])).time)\n",
    "end\n",
    "\n",
    "timesVec10"
   ]
  },
  {
   "cell_type": "code",
   "execution_count": 335,
   "metadata": {},
   "outputs": [
    {
     "data": {
      "text/plain": [
       "10-element Array{Any,1}:\n",
       " 6.0e-6\n",
       " 8.01e-7\n",
       " 7.0e-7\n",
       " 8.0e-7\n",
       " 5.0e-7\n",
       " 4.99e-7\n",
       " 5.01e-7\n",
       " 8.01e-7\n",
       " 2.8e-6\n",
       " 6.01e-7"
      ]
     },
     "execution_count": 335,
     "metadata": {},
     "output_type": "execute_result"
    }
   ],
   "source": [
    "vectors = []\n",
    "\n",
    "for n in 1:11\n",
    "   push!(vectors, rand(1:30, 20)) \n",
    "end\n",
    "\n",
    "timesVec20 = []\n",
    "\n",
    "for n in 1:10\n",
    "    push!(timesVec20, (@timed dot(vectors[n], vectors[n+1])).time)\n",
    "end\n",
    "\n",
    "timesVec20"
   ]
  },
  {
   "cell_type": "code",
   "execution_count": 336,
   "metadata": {},
   "outputs": [
    {
     "data": {
      "text/plain": [
       "10-element Array{Any,1}:\n",
       " 5.299e-6\n",
       " 2.2e-6\n",
       " 5.99e-7\n",
       " 4.99e-7\n",
       " 5.99e-7\n",
       " 5.01e-7\n",
       " 4.01e-7\n",
       " 4.0e-7\n",
       " 3.99e-7\n",
       " 4.99e-7"
      ]
     },
     "execution_count": 336,
     "metadata": {},
     "output_type": "execute_result"
    }
   ],
   "source": [
    "vectors = []\n",
    "\n",
    "for n in 1:11\n",
    "   push!(vectors, rand(1:30, 30)) \n",
    "end\n",
    "\n",
    "timesVec30 = []\n",
    "\n",
    "for n in 1:10\n",
    "    push!(timesVec30, (@timed dot(vectors[n], vectors[n+1])).time)\n",
    "end\n",
    "\n",
    "timesVec30"
   ]
  },
  {
   "cell_type": "code",
   "execution_count": 337,
   "metadata": {},
   "outputs": [
    {
     "data": {
      "text/plain": [
       "10-element Array{Any,1}:\n",
       " 7.1e-6\n",
       " 8.0e-7\n",
       " 1.2e-6\n",
       " 6.0e-7\n",
       " 6.99e-7\n",
       " 6.01e-7\n",
       " 7.0e-7\n",
       " 1.001e-6\n",
       " 6.0e-7\n",
       " 6.0e-7"
      ]
     },
     "execution_count": 337,
     "metadata": {},
     "output_type": "execute_result"
    }
   ],
   "source": [
    "vectors = []\n",
    "\n",
    "for n in 1:11\n",
    "   push!(vectors, rand(1:30, 40)) \n",
    "end\n",
    "\n",
    "timesVec40 = []\n",
    "\n",
    "for n in 1:10\n",
    "    push!(timesVec40, (@timed dot(vectors[n], vectors[n+1])).time)\n",
    "end\n",
    "\n",
    "timesVec40"
   ]
  },
  {
   "cell_type": "markdown",
   "metadata": {},
   "source": [
    "---------------------------------------------------"
   ]
  },
  {
   "cell_type": "markdown",
   "metadata": {},
   "source": [
    "Następnie podobne pomiary wykonamy dla mnożenia macierzy przez wektor - wektor będzie stały w każdym przypadku, natomiast wartości macierzy będą losowe.\n",
    "\n",
    "Wykonamy pomiary dla takich samych rozmiarów wekrtora/macierzy jak dla iloczynu skalarnego - 10, 20, 30 i 40."
   ]
  },
  {
   "cell_type": "code",
   "execution_count": 338,
   "metadata": {},
   "outputs": [
    {
     "data": {
      "text/plain": [
       "10-element Array{Any,1}:\n",
       " 1.5499e-5\n",
       " 1.2e-6\n",
       " 7.99e-7\n",
       " 8.0e-7\n",
       " 6.01e-7\n",
       " 7.0e-7\n",
       " 6.0e-7\n",
       " 6.99e-7\n",
       " 6.99e-7\n",
       " 8.01e-7"
      ]
     },
     "execution_count": 338,
     "metadata": {},
     "output_type": "execute_result"
    }
   ],
   "source": [
    "vector10 = rand(1:30, 10)\n",
    "\n",
    "mats10 = []\n",
    "\n",
    "for n in 1:10\n",
    "    push!(mats10, rand(1:10, 10, 10))\n",
    "end\n",
    "\n",
    "timesMat10 = []\n",
    "\n",
    "for n in 1:10\n",
    "    push!(timesMat10, (@timed mats10[n] * vector10).time)\n",
    "end\n",
    "\n",
    "timesMat10"
   ]
  },
  {
   "cell_type": "code",
   "execution_count": 340,
   "metadata": {},
   "outputs": [
    {
     "data": {
      "text/plain": [
       "10-element Array{Any,1}:\n",
       " 9.2e-6\n",
       " 1.5e-6\n",
       " 1.3e-6\n",
       " 1.299e-6\n",
       " 1.2e-6\n",
       " 1.001e-6\n",
       " 1.0e-6\n",
       " 1.099e-6\n",
       " 1.0e-6\n",
       " 1.001e-6"
      ]
     },
     "execution_count": 340,
     "metadata": {},
     "output_type": "execute_result"
    }
   ],
   "source": [
    "vector20 = rand(1:30, 20)\n",
    "\n",
    "mats20 = []\n",
    "\n",
    "for n in 1:10\n",
    "    push!(mats20, rand(1:10, 20, 20))\n",
    "end\n",
    "\n",
    "timesMat20 = []\n",
    "\n",
    "for n in 1:10\n",
    "    push!(timesMat20, (@timed mats20[n] * vector20).time)\n",
    "end\n",
    "\n",
    "timesMat20"
   ]
  },
  {
   "cell_type": "code",
   "execution_count": 341,
   "metadata": {},
   "outputs": [
    {
     "data": {
      "text/plain": [
       "10-element Array{Any,1}:\n",
       " 1.1899e-5\n",
       " 2.5e-6\n",
       " 2.1e-6\n",
       " 2.6e-6\n",
       " 2.1e-6\n",
       " 2.199e-6\n",
       " 2.4e-6\n",
       " 2.3e-6\n",
       " 2.2e-6\n",
       " 2.1e-6"
      ]
     },
     "execution_count": 341,
     "metadata": {},
     "output_type": "execute_result"
    }
   ],
   "source": [
    "vector30 = rand(1:30, 30)\n",
    "\n",
    "mats30 = []\n",
    "\n",
    "for n in 1:10\n",
    "    push!(mats30, rand(1:10, 30, 30))\n",
    "end\n",
    "\n",
    "timesMat30 = []\n",
    "\n",
    "for n in 1:10\n",
    "    push!(timesMat30, (@timed mats30[n] * vector30).time)\n",
    "end\n",
    "\n",
    "timesMat30"
   ]
  },
  {
   "cell_type": "code",
   "execution_count": 342,
   "metadata": {},
   "outputs": [
    {
     "data": {
      "text/plain": [
       "10-element Array{Any,1}:\n",
       " 1.9899e-5\n",
       " 4.001e-6\n",
       " 3.099e-6\n",
       " 3.3e-6\n",
       " 3.399e-6\n",
       " 3.0e-6\n",
       " 3.001e-6\n",
       " 3.199e-6\n",
       " 3.0e-6\n",
       " 3.101e-6"
      ]
     },
     "execution_count": 342,
     "metadata": {},
     "output_type": "execute_result"
    }
   ],
   "source": [
    "vector40 = rand(1:30, 40)\n",
    "\n",
    "mats40 = []\n",
    "\n",
    "for n in 1:10\n",
    "    push!(mats40, rand(1:10, 40, 40))\n",
    "end\n",
    "\n",
    "timesMat40 = []\n",
    "\n",
    "for n in 1:10\n",
    "    push!(timesMat40, (@timed mats40[n] * vector40).time)\n",
    "end\n",
    "\n",
    "timesMat40"
   ]
  },
  {
   "cell_type": "markdown",
   "metadata": {},
   "source": [
    "Następnie zapiszemy wszystkie wyniki do jednej macierzy, którą transponujemy dla wygodniejszej ich obsługi."
   ]
  },
  {
   "cell_type": "code",
   "execution_count": 343,
   "metadata": {},
   "outputs": [
    {
     "data": {
      "text/plain": [
       "8×10 Array{Float64,2}:\n",
       " 7.7e-6     2.401e-6  7.0e-7    5.99e-7   …  3.99e-7   3.99e-7  3.99e-7\n",
       " 6.0e-6     8.01e-7   7.0e-7    8.0e-7       8.01e-7   2.8e-6   6.01e-7\n",
       " 5.299e-6   2.2e-6    5.99e-7   4.99e-7      4.0e-7    3.99e-7  4.99e-7\n",
       " 7.1e-6     8.0e-7    1.2e-6    6.0e-7       1.001e-6  6.0e-7   6.0e-7\n",
       " 1.5499e-5  1.2e-6    7.99e-7   8.0e-7       6.99e-7   6.99e-7  8.01e-7\n",
       " 9.2e-6     1.5e-6    1.3e-6    1.299e-6  …  1.099e-6  1.0e-6   1.001e-6\n",
       " 1.1899e-5  2.5e-6    2.1e-6    2.6e-6       2.3e-6    2.2e-6   2.1e-6\n",
       " 1.9899e-5  4.001e-6  3.099e-6  3.3e-6       3.199e-6  3.0e-6   3.101e-6"
      ]
     },
     "execution_count": 343,
     "metadata": {},
     "output_type": "execute_result"
    }
   ],
   "source": [
    "Tab = [timesVec10, timesVec20, timesVec30, timesVec40, timesMat10, timesMat20, timesMat30, timesMat40]\n",
    "Tab = permutedims(reshape(hcat(Tab...), (length(Tab[1]), length(Tab))))"
   ]
  },
  {
   "cell_type": "code",
   "execution_count": 344,
   "metadata": {},
   "outputs": [
    {
     "data": {
      "text/plain": [
       "10×8 Transpose{Float64,Array{Float64,2}}:\n",
       " 7.7e-6    6.0e-6   5.299e-6  7.1e-6    …  9.2e-6    1.1899e-5  1.9899e-5\n",
       " 2.401e-6  8.01e-7  2.2e-6    8.0e-7       1.5e-6    2.5e-6     4.001e-6\n",
       " 7.0e-7    7.0e-7   5.99e-7   1.2e-6       1.3e-6    2.1e-6     3.099e-6\n",
       " 5.99e-7   8.0e-7   4.99e-7   6.0e-7       1.299e-6  2.6e-6     3.3e-6\n",
       " 5.0e-7    5.0e-7   5.99e-7   6.99e-7      1.2e-6    2.1e-6     3.399e-6\n",
       " 7.0e-7    4.99e-7  5.01e-7   6.01e-7   …  1.001e-6  2.199e-6   3.0e-6\n",
       " 4.99e-7   5.01e-7  4.01e-7   7.0e-7       1.0e-6    2.4e-6     3.001e-6\n",
       " 3.99e-7   8.01e-7  4.0e-7    1.001e-6     1.099e-6  2.3e-6     3.199e-6\n",
       " 3.99e-7   2.8e-6   3.99e-7   6.0e-7       1.0e-6    2.2e-6     3.0e-6\n",
       " 3.99e-7   6.01e-7  4.99e-7   6.0e-7       1.001e-6  2.1e-6     3.101e-6"
      ]
     },
     "execution_count": 344,
     "metadata": {},
     "output_type": "execute_result"
    }
   ],
   "source": [
    "Tab = transpose(Tab)\n",
    "Tab"
   ]
  },
  {
   "cell_type": "markdown",
   "metadata": {},
   "source": [
    "Zamienimy macierz na typ DataFrame, by móc w łatwy sposób nadać orientacyjne nazwy dla kolumn,\n",
    "nazwy składają się z litery informującej czy operacja była mnożeniem wektora przez wektor czy przez macierz oraz z liczby informującej o rozmiarze wektora/macierzy."
   ]
  },
  {
   "cell_type": "code",
   "execution_count": 345,
   "metadata": {},
   "outputs": [
    {
     "data": {
      "text/html": [
       "<table class=\"data-frame\"><thead><tr><th></th><th>W10</th><th>W20</th><th>W30</th><th>W40</th><th>M10</th><th>M20</th><th>M30</th><th>M40</th></tr><tr><th></th><th>Float64</th><th>Float64</th><th>Float64</th><th>Float64</th><th>Float64</th><th>Float64</th><th>Float64</th><th>Float64</th></tr></thead><tbody><p>10 rows × 8 columns</p><tr><th>1</th><td>7.7e-6</td><td>6.0e-6</td><td>5.299e-6</td><td>7.1e-6</td><td>1.5499e-5</td><td>9.2e-6</td><td>1.1899e-5</td><td>1.9899e-5</td></tr><tr><th>2</th><td>2.401e-6</td><td>8.01e-7</td><td>2.2e-6</td><td>8.0e-7</td><td>1.2e-6</td><td>1.5e-6</td><td>2.5e-6</td><td>4.001e-6</td></tr><tr><th>3</th><td>7.0e-7</td><td>7.0e-7</td><td>5.99e-7</td><td>1.2e-6</td><td>7.99e-7</td><td>1.3e-6</td><td>2.1e-6</td><td>3.099e-6</td></tr><tr><th>4</th><td>5.99e-7</td><td>8.0e-7</td><td>4.99e-7</td><td>6.0e-7</td><td>8.0e-7</td><td>1.299e-6</td><td>2.6e-6</td><td>3.3e-6</td></tr><tr><th>5</th><td>5.0e-7</td><td>5.0e-7</td><td>5.99e-7</td><td>6.99e-7</td><td>6.01e-7</td><td>1.2e-6</td><td>2.1e-6</td><td>3.399e-6</td></tr><tr><th>6</th><td>7.0e-7</td><td>4.99e-7</td><td>5.01e-7</td><td>6.01e-7</td><td>7.0e-7</td><td>1.001e-6</td><td>2.199e-6</td><td>3.0e-6</td></tr><tr><th>7</th><td>4.99e-7</td><td>5.01e-7</td><td>4.01e-7</td><td>7.0e-7</td><td>6.0e-7</td><td>1.0e-6</td><td>2.4e-6</td><td>3.001e-6</td></tr><tr><th>8</th><td>3.99e-7</td><td>8.01e-7</td><td>4.0e-7</td><td>1.001e-6</td><td>6.99e-7</td><td>1.099e-6</td><td>2.3e-6</td><td>3.199e-6</td></tr><tr><th>9</th><td>3.99e-7</td><td>2.8e-6</td><td>3.99e-7</td><td>6.0e-7</td><td>6.99e-7</td><td>1.0e-6</td><td>2.2e-6</td><td>3.0e-6</td></tr><tr><th>10</th><td>3.99e-7</td><td>6.01e-7</td><td>4.99e-7</td><td>6.0e-7</td><td>8.01e-7</td><td>1.001e-6</td><td>2.1e-6</td><td>3.101e-6</td></tr></tbody></table>"
      ],
      "text/latex": [
       "\\begin{tabular}{r|cccccccc}\n",
       "\t& W10 & W20 & W30 & W40 & M10 & M20 & M30 & M40\\\\\n",
       "\t\\hline\n",
       "\t& Float64 & Float64 & Float64 & Float64 & Float64 & Float64 & Float64 & Float64\\\\\n",
       "\t\\hline\n",
       "\t1 & 7.7e-6 & 6.0e-6 & 5.299e-6 & 7.1e-6 & 1.5499e-5 & 9.2e-6 & 1.1899e-5 & 1.9899e-5 \\\\\n",
       "\t2 & 2.401e-6 & 8.01e-7 & 2.2e-6 & 8.0e-7 & 1.2e-6 & 1.5e-6 & 2.5e-6 & 4.001e-6 \\\\\n",
       "\t3 & 7.0e-7 & 7.0e-7 & 5.99e-7 & 1.2e-6 & 7.99e-7 & 1.3e-6 & 2.1e-6 & 3.099e-6 \\\\\n",
       "\t4 & 5.99e-7 & 8.0e-7 & 4.99e-7 & 6.0e-7 & 8.0e-7 & 1.299e-6 & 2.6e-6 & 3.3e-6 \\\\\n",
       "\t5 & 5.0e-7 & 5.0e-7 & 5.99e-7 & 6.99e-7 & 6.01e-7 & 1.2e-6 & 2.1e-6 & 3.399e-6 \\\\\n",
       "\t6 & 7.0e-7 & 4.99e-7 & 5.01e-7 & 6.01e-7 & 7.0e-7 & 1.001e-6 & 2.199e-6 & 3.0e-6 \\\\\n",
       "\t7 & 4.99e-7 & 5.01e-7 & 4.01e-7 & 7.0e-7 & 6.0e-7 & 1.0e-6 & 2.4e-6 & 3.001e-6 \\\\\n",
       "\t8 & 3.99e-7 & 8.01e-7 & 4.0e-7 & 1.001e-6 & 6.99e-7 & 1.099e-6 & 2.3e-6 & 3.199e-6 \\\\\n",
       "\t9 & 3.99e-7 & 2.8e-6 & 3.99e-7 & 6.0e-7 & 6.99e-7 & 1.0e-6 & 2.2e-6 & 3.0e-6 \\\\\n",
       "\t10 & 3.99e-7 & 6.01e-7 & 4.99e-7 & 6.0e-7 & 8.01e-7 & 1.001e-6 & 2.1e-6 & 3.101e-6 \\\\\n",
       "\\end{tabular}\n"
      ],
      "text/plain": [
       "\u001b[1m10×8 DataFrame\u001b[0m\n",
       "\u001b[1m Row \u001b[0m│\u001b[1m W10      \u001b[0m\u001b[1m W20     \u001b[0m\u001b[1m W30      \u001b[0m\u001b[1m W40      \u001b[0m\u001b[1m M10       \u001b[0m\u001b[1m M20      \u001b[0m\u001b[1m M30       \u001b[0m\u001b[1m \u001b[0m ⋯\n",
       "\u001b[1m     \u001b[0m│\u001b[90m Float64  \u001b[0m\u001b[90m Float64 \u001b[0m\u001b[90m Float64  \u001b[0m\u001b[90m Float64  \u001b[0m\u001b[90m Float64   \u001b[0m\u001b[90m Float64  \u001b[0m\u001b[90m Float64   \u001b[0m\u001b[90m \u001b[0m ⋯\n",
       "─────┼──────────────────────────────────────────────────────────────────────────\n",
       "   1 │ 7.7e-6    6.0e-6   5.299e-6  7.1e-6    1.5499e-5  9.2e-6    1.1899e-5   ⋯\n",
       "   2 │ 2.401e-6  8.01e-7  2.2e-6    8.0e-7    1.2e-6     1.5e-6    2.5e-6\n",
       "   3 │ 7.0e-7    7.0e-7   5.99e-7   1.2e-6    7.99e-7    1.3e-6    2.1e-6\n",
       "   4 │ 5.99e-7   8.0e-7   4.99e-7   6.0e-7    8.0e-7     1.299e-6  2.6e-6\n",
       "   5 │ 5.0e-7    5.0e-7   5.99e-7   6.99e-7   6.01e-7    1.2e-6    2.1e-6      ⋯\n",
       "   6 │ 7.0e-7    4.99e-7  5.01e-7   6.01e-7   7.0e-7     1.001e-6  2.199e-6\n",
       "   7 │ 4.99e-7   5.01e-7  4.01e-7   7.0e-7    6.0e-7     1.0e-6    2.4e-6\n",
       "   8 │ 3.99e-7   8.01e-7  4.0e-7    1.001e-6  6.99e-7    1.099e-6  2.3e-6\n",
       "   9 │ 3.99e-7   2.8e-6   3.99e-7   6.0e-7    6.99e-7    1.0e-6    2.2e-6      ⋯\n",
       "  10 │ 3.99e-7   6.01e-7  4.99e-7   6.0e-7    8.01e-7    1.001e-6  2.1e-6\n",
       "\u001b[36m                                                                1 column omitted\u001b[0m"
      ]
     },
     "execution_count": 345,
     "metadata": {},
     "output_type": "execute_result"
    }
   ],
   "source": [
    "Tab = convert(DataFrame, Tab)\n",
    "#colnames = [\"Wektory dł. 4\",\"Wektory dł. 40\",\"Wektory dł. 400\", \"Wektory dł. 4000\", \n",
    "#            \"Macierze st. 4\", \"Macierze st. 40\", \"Macierze st. 400\", \"Macierze st. 4000\"]\n",
    "\n",
    "colnames = [\"W10\",\"W20\",\"W30\", \"W40\", \n",
    "            \"M10\", \"M20\", \"M30\", \"M40\"]\n",
    "\n",
    "rename!(Tab, Symbol.(colnames))"
   ]
  },
  {
   "cell_type": "markdown",
   "metadata": {},
   "source": [
    "Zapiszemy wyniki do pliku CSV"
   ]
  },
  {
   "cell_type": "code",
   "execution_count": 346,
   "metadata": {},
   "outputs": [
    {
     "data": {
      "text/plain": [
       "\"Pomiary.csv\""
      ]
     },
     "execution_count": 346,
     "metadata": {},
     "output_type": "execute_result"
    }
   ],
   "source": [
    "CSV.write(\"Pomiary.csv\", Tab)"
   ]
  },
  {
   "cell_type": "markdown",
   "metadata": {},
   "source": [
    "Odczytujemy zawartość pliku, zgodnie z oczekiwaniami pozostała ona bez zmian"
   ]
  },
  {
   "cell_type": "code",
   "execution_count": 347,
   "metadata": {},
   "outputs": [
    {
     "data": {
      "text/html": [
       "<table class=\"data-frame\"><thead><tr><th></th><th>W10</th><th>W20</th><th>W30</th><th>W40</th><th>M10</th><th>M20</th><th>M30</th><th>M40</th></tr><tr><th></th><th>Float64</th><th>Float64</th><th>Float64</th><th>Float64</th><th>Float64</th><th>Float64</th><th>Float64</th><th>Float64</th></tr></thead><tbody><p>10 rows × 8 columns</p><tr><th>1</th><td>7.7e-6</td><td>6.0e-6</td><td>5.299e-6</td><td>7.1e-6</td><td>1.5499e-5</td><td>9.2e-6</td><td>1.1899e-5</td><td>1.9899e-5</td></tr><tr><th>2</th><td>2.401e-6</td><td>8.01e-7</td><td>2.2e-6</td><td>8.0e-7</td><td>1.2e-6</td><td>1.5e-6</td><td>2.5e-6</td><td>4.001e-6</td></tr><tr><th>3</th><td>7.0e-7</td><td>7.0e-7</td><td>5.99e-7</td><td>1.2e-6</td><td>7.99e-7</td><td>1.3e-6</td><td>2.1e-6</td><td>3.099e-6</td></tr><tr><th>4</th><td>5.99e-7</td><td>8.0e-7</td><td>4.99e-7</td><td>6.0e-7</td><td>8.0e-7</td><td>1.299e-6</td><td>2.6e-6</td><td>3.3e-6</td></tr><tr><th>5</th><td>5.0e-7</td><td>5.0e-7</td><td>5.99e-7</td><td>6.99e-7</td><td>6.01e-7</td><td>1.2e-6</td><td>2.1e-6</td><td>3.399e-6</td></tr><tr><th>6</th><td>7.0e-7</td><td>4.99e-7</td><td>5.01e-7</td><td>6.01e-7</td><td>7.0e-7</td><td>1.001e-6</td><td>2.199e-6</td><td>3.0e-6</td></tr><tr><th>7</th><td>4.99e-7</td><td>5.01e-7</td><td>4.01e-7</td><td>7.0e-7</td><td>6.0e-7</td><td>1.0e-6</td><td>2.4e-6</td><td>3.001e-6</td></tr><tr><th>8</th><td>3.99e-7</td><td>8.01e-7</td><td>4.0e-7</td><td>1.001e-6</td><td>6.99e-7</td><td>1.099e-6</td><td>2.3e-6</td><td>3.199e-6</td></tr><tr><th>9</th><td>3.99e-7</td><td>2.8e-6</td><td>3.99e-7</td><td>6.0e-7</td><td>6.99e-7</td><td>1.0e-6</td><td>2.2e-6</td><td>3.0e-6</td></tr><tr><th>10</th><td>3.99e-7</td><td>6.01e-7</td><td>4.99e-7</td><td>6.0e-7</td><td>8.01e-7</td><td>1.001e-6</td><td>2.1e-6</td><td>3.101e-6</td></tr></tbody></table>"
      ],
      "text/latex": [
       "\\begin{tabular}{r|cccccccc}\n",
       "\t& W10 & W20 & W30 & W40 & M10 & M20 & M30 & M40\\\\\n",
       "\t\\hline\n",
       "\t& Float64 & Float64 & Float64 & Float64 & Float64 & Float64 & Float64 & Float64\\\\\n",
       "\t\\hline\n",
       "\t1 & 7.7e-6 & 6.0e-6 & 5.299e-6 & 7.1e-6 & 1.5499e-5 & 9.2e-6 & 1.1899e-5 & 1.9899e-5 \\\\\n",
       "\t2 & 2.401e-6 & 8.01e-7 & 2.2e-6 & 8.0e-7 & 1.2e-6 & 1.5e-6 & 2.5e-6 & 4.001e-6 \\\\\n",
       "\t3 & 7.0e-7 & 7.0e-7 & 5.99e-7 & 1.2e-6 & 7.99e-7 & 1.3e-6 & 2.1e-6 & 3.099e-6 \\\\\n",
       "\t4 & 5.99e-7 & 8.0e-7 & 4.99e-7 & 6.0e-7 & 8.0e-7 & 1.299e-6 & 2.6e-6 & 3.3e-6 \\\\\n",
       "\t5 & 5.0e-7 & 5.0e-7 & 5.99e-7 & 6.99e-7 & 6.01e-7 & 1.2e-6 & 2.1e-6 & 3.399e-6 \\\\\n",
       "\t6 & 7.0e-7 & 4.99e-7 & 5.01e-7 & 6.01e-7 & 7.0e-7 & 1.001e-6 & 2.199e-6 & 3.0e-6 \\\\\n",
       "\t7 & 4.99e-7 & 5.01e-7 & 4.01e-7 & 7.0e-7 & 6.0e-7 & 1.0e-6 & 2.4e-6 & 3.001e-6 \\\\\n",
       "\t8 & 3.99e-7 & 8.01e-7 & 4.0e-7 & 1.001e-6 & 6.99e-7 & 1.099e-6 & 2.3e-6 & 3.199e-6 \\\\\n",
       "\t9 & 3.99e-7 & 2.8e-6 & 3.99e-7 & 6.0e-7 & 6.99e-7 & 1.0e-6 & 2.2e-6 & 3.0e-6 \\\\\n",
       "\t10 & 3.99e-7 & 6.01e-7 & 4.99e-7 & 6.0e-7 & 8.01e-7 & 1.001e-6 & 2.1e-6 & 3.101e-6 \\\\\n",
       "\\end{tabular}\n"
      ],
      "text/plain": [
       "\u001b[1m10×8 DataFrame\u001b[0m\n",
       "\u001b[1m Row \u001b[0m│\u001b[1m W10      \u001b[0m\u001b[1m W20     \u001b[0m\u001b[1m W30      \u001b[0m\u001b[1m W40      \u001b[0m\u001b[1m M10       \u001b[0m\u001b[1m M20      \u001b[0m\u001b[1m M30       \u001b[0m\u001b[1m \u001b[0m ⋯\n",
       "\u001b[1m     \u001b[0m│\u001b[90m Float64  \u001b[0m\u001b[90m Float64 \u001b[0m\u001b[90m Float64  \u001b[0m\u001b[90m Float64  \u001b[0m\u001b[90m Float64   \u001b[0m\u001b[90m Float64  \u001b[0m\u001b[90m Float64   \u001b[0m\u001b[90m \u001b[0m ⋯\n",
       "─────┼──────────────────────────────────────────────────────────────────────────\n",
       "   1 │ 7.7e-6    6.0e-6   5.299e-6  7.1e-6    1.5499e-5  9.2e-6    1.1899e-5   ⋯\n",
       "   2 │ 2.401e-6  8.01e-7  2.2e-6    8.0e-7    1.2e-6     1.5e-6    2.5e-6\n",
       "   3 │ 7.0e-7    7.0e-7   5.99e-7   1.2e-6    7.99e-7    1.3e-6    2.1e-6\n",
       "   4 │ 5.99e-7   8.0e-7   4.99e-7   6.0e-7    8.0e-7     1.299e-6  2.6e-6\n",
       "   5 │ 5.0e-7    5.0e-7   5.99e-7   6.99e-7   6.01e-7    1.2e-6    2.1e-6      ⋯\n",
       "   6 │ 7.0e-7    4.99e-7  5.01e-7   6.01e-7   7.0e-7     1.001e-6  2.199e-6\n",
       "   7 │ 4.99e-7   5.01e-7  4.01e-7   7.0e-7    6.0e-7     1.0e-6    2.4e-6\n",
       "   8 │ 3.99e-7   8.01e-7  4.0e-7    1.001e-6  6.99e-7    1.099e-6  2.3e-6\n",
       "   9 │ 3.99e-7   2.8e-6   3.99e-7   6.0e-7    6.99e-7    1.0e-6    2.2e-6      ⋯\n",
       "  10 │ 3.99e-7   6.01e-7  4.99e-7   6.0e-7    8.01e-7    1.001e-6  2.1e-6\n",
       "\u001b[36m                                                                1 column omitted\u001b[0m"
      ]
     },
     "execution_count": 347,
     "metadata": {},
     "output_type": "execute_result"
    }
   ],
   "source": [
    "input=\"Pomiary.csv\"\n",
    "pomiary=CSV.read(input, delim=\",\",DataFrame)"
   ]
  },
  {
   "cell_type": "code",
   "execution_count": 348,
   "metadata": {},
   "outputs": [
    {
     "name": "stdout",
     "output_type": "stream",
     "text": [
      "\u001b[1m10×4 DataFrame\u001b[0m\n",
      "\u001b[1m Row \u001b[0m│\u001b[1m W10      \u001b[0m\u001b[1m W20     \u001b[0m\u001b[1m W30      \u001b[0m\u001b[1m W40      \u001b[0m\n",
      "\u001b[1m     \u001b[0m│\u001b[90m Float64  \u001b[0m\u001b[90m Float64 \u001b[0m\u001b[90m Float64  \u001b[0m\u001b[90m Float64  \u001b[0m\n",
      "─────┼───────────────────────────────────────\n",
      "   1 │ 7.7e-6    6.0e-6   5.299e-6  7.1e-6\n",
      "   2 │ 2.401e-6  8.01e-7  2.2e-6    8.0e-7\n",
      "   3 │ 7.0e-7    7.0e-7   5.99e-7   1.2e-6\n",
      "   4 │ 5.99e-7   8.0e-7   4.99e-7   6.0e-7\n",
      "   5 │ 5.0e-7    5.0e-7   5.99e-7   6.99e-7\n",
      "   6 │ 7.0e-7    4.99e-7  5.01e-7   6.01e-7\n",
      "   7 │ 4.99e-7   5.01e-7  4.01e-7   7.0e-7\n",
      "   8 │ 3.99e-7   8.01e-7  4.0e-7    1.001e-6\n",
      "   9 │ 3.99e-7   2.8e-6   3.99e-7   6.0e-7\n",
      "  10 │ 3.99e-7   6.01e-7  4.99e-7   6.0e-7"
     ]
    }
   ],
   "source": [
    "show(pomiary[!,1:4])"
   ]
  },
  {
   "cell_type": "code",
   "execution_count": 349,
   "metadata": {},
   "outputs": [
    {
     "name": "stdout",
     "output_type": "stream",
     "text": [
      "\u001b[1m10×4 DataFrame\u001b[0m\n",
      "\u001b[1m Row \u001b[0m│\u001b[1m M10       \u001b[0m\u001b[1m M20      \u001b[0m\u001b[1m M30       \u001b[0m\u001b[1m M40       \u001b[0m\n",
      "\u001b[1m     \u001b[0m│\u001b[90m Float64   \u001b[0m\u001b[90m Float64  \u001b[0m\u001b[90m Float64   \u001b[0m\u001b[90m Float64   \u001b[0m\n",
      "─────┼───────────────────────────────────────────\n",
      "   1 │ 1.5499e-5  9.2e-6    1.1899e-5  1.9899e-5\n",
      "   2 │ 1.2e-6     1.5e-6    2.5e-6     4.001e-6\n",
      "   3 │ 7.99e-7    1.3e-6    2.1e-6     3.099e-6\n",
      "   4 │ 8.0e-7     1.299e-6  2.6e-6     3.3e-6\n",
      "   5 │ 6.01e-7    1.2e-6    2.1e-6     3.399e-6\n",
      "   6 │ 7.0e-7     1.001e-6  2.199e-6   3.0e-6\n",
      "   7 │ 6.0e-7     1.0e-6    2.4e-6     3.001e-6\n",
      "   8 │ 6.99e-7    1.099e-6  2.3e-6     3.199e-6\n",
      "   9 │ 6.99e-7    1.0e-6    2.2e-6     3.0e-6\n",
      "  10 │ 8.01e-7    1.001e-6  2.1e-6     3.101e-6"
     ]
    }
   ],
   "source": [
    "show(pomiary[!,5:8])"
   ]
  },
  {
   "cell_type": "code",
   "execution_count": 350,
   "metadata": {},
   "outputs": [
    {
     "name": "stdout",
     "output_type": "stream",
     "text": [
      "\u001b[1m10×8 DataFrame\u001b[0m\n",
      "\u001b[1m Row \u001b[0m│\u001b[1m W10      \u001b[0m\u001b[1m W20     \u001b[0m\u001b[1m W30      \u001b[0m\u001b[1m W40      \u001b[0m\u001b[1m M10       \u001b[0m\u001b[1m M20      \u001b[0m\u001b[1m M30       \u001b[0m\u001b[1m \u001b[0m ⋯\n",
      "\u001b[1m     \u001b[0m│\u001b[90m Float64  \u001b[0m\u001b[90m Float64 \u001b[0m\u001b[90m Float64  \u001b[0m\u001b[90m Float64  \u001b[0m\u001b[90m Float64   \u001b[0m\u001b[90m Float64  \u001b[0m\u001b[90m Float64   \u001b[0m\u001b[90m \u001b[0m ⋯\n",
      "─────┼──────────────────────────────────────────────────────────────────────────\n",
      "   1 │ 7.7e-6    6.0e-6   5.299e-6  7.1e-6    1.5499e-5  9.2e-6    1.1899e-5   ⋯\n",
      "   2 │ 2.401e-6  8.01e-7  2.2e-6    8.0e-7    1.2e-6     1.5e-6    2.5e-6\n",
      "   3 │ 7.0e-7    7.0e-7   5.99e-7   1.2e-6    7.99e-7    1.3e-6    2.1e-6\n",
      "   4 │ 5.99e-7   8.0e-7   4.99e-7   6.0e-7    8.0e-7     1.299e-6  2.6e-6\n",
      "   5 │ 5.0e-7    5.0e-7   5.99e-7   6.99e-7   6.01e-7    1.2e-6    2.1e-6      ⋯\n",
      "   6 │ 7.0e-7    4.99e-7  5.01e-7   6.01e-7   7.0e-7     1.001e-6  2.199e-6\n",
      "   7 │ 4.99e-7   5.01e-7  4.01e-7   7.0e-7    6.0e-7     1.0e-6    2.4e-6\n",
      "   8 │ 3.99e-7   8.01e-7  4.0e-7    1.001e-6  6.99e-7    1.099e-6  2.3e-6\n",
      "   9 │ 3.99e-7   2.8e-6   3.99e-7   6.0e-7    6.99e-7    1.0e-6    2.2e-6      ⋯\n",
      "  10 │ 3.99e-7   6.01e-7  4.99e-7   6.0e-7    8.01e-7    1.001e-6  2.1e-6\n",
      "\u001b[36m                                                                1 column omitted\u001b[0m"
     ]
    }
   ],
   "source": [
    "show(pomiary)"
   ]
  },
  {
   "cell_type": "markdown",
   "metadata": {},
   "source": [
    "By stworzyć DateFrame z potrzebnymi nam wartościami zmodyfikujemy wynik funkcji describe"
   ]
  },
  {
   "cell_type": "code",
   "execution_count": 352,
   "metadata": {},
   "outputs": [
    {
     "data": {
      "text/html": [
       "<table class=\"data-frame\"><thead><tr><th></th><th>variable</th><th>mean</th><th>min</th><th>median</th><th>max</th><th>nmissing</th><th>eltype</th></tr><tr><th></th><th>Symbol</th><th>Float64</th><th>Float64</th><th>Float64</th><th>Float64</th><th>Int64</th><th>DataType</th></tr></thead><tbody><p>8 rows × 7 columns</p><tr><th>1</th><td>W10</td><td>1.4296e-6</td><td>3.99e-7</td><td>5.495e-7</td><td>7.7e-6</td><td>0</td><td>Float64</td></tr><tr><th>2</th><td>W20</td><td>1.4003e-6</td><td>4.99e-7</td><td>7.5e-7</td><td>6.0e-6</td><td>0</td><td>Float64</td></tr><tr><th>3</th><td>W30</td><td>1.1396e-6</td><td>3.99e-7</td><td>5.0e-7</td><td>5.299e-6</td><td>0</td><td>Float64</td></tr><tr><th>4</th><td>W40</td><td>1.3901e-6</td><td>6.0e-7</td><td>6.995e-7</td><td>7.1e-6</td><td>0</td><td>Float64</td></tr><tr><th>5</th><td>M10</td><td>2.2398e-6</td><td>6.0e-7</td><td>7.495e-7</td><td>1.5499e-5</td><td>0</td><td>Float64</td></tr><tr><th>6</th><td>M20</td><td>1.96e-6</td><td>1.0e-6</td><td>1.1495e-6</td><td>9.2e-6</td><td>0</td><td>Float64</td></tr><tr><th>7</th><td>M30</td><td>3.2398e-6</td><td>2.1e-6</td><td>2.25e-6</td><td>1.1899e-5</td><td>0</td><td>Float64</td></tr><tr><th>8</th><td>M40</td><td>4.8999e-6</td><td>3.0e-6</td><td>3.15e-6</td><td>1.9899e-5</td><td>0</td><td>Float64</td></tr></tbody></table>"
      ],
      "text/latex": [
       "\\begin{tabular}{r|ccccccc}\n",
       "\t& variable & mean & min & median & max & nmissing & eltype\\\\\n",
       "\t\\hline\n",
       "\t& Symbol & Float64 & Float64 & Float64 & Float64 & Int64 & DataType\\\\\n",
       "\t\\hline\n",
       "\t1 & W10 & 1.4296e-6 & 3.99e-7 & 5.495e-7 & 7.7e-6 & 0 & Float64 \\\\\n",
       "\t2 & W20 & 1.4003e-6 & 4.99e-7 & 7.5e-7 & 6.0e-6 & 0 & Float64 \\\\\n",
       "\t3 & W30 & 1.1396e-6 & 3.99e-7 & 5.0e-7 & 5.299e-6 & 0 & Float64 \\\\\n",
       "\t4 & W40 & 1.3901e-6 & 6.0e-7 & 6.995e-7 & 7.1e-6 & 0 & Float64 \\\\\n",
       "\t5 & M10 & 2.2398e-6 & 6.0e-7 & 7.495e-7 & 1.5499e-5 & 0 & Float64 \\\\\n",
       "\t6 & M20 & 1.96e-6 & 1.0e-6 & 1.1495e-6 & 9.2e-6 & 0 & Float64 \\\\\n",
       "\t7 & M30 & 3.2398e-6 & 2.1e-6 & 2.25e-6 & 1.1899e-5 & 0 & Float64 \\\\\n",
       "\t8 & M40 & 4.8999e-6 & 3.0e-6 & 3.15e-6 & 1.9899e-5 & 0 & Float64 \\\\\n",
       "\\end{tabular}\n"
      ],
      "text/plain": [
       "\u001b[1m8×7 DataFrame\u001b[0m\n",
       "\u001b[1m Row \u001b[0m│\u001b[1m variable \u001b[0m\u001b[1m mean      \u001b[0m\u001b[1m min     \u001b[0m\u001b[1m median    \u001b[0m\u001b[1m max       \u001b[0m\u001b[1m nmissing \u001b[0m\u001b[1m eltype   \u001b[0m\n",
       "\u001b[1m     \u001b[0m│\u001b[90m Symbol   \u001b[0m\u001b[90m Float64   \u001b[0m\u001b[90m Float64 \u001b[0m\u001b[90m Float64   \u001b[0m\u001b[90m Float64   \u001b[0m\u001b[90m Int64    \u001b[0m\u001b[90m DataType \u001b[0m\n",
       "─────┼────────────────────────────────────────────────────────────────────────\n",
       "   1 │ W10       1.4296e-6  3.99e-7  5.495e-7   7.7e-6            0  Float64\n",
       "   2 │ W20       1.4003e-6  4.99e-7  7.5e-7     6.0e-6            0  Float64\n",
       "   3 │ W30       1.1396e-6  3.99e-7  5.0e-7     5.299e-6          0  Float64\n",
       "   4 │ W40       1.3901e-6  6.0e-7   6.995e-7   7.1e-6            0  Float64\n",
       "   5 │ M10       2.2398e-6  6.0e-7   7.495e-7   1.5499e-5         0  Float64\n",
       "   6 │ M20       1.96e-6    1.0e-6   1.1495e-6  9.2e-6            0  Float64\n",
       "   7 │ M30       3.2398e-6  2.1e-6   2.25e-6    1.1899e-5         0  Float64\n",
       "   8 │ M40       4.8999e-6  3.0e-6   3.15e-6    1.9899e-5         0  Float64"
      ]
     },
     "execution_count": 352,
     "metadata": {},
     "output_type": "execute_result"
    }
   ],
   "source": [
    "result = describe(pomiary)"
   ]
  },
  {
   "cell_type": "markdown",
   "metadata": {},
   "source": [
    "Zachowujemy średnią oraz dodajemy rozmiar wektora, odchylenie standardowe i rozróżnienie operacji."
   ]
  },
  {
   "cell_type": "code",
   "execution_count": 354,
   "metadata": {},
   "outputs": [
    {
     "data": {
      "text/html": [
       "<table class=\"data-frame\"><thead><tr><th></th><th>variable</th><th>mean</th><th>std</th><th>rozmiar</th><th>type</th></tr><tr><th></th><th>Symbol</th><th>Float64</th><th>Float64</th><th>Int64</th><th>String</th></tr></thead><tbody><p>8 rows × 5 columns</p><tr><th>1</th><td>W10</td><td>1.4296e-6</td><td>2.28358e-6</td><td>10</td><td>W</td></tr><tr><th>2</th><td>W20</td><td>1.4003e-6</td><td>1.75613e-6</td><td>20</td><td>W</td></tr><tr><th>3</th><td>W30</td><td>1.1396e-6</td><td>1.55917e-6</td><td>30</td><td>W</td></tr><tr><th>4</th><td>W40</td><td>1.3901e-6</td><td>2.01627e-6</td><td>40</td><td>W</td></tr><tr><th>5</th><td>M10</td><td>2.2398e-6</td><td>4.66191e-6</td><td>10</td><td>M</td></tr><tr><th>6</th><td>M20</td><td>1.96e-6</td><td>2.54958e-6</td><td>20</td><td>M</td></tr><tr><th>7</th><td>M30</td><td>3.2398e-6</td><td>3.04756e-6</td><td>30</td><td>M</td></tr><tr><th>8</th><td>M40</td><td>4.8999e-6</td><td>5.27879e-6</td><td>40</td><td>M</td></tr></tbody></table>"
      ],
      "text/latex": [
       "\\begin{tabular}{r|ccccc}\n",
       "\t& variable & mean & std & rozmiar & type\\\\\n",
       "\t\\hline\n",
       "\t& Symbol & Float64 & Float64 & Int64 & String\\\\\n",
       "\t\\hline\n",
       "\t1 & W10 & 1.4296e-6 & 2.28358e-6 & 10 & W \\\\\n",
       "\t2 & W20 & 1.4003e-6 & 1.75613e-6 & 20 & W \\\\\n",
       "\t3 & W30 & 1.1396e-6 & 1.55917e-6 & 30 & W \\\\\n",
       "\t4 & W40 & 1.3901e-6 & 2.01627e-6 & 40 & W \\\\\n",
       "\t5 & M10 & 2.2398e-6 & 4.66191e-6 & 10 & M \\\\\n",
       "\t6 & M20 & 1.96e-6 & 2.54958e-6 & 20 & M \\\\\n",
       "\t7 & M30 & 3.2398e-6 & 3.04756e-6 & 30 & M \\\\\n",
       "\t8 & M40 & 4.8999e-6 & 5.27879e-6 & 40 & M \\\\\n",
       "\\end{tabular}\n"
      ],
      "text/plain": [
       "\u001b[1m8×5 DataFrame\u001b[0m\n",
       "\u001b[1m Row \u001b[0m│\u001b[1m variable \u001b[0m\u001b[1m mean      \u001b[0m\u001b[1m std        \u001b[0m\u001b[1m rozmiar \u001b[0m\u001b[1m type   \u001b[0m\n",
       "\u001b[1m     \u001b[0m│\u001b[90m Symbol   \u001b[0m\u001b[90m Float64   \u001b[0m\u001b[90m Float64    \u001b[0m\u001b[90m Int64   \u001b[0m\u001b[90m String \u001b[0m\n",
       "─────┼──────────────────────────────────────────────────\n",
       "   1 │ W10       1.4296e-6  2.28358e-6       10  W\n",
       "   2 │ W20       1.4003e-6  1.75613e-6       20  W\n",
       "   3 │ W30       1.1396e-6  1.55917e-6       30  W\n",
       "   4 │ W40       1.3901e-6  2.01627e-6       40  W\n",
       "   5 │ M10       2.2398e-6  4.66191e-6       10  M\n",
       "   6 │ M20       1.96e-6    2.54958e-6       20  M\n",
       "   7 │ M30       3.2398e-6  3.04756e-6       30  M\n",
       "   8 │ M40       4.8999e-6  5.27879e-6       40  M"
      ]
     },
     "execution_count": 354,
     "metadata": {},
     "output_type": "execute_result"
    }
   ],
   "source": [
    "result = result[!,[1,2]]\n",
    "result.std = std.(eachcol(pomiary))\n",
    "result.rozmiar = [10,20,30,40,10,20,30,40]\n",
    "result.type = [\"W\", \"W\", \"W\", \"W\", \"M\", \"M\", \"M\", \"M\"]\n",
    "result"
   ]
  },
  {
   "cell_type": "markdown",
   "metadata": {},
   "source": [
    "Wykresy tworzymy przy pomocy funkcji scatter, osobny dla mnożenia macierzy przez wektor i iloczynu skalarnego."
   ]
  },
  {
   "cell_type": "code",
   "execution_count": 359,
   "metadata": {},
   "outputs": [
    {
     "data": {
      "image/svg+xml": [
       "<?xml version=\"1.0\" encoding=\"utf-8\"?>\n",
       "<svg xmlns=\"http://www.w3.org/2000/svg\" xmlns:xlink=\"http://www.w3.org/1999/xlink\" width=\"600\" height=\"400\" viewBox=\"0 0 2400 1600\">\n",
       "<defs>\n",
       "  <clipPath id=\"clip360\">\n",
       "    <rect x=\"0\" y=\"0\" width=\"2400\" height=\"1600\"/>\n",
       "  </clipPath>\n",
       "</defs>\n",
       "<path clip-path=\"url(#clip360)\" d=\"\n",
       "M0 1600 L2400 1600 L2400 0 L0 0  Z\n",
       "  \" fill=\"#ffffff\" fill-rule=\"evenodd\" fill-opacity=\"1\"/>\n",
       "<defs>\n",
       "  <clipPath id=\"clip361\">\n",
       "    <rect x=\"480\" y=\"0\" width=\"1681\" height=\"1600\"/>\n",
       "  </clipPath>\n",
       "</defs>\n",
       "<path clip-path=\"url(#clip360)\" d=\"\n",
       "M306.359 1423.18 L1153.31 1423.18 L1153.31 47.2441 L306.359 47.2441  Z\n",
       "  \" fill=\"#ffffff\" fill-rule=\"evenodd\" fill-opacity=\"1\"/>\n",
       "<defs>\n",
       "  <clipPath id=\"clip362\">\n",
       "    <rect x=\"306\" y=\"47\" width=\"848\" height=\"1377\"/>\n",
       "  </clipPath>\n",
       "</defs>\n",
       "<polyline clip-path=\"url(#clip362)\" style=\"stroke:#000000; stroke-width:2; stroke-opacity:0.1; fill:none\" points=\"\n",
       "  330.329,1423.18 330.329,47.2441 \n",
       "  \"/>\n",
       "<polyline clip-path=\"url(#clip362)\" style=\"stroke:#000000; stroke-width:2; stroke-opacity:0.1; fill:none\" points=\"\n",
       "  596.667,1423.18 596.667,47.2441 \n",
       "  \"/>\n",
       "<polyline clip-path=\"url(#clip362)\" style=\"stroke:#000000; stroke-width:2; stroke-opacity:0.1; fill:none\" points=\"\n",
       "  863.004,1423.18 863.004,47.2441 \n",
       "  \"/>\n",
       "<polyline clip-path=\"url(#clip362)\" style=\"stroke:#000000; stroke-width:2; stroke-opacity:0.1; fill:none\" points=\"\n",
       "  1129.34,1423.18 1129.34,47.2441 \n",
       "  \"/>\n",
       "<polyline clip-path=\"url(#clip360)\" style=\"stroke:#000000; stroke-width:4; stroke-opacity:1; fill:none\" points=\"\n",
       "  306.359,1423.18 1153.31,1423.18 \n",
       "  \"/>\n",
       "<polyline clip-path=\"url(#clip360)\" style=\"stroke:#000000; stroke-width:4; stroke-opacity:1; fill:none\" points=\"\n",
       "  330.329,1423.18 330.329,1406.67 \n",
       "  \"/>\n",
       "<polyline clip-path=\"url(#clip360)\" style=\"stroke:#000000; stroke-width:4; stroke-opacity:1; fill:none\" points=\"\n",
       "  596.667,1423.18 596.667,1406.67 \n",
       "  \"/>\n",
       "<polyline clip-path=\"url(#clip360)\" style=\"stroke:#000000; stroke-width:4; stroke-opacity:1; fill:none\" points=\"\n",
       "  863.004,1423.18 863.004,1406.67 \n",
       "  \"/>\n",
       "<polyline clip-path=\"url(#clip360)\" style=\"stroke:#000000; stroke-width:4; stroke-opacity:1; fill:none\" points=\"\n",
       "  1129.34,1423.18 1129.34,1406.67 \n",
       "  \"/>\n",
       "<path clip-path=\"url(#clip360)\" d=\"M 0 0 M307.204 1479.92 L314.843 1479.92 L314.843 1453.55 L306.533 1455.22 L306.533 1450.96 L314.797 1449.29 L319.473 1449.29 L319.473 1479.92 L327.112 1479.92 L327.112 1483.85 L307.204 1483.85 L307.204 1479.92 Z\" fill=\"#000000\" fill-rule=\"evenodd\" fill-opacity=\"1\" /><path clip-path=\"url(#clip360)\" d=\"M 0 0 M342.181 1452.37 Q338.57 1452.37 336.741 1455.94 Q334.936 1459.48 334.936 1466.61 Q334.936 1473.71 336.741 1477.28 Q338.57 1480.82 342.181 1480.82 Q345.815 1480.82 347.621 1477.28 Q349.449 1473.71 349.449 1466.61 Q349.449 1459.48 347.621 1455.94 Q345.815 1452.37 342.181 1452.37 M342.181 1448.67 Q347.991 1448.67 351.047 1453.27 Q354.125 1457.86 354.125 1466.61 Q354.125 1475.33 351.047 1479.94 Q347.991 1484.52 342.181 1484.52 Q336.371 1484.52 333.292 1479.94 Q330.237 1475.33 330.237 1466.61 Q330.237 1457.86 333.292 1453.27 Q336.371 1448.67 342.181 1448.67 Z\" fill=\"#000000\" fill-rule=\"evenodd\" fill-opacity=\"1\" /><path clip-path=\"url(#clip360)\" d=\"M 0 0 M577.812 1479.92 L594.132 1479.92 L594.132 1483.85 L572.187 1483.85 L572.187 1479.92 Q574.849 1477.16 579.433 1472.53 Q584.039 1467.88 585.22 1466.54 Q587.465 1464.01 588.345 1462.28 Q589.248 1460.52 589.248 1458.83 Q589.248 1456.07 587.303 1454.34 Q585.382 1452.6 582.28 1452.6 Q580.081 1452.6 577.627 1453.37 Q575.197 1454.13 572.419 1455.68 L572.419 1450.96 Q575.243 1449.82 577.697 1449.25 Q580.15 1448.67 582.187 1448.67 Q587.558 1448.67 590.752 1451.35 Q593.947 1454.04 593.947 1458.53 Q593.947 1460.66 593.136 1462.58 Q592.349 1464.48 590.243 1467.07 Q589.664 1467.74 586.562 1470.96 Q583.461 1474.15 577.812 1479.92 Z\" fill=\"#000000\" fill-rule=\"evenodd\" fill-opacity=\"1\" /><path clip-path=\"url(#clip360)\" d=\"M 0 0 M609.201 1452.37 Q605.59 1452.37 603.761 1455.94 Q601.956 1459.48 601.956 1466.61 Q601.956 1473.71 603.761 1477.28 Q605.59 1480.82 609.201 1480.82 Q612.835 1480.82 614.641 1477.28 Q616.47 1473.71 616.47 1466.61 Q616.47 1459.48 614.641 1455.94 Q612.835 1452.37 609.201 1452.37 M609.201 1448.67 Q615.011 1448.67 618.067 1453.27 Q621.146 1457.86 621.146 1466.61 Q621.146 1475.33 618.067 1479.94 Q615.011 1484.52 609.201 1484.52 Q603.391 1484.52 600.312 1479.94 Q597.257 1475.33 597.257 1466.61 Q597.257 1457.86 600.312 1453.27 Q603.391 1448.67 609.201 1448.67 Z\" fill=\"#000000\" fill-rule=\"evenodd\" fill-opacity=\"1\" /><path clip-path=\"url(#clip360)\" d=\"M 0 0 M853.745 1465.22 Q857.101 1465.94 858.976 1468.2 Q860.874 1470.47 860.874 1473.81 Q860.874 1478.92 857.356 1481.72 Q853.837 1484.52 847.356 1484.52 Q845.18 1484.52 842.865 1484.08 Q840.573 1483.67 838.12 1482.81 L838.12 1478.3 Q840.064 1479.43 842.379 1480.01 Q844.694 1480.59 847.217 1480.59 Q851.615 1480.59 853.907 1478.85 Q856.221 1477.12 856.221 1473.81 Q856.221 1470.75 854.069 1469.04 Q851.939 1467.3 848.12 1467.3 L844.092 1467.3 L844.092 1463.46 L848.305 1463.46 Q851.754 1463.46 853.583 1462.09 Q855.411 1460.7 855.411 1458.11 Q855.411 1455.45 853.513 1454.04 Q851.638 1452.6 848.12 1452.6 Q846.198 1452.6 843.999 1453.02 Q841.8 1453.44 839.161 1454.31 L839.161 1450.15 Q841.823 1449.41 844.138 1449.04 Q846.476 1448.67 848.536 1448.67 Q853.86 1448.67 856.962 1451.1 Q860.064 1453.5 860.064 1457.63 Q860.064 1460.5 858.42 1462.49 Q856.777 1464.45 853.745 1465.22 Z\" fill=\"#000000\" fill-rule=\"evenodd\" fill-opacity=\"1\" /><path clip-path=\"url(#clip360)\" d=\"M 0 0 M875.944 1452.37 Q872.332 1452.37 870.504 1455.94 Q868.698 1459.48 868.698 1466.61 Q868.698 1473.71 870.504 1477.28 Q872.332 1480.82 875.944 1480.82 Q879.578 1480.82 881.383 1477.28 Q883.212 1473.71 883.212 1466.61 Q883.212 1459.48 881.383 1455.94 Q879.578 1452.37 875.944 1452.37 M875.944 1448.67 Q881.754 1448.67 884.809 1453.27 Q887.888 1457.86 887.888 1466.61 Q887.888 1475.33 884.809 1479.94 Q881.754 1484.52 875.944 1484.52 Q870.133 1484.52 867.055 1479.94 Q863.999 1475.33 863.999 1466.61 Q863.999 1457.86 867.055 1453.27 Q870.133 1448.67 875.944 1448.67 Z\" fill=\"#000000\" fill-rule=\"evenodd\" fill-opacity=\"1\" /><path clip-path=\"url(#clip360)\" d=\"M 0 0 M1118.84 1453.37 L1107.04 1471.81 L1118.84 1471.81 L1118.84 1453.37 M1117.62 1449.29 L1123.5 1449.29 L1123.5 1471.81 L1128.43 1471.81 L1128.43 1475.7 L1123.5 1475.7 L1123.5 1483.85 L1118.84 1483.85 L1118.84 1475.7 L1103.24 1475.7 L1103.24 1471.19 L1117.62 1449.29 Z\" fill=\"#000000\" fill-rule=\"evenodd\" fill-opacity=\"1\" /><path clip-path=\"url(#clip360)\" d=\"M 0 0 M1143.5 1452.37 Q1139.89 1452.37 1138.06 1455.94 Q1136.25 1459.48 1136.25 1466.61 Q1136.25 1473.71 1138.06 1477.28 Q1139.89 1480.82 1143.5 1480.82 Q1147.13 1480.82 1148.94 1477.28 Q1150.76 1473.71 1150.76 1466.61 Q1150.76 1459.48 1148.94 1455.94 Q1147.13 1452.37 1143.5 1452.37 M1143.5 1448.67 Q1149.31 1448.67 1152.36 1453.27 Q1155.44 1457.86 1155.44 1466.61 Q1155.44 1475.33 1152.36 1479.94 Q1149.31 1484.52 1143.5 1484.52 Q1137.69 1484.52 1134.61 1479.94 Q1131.55 1475.33 1131.55 1466.61 Q1131.55 1457.86 1134.61 1453.27 Q1137.69 1448.67 1143.5 1448.67 Z\" fill=\"#000000\" fill-rule=\"evenodd\" fill-opacity=\"1\" /><path clip-path=\"url(#clip360)\" d=\"M 0 0 M469.78 1520.52 L476.273 1520.52 L486.267 1560.69 L496.23 1520.52 L503.455 1520.52 L513.449 1560.69 L523.411 1520.52 L529.936 1520.52 L518 1568.04 L509.916 1568.04 L499.89 1526.79 L489.768 1568.04 L481.684 1568.04 L469.78 1520.52 Z\" fill=\"#000000\" fill-rule=\"evenodd\" fill-opacity=\"1\" /><path clip-path=\"url(#clip360)\" d=\"M 0 0 M534.647 1532.4 L540.503 1532.4 L540.503 1568.04 L534.647 1568.04 L534.647 1532.4 M534.647 1518.52 L540.503 1518.52 L540.503 1525.93 L534.647 1525.93 L534.647 1518.52 Z\" fill=\"#000000\" fill-rule=\"evenodd\" fill-opacity=\"1\" /><path clip-path=\"url(#clip360)\" d=\"M 0 0 M577.138 1548.76 L577.138 1551.62 L550.211 1551.62 Q550.593 1557.67 553.839 1560.85 Q557.118 1564 562.942 1564 Q566.316 1564 569.467 1563.17 Q572.65 1562.35 575.769 1560.69 L575.769 1566.23 Q572.618 1567.57 569.308 1568.27 Q565.998 1568.97 562.592 1568.97 Q554.062 1568.97 549.065 1564 Q544.1 1559.04 544.1 1550.57 Q544.1 1541.82 548.81 1536.69 Q553.553 1531.54 561.574 1531.54 Q568.767 1531.54 572.936 1536.18 Q577.138 1540.8 577.138 1548.76 M571.281 1547.04 Q571.218 1542.23 568.576 1539.37 Q565.966 1536.5 561.637 1536.5 Q556.736 1536.5 553.776 1539.27 Q550.847 1542.04 550.402 1547.07 L571.281 1547.04 Z\" fill=\"#000000\" fill-rule=\"evenodd\" fill-opacity=\"1\" /><path clip-path=\"url(#clip360)\" d=\"M 0 0 M583.281 1518.52 L589.137 1518.52 L589.137 1568.04 L583.281 1568.04 L583.281 1518.52 Z\" fill=\"#000000\" fill-rule=\"evenodd\" fill-opacity=\"1\" /><path clip-path=\"url(#clip360)\" d=\"M 0 0 M595.057 1518.52 L600.946 1518.52 L600.946 1547.77 L618.419 1532.4 L625.899 1532.4 L606.993 1549.07 L626.695 1568.04 L619.056 1568.04 L600.946 1550.63 L600.946 1568.04 L595.057 1568.04 L595.057 1518.52 Z\" fill=\"#000000\" fill-rule=\"evenodd\" fill-opacity=\"1\" /><path clip-path=\"url(#clip360)\" d=\"M 0 0 M644.328 1536.5 Q639.617 1536.5 636.88 1540.19 Q634.143 1543.85 634.143 1550.25 Q634.143 1556.65 636.848 1560.34 Q639.585 1564 644.328 1564 Q649.007 1564 651.744 1560.31 Q654.481 1556.62 654.481 1550.25 Q654.481 1543.92 651.744 1540.23 Q649.007 1536.5 644.328 1536.5 M644.328 1531.54 Q651.967 1531.54 656.327 1536.5 Q660.688 1541.47 660.688 1550.25 Q660.688 1559 656.327 1564 Q651.967 1568.97 644.328 1568.97 Q636.657 1568.97 632.297 1564 Q627.968 1559 627.968 1550.25 Q627.968 1541.47 632.297 1536.5 Q636.657 1531.54 644.328 1531.54 Z\" fill=\"#000000\" fill-rule=\"evenodd\" fill-opacity=\"1\" /><path clip-path=\"url(#clip360)\" d=\"M 0 0 M683.509 1515.69 L689.843 1515.69 L679.467 1527.65 L674.597 1527.65 L683.509 1515.69 M689.556 1533.45 L689.556 1538.98 Q687.074 1537.71 684.4 1537.07 Q681.726 1536.44 678.862 1536.44 Q674.501 1536.44 672.305 1537.77 Q670.141 1539.11 670.141 1541.79 Q670.141 1543.82 671.7 1545 Q673.26 1546.15 677.971 1547.2 L679.976 1547.64 Q686.214 1548.98 688.824 1551.43 Q691.466 1553.85 691.466 1558.21 Q691.466 1563.17 687.519 1566.07 Q683.604 1568.97 676.729 1568.97 Q673.865 1568.97 670.745 1568.39 Q667.658 1567.85 664.221 1566.74 L664.221 1560.69 Q667.467 1562.38 670.618 1563.24 Q673.769 1564.07 676.857 1564.07 Q680.994 1564.07 683.222 1562.66 Q685.45 1561.23 685.45 1558.65 Q685.45 1556.27 683.827 1554.99 Q682.236 1553.72 676.793 1552.54 L674.756 1552.07 Q669.313 1550.92 666.894 1548.56 Q664.475 1546.18 664.475 1542.04 Q664.475 1537.01 668.04 1534.27 Q671.605 1531.54 678.162 1531.54 Q681.408 1531.54 684.273 1532.01 Q687.137 1532.49 689.556 1533.45 Z\" fill=\"#000000\" fill-rule=\"evenodd\" fill-opacity=\"1\" /><path clip-path=\"url(#clip360)\" d=\"M 0 0 M723.263 1533.76 L723.263 1539.24 Q720.78 1537.87 718.265 1537.2 Q715.783 1536.5 713.237 1536.5 Q707.539 1536.5 704.388 1540.13 Q701.237 1543.73 701.237 1550.25 Q701.237 1556.78 704.388 1560.4 Q707.539 1564 713.237 1564 Q715.783 1564 718.265 1563.33 Q720.78 1562.63 723.263 1561.26 L723.263 1566.68 Q720.812 1567.82 718.17 1568.39 Q715.56 1568.97 712.6 1568.97 Q704.547 1568.97 699.805 1563.91 Q695.062 1558.85 695.062 1550.25 Q695.062 1541.53 699.837 1536.53 Q704.643 1531.54 712.982 1531.54 Q715.687 1531.54 718.265 1532.11 Q720.844 1532.65 723.263 1533.76 M716.547 1515.91 L722.881 1515.91 L712.505 1527.88 L707.635 1527.88 L716.547 1515.91 Z\" fill=\"#000000\" fill-rule=\"evenodd\" fill-opacity=\"1\" /><path clip-path=\"url(#clip360)\" d=\"M 0 0 M746.72 1532.4 L752.577 1532.4 L759.897 1560.21 L767.186 1532.4 L774.093 1532.4 L781.413 1560.21 L788.702 1532.4 L794.558 1532.4 L785.233 1568.04 L778.326 1568.04 L770.655 1538.83 L762.953 1568.04 L756.046 1568.04 L746.72 1532.4 Z\" fill=\"#000000\" fill-rule=\"evenodd\" fill-opacity=\"1\" /><path clip-path=\"url(#clip360)\" d=\"M 0 0 M831.193 1548.76 L831.193 1551.62 L804.266 1551.62 Q804.648 1557.67 807.895 1560.85 Q811.173 1564 816.998 1564 Q820.371 1564 823.522 1563.17 Q826.705 1562.35 829.824 1560.69 L829.824 1566.23 Q826.673 1567.57 823.363 1568.27 Q820.053 1568.97 816.647 1568.97 Q808.117 1568.97 803.12 1564 Q798.155 1559.04 798.155 1550.57 Q798.155 1541.82 802.866 1536.69 Q807.608 1531.54 815.629 1531.54 Q822.822 1531.54 826.992 1536.18 Q831.193 1540.8 831.193 1548.76 M825.337 1547.04 Q825.273 1542.23 822.631 1539.37 Q820.021 1536.5 815.693 1536.5 Q810.791 1536.5 807.831 1539.27 Q804.903 1542.04 804.457 1547.07 L825.337 1547.04 Z\" fill=\"#000000\" fill-rule=\"evenodd\" fill-opacity=\"1\" /><path clip-path=\"url(#clip360)\" d=\"M 0 0 M837.113 1518.52 L843.002 1518.52 L843.002 1547.77 L860.475 1532.4 L867.955 1532.4 L849.049 1549.07 L868.751 1568.04 L861.112 1568.04 L843.002 1550.63 L843.002 1568.04 L837.113 1568.04 L837.113 1518.52 Z\" fill=\"#000000\" fill-rule=\"evenodd\" fill-opacity=\"1\" /><path clip-path=\"url(#clip360)\" d=\"M 0 0 M880.686 1522.27 L880.686 1532.4 L892.75 1532.4 L892.75 1536.95 L880.686 1536.95 L880.686 1556.3 Q880.686 1560.66 881.864 1561.9 Q883.074 1563.14 886.734 1563.14 L892.75 1563.14 L892.75 1568.04 L886.734 1568.04 Q879.954 1568.04 877.376 1565.53 Q874.798 1562.98 874.798 1556.3 L874.798 1536.95 L870.501 1536.95 L870.501 1532.4 L874.798 1532.4 L874.798 1522.27 L880.686 1522.27 Z\" fill=\"#000000\" fill-rule=\"evenodd\" fill-opacity=\"1\" /><path clip-path=\"url(#clip360)\" d=\"M 0 0 M912.706 1536.5 Q907.995 1536.5 905.258 1540.19 Q902.521 1543.85 902.521 1550.25 Q902.521 1556.65 905.226 1560.34 Q907.964 1564 912.706 1564 Q917.385 1564 920.122 1560.31 Q922.859 1556.62 922.859 1550.25 Q922.859 1543.92 920.122 1540.23 Q917.385 1536.5 912.706 1536.5 M912.706 1531.54 Q920.345 1531.54 924.705 1536.5 Q929.066 1541.47 929.066 1550.25 Q929.066 1559 924.705 1564 Q920.345 1568.97 912.706 1568.97 Q905.035 1568.97 900.675 1564 Q896.346 1559 896.346 1550.25 Q896.346 1541.47 900.675 1536.5 Q905.035 1531.54 912.706 1531.54 Z\" fill=\"#000000\" fill-rule=\"evenodd\" fill-opacity=\"1\" /><path clip-path=\"url(#clip360)\" d=\"M 0 0 M955.865 1537.87 Q954.879 1537.3 953.701 1537.04 Q952.555 1536.76 951.155 1536.76 Q946.19 1536.76 943.516 1540 Q940.874 1543.22 940.874 1549.27 L940.874 1568.04 L934.986 1568.04 L934.986 1532.4 L940.874 1532.4 L940.874 1537.93 Q942.72 1534.69 945.68 1533.13 Q948.64 1531.54 952.874 1531.54 Q953.478 1531.54 954.21 1531.63 Q954.942 1531.7 955.834 1531.85 L955.865 1537.87 Z\" fill=\"#000000\" fill-rule=\"evenodd\" fill-opacity=\"1\" /><path clip-path=\"url(#clip360)\" d=\"M 0 0 M978.209 1550.12 Q971.111 1550.12 968.374 1551.75 Q965.637 1553.37 965.637 1557.29 Q965.637 1560.4 967.674 1562.25 Q969.743 1564.07 973.276 1564.07 Q978.145 1564.07 981.074 1560.63 Q984.034 1557.16 984.034 1551.43 L984.034 1550.12 L978.209 1550.12 M989.89 1547.71 L989.89 1568.04 L984.034 1568.04 L984.034 1562.63 Q982.029 1565.88 979.037 1567.44 Q976.045 1568.97 971.716 1568.97 Q966.242 1568.97 962.995 1565.91 Q959.78 1562.82 959.78 1557.67 Q959.78 1551.65 963.791 1548.6 Q967.833 1545.54 975.822 1545.54 L984.034 1545.54 L984.034 1544.97 Q984.034 1540.93 981.36 1538.73 Q978.718 1536.5 973.912 1536.5 Q970.857 1536.5 967.96 1537.23 Q965.064 1537.97 962.39 1539.43 L962.39 1534.02 Q965.605 1532.78 968.629 1532.17 Q971.652 1531.54 974.517 1531.54 Q982.251 1531.54 986.071 1535.55 Q989.89 1539.56 989.89 1547.71 Z\" fill=\"#000000\" fill-rule=\"evenodd\" fill-opacity=\"1\" /><polyline clip-path=\"url(#clip362)\" style=\"stroke:#000000; stroke-width:2; stroke-opacity:0.1; fill:none\" points=\"\n",
       "  306.359,1134.73 1153.31,1134.73 \n",
       "  \"/>\n",
       "<polyline clip-path=\"url(#clip362)\" style=\"stroke:#000000; stroke-width:2; stroke-opacity:0.1; fill:none\" points=\"\n",
       "  306.359,825.688 1153.31,825.688 \n",
       "  \"/>\n",
       "<polyline clip-path=\"url(#clip362)\" style=\"stroke:#000000; stroke-width:2; stroke-opacity:0.1; fill:none\" points=\"\n",
       "  306.359,516.647 1153.31,516.647 \n",
       "  \"/>\n",
       "<polyline clip-path=\"url(#clip362)\" style=\"stroke:#000000; stroke-width:2; stroke-opacity:0.1; fill:none\" points=\"\n",
       "  306.359,207.607 1153.31,207.607 \n",
       "  \"/>\n",
       "<polyline clip-path=\"url(#clip360)\" style=\"stroke:#000000; stroke-width:4; stroke-opacity:1; fill:none\" points=\"\n",
       "  306.359,1423.18 306.359,47.2441 \n",
       "  \"/>\n",
       "<polyline clip-path=\"url(#clip360)\" style=\"stroke:#000000; stroke-width:4; stroke-opacity:1; fill:none\" points=\"\n",
       "  306.359,1134.73 316.522,1134.73 \n",
       "  \"/>\n",
       "<polyline clip-path=\"url(#clip360)\" style=\"stroke:#000000; stroke-width:4; stroke-opacity:1; fill:none\" points=\"\n",
       "  306.359,825.688 316.522,825.688 \n",
       "  \"/>\n",
       "<polyline clip-path=\"url(#clip360)\" style=\"stroke:#000000; stroke-width:4; stroke-opacity:1; fill:none\" points=\"\n",
       "  306.359,516.647 316.522,516.647 \n",
       "  \"/>\n",
       "<polyline clip-path=\"url(#clip360)\" style=\"stroke:#000000; stroke-width:4; stroke-opacity:1; fill:none\" points=\"\n",
       "  306.359,207.607 316.522,207.607 \n",
       "  \"/>\n",
       "<path clip-path=\"url(#clip360)\" d=\"M 0 0 M258.414 1120.53 Q254.803 1120.53 252.975 1124.09 Q251.169 1127.63 251.169 1134.76 Q251.169 1141.87 252.975 1145.43 Q254.803 1148.98 258.414 1148.98 Q262.049 1148.98 263.854 1145.43 Q265.683 1141.87 265.683 1134.76 Q265.683 1127.63 263.854 1124.09 Q262.049 1120.53 258.414 1120.53 M258.414 1116.82 Q264.225 1116.82 267.28 1121.43 Q270.359 1126.01 270.359 1134.76 Q270.359 1143.49 267.28 1148.1 Q264.225 1152.68 258.414 1152.68 Q252.604 1152.68 249.526 1148.1 Q246.47 1143.49 246.47 1134.76 Q246.47 1126.01 249.526 1121.43 Q252.604 1116.82 258.414 1116.82 Z\" fill=\"#000000\" fill-rule=\"evenodd\" fill-opacity=\"1\" /><path clip-path=\"url(#clip360)\" d=\"M 0 0 M130.996 830.781 Q134.353 831.499 136.228 833.768 Q138.126 836.036 138.126 839.369 Q138.126 844.485 134.607 847.286 Q131.089 850.087 124.607 850.087 Q122.431 850.087 120.117 849.647 Q117.825 849.23 115.371 848.374 L115.371 843.86 Q117.316 844.994 119.63 845.573 Q121.945 846.152 124.468 846.152 Q128.867 846.152 131.158 844.416 Q133.473 842.68 133.473 839.369 Q133.473 836.314 131.32 834.601 Q129.191 832.865 125.371 832.865 L121.343 832.865 L121.343 829.022 L125.556 829.022 Q129.005 829.022 130.834 827.656 Q132.663 826.268 132.663 823.675 Q132.663 821.013 130.765 819.601 Q128.89 818.166 125.371 818.166 Q123.45 818.166 121.251 818.582 Q119.052 818.999 116.413 819.879 L116.413 815.712 Q119.075 814.971 121.39 814.601 Q123.728 814.231 125.788 814.231 Q131.112 814.231 134.214 816.661 Q137.316 819.069 137.316 823.189 Q137.316 826.059 135.672 828.05 Q134.029 830.018 130.996 830.781 Z\" fill=\"#000000\" fill-rule=\"evenodd\" fill-opacity=\"1\" /><path clip-path=\"url(#clip360)\" d=\"M 0 0 M171.366 823.953 L160.788 834.578 L171.366 845.156 L168.612 847.957 L157.987 837.332 L147.362 847.957 L144.63 845.156 L155.186 834.578 L144.63 823.953 L147.362 821.152 L157.987 831.777 L168.612 821.152 L171.366 823.953 Z\" fill=\"#000000\" fill-rule=\"evenodd\" fill-opacity=\"1\" /><path clip-path=\"url(#clip360)\" d=\"M 0 0 M177.246 845.48 L184.885 845.48 L184.885 819.115 L176.575 820.781 L176.575 816.522 L184.838 814.856 L189.514 814.856 L189.514 845.48 L197.153 845.48 L197.153 849.416 L177.246 849.416 L177.246 845.48 Z\" fill=\"#000000\" fill-rule=\"evenodd\" fill-opacity=\"1\" /><path clip-path=\"url(#clip360)\" d=\"M 0 0 M212.223 817.934 Q208.612 817.934 206.783 821.499 Q204.977 825.041 204.977 832.17 Q204.977 839.277 206.783 842.842 Q208.612 846.383 212.223 846.383 Q215.857 846.383 217.662 842.842 Q219.491 839.277 219.491 832.17 Q219.491 825.041 217.662 821.499 Q215.857 817.934 212.223 817.934 M212.223 814.231 Q218.033 814.231 221.088 818.837 Q224.167 823.42 224.167 832.17 Q224.167 840.897 221.088 845.504 Q218.033 850.087 212.223 850.087 Q206.412 850.087 203.334 845.504 Q200.278 840.897 200.278 832.17 Q200.278 823.42 203.334 818.837 Q206.412 814.231 212.223 814.231 Z\" fill=\"#000000\" fill-rule=\"evenodd\" fill-opacity=\"1\" /><path clip-path=\"url(#clip360)\" d=\"M 0 0 M224.167 808.332 L248.279 808.332 L248.279 811.529 L224.167 811.529 L224.167 808.332 Z\" fill=\"#000000\" fill-rule=\"evenodd\" fill-opacity=\"1\" /><path clip-path=\"url(#clip360)\" d=\"M 0 0 M260.993 806.451 Q258.435 806.451 256.93 808.2 Q255.444 809.949 255.444 812.996 Q255.444 816.024 256.93 817.792 Q258.435 819.541 260.993 819.541 Q263.55 819.541 265.036 817.792 Q266.541 816.024 266.541 812.996 Q266.541 809.949 265.036 808.2 Q263.55 806.451 260.993 806.451 M268.535 794.546 L268.535 798.006 Q267.105 797.329 265.638 796.972 Q264.19 796.615 262.761 796.615 Q258.999 796.615 257.005 799.154 Q255.031 801.693 254.748 806.827 Q255.858 805.191 257.532 804.326 Q259.206 803.442 261.218 803.442 Q265.45 803.442 267.895 806.019 Q270.359 808.576 270.359 812.996 Q270.359 817.322 267.801 819.936 Q265.243 822.551 260.993 822.551 Q256.121 822.551 253.545 818.827 Q250.968 815.084 250.968 807.993 Q250.968 801.335 254.128 797.386 Q257.287 793.417 262.61 793.417 Q264.039 793.417 265.488 793.699 Q266.955 793.982 268.535 794.546 Z\" fill=\"#000000\" fill-rule=\"evenodd\" fill-opacity=\"1\" /><path clip-path=\"url(#clip360)\" d=\"M 0 0 M126.598 521.232 Q123.45 521.232 121.598 523.384 Q119.769 525.537 119.769 529.287 Q119.769 533.014 121.598 535.19 Q123.45 537.343 126.598 537.343 Q129.746 537.343 131.575 535.19 Q133.427 533.014 133.427 529.287 Q133.427 525.537 131.575 523.384 Q129.746 521.232 126.598 521.232 M135.88 506.579 L135.88 510.838 Q134.121 510.005 132.316 509.565 Q130.533 509.125 128.774 509.125 Q124.144 509.125 121.691 512.25 Q119.26 515.375 118.913 521.695 Q120.279 519.681 122.339 518.616 Q124.399 517.528 126.876 517.528 Q132.084 517.528 135.093 520.699 Q138.126 523.847 138.126 529.287 Q138.126 534.611 134.978 537.829 Q131.83 541.046 126.598 541.046 Q120.603 541.046 117.431 536.463 Q114.26 531.857 114.26 523.13 Q114.26 514.935 118.149 510.074 Q122.038 505.19 128.589 505.19 Q130.348 505.19 132.13 505.537 Q133.936 505.884 135.88 506.579 Z\" fill=\"#000000\" fill-rule=\"evenodd\" fill-opacity=\"1\" /><path clip-path=\"url(#clip360)\" d=\"M 0 0 M171.366 514.912 L160.788 525.537 L171.366 536.116 L168.612 538.917 L157.987 528.292 L147.362 538.917 L144.63 536.116 L155.186 525.537 L144.63 514.912 L147.362 512.111 L157.987 522.736 L168.612 512.111 L171.366 514.912 Z\" fill=\"#000000\" fill-rule=\"evenodd\" fill-opacity=\"1\" /><path clip-path=\"url(#clip360)\" d=\"M 0 0 M177.246 536.44 L184.885 536.44 L184.885 510.074 L176.575 511.741 L176.575 507.482 L184.838 505.815 L189.514 505.815 L189.514 536.44 L197.153 536.44 L197.153 540.375 L177.246 540.375 L177.246 536.44 Z\" fill=\"#000000\" fill-rule=\"evenodd\" fill-opacity=\"1\" /><path clip-path=\"url(#clip360)\" d=\"M 0 0 M212.223 508.894 Q208.612 508.894 206.783 512.459 Q204.977 516 204.977 523.13 Q204.977 530.236 206.783 533.801 Q208.612 537.343 212.223 537.343 Q215.857 537.343 217.662 533.801 Q219.491 530.236 219.491 523.13 Q219.491 516 217.662 512.459 Q215.857 508.894 212.223 508.894 M212.223 505.19 Q218.033 505.19 221.088 509.796 Q224.167 514.38 224.167 523.13 Q224.167 531.857 221.088 536.463 Q218.033 541.046 212.223 541.046 Q206.412 541.046 203.334 536.463 Q200.278 531.857 200.278 523.13 Q200.278 514.38 203.334 509.796 Q206.412 505.19 212.223 505.19 Z\" fill=\"#000000\" fill-rule=\"evenodd\" fill-opacity=\"1\" /><path clip-path=\"url(#clip360)\" d=\"M 0 0 M224.167 499.291 L248.279 499.291 L248.279 502.489 L224.167 502.489 L224.167 499.291 Z\" fill=\"#000000\" fill-rule=\"evenodd\" fill-opacity=\"1\" /><path clip-path=\"url(#clip360)\" d=\"M 0 0 M260.993 497.411 Q258.435 497.411 256.93 499.16 Q255.444 500.909 255.444 503.956 Q255.444 506.984 256.93 508.752 Q258.435 510.501 260.993 510.501 Q263.55 510.501 265.036 508.752 Q266.541 506.984 266.541 503.956 Q266.541 500.909 265.036 499.16 Q263.55 497.411 260.993 497.411 M268.535 485.505 L268.535 488.966 Q267.105 488.289 265.638 487.931 Q264.19 487.574 262.761 487.574 Q258.999 487.574 257.005 490.113 Q255.031 492.652 254.748 497.787 Q255.858 496.15 257.532 495.285 Q259.206 494.401 261.218 494.401 Q265.45 494.401 267.895 496.978 Q270.359 499.536 270.359 503.956 Q270.359 508.281 267.801 510.896 Q265.243 513.51 260.993 513.51 Q256.121 513.51 253.545 509.786 Q250.968 506.043 250.968 498.953 Q250.968 492.295 254.128 488.345 Q257.287 484.377 262.61 484.377 Q264.039 484.377 265.488 484.659 Q266.955 484.941 268.535 485.505 Z\" fill=\"#000000\" fill-rule=\"evenodd\" fill-opacity=\"1\" /><path clip-path=\"url(#clip360)\" d=\"M 0 0 M116.506 230.617 L116.506 226.358 Q118.265 227.191 120.07 227.631 Q121.876 228.071 123.612 228.071 Q128.242 228.071 130.672 224.969 Q133.126 221.844 133.473 215.501 Q132.13 217.492 130.07 218.557 Q128.01 219.622 125.51 219.622 Q120.325 219.622 117.293 216.497 Q114.283 213.348 114.283 207.909 Q114.283 202.585 117.431 199.367 Q120.58 196.149 125.811 196.149 Q131.806 196.149 134.954 200.756 Q138.126 205.339 138.126 214.089 Q138.126 222.26 134.237 227.145 Q130.371 232.006 123.82 232.006 Q122.061 232.006 120.255 231.659 Q118.45 231.311 116.506 230.617 M125.811 215.964 Q128.959 215.964 130.788 213.811 Q132.64 211.659 132.64 207.909 Q132.64 204.182 130.788 202.029 Q128.959 199.853 125.811 199.853 Q122.663 199.853 120.811 202.029 Q118.982 204.182 118.982 207.909 Q118.982 211.659 120.811 213.811 Q122.663 215.964 125.811 215.964 Z\" fill=\"#000000\" fill-rule=\"evenodd\" fill-opacity=\"1\" /><path clip-path=\"url(#clip360)\" d=\"M 0 0 M171.366 205.872 L160.788 216.497 L171.366 227.075 L168.612 229.876 L157.987 219.251 L147.362 229.876 L144.63 227.075 L155.186 216.497 L144.63 205.872 L147.362 203.071 L157.987 213.696 L168.612 203.071 L171.366 205.872 Z\" fill=\"#000000\" fill-rule=\"evenodd\" fill-opacity=\"1\" /><path clip-path=\"url(#clip360)\" d=\"M 0 0 M177.246 227.399 L184.885 227.399 L184.885 201.034 L176.575 202.7 L176.575 198.441 L184.838 196.774 L189.514 196.774 L189.514 227.399 L197.153 227.399 L197.153 231.334 L177.246 231.334 L177.246 227.399 Z\" fill=\"#000000\" fill-rule=\"evenodd\" fill-opacity=\"1\" /><path clip-path=\"url(#clip360)\" d=\"M 0 0 M212.223 199.853 Q208.612 199.853 206.783 203.418 Q204.977 206.96 204.977 214.089 Q204.977 221.196 206.783 224.76 Q208.612 228.302 212.223 228.302 Q215.857 228.302 217.662 224.76 Q219.491 221.196 219.491 214.089 Q219.491 206.96 217.662 203.418 Q215.857 199.853 212.223 199.853 M212.223 196.149 Q218.033 196.149 221.088 200.756 Q224.167 205.339 224.167 214.089 Q224.167 222.816 221.088 227.422 Q218.033 232.006 212.223 232.006 Q206.412 232.006 203.334 227.422 Q200.278 222.816 200.278 214.089 Q200.278 205.339 203.334 200.756 Q206.412 196.149 212.223 196.149 Z\" fill=\"#000000\" fill-rule=\"evenodd\" fill-opacity=\"1\" /><path clip-path=\"url(#clip360)\" d=\"M 0 0 M224.167 190.251 L248.279 190.251 L248.279 193.448 L224.167 193.448 L224.167 190.251 Z\" fill=\"#000000\" fill-rule=\"evenodd\" fill-opacity=\"1\" /><path clip-path=\"url(#clip360)\" d=\"M 0 0 M260.993 188.37 Q258.435 188.37 256.93 190.119 Q255.444 191.868 255.444 194.915 Q255.444 197.943 256.93 199.711 Q258.435 201.46 260.993 201.46 Q263.55 201.46 265.036 199.711 Q266.541 197.943 266.541 194.915 Q266.541 191.868 265.036 190.119 Q263.55 188.37 260.993 188.37 M268.535 176.465 L268.535 179.925 Q267.105 179.248 265.638 178.891 Q264.19 178.534 262.761 178.534 Q258.999 178.534 257.005 181.073 Q255.031 183.612 254.748 188.746 Q255.858 187.11 257.532 186.245 Q259.206 185.361 261.218 185.361 Q265.45 185.361 267.895 187.937 Q270.359 190.495 270.359 194.915 Q270.359 199.241 267.801 201.855 Q265.243 204.47 260.993 204.47 Q256.121 204.47 253.545 200.746 Q250.968 197.003 250.968 189.912 Q250.968 183.254 254.128 179.305 Q257.287 175.336 262.61 175.336 Q264.039 175.336 265.488 175.618 Q266.955 175.901 268.535 176.465 Z\" fill=\"#000000\" fill-rule=\"evenodd\" fill-opacity=\"1\" /><path clip-path=\"url(#clip360)\" d=\"M 0 0 M3.52994 1045.97 L3.52994 1040.08 L11.9327 1047.34 L11.9327 1052.21 L3.52994 1045.97 M18.0438 1033.88 L24.314 1033.88 Q22.5634 1037.54 21.704 1040.78 Q20.8447 1044.03 20.8447 1047.05 Q20.8447 1052.3 22.8817 1055.17 Q24.9187 1058 28.6745 1058 Q31.8255 1058 33.4488 1056.12 Q35.0402 1054.21 36.0269 1048.93 L36.8226 1045.05 Q38.1912 1037.85 41.6605 1034.45 Q45.098 1031.01 50.8908 1031.01 Q57.7976 1031.01 61.3624 1035.66 Q64.9272 1040.27 64.9272 1049.22 Q64.9272 1052.59 64.1633 1056.41 Q63.3994 1060.2 61.9035 1064.27 L55.2831 1064.27 Q57.4793 1060.36 58.5933 1056.6 Q59.7073 1052.84 59.7073 1049.22 Q59.7073 1043.71 57.543 1040.72 Q55.3786 1037.73 51.3682 1037.73 Q47.8671 1037.73 45.8937 1039.89 Q43.9204 1042.02 42.9337 1046.92 L42.1698 1050.84 Q40.7375 1058.03 37.682 1061.25 Q34.6264 1064.46 29.1837 1064.46 Q22.8817 1064.46 19.2532 1060.04 Q15.6248 1055.58 15.6248 1047.78 Q15.6248 1044.44 16.2295 1040.97 Q16.8343 1037.5 18.0438 1033.88 Z\" fill=\"#000000\" fill-rule=\"evenodd\" fill-opacity=\"1\" /><path clip-path=\"url(#clip360)\" d=\"M 0 0 M33.8307 1004.21 Q33.2578 1005.2 33.0032 1006.38 Q32.7167 1007.52 32.7167 1008.92 Q32.7167 1013.89 35.9632 1016.56 Q39.1779 1019.2 45.2253 1019.2 L64.0042 1019.2 L64.0042 1025.09 L28.3562 1025.09 L28.3562 1019.2 L33.8944 1019.2 Q30.6479 1017.36 29.0883 1014.4 Q27.4968 1011.44 27.4968 1007.2 Q27.4968 1006.6 27.5923 1005.87 Q27.656 1005.13 27.8151 1004.24 L33.8307 1004.21 Z\" fill=\"#000000\" fill-rule=\"evenodd\" fill-opacity=\"1\" /><path clip-path=\"url(#clip360)\" d=\"M 0 0 M44.7161 969.008 L47.5806 969.008 L47.5806 995.935 Q53.6281 995.553 56.8109 992.307 Q59.9619 989.029 59.9619 983.204 Q59.9619 979.83 59.1344 976.679 Q58.3069 973.496 56.6518 970.377 L62.1899 970.377 Q63.5267 973.528 64.227 976.838 Q64.9272 980.148 64.9272 983.554 Q64.9272 992.084 59.9619 997.081 Q54.9967 1002.05 46.5303 1002.05 Q37.7774 1002.05 32.6531 997.336 Q27.4968 992.593 27.4968 984.573 Q27.4968 977.379 32.1438 973.21 Q36.7589 969.008 44.7161 969.008 M42.9973 974.865 Q38.1912 974.929 35.3266 977.57 Q32.4621 980.18 32.4621 984.509 Q32.4621 989.411 35.2312 992.371 Q38.0002 995.299 43.0292 995.744 L42.9973 974.865 Z\" fill=\"#000000\" fill-rule=\"evenodd\" fill-opacity=\"1\" /><path clip-path=\"url(#clip360)\" d=\"M 0 0 M33.7671 939.408 L14.479 939.408 L14.479 933.551 L64.0042 933.551 L64.0042 939.408 L58.657 939.408 Q61.8398 941.254 63.3994 944.087 Q64.9272 946.888 64.9272 950.834 Q64.9272 957.296 59.771 961.37 Q54.6147 965.412 46.212 965.412 Q37.8093 965.412 32.6531 961.37 Q27.4968 957.296 27.4968 950.834 Q27.4968 946.888 29.0564 944.087 Q30.5842 941.254 33.7671 939.408 M46.212 959.364 Q52.6732 959.364 56.3653 956.723 Q60.0256 954.049 60.0256 949.402 Q60.0256 944.755 56.3653 942.082 Q52.6732 939.408 46.212 939.408 Q39.7508 939.408 36.0905 942.082 Q32.3984 944.755 32.3984 949.402 Q32.3984 954.049 36.0905 956.723 Q39.7508 959.364 46.212 959.364 Z\" fill=\"#000000\" fill-rule=\"evenodd\" fill-opacity=\"1\" /><path clip-path=\"url(#clip360)\" d=\"M 0 0 M42.4881 897.776 L64.0042 897.776 L64.0042 903.633 L42.679 903.633 Q37.6183 903.633 35.1038 905.606 Q32.5894 907.579 32.5894 911.526 Q32.5894 916.269 35.6131 919.006 Q38.6368 921.743 43.8567 921.743 L64.0042 921.743 L64.0042 927.631 L28.3562 927.631 L28.3562 921.743 L33.8944 921.743 Q30.6797 919.642 29.0883 916.81 Q27.4968 913.945 27.4968 910.221 Q27.4968 904.078 31.3163 900.927 Q35.1038 897.776 42.4881 897.776 Z\" fill=\"#000000\" fill-rule=\"evenodd\" fill-opacity=\"1\" /><path clip-path=\"url(#clip360)\" d=\"M 0 0 M28.3562 891.633 L28.3562 885.777 L64.0042 885.777 L64.0042 891.633 L28.3562 891.633 M14.479 891.633 L14.479 885.777 L21.895 885.777 L21.895 891.633 L14.479 891.633 Z\" fill=\"#000000\" fill-rule=\"evenodd\" fill-opacity=\"1\" /><path clip-path=\"url(#clip360)\" d=\"M 0 0 M29.7248 833.26 L35.1993 833.26 Q33.8307 835.742 33.1623 838.257 Q32.4621 840.739 32.4621 843.286 Q32.4621 848.983 36.0905 852.134 Q39.6872 855.285 46.212 855.285 Q52.7369 855.285 56.3653 852.134 Q59.9619 848.983 59.9619 843.286 Q59.9619 840.739 59.2935 838.257 Q58.5933 835.742 57.2247 833.26 L62.6355 833.26 Q63.7814 835.711 64.3543 838.352 Q64.9272 840.962 64.9272 843.922 Q64.9272 851.975 59.8664 856.717 Q54.8057 861.46 46.212 861.46 Q37.491 861.46 32.4939 856.686 Q27.4968 851.879 27.4968 843.54 Q27.4968 840.835 28.0697 838.257 Q28.6108 835.679 29.7248 833.26 Z\" fill=\"#000000\" fill-rule=\"evenodd\" fill-opacity=\"1\" /><path clip-path=\"url(#clip360)\" d=\"M 0 0 M28.3562 829.663 L28.3562 801.845 L33.7034 801.845 L59.3254 823.87 L59.3254 801.845 L64.0042 801.845 L64.0042 830.459 L58.657 830.459 L33.035 808.434 L33.035 829.663 L28.3562 829.663 Z\" fill=\"#000000\" fill-rule=\"evenodd\" fill-opacity=\"1\" /><path clip-path=\"url(#clip360)\" d=\"M 0 0 M46.0847 779.501 Q46.0847 786.599 47.7079 789.336 Q49.3312 792.074 53.2461 792.074 Q56.3653 792.074 58.2114 790.037 Q60.0256 787.968 60.0256 784.435 Q60.0256 779.565 56.5881 776.637 Q53.1188 773.677 47.3897 773.677 L46.0847 773.677 L46.0847 779.501 M43.6657 767.82 L64.0042 767.82 L64.0042 773.677 L58.5933 773.677 Q61.8398 775.682 63.3994 778.674 Q64.9272 781.666 64.9272 785.994 Q64.9272 791.469 61.8716 794.715 Q58.7843 797.93 53.6281 797.93 Q47.6125 797.93 44.5569 793.92 Q41.5014 789.877 41.5014 781.889 L41.5014 773.677 L40.9285 773.677 Q36.8862 773.677 34.6901 776.35 Q32.4621 778.992 32.4621 783.798 Q32.4621 786.854 33.1941 789.75 Q33.9262 792.647 35.3903 795.32 L29.9795 795.32 Q28.7381 792.105 28.1334 789.082 Q27.4968 786.058 27.4968 783.193 Q27.4968 775.459 31.5072 771.64 Q35.5176 767.82 43.6657 767.82 Z\" fill=\"#000000\" fill-rule=\"evenodd\" fill-opacity=\"1\" /><path clip-path=\"url(#clip360)\" d=\"M 0 0 M29.4065 738.952 L34.9447 738.952 Q33.6716 741.434 33.035 744.108 Q32.3984 746.782 32.3984 749.646 Q32.3984 754.007 33.7352 756.203 Q35.072 758.367 37.7456 758.367 Q39.7826 758.367 40.9603 756.808 Q42.1061 755.248 43.1565 750.537 L43.6021 748.532 Q44.9389 742.294 47.3897 739.684 Q49.8086 737.042 54.1691 737.042 Q59.1344 737.042 62.0308 740.989 Q64.9272 744.904 64.9272 751.779 Q64.9272 754.643 64.3543 757.762 Q63.8132 760.85 62.6992 764.287 L56.6518 764.287 Q58.3387 761.041 59.198 757.89 Q60.0256 754.739 60.0256 751.651 Q60.0256 747.514 58.6251 745.286 Q57.1929 743.058 54.6147 743.058 Q52.2276 743.058 50.9545 744.681 Q49.6813 746.272 48.5037 751.715 L48.0262 753.752 Q46.8804 759.195 44.5251 761.614 Q42.138 764.033 38.0002 764.033 Q32.9713 764.033 30.2341 760.468 Q27.4968 756.903 27.4968 750.346 Q27.4968 747.1 27.9743 744.235 Q28.4517 741.371 29.4065 738.952 Z\" fill=\"#000000\" fill-rule=\"evenodd\" fill-opacity=\"1\" /><path clip-path=\"url(#clip360)\" d=\"M 0 0 M28.3562 713.584 L28.3562 707.728 L56.1743 700.407 L28.3562 693.119 L28.3562 686.212 L56.1743 678.891 L28.3562 671.603 L28.3562 665.746 L64.0042 675.072 L64.0042 681.979 L34.7856 689.649 L64.0042 697.352 L64.0042 704.259 L28.3562 713.584 Z\" fill=\"#000000\" fill-rule=\"evenodd\" fill-opacity=\"1\" /><path clip-path=\"url(#clip360)\" d=\"M 0 0 M67.3143 644.771 Q73.68 647.254 75.6216 649.609 Q77.5631 651.964 77.5631 655.911 L77.5631 660.59 L72.6615 660.59 L72.6615 657.152 Q72.6615 654.734 71.5157 653.397 Q70.3699 652.06 66.1048 650.437 L63.4312 649.386 L28.3562 663.805 L28.3562 657.598 L56.238 646.458 L28.3562 635.318 L28.3562 629.112 L67.3143 644.771 Z\" fill=\"#000000\" fill-rule=\"evenodd\" fill-opacity=\"1\" /><path clip-path=\"url(#clip360)\" d=\"M 0 0 M14.479 623.191 L14.479 617.303 L43.7294 617.303 L28.3562 599.829 L28.3562 592.35 L45.0344 611.256 L64.0042 591.554 L64.0042 599.193 L46.5939 617.303 L64.0042 617.303 L64.0042 623.191 L14.479 623.191 Z\" fill=\"#000000\" fill-rule=\"evenodd\" fill-opacity=\"1\" /><path clip-path=\"url(#clip360)\" d=\"M 0 0 M32.4621 573.921 Q32.4621 578.631 36.1542 581.369 Q39.8145 584.106 46.212 584.106 Q52.6095 584.106 56.3017 581.401 Q59.9619 578.663 59.9619 573.921 Q59.9619 569.242 56.2698 566.505 Q52.5777 563.768 46.212 563.768 Q39.8781 563.768 36.186 566.505 Q32.4621 569.242 32.4621 573.921 M27.4968 573.921 Q27.4968 566.282 32.4621 561.922 Q37.4273 557.561 46.212 557.561 Q54.9649 557.561 59.9619 561.922 Q64.9272 566.282 64.9272 573.921 Q64.9272 581.592 59.9619 585.952 Q54.9649 590.281 46.212 590.281 Q37.4273 590.281 32.4621 585.952 Q27.4968 581.592 27.4968 573.921 Z\" fill=\"#000000\" fill-rule=\"evenodd\" fill-opacity=\"1\" /><path clip-path=\"url(#clip360)\" d=\"M 0 0 M42.4881 521.786 L64.0042 521.786 L64.0042 527.642 L42.679 527.642 Q37.6183 527.642 35.1038 529.616 Q32.5894 531.589 32.5894 535.536 Q32.5894 540.278 35.6131 543.015 Q38.6368 545.753 43.8567 545.753 L64.0042 545.753 L64.0042 551.641 L28.3562 551.641 L28.3562 545.753 L33.8944 545.753 Q30.6797 543.652 29.0883 540.819 Q27.4968 537.955 27.4968 534.231 Q27.4968 528.088 31.3163 524.937 Q35.1038 521.786 42.4881 521.786 Z\" fill=\"#000000\" fill-rule=\"evenodd\" fill-opacity=\"1\" /><path clip-path=\"url(#clip360)\" d=\"M 0 0 M46.0847 499.442 Q46.0847 506.54 47.7079 509.277 Q49.3312 512.014 53.2461 512.014 Q56.3653 512.014 58.2114 509.977 Q60.0256 507.908 60.0256 504.376 Q60.0256 499.506 56.5881 496.578 Q53.1188 493.617 47.3897 493.617 L46.0847 493.617 L46.0847 499.442 M43.6657 487.761 L64.0042 487.761 L64.0042 493.617 L58.5933 493.617 Q61.8398 495.623 63.3994 498.615 Q64.9272 501.606 64.9272 505.935 Q64.9272 511.41 61.8716 514.656 Q58.7843 517.871 53.6281 517.871 Q47.6125 517.871 44.5569 513.86 Q41.5014 509.818 41.5014 501.829 L41.5014 493.617 L40.9285 493.617 Q36.8862 493.617 34.6901 496.291 Q32.4621 498.933 32.4621 503.739 Q32.4621 506.795 33.1941 509.691 Q33.9262 512.587 35.3903 515.261 L29.9795 515.261 Q28.7381 512.046 28.1334 509.022 Q27.4968 505.999 27.4968 503.134 Q27.4968 495.4 31.5072 491.58 Q35.5176 487.761 43.6657 487.761 Z\" fill=\"#000000\" fill-rule=\"evenodd\" fill-opacity=\"1\" /><path clip-path=\"url(#clip360)\" d=\"M 0 0 M42.4881 451.986 L64.0042 451.986 L64.0042 457.842 L42.679 457.842 Q37.6183 457.842 35.1038 459.816 Q32.5894 461.789 32.5894 465.736 Q32.5894 470.478 35.6131 473.215 Q38.6368 475.953 43.8567 475.953 L64.0042 475.953 L64.0042 481.841 L28.3562 481.841 L28.3562 475.953 L33.8944 475.953 Q30.6797 473.852 29.0883 471.019 Q27.4968 468.155 27.4968 464.431 Q27.4968 458.288 31.3163 455.137 Q35.1038 451.986 42.4881 451.986 Z\" fill=\"#000000\" fill-rule=\"evenodd\" fill-opacity=\"1\" /><path clip-path=\"url(#clip360)\" d=\"M 0 0 M28.3562 445.843 L28.3562 439.986 L64.0042 439.986 L64.0042 445.843 L28.3562 445.843 M14.479 445.843 L14.479 439.986 L21.895 439.986 L21.895 445.843 L14.479 445.843 Z\" fill=\"#000000\" fill-rule=\"evenodd\" fill-opacity=\"1\" /><path clip-path=\"url(#clip360)\" d=\"M 0 0 M46.0847 417.643 Q46.0847 424.741 47.7079 427.478 Q49.3312 430.215 53.2461 430.215 Q56.3653 430.215 58.2114 428.178 Q60.0256 426.109 60.0256 422.576 Q60.0256 417.706 56.5881 414.778 Q53.1188 411.818 47.3897 411.818 L46.0847 411.818 L46.0847 417.643 M43.6657 405.962 L64.0042 405.962 L64.0042 411.818 L58.5933 411.818 Q61.8398 413.823 63.3994 416.815 Q64.9272 419.807 64.9272 424.136 Q64.9272 429.61 61.8716 432.857 Q58.7843 436.071 53.6281 436.071 Q47.6125 436.071 44.5569 432.061 Q41.5014 428.019 41.5014 420.03 L41.5014 411.818 L40.9285 411.818 Q36.8862 411.818 34.6901 414.492 Q32.4621 417.134 32.4621 421.94 Q32.4621 424.995 33.1941 427.892 Q33.9262 430.788 35.3903 433.462 L29.9795 433.462 Q28.7381 430.247 28.1334 427.223 Q27.4968 424.199 27.4968 421.335 Q27.4968 413.601 31.5072 409.781 Q35.5176 405.962 43.6657 405.962 Z\" fill=\"#000000\" fill-rule=\"evenodd\" fill-opacity=\"1\" /><polyline clip-path=\"url(#clip362)\" style=\"stroke:#000000; stroke-width:4; stroke-opacity:1; fill:none\" points=\"\n",
       "  330.329,1384.24 330.329,423.759 \n",
       "  \"/>\n",
       "<polyline clip-path=\"url(#clip362)\" style=\"stroke:#000000; stroke-width:4; stroke-opacity:1; fill:none\" points=\"\n",
       "  596.667,1195.46 596.667,670.181 \n",
       "  \"/>\n",
       "<polyline clip-path=\"url(#clip362)\" style=\"stroke:#000000; stroke-width:4; stroke-opacity:1; fill:none\" points=\"\n",
       "  863.004,1114.93 863.004,487.045 \n",
       "  \"/>\n",
       "<polyline clip-path=\"url(#clip362)\" style=\"stroke:#000000; stroke-width:4; stroke-opacity:1; fill:none\" points=\"\n",
       "  1129.34,1173.76 1129.34,86.1857 \n",
       "  \"/>\n",
       "<line clip-path=\"url(#clip362)\" x1=\"346.329\" y1=\"1384.24\" x2=\"314.329\" y2=\"1384.24\" style=\"stroke:#000000; stroke-width:3.2; stroke-opacity:1\"/>\n",
       "<line clip-path=\"url(#clip362)\" x1=\"346.329\" y1=\"423.759\" x2=\"314.329\" y2=\"423.759\" style=\"stroke:#000000; stroke-width:3.2; stroke-opacity:1\"/>\n",
       "<line clip-path=\"url(#clip362)\" x1=\"612.667\" y1=\"1195.46\" x2=\"580.667\" y2=\"1195.46\" style=\"stroke:#000000; stroke-width:3.2; stroke-opacity:1\"/>\n",
       "<line clip-path=\"url(#clip362)\" x1=\"612.667\" y1=\"670.181\" x2=\"580.667\" y2=\"670.181\" style=\"stroke:#000000; stroke-width:3.2; stroke-opacity:1\"/>\n",
       "<line clip-path=\"url(#clip362)\" x1=\"879.004\" y1=\"1114.93\" x2=\"847.004\" y2=\"1114.93\" style=\"stroke:#000000; stroke-width:3.2; stroke-opacity:1\"/>\n",
       "<line clip-path=\"url(#clip362)\" x1=\"879.004\" y1=\"487.045\" x2=\"847.004\" y2=\"487.045\" style=\"stroke:#000000; stroke-width:3.2; stroke-opacity:1\"/>\n",
       "<line clip-path=\"url(#clip362)\" x1=\"1145.34\" y1=\"1173.76\" x2=\"1113.34\" y2=\"1173.76\" style=\"stroke:#000000; stroke-width:3.2; stroke-opacity:1\"/>\n",
       "<line clip-path=\"url(#clip362)\" x1=\"1145.34\" y1=\"86.1857\" x2=\"1113.34\" y2=\"86.1857\" style=\"stroke:#000000; stroke-width:3.2; stroke-opacity:1\"/>\n",
       "<circle clip-path=\"url(#clip362)\" cx=\"330.329\" cy=\"903.999\" r=\"14\" fill=\"#ff0000\" fill-rule=\"evenodd\" fill-opacity=\"1\" stroke=\"#000000\" stroke-opacity=\"1\" stroke-width=\"3.2\"/>\n",
       "<circle clip-path=\"url(#clip362)\" cx=\"596.667\" cy=\"932.822\" r=\"14\" fill=\"#ff0000\" fill-rule=\"evenodd\" fill-opacity=\"1\" stroke=\"#000000\" stroke-opacity=\"1\" stroke-width=\"3.2\"/>\n",
       "<circle clip-path=\"url(#clip362)\" cx=\"863.004\" cy=\"800.985\" r=\"14\" fill=\"#ff0000\" fill-rule=\"evenodd\" fill-opacity=\"1\" stroke=\"#000000\" stroke-opacity=\"1\" stroke-width=\"3.2\"/>\n",
       "<circle clip-path=\"url(#clip362)\" cx=\"1129.34\" cy=\"629.973\" r=\"14\" fill=\"#ff0000\" fill-rule=\"evenodd\" fill-opacity=\"1\" stroke=\"#000000\" stroke-opacity=\"1\" stroke-width=\"3.2\"/>\n",
       "<path clip-path=\"url(#clip360)\" d=\"\n",
       "M323.038 214.069 L1125.08 214.069 L1125.08 93.1086 L323.038 93.1086  Z\n",
       "  \" fill=\"#ffffff\" fill-rule=\"evenodd\" fill-opacity=\"1\"/>\n",
       "<polyline clip-path=\"url(#clip360)\" style=\"stroke:#000000; stroke-width:4; stroke-opacity:1; fill:none\" points=\"\n",
       "  323.038,214.069 1125.08,214.069 1125.08,93.1086 323.038,93.1086 323.038,214.069 \n",
       "  \"/>\n",
       "<circle clip-path=\"url(#clip360)\" cx=\"360.68\" cy=\"153.589\" r=\"23\" fill=\"#ff0000\" fill-rule=\"evenodd\" fill-opacity=\"1\" stroke=\"#000000\" stroke-opacity=\"1\" stroke-width=\"5.12\"/>\n",
       "<path clip-path=\"url(#clip360)\" d=\"M 0 0 M398.323 136.309 L405.29 136.309 L414.109 159.827 L422.975 136.309 L429.943 136.309 L429.943 170.869 L425.383 170.869 L425.383 140.522 L416.471 164.225 L411.772 164.225 L402.86 140.522 L402.86 170.869 L398.323 170.869 L398.323 136.309 Z\" fill=\"#000000\" fill-rule=\"evenodd\" fill-opacity=\"1\" /><path clip-path=\"url(#clip360)\" d=\"M 0 0 M455.961 155.221 L455.961 170.869 L451.702 170.869 L451.702 155.359 Q451.702 151.679 450.267 149.85 Q448.832 148.022 445.961 148.022 Q442.512 148.022 440.521 150.221 Q438.531 152.42 438.531 156.216 L438.531 170.869 L434.248 170.869 L434.248 144.943 L438.531 144.943 L438.531 148.971 Q440.058 146.633 442.119 145.475 Q444.202 144.318 446.91 144.318 Q451.378 144.318 453.669 147.096 Q455.961 149.85 455.961 155.221 Z\" fill=\"#000000\" fill-rule=\"evenodd\" fill-opacity=\"1\" /><path clip-path=\"url(#clip360)\" d=\"M 0 0 M470.475 147.929 Q467.049 147.929 465.058 150.614 Q463.068 153.276 463.068 157.929 Q463.068 162.582 465.035 165.267 Q467.026 167.929 470.475 167.929 Q473.878 167.929 475.868 165.244 Q477.859 162.558 477.859 157.929 Q477.859 153.322 475.868 150.637 Q473.878 147.929 470.475 147.929 M470.475 144.318 Q476.03 144.318 479.202 147.929 Q482.373 151.54 482.373 157.929 Q482.373 164.295 479.202 167.929 Q476.03 171.54 470.475 171.54 Q464.896 171.54 461.725 167.929 Q458.577 164.295 458.577 157.929 Q458.577 151.54 461.725 147.929 Q464.896 144.318 470.475 144.318 Z\" fill=\"#000000\" fill-rule=\"evenodd\" fill-opacity=\"1\" /><path clip-path=\"url(#clip360)\" d=\"M 0 0 M492.581 134.85 L496.841 134.85 L496.841 140.244 L492.581 140.244 L492.581 134.85 M494.757 144.318 L494.757 144.318 M484.989 144.943 L505.22 144.943 L505.22 148.832 L489.202 167.466 L505.22 167.466 L505.22 170.869 L484.41 170.869 L484.41 166.98 L500.428 148.346 L484.989 148.346 L484.989 144.943 Z\" fill=\"#000000\" fill-rule=\"evenodd\" fill-opacity=\"1\" /><path clip-path=\"url(#clip360)\" d=\"M 0 0 M531.863 156.841 L531.863 158.924 L512.28 158.924 Q512.558 163.322 514.919 165.637 Q517.303 167.929 521.539 167.929 Q523.993 167.929 526.285 167.327 Q528.6 166.725 530.868 165.521 L530.868 169.549 Q528.576 170.521 526.169 171.031 Q523.762 171.54 521.285 171.54 Q515.081 171.54 511.447 167.929 Q507.836 164.318 507.836 158.16 Q507.836 151.795 511.262 148.068 Q514.711 144.318 520.544 144.318 Q525.776 144.318 528.808 147.697 Q531.863 151.054 531.863 156.841 M527.604 155.591 Q527.558 152.096 525.637 150.012 Q523.739 147.929 520.59 147.929 Q517.026 147.929 514.873 149.943 Q512.743 151.957 512.419 155.614 L527.604 155.591 Z\" fill=\"#000000\" fill-rule=\"evenodd\" fill-opacity=\"1\" /><path clip-path=\"url(#clip360)\" d=\"M 0 0 M557.882 155.221 L557.882 170.869 L553.623 170.869 L553.623 155.359 Q553.623 151.679 552.187 149.85 Q550.752 148.022 547.882 148.022 Q544.433 148.022 542.442 150.221 Q540.451 152.42 540.451 156.216 L540.451 170.869 L536.169 170.869 L536.169 144.943 L540.451 144.943 L540.451 148.971 Q541.979 146.633 544.039 145.475 Q546.123 144.318 548.831 144.318 Q553.299 144.318 555.59 147.096 Q557.882 149.85 557.882 155.221 Z\" fill=\"#000000\" fill-rule=\"evenodd\" fill-opacity=\"1\" /><path clip-path=\"url(#clip360)\" d=\"M 0 0 M562.349 144.943 L566.609 144.943 L566.609 170.869 L562.349 170.869 L562.349 144.943 M562.349 134.85 L566.609 134.85 L566.609 140.244 L562.349 140.244 L562.349 134.85 Z\" fill=\"#000000\" fill-rule=\"evenodd\" fill-opacity=\"1\" /><path clip-path=\"url(#clip360)\" d=\"M 0 0 M593.252 156.841 L593.252 158.924 L573.669 158.924 Q573.947 163.322 576.308 165.637 Q578.692 167.929 582.928 167.929 Q585.382 167.929 587.673 167.327 Q589.988 166.725 592.257 165.521 L592.257 169.549 Q589.965 170.521 587.558 171.031 Q585.15 171.54 582.673 171.54 Q576.47 171.54 572.835 167.929 Q569.224 164.318 569.224 158.16 Q569.224 151.795 572.65 148.068 Q576.099 144.318 581.933 144.318 Q587.164 144.318 590.196 147.697 Q593.252 151.054 593.252 156.841 M588.993 155.591 Q588.946 152.096 587.025 150.012 Q585.127 147.929 581.979 147.929 Q578.414 147.929 576.261 149.943 Q574.132 151.957 573.808 155.614 L588.993 155.591 Z\" fill=\"#000000\" fill-rule=\"evenodd\" fill-opacity=\"1\" /><path clip-path=\"url(#clip360)\" d=\"M 0 0 M632.974 149.92 Q634.571 147.049 636.793 145.684 Q639.016 144.318 642.025 144.318 Q646.076 144.318 648.275 147.165 Q650.474 149.989 650.474 155.221 L650.474 170.869 L646.192 170.869 L646.192 155.359 Q646.192 151.633 644.872 149.827 Q643.553 148.022 640.844 148.022 Q637.534 148.022 635.613 150.221 Q633.692 152.42 633.692 156.216 L633.692 170.869 L629.409 170.869 L629.409 155.359 Q629.409 151.609 628.09 149.827 Q626.77 148.022 624.016 148.022 Q620.752 148.022 618.831 150.244 Q616.909 152.443 616.909 156.216 L616.909 170.869 L612.627 170.869 L612.627 144.943 L616.909 144.943 L616.909 148.971 Q618.368 146.586 620.405 145.452 Q622.442 144.318 625.243 144.318 Q628.067 144.318 630.034 145.753 Q632.025 147.188 632.974 149.92 Z\" fill=\"#000000\" fill-rule=\"evenodd\" fill-opacity=\"1\" /><path clip-path=\"url(#clip360)\" d=\"M 0 0 M666.724 157.836 Q661.562 157.836 659.571 159.017 Q657.58 160.197 657.58 163.045 Q657.58 165.313 659.062 166.656 Q660.566 167.975 663.136 167.975 Q666.678 167.975 668.807 165.475 Q670.96 162.952 670.96 158.785 L670.96 157.836 L666.724 157.836 M675.219 156.077 L675.219 170.869 L670.96 170.869 L670.96 166.933 Q669.502 169.295 667.326 170.429 Q665.15 171.54 662.002 171.54 Q658.02 171.54 655.659 169.318 Q653.321 167.072 653.321 163.322 Q653.321 158.947 656.238 156.725 Q659.178 154.503 664.988 154.503 L670.96 154.503 L670.96 154.086 Q670.96 151.147 669.016 149.549 Q667.094 147.929 663.599 147.929 Q661.377 147.929 659.27 148.461 Q657.164 148.994 655.219 150.059 L655.219 146.123 Q657.557 145.221 659.756 144.781 Q661.955 144.318 664.039 144.318 Q669.664 144.318 672.441 147.234 Q675.219 150.151 675.219 156.077 Z\" fill=\"#000000\" fill-rule=\"evenodd\" fill-opacity=\"1\" /><path clip-path=\"url(#clip360)\" d=\"M 0 0 M698.344 145.938 L698.344 149.92 Q696.539 148.924 694.71 148.438 Q692.904 147.929 691.052 147.929 Q686.909 147.929 684.617 150.568 Q682.326 153.184 682.326 157.929 Q682.326 162.674 684.617 165.313 Q686.909 167.929 691.052 167.929 Q692.904 167.929 694.71 167.443 Q696.539 166.933 698.344 165.938 L698.344 169.873 Q696.562 170.707 694.64 171.123 Q692.742 171.54 690.589 171.54 Q684.733 171.54 681.284 167.859 Q677.835 164.179 677.835 157.929 Q677.835 151.586 681.307 147.952 Q684.802 144.318 690.867 144.318 Q692.835 144.318 694.71 144.735 Q696.585 145.128 698.344 145.938 Z\" fill=\"#000000\" fill-rule=\"evenodd\" fill-opacity=\"1\" /><path clip-path=\"url(#clip360)\" d=\"M 0 0 M702.812 144.943 L707.071 144.943 L707.071 170.869 L702.812 170.869 L702.812 144.943 M702.812 134.85 L707.071 134.85 L707.071 140.244 L702.812 140.244 L702.812 134.85 Z\" fill=\"#000000\" fill-rule=\"evenodd\" fill-opacity=\"1\" /><path clip-path=\"url(#clip360)\" d=\"M 0 0 M733.714 156.841 L733.714 158.924 L714.131 158.924 Q714.409 163.322 716.77 165.637 Q719.154 167.929 723.39 167.929 Q725.844 167.929 728.136 167.327 Q730.45 166.725 732.719 165.521 L732.719 169.549 Q730.427 170.521 728.02 171.031 Q725.612 171.54 723.136 171.54 Q716.932 171.54 713.298 167.929 Q709.687 164.318 709.687 158.16 Q709.687 151.795 713.112 148.068 Q716.562 144.318 722.395 144.318 Q727.626 144.318 730.659 147.697 Q733.714 151.054 733.714 156.841 M729.455 155.591 Q729.409 152.096 727.487 150.012 Q725.589 147.929 722.441 147.929 Q718.876 147.929 716.724 149.943 Q714.594 151.957 714.27 155.614 L729.455 155.591 Z\" fill=\"#000000\" fill-rule=\"evenodd\" fill-opacity=\"1\" /><path clip-path=\"url(#clip360)\" d=\"M 0 0 M753.205 148.924 Q752.487 148.508 751.631 148.322 Q750.797 148.114 749.779 148.114 Q746.168 148.114 744.223 150.475 Q742.302 152.813 742.302 157.211 L742.302 170.869 L738.02 170.869 L738.02 144.943 L742.302 144.943 L742.302 148.971 Q743.645 146.609 745.798 145.475 Q747.95 144.318 751.029 144.318 Q751.469 144.318 752.001 144.387 Q752.534 144.434 753.182 144.549 L753.205 148.924 Z\" fill=\"#000000\" fill-rule=\"evenodd\" fill-opacity=\"1\" /><path clip-path=\"url(#clip360)\" d=\"M 0 0 M755.821 144.943 L776.052 144.943 L776.052 148.832 L760.034 167.466 L776.052 167.466 L776.052 170.869 L755.242 170.869 L755.242 166.98 L771.26 148.346 L755.821 148.346 L755.821 144.943 Z\" fill=\"#000000\" fill-rule=\"evenodd\" fill-opacity=\"1\" /><path clip-path=\"url(#clip360)\" d=\"M 0 0 M791.307 173.276 Q789.501 177.906 787.788 179.318 Q786.075 180.73 783.205 180.73 L779.802 180.73 L779.802 177.165 L782.302 177.165 Q784.061 177.165 785.033 176.332 Q786.006 175.498 787.186 172.396 L787.95 170.452 L777.464 144.943 L781.978 144.943 L790.08 165.221 L798.181 144.943 L802.695 144.943 L791.307 173.276 Z\" fill=\"#000000\" fill-rule=\"evenodd\" fill-opacity=\"1\" /><path clip-path=\"url(#clip360)\" d=\"M 0 0 M826.353 166.98 L826.353 180.73 L822.07 180.73 L822.07 144.943 L826.353 144.943 L826.353 148.878 Q827.695 146.563 829.732 145.452 Q831.792 144.318 834.64 144.318 Q839.362 144.318 842.302 148.068 Q845.265 151.818 845.265 157.929 Q845.265 164.04 842.302 167.79 Q839.362 171.54 834.64 171.54 Q831.792 171.54 829.732 170.429 Q827.695 169.295 826.353 166.98 M840.843 157.929 Q840.843 153.23 838.899 150.568 Q836.978 147.883 833.598 147.883 Q830.218 147.883 828.274 150.568 Q826.353 153.23 826.353 157.929 Q826.353 162.628 828.274 165.313 Q830.218 167.975 833.598 167.975 Q836.978 167.975 838.899 165.313 Q840.843 162.628 840.843 157.929 Z\" fill=\"#000000\" fill-rule=\"evenodd\" fill-opacity=\"1\" /><path clip-path=\"url(#clip360)\" d=\"M 0 0 M864.755 148.924 Q864.038 148.508 863.181 148.322 Q862.348 148.114 861.329 148.114 Q857.718 148.114 855.774 150.475 Q853.852 152.813 853.852 157.211 L853.852 170.869 L849.57 170.869 L849.57 144.943 L853.852 144.943 L853.852 148.971 Q855.195 146.609 857.348 145.475 Q859.501 144.318 862.579 144.318 Q863.019 144.318 863.552 144.387 Q864.084 144.434 864.732 144.549 L864.755 148.924 Z\" fill=\"#000000\" fill-rule=\"evenodd\" fill-opacity=\"1\" /><path clip-path=\"url(#clip360)\" d=\"M 0 0 M867.371 144.943 L887.602 144.943 L887.602 148.832 L871.584 167.466 L887.602 167.466 L887.602 170.869 L866.792 170.869 L866.792 166.98 L882.811 148.346 L867.371 148.346 L867.371 144.943 Z\" fill=\"#000000\" fill-rule=\"evenodd\" fill-opacity=\"1\" /><path clip-path=\"url(#clip360)\" d=\"M 0 0 M914.246 156.841 L914.246 158.924 L894.662 158.924 Q894.94 163.322 897.301 165.637 Q899.686 167.929 903.922 167.929 Q906.375 167.929 908.667 167.327 Q910.982 166.725 913.25 165.521 L913.25 169.549 Q910.959 170.521 908.551 171.031 Q906.144 171.54 903.667 171.54 Q897.463 171.54 893.829 167.929 Q890.218 164.318 890.218 158.16 Q890.218 151.795 893.644 148.068 Q897.093 144.318 902.926 144.318 Q908.158 144.318 911.19 147.697 Q914.246 151.054 914.246 156.841 M909.986 155.591 Q909.94 152.096 908.019 150.012 Q906.121 147.929 902.973 147.929 Q899.408 147.929 897.255 149.943 Q895.125 151.957 894.801 155.614 L909.986 155.591 Z\" fill=\"#000000\" fill-rule=\"evenodd\" fill-opacity=\"1\" /><path clip-path=\"url(#clip360)\" d=\"M 0 0 M916.861 144.943 L937.093 144.943 L937.093 148.832 L921.074 167.466 L937.093 167.466 L937.093 170.869 L916.283 170.869 L916.283 166.98 L932.301 148.346 L916.861 148.346 L916.861 144.943 Z\" fill=\"#000000\" fill-rule=\"evenodd\" fill-opacity=\"1\" /><path clip-path=\"url(#clip360)\" d=\"M 0 0 M954.153 144.943 L958.412 144.943 L963.736 165.174 L969.037 144.943 L974.06 144.943 L979.384 165.174 L984.685 144.943 L988.944 144.943 L982.162 170.869 L977.139 170.869 L971.56 149.619 L965.958 170.869 L960.935 170.869 L954.153 144.943 Z\" fill=\"#000000\" fill-rule=\"evenodd\" fill-opacity=\"1\" /><path clip-path=\"url(#clip360)\" d=\"M 0 0 M1015.59 156.841 L1015.59 158.924 L996.004 158.924 Q996.282 163.322 998.643 165.637 Q1001.03 167.929 1005.26 167.929 Q1007.72 167.929 1010.01 167.327 Q1012.32 166.725 1014.59 165.521 L1014.59 169.549 Q1012.3 170.521 1009.89 171.031 Q1007.49 171.54 1005.01 171.54 Q998.805 171.54 995.171 167.929 Q991.56 164.318 991.56 158.16 Q991.56 151.795 994.986 148.068 Q998.435 144.318 1004.27 144.318 Q1009.5 144.318 1012.53 147.697 Q1015.59 151.054 1015.59 156.841 M1011.33 155.591 Q1011.28 152.096 1009.36 150.012 Q1007.46 147.929 1004.31 147.929 Q1000.75 147.929 998.597 149.943 Q996.467 151.957 996.143 155.614 L1011.33 155.591 Z\" fill=\"#000000\" fill-rule=\"evenodd\" fill-opacity=\"1\" /><path clip-path=\"url(#clip360)\" d=\"M 0 0 M1019.89 134.85 L1024.18 134.85 L1024.18 156.123 L1036.88 144.943 L1042.32 144.943 L1028.57 157.072 L1042.9 170.869 L1037.35 170.869 L1024.18 158.207 L1024.18 170.869 L1019.89 170.869 L1019.89 134.85 Z\" fill=\"#000000\" fill-rule=\"evenodd\" fill-opacity=\"1\" /><path clip-path=\"url(#clip360)\" d=\"M 0 0 M1051.58 137.582 L1051.58 144.943 L1060.36 144.943 L1060.36 148.253 L1051.58 148.253 L1051.58 162.327 Q1051.58 165.498 1052.44 166.401 Q1053.32 167.304 1055.98 167.304 L1060.36 167.304 L1060.36 170.869 L1055.98 170.869 Q1051.05 170.869 1049.18 169.04 Q1047.3 167.188 1047.3 162.327 L1047.3 148.253 L1044.18 148.253 L1044.18 144.943 L1047.3 144.943 L1047.3 137.582 L1051.58 137.582 Z\" fill=\"#000000\" fill-rule=\"evenodd\" fill-opacity=\"1\" /><path clip-path=\"url(#clip360)\" d=\"M 0 0 M1074.87 147.929 Q1071.44 147.929 1069.45 150.614 Q1067.46 153.276 1067.46 157.929 Q1067.46 162.582 1069.43 165.267 Q1071.42 167.929 1074.87 167.929 Q1078.27 167.929 1080.26 165.244 Q1082.25 162.558 1082.25 157.929 Q1082.25 153.322 1080.26 150.637 Q1078.27 147.929 1074.87 147.929 M1074.87 144.318 Q1080.43 144.318 1083.6 147.929 Q1086.77 151.54 1086.77 157.929 Q1086.77 164.295 1083.6 167.929 Q1080.43 171.54 1074.87 171.54 Q1069.29 171.54 1066.12 167.929 Q1062.97 164.295 1062.97 157.929 Q1062.97 151.54 1066.12 147.929 Q1069.29 144.318 1074.87 144.318 Z\" fill=\"#000000\" fill-rule=\"evenodd\" fill-opacity=\"1\" /><path clip-path=\"url(#clip360)\" d=\"M 0 0 M1106.26 148.924 Q1105.54 148.508 1104.68 148.322 Q1103.85 148.114 1102.83 148.114 Q1099.22 148.114 1097.28 150.475 Q1095.36 152.813 1095.36 157.211 L1095.36 170.869 L1091.07 170.869 L1091.07 144.943 L1095.36 144.943 L1095.36 148.971 Q1096.7 146.609 1098.85 145.475 Q1101 144.318 1104.08 144.318 Q1104.52 144.318 1105.05 144.387 Q1105.59 144.434 1106.24 144.549 L1106.26 148.924 Z\" fill=\"#000000\" fill-rule=\"evenodd\" fill-opacity=\"1\" /><path clip-path=\"url(#clip360)\" d=\"\n",
       "M1505.8 1423.18 L2352.76 1423.18 L2352.76 47.2441 L1505.8 47.2441  Z\n",
       "  \" fill=\"#ffffff\" fill-rule=\"evenodd\" fill-opacity=\"1\"/>\n",
       "<defs>\n",
       "  <clipPath id=\"clip363\">\n",
       "    <rect x=\"1505\" y=\"47\" width=\"848\" height=\"1377\"/>\n",
       "  </clipPath>\n",
       "</defs>\n",
       "<polyline clip-path=\"url(#clip363)\" style=\"stroke:#000000; stroke-width:2; stroke-opacity:0.1; fill:none\" points=\"\n",
       "  1529.77,1423.18 1529.77,47.2441 \n",
       "  \"/>\n",
       "<polyline clip-path=\"url(#clip363)\" style=\"stroke:#000000; stroke-width:2; stroke-opacity:0.1; fill:none\" points=\"\n",
       "  1796.11,1423.18 1796.11,47.2441 \n",
       "  \"/>\n",
       "<polyline clip-path=\"url(#clip363)\" style=\"stroke:#000000; stroke-width:2; stroke-opacity:0.1; fill:none\" points=\"\n",
       "  2062.45,1423.18 2062.45,47.2441 \n",
       "  \"/>\n",
       "<polyline clip-path=\"url(#clip363)\" style=\"stroke:#000000; stroke-width:2; stroke-opacity:0.1; fill:none\" points=\"\n",
       "  2328.79,1423.18 2328.79,47.2441 \n",
       "  \"/>\n",
       "<polyline clip-path=\"url(#clip360)\" style=\"stroke:#000000; stroke-width:4; stroke-opacity:1; fill:none\" points=\"\n",
       "  1505.8,1423.18 2352.76,1423.18 \n",
       "  \"/>\n",
       "<polyline clip-path=\"url(#clip360)\" style=\"stroke:#000000; stroke-width:4; stroke-opacity:1; fill:none\" points=\"\n",
       "  1529.77,1423.18 1529.77,1406.67 \n",
       "  \"/>\n",
       "<polyline clip-path=\"url(#clip360)\" style=\"stroke:#000000; stroke-width:4; stroke-opacity:1; fill:none\" points=\"\n",
       "  1796.11,1423.18 1796.11,1406.67 \n",
       "  \"/>\n",
       "<polyline clip-path=\"url(#clip360)\" style=\"stroke:#000000; stroke-width:4; stroke-opacity:1; fill:none\" points=\"\n",
       "  2062.45,1423.18 2062.45,1406.67 \n",
       "  \"/>\n",
       "<polyline clip-path=\"url(#clip360)\" style=\"stroke:#000000; stroke-width:4; stroke-opacity:1; fill:none\" points=\"\n",
       "  2328.79,1423.18 2328.79,1406.67 \n",
       "  \"/>\n",
       "<path clip-path=\"url(#clip360)\" d=\"M 0 0 M1506.65 1479.92 L1514.29 1479.92 L1514.29 1453.55 L1505.98 1455.22 L1505.98 1450.96 L1514.24 1449.29 L1518.92 1449.29 L1518.92 1479.92 L1526.56 1479.92 L1526.56 1483.85 L1506.65 1483.85 L1506.65 1479.92 Z\" fill=\"#000000\" fill-rule=\"evenodd\" fill-opacity=\"1\" /><path clip-path=\"url(#clip360)\" d=\"M 0 0 M1541.63 1452.37 Q1538.01 1452.37 1536.19 1455.94 Q1534.38 1459.48 1534.38 1466.61 Q1534.38 1473.71 1536.19 1477.28 Q1538.01 1480.82 1541.63 1480.82 Q1545.26 1480.82 1547.07 1477.28 Q1548.89 1473.71 1548.89 1466.61 Q1548.89 1459.48 1547.07 1455.94 Q1545.26 1452.37 1541.63 1452.37 M1541.63 1448.67 Q1547.44 1448.67 1550.49 1453.27 Q1553.57 1457.86 1553.57 1466.61 Q1553.57 1475.33 1550.49 1479.94 Q1547.44 1484.52 1541.63 1484.52 Q1535.82 1484.52 1532.74 1479.94 Q1529.68 1475.33 1529.68 1466.61 Q1529.68 1457.86 1532.74 1453.27 Q1535.82 1448.67 1541.63 1448.67 Z\" fill=\"#000000\" fill-rule=\"evenodd\" fill-opacity=\"1\" /><path clip-path=\"url(#clip360)\" d=\"M 0 0 M1777.26 1479.92 L1793.58 1479.92 L1793.58 1483.85 L1771.63 1483.85 L1771.63 1479.92 Q1774.29 1477.16 1778.88 1472.53 Q1783.48 1467.88 1784.66 1466.54 Q1786.91 1464.01 1787.79 1462.28 Q1788.69 1460.52 1788.69 1458.83 Q1788.69 1456.07 1786.75 1454.34 Q1784.83 1452.6 1781.72 1452.6 Q1779.53 1452.6 1777.07 1453.37 Q1774.64 1454.13 1771.86 1455.68 L1771.86 1450.96 Q1774.69 1449.82 1777.14 1449.25 Q1779.59 1448.67 1781.63 1448.67 Q1787 1448.67 1790.2 1451.35 Q1793.39 1454.04 1793.39 1458.53 Q1793.39 1460.66 1792.58 1462.58 Q1791.79 1464.48 1789.69 1467.07 Q1789.11 1467.74 1786.01 1470.96 Q1782.91 1474.15 1777.26 1479.92 Z\" fill=\"#000000\" fill-rule=\"evenodd\" fill-opacity=\"1\" /><path clip-path=\"url(#clip360)\" d=\"M 0 0 M1808.65 1452.37 Q1805.03 1452.37 1803.21 1455.94 Q1801.4 1459.48 1801.4 1466.61 Q1801.4 1473.71 1803.21 1477.28 Q1805.03 1480.82 1808.65 1480.82 Q1812.28 1480.82 1814.09 1477.28 Q1815.91 1473.71 1815.91 1466.61 Q1815.91 1459.48 1814.09 1455.94 Q1812.28 1452.37 1808.65 1452.37 M1808.65 1448.67 Q1814.46 1448.67 1817.51 1453.27 Q1820.59 1457.86 1820.59 1466.61 Q1820.59 1475.33 1817.51 1479.94 Q1814.46 1484.52 1808.65 1484.52 Q1802.84 1484.52 1799.76 1479.94 Q1796.7 1475.33 1796.7 1466.61 Q1796.7 1457.86 1799.76 1453.27 Q1802.84 1448.67 1808.65 1448.67 Z\" fill=\"#000000\" fill-rule=\"evenodd\" fill-opacity=\"1\" /><path clip-path=\"url(#clip360)\" d=\"M 0 0 M2053.19 1465.22 Q2056.55 1465.94 2058.42 1468.2 Q2060.32 1470.47 2060.32 1473.81 Q2060.32 1478.92 2056.8 1481.72 Q2053.28 1484.52 2046.8 1484.52 Q2044.62 1484.52 2042.31 1484.08 Q2040.02 1483.67 2037.56 1482.81 L2037.56 1478.3 Q2039.51 1479.43 2041.82 1480.01 Q2044.14 1480.59 2046.66 1480.59 Q2051.06 1480.59 2053.35 1478.85 Q2055.67 1477.12 2055.67 1473.81 Q2055.67 1470.75 2053.51 1469.04 Q2051.38 1467.3 2047.56 1467.3 L2043.54 1467.3 L2043.54 1463.46 L2047.75 1463.46 Q2051.2 1463.46 2053.03 1462.09 Q2054.86 1460.7 2054.86 1458.11 Q2054.86 1455.45 2052.96 1454.04 Q2051.08 1452.6 2047.56 1452.6 Q2045.64 1452.6 2043.44 1453.02 Q2041.24 1453.44 2038.61 1454.31 L2038.61 1450.15 Q2041.27 1449.41 2043.58 1449.04 Q2045.92 1448.67 2047.98 1448.67 Q2053.3 1448.67 2056.41 1451.1 Q2059.51 1453.5 2059.51 1457.63 Q2059.51 1460.5 2057.86 1462.49 Q2056.22 1464.45 2053.19 1465.22 Z\" fill=\"#000000\" fill-rule=\"evenodd\" fill-opacity=\"1\" /><path clip-path=\"url(#clip360)\" d=\"M 0 0 M2075.39 1452.37 Q2071.78 1452.37 2069.95 1455.94 Q2068.14 1459.48 2068.14 1466.61 Q2068.14 1473.71 2069.95 1477.28 Q2071.78 1480.82 2075.39 1480.82 Q2079.02 1480.82 2080.83 1477.28 Q2082.66 1473.71 2082.66 1466.61 Q2082.66 1459.48 2080.83 1455.94 Q2079.02 1452.37 2075.39 1452.37 M2075.39 1448.67 Q2081.2 1448.67 2084.25 1453.27 Q2087.33 1457.86 2087.33 1466.61 Q2087.33 1475.33 2084.25 1479.94 Q2081.2 1484.52 2075.39 1484.52 Q2069.58 1484.52 2066.5 1479.94 Q2063.44 1475.33 2063.44 1466.61 Q2063.44 1457.86 2066.5 1453.27 Q2069.58 1448.67 2075.39 1448.67 Z\" fill=\"#000000\" fill-rule=\"evenodd\" fill-opacity=\"1\" /><path clip-path=\"url(#clip360)\" d=\"M 0 0 M2318.29 1453.37 L2306.48 1471.81 L2318.29 1471.81 L2318.29 1453.37 M2317.06 1449.29 L2322.94 1449.29 L2322.94 1471.81 L2327.87 1471.81 L2327.87 1475.7 L2322.94 1475.7 L2322.94 1483.85 L2318.29 1483.85 L2318.29 1475.7 L2302.69 1475.7 L2302.69 1471.19 L2317.06 1449.29 Z\" fill=\"#000000\" fill-rule=\"evenodd\" fill-opacity=\"1\" /><path clip-path=\"url(#clip360)\" d=\"M 0 0 M2342.94 1452.37 Q2339.33 1452.37 2337.5 1455.94 Q2335.7 1459.48 2335.7 1466.61 Q2335.7 1473.71 2337.5 1477.28 Q2339.33 1480.82 2342.94 1480.82 Q2346.57 1480.82 2348.38 1477.28 Q2350.21 1473.71 2350.21 1466.61 Q2350.21 1459.48 2348.38 1455.94 Q2346.57 1452.37 2342.94 1452.37 M2342.94 1448.67 Q2348.75 1448.67 2351.81 1453.27 Q2354.88 1457.86 2354.88 1466.61 Q2354.88 1475.33 2351.81 1479.94 Q2348.75 1484.52 2342.94 1484.52 Q2337.13 1484.52 2334.05 1479.94 Q2331 1475.33 2331 1466.61 Q2331 1457.86 2334.05 1453.27 Q2337.13 1448.67 2342.94 1448.67 Z\" fill=\"#000000\" fill-rule=\"evenodd\" fill-opacity=\"1\" /><path clip-path=\"url(#clip360)\" d=\"M 0 0 M1669.22 1520.52 L1675.72 1520.52 L1685.71 1560.69 L1695.67 1520.52 L1702.9 1520.52 L1712.89 1560.69 L1722.86 1520.52 L1729.38 1520.52 L1717.44 1568.04 L1709.36 1568.04 L1699.33 1526.79 L1689.21 1568.04 L1681.13 1568.04 L1669.22 1520.52 Z\" fill=\"#000000\" fill-rule=\"evenodd\" fill-opacity=\"1\" /><path clip-path=\"url(#clip360)\" d=\"M 0 0 M1734.09 1532.4 L1739.95 1532.4 L1739.95 1568.04 L1734.09 1568.04 L1734.09 1532.4 M1734.09 1518.52 L1739.95 1518.52 L1739.95 1525.93 L1734.09 1525.93 L1734.09 1518.52 Z\" fill=\"#000000\" fill-rule=\"evenodd\" fill-opacity=\"1\" /><path clip-path=\"url(#clip360)\" d=\"M 0 0 M1776.58 1548.76 L1776.58 1551.62 L1749.66 1551.62 Q1750.04 1557.67 1753.28 1560.85 Q1756.56 1564 1762.39 1564 Q1765.76 1564 1768.91 1563.17 Q1772.09 1562.35 1775.21 1560.69 L1775.21 1566.23 Q1772.06 1567.57 1768.75 1568.27 Q1765.44 1568.97 1762.04 1568.97 Q1753.51 1568.97 1748.51 1564 Q1743.54 1559.04 1743.54 1550.57 Q1743.54 1541.82 1748.25 1536.69 Q1753 1531.54 1761.02 1531.54 Q1768.21 1531.54 1772.38 1536.18 Q1776.58 1540.8 1776.58 1548.76 M1770.73 1547.04 Q1770.66 1542.23 1768.02 1539.37 Q1765.41 1536.5 1761.08 1536.5 Q1756.18 1536.5 1753.22 1539.27 Q1750.29 1542.04 1749.85 1547.07 L1770.73 1547.04 Z\" fill=\"#000000\" fill-rule=\"evenodd\" fill-opacity=\"1\" /><path clip-path=\"url(#clip360)\" d=\"M 0 0 M1782.73 1518.52 L1788.58 1518.52 L1788.58 1568.04 L1782.73 1568.04 L1782.73 1518.52 Z\" fill=\"#000000\" fill-rule=\"evenodd\" fill-opacity=\"1\" /><path clip-path=\"url(#clip360)\" d=\"M 0 0 M1794.5 1518.52 L1800.39 1518.52 L1800.39 1547.77 L1817.86 1532.4 L1825.34 1532.4 L1806.44 1549.07 L1826.14 1568.04 L1818.5 1568.04 L1800.39 1550.63 L1800.39 1568.04 L1794.5 1568.04 L1794.5 1518.52 Z\" fill=\"#000000\" fill-rule=\"evenodd\" fill-opacity=\"1\" /><path clip-path=\"url(#clip360)\" d=\"M 0 0 M1843.77 1536.5 Q1839.06 1536.5 1836.32 1540.19 Q1833.59 1543.85 1833.59 1550.25 Q1833.59 1556.65 1836.29 1560.34 Q1839.03 1564 1843.77 1564 Q1848.45 1564 1851.19 1560.31 Q1853.93 1556.62 1853.93 1550.25 Q1853.93 1543.92 1851.19 1540.23 Q1848.45 1536.5 1843.77 1536.5 M1843.77 1531.54 Q1851.41 1531.54 1855.77 1536.5 Q1860.13 1541.47 1860.13 1550.25 Q1860.13 1559 1855.77 1564 Q1851.41 1568.97 1843.77 1568.97 Q1836.1 1568.97 1831.74 1564 Q1827.41 1559 1827.41 1550.25 Q1827.41 1541.47 1831.74 1536.5 Q1836.1 1531.54 1843.77 1531.54 Z\" fill=\"#000000\" fill-rule=\"evenodd\" fill-opacity=\"1\" /><path clip-path=\"url(#clip360)\" d=\"M 0 0 M1882.95 1515.69 L1889.29 1515.69 L1878.91 1527.65 L1874.04 1527.65 L1882.95 1515.69 M1889 1533.45 L1889 1538.98 Q1886.52 1537.71 1883.84 1537.07 Q1881.17 1536.44 1878.31 1536.44 Q1873.95 1536.44 1871.75 1537.77 Q1869.59 1539.11 1869.59 1541.79 Q1869.59 1543.82 1871.14 1545 Q1872.7 1546.15 1877.42 1547.2 L1879.42 1547.64 Q1885.66 1548.98 1888.27 1551.43 Q1890.91 1553.85 1890.91 1558.21 Q1890.91 1563.17 1886.96 1566.07 Q1883.05 1568.97 1876.17 1568.97 Q1873.31 1568.97 1870.19 1568.39 Q1867.1 1567.85 1863.67 1566.74 L1863.67 1560.69 Q1866.91 1562.38 1870.06 1563.24 Q1873.21 1564.07 1876.3 1564.07 Q1880.44 1564.07 1882.67 1562.66 Q1884.89 1561.23 1884.89 1558.65 Q1884.89 1556.27 1883.27 1554.99 Q1881.68 1553.72 1876.24 1552.54 L1874.2 1552.07 Q1868.76 1550.92 1866.34 1548.56 Q1863.92 1546.18 1863.92 1542.04 Q1863.92 1537.01 1867.48 1534.27 Q1871.05 1531.54 1877.61 1531.54 Q1880.85 1531.54 1883.72 1532.01 Q1886.58 1532.49 1889 1533.45 Z\" fill=\"#000000\" fill-rule=\"evenodd\" fill-opacity=\"1\" /><path clip-path=\"url(#clip360)\" d=\"M 0 0 M1922.71 1533.76 L1922.71 1539.24 Q1920.22 1537.87 1917.71 1537.2 Q1915.23 1536.5 1912.68 1536.5 Q1906.98 1536.5 1903.83 1540.13 Q1900.68 1543.73 1900.68 1550.25 Q1900.68 1556.78 1903.83 1560.4 Q1906.98 1564 1912.68 1564 Q1915.23 1564 1917.71 1563.33 Q1920.22 1562.63 1922.71 1561.26 L1922.71 1566.68 Q1920.26 1567.82 1917.61 1568.39 Q1915 1568.97 1912.04 1568.97 Q1903.99 1568.97 1899.25 1563.91 Q1894.51 1558.85 1894.51 1550.25 Q1894.51 1541.53 1899.28 1536.53 Q1904.09 1531.54 1912.43 1531.54 Q1915.13 1531.54 1917.71 1532.11 Q1920.29 1532.65 1922.71 1533.76 M1915.99 1515.91 L1922.33 1515.91 L1911.95 1527.88 L1907.08 1527.88 L1915.99 1515.91 Z\" fill=\"#000000\" fill-rule=\"evenodd\" fill-opacity=\"1\" /><path clip-path=\"url(#clip360)\" d=\"M 0 0 M1946.16 1532.4 L1952.02 1532.4 L1959.34 1560.21 L1966.63 1532.4 L1973.54 1532.4 L1980.86 1560.21 L1988.15 1532.4 L1994 1532.4 L1984.68 1568.04 L1977.77 1568.04 L1970.1 1538.83 L1962.4 1568.04 L1955.49 1568.04 L1946.16 1532.4 Z\" fill=\"#000000\" fill-rule=\"evenodd\" fill-opacity=\"1\" /><path clip-path=\"url(#clip360)\" d=\"M 0 0 M2030.64 1548.76 L2030.64 1551.62 L2003.71 1551.62 Q2004.09 1557.67 2007.34 1560.85 Q2010.62 1564 2016.44 1564 Q2019.82 1564 2022.97 1563.17 Q2026.15 1562.35 2029.27 1560.69 L2029.27 1566.23 Q2026.12 1567.57 2022.81 1568.27 Q2019.5 1568.97 2016.09 1568.97 Q2007.56 1568.97 2002.56 1564 Q1997.6 1559.04 1997.6 1550.57 Q1997.6 1541.82 2002.31 1536.69 Q2007.05 1531.54 2015.07 1531.54 Q2022.27 1531.54 2026.44 1536.18 Q2030.64 1540.8 2030.64 1548.76 M2024.78 1547.04 Q2024.72 1542.23 2022.08 1539.37 Q2019.47 1536.5 2015.14 1536.5 Q2010.24 1536.5 2007.28 1539.27 Q2004.35 1542.04 2003.9 1547.07 L2024.78 1547.04 Z\" fill=\"#000000\" fill-rule=\"evenodd\" fill-opacity=\"1\" /><path clip-path=\"url(#clip360)\" d=\"M 0 0 M2036.56 1518.52 L2042.45 1518.52 L2042.45 1547.77 L2059.92 1532.4 L2067.4 1532.4 L2048.49 1549.07 L2068.2 1568.04 L2060.56 1568.04 L2042.45 1550.63 L2042.45 1568.04 L2036.56 1568.04 L2036.56 1518.52 Z\" fill=\"#000000\" fill-rule=\"evenodd\" fill-opacity=\"1\" /><path clip-path=\"url(#clip360)\" d=\"M 0 0 M2080.13 1522.27 L2080.13 1532.4 L2092.19 1532.4 L2092.19 1536.95 L2080.13 1536.95 L2080.13 1556.3 Q2080.13 1560.66 2081.31 1561.9 Q2082.52 1563.14 2086.18 1563.14 L2092.19 1563.14 L2092.19 1568.04 L2086.18 1568.04 Q2079.4 1568.04 2076.82 1565.53 Q2074.24 1562.98 2074.24 1556.3 L2074.24 1536.95 L2069.95 1536.95 L2069.95 1532.4 L2074.24 1532.4 L2074.24 1522.27 L2080.13 1522.27 Z\" fill=\"#000000\" fill-rule=\"evenodd\" fill-opacity=\"1\" /><path clip-path=\"url(#clip360)\" d=\"M 0 0 M2112.15 1536.5 Q2107.44 1536.5 2104.7 1540.19 Q2101.97 1543.85 2101.97 1550.25 Q2101.97 1556.65 2104.67 1560.34 Q2107.41 1564 2112.15 1564 Q2116.83 1564 2119.57 1560.31 Q2122.3 1556.62 2122.3 1550.25 Q2122.3 1543.92 2119.57 1540.23 Q2116.83 1536.5 2112.15 1536.5 M2112.15 1531.54 Q2119.79 1531.54 2124.15 1536.5 Q2128.51 1541.47 2128.51 1550.25 Q2128.51 1559 2124.15 1564 Q2119.79 1568.97 2112.15 1568.97 Q2104.48 1568.97 2100.12 1564 Q2095.79 1559 2095.79 1550.25 Q2095.79 1541.47 2100.12 1536.5 Q2104.48 1531.54 2112.15 1531.54 Z\" fill=\"#000000\" fill-rule=\"evenodd\" fill-opacity=\"1\" /><path clip-path=\"url(#clip360)\" d=\"M 0 0 M2155.31 1537.87 Q2154.32 1537.3 2153.15 1537.04 Q2152 1536.76 2150.6 1536.76 Q2145.63 1536.76 2142.96 1540 Q2140.32 1543.22 2140.32 1549.27 L2140.32 1568.04 L2134.43 1568.04 L2134.43 1532.4 L2140.32 1532.4 L2140.32 1537.93 Q2142.16 1534.69 2145.12 1533.13 Q2148.08 1531.54 2152.32 1531.54 Q2152.92 1531.54 2153.65 1531.63 Q2154.39 1531.7 2155.28 1531.85 L2155.31 1537.87 Z\" fill=\"#000000\" fill-rule=\"evenodd\" fill-opacity=\"1\" /><path clip-path=\"url(#clip360)\" d=\"M 0 0 M2177.65 1550.12 Q2170.56 1550.12 2167.82 1551.75 Q2165.08 1553.37 2165.08 1557.29 Q2165.08 1560.4 2167.12 1562.25 Q2169.19 1564.07 2172.72 1564.07 Q2177.59 1564.07 2180.52 1560.63 Q2183.48 1557.16 2183.48 1551.43 L2183.48 1550.12 L2177.65 1550.12 M2189.33 1547.71 L2189.33 1568.04 L2183.48 1568.04 L2183.48 1562.63 Q2181.47 1565.88 2178.48 1567.44 Q2175.49 1568.97 2171.16 1568.97 Q2165.69 1568.97 2162.44 1565.91 Q2159.22 1562.82 2159.22 1557.67 Q2159.22 1551.65 2163.24 1548.6 Q2167.28 1545.54 2175.27 1545.54 L2183.48 1545.54 L2183.48 1544.97 Q2183.48 1540.93 2180.8 1538.73 Q2178.16 1536.5 2173.36 1536.5 Q2170.3 1536.5 2167.4 1537.23 Q2164.51 1537.97 2161.83 1539.43 L2161.83 1534.02 Q2165.05 1532.78 2168.07 1532.17 Q2171.1 1531.54 2173.96 1531.54 Q2181.7 1531.54 2185.52 1535.55 Q2189.33 1539.56 2189.33 1547.71 Z\" fill=\"#000000\" fill-rule=\"evenodd\" fill-opacity=\"1\" /><polyline clip-path=\"url(#clip363)\" style=\"stroke:#000000; stroke-width:2; stroke-opacity:0.1; fill:none\" points=\"\n",
       "  1505.8,1141.52 2352.76,1141.52 \n",
       "  \"/>\n",
       "<polyline clip-path=\"url(#clip363)\" style=\"stroke:#000000; stroke-width:2; stroke-opacity:0.1; fill:none\" points=\"\n",
       "  1505.8,857.31 2352.76,857.31 \n",
       "  \"/>\n",
       "<polyline clip-path=\"url(#clip363)\" style=\"stroke:#000000; stroke-width:2; stroke-opacity:0.1; fill:none\" points=\"\n",
       "  1505.8,573.096 2352.76,573.096 \n",
       "  \"/>\n",
       "<polyline clip-path=\"url(#clip363)\" style=\"stroke:#000000; stroke-width:2; stroke-opacity:0.1; fill:none\" points=\"\n",
       "  1505.8,288.882 2352.76,288.882 \n",
       "  \"/>\n",
       "<polyline clip-path=\"url(#clip360)\" style=\"stroke:#000000; stroke-width:4; stroke-opacity:1; fill:none\" points=\"\n",
       "  1505.8,1423.18 1505.8,47.2441 \n",
       "  \"/>\n",
       "<polyline clip-path=\"url(#clip360)\" style=\"stroke:#000000; stroke-width:4; stroke-opacity:1; fill:none\" points=\"\n",
       "  1505.8,1141.52 1515.97,1141.52 \n",
       "  \"/>\n",
       "<polyline clip-path=\"url(#clip360)\" style=\"stroke:#000000; stroke-width:4; stroke-opacity:1; fill:none\" points=\"\n",
       "  1505.8,857.31 1515.97,857.31 \n",
       "  \"/>\n",
       "<polyline clip-path=\"url(#clip360)\" style=\"stroke:#000000; stroke-width:4; stroke-opacity:1; fill:none\" points=\"\n",
       "  1505.8,573.096 1515.97,573.096 \n",
       "  \"/>\n",
       "<polyline clip-path=\"url(#clip360)\" style=\"stroke:#000000; stroke-width:4; stroke-opacity:1; fill:none\" points=\"\n",
       "  1505.8,288.882 1515.97,288.882 \n",
       "  \"/>\n",
       "<path clip-path=\"url(#clip360)\" d=\"M 0 0 M1457.86 1127.32 Q1454.25 1127.32 1452.42 1130.89 Q1450.61 1134.43 1450.61 1141.56 Q1450.61 1148.67 1452.42 1152.23 Q1454.25 1155.77 1457.86 1155.77 Q1461.49 1155.77 1463.3 1152.23 Q1465.13 1148.67 1465.13 1141.56 Q1465.13 1134.43 1463.3 1130.89 Q1461.49 1127.32 1457.86 1127.32 M1457.86 1123.62 Q1463.67 1123.62 1466.72 1128.23 Q1469.8 1132.81 1469.8 1141.56 Q1469.8 1150.29 1466.72 1154.89 Q1463.67 1159.48 1457.86 1159.48 Q1452.05 1159.48 1448.97 1154.89 Q1445.91 1150.29 1445.91 1141.56 Q1445.91 1132.81 1448.97 1128.23 Q1452.05 1123.62 1457.86 1123.62 Z\" fill=\"#000000\" fill-rule=\"evenodd\" fill-opacity=\"1\" /><path clip-path=\"url(#clip360)\" d=\"M 0 0 M1317.66 877.103 L1325.3 877.103 L1325.3 850.737 L1316.99 852.404 L1316.99 848.145 L1325.26 846.478 L1329.93 846.478 L1329.93 877.103 L1337.57 877.103 L1337.57 881.038 L1317.66 881.038 L1317.66 877.103 Z\" fill=\"#000000\" fill-rule=\"evenodd\" fill-opacity=\"1\" /><path clip-path=\"url(#clip360)\" d=\"M 0 0 M1370.81 855.575 L1360.23 866.2 L1370.81 876.779 L1368.06 879.58 L1357.43 868.955 L1346.81 879.58 L1344.07 876.779 L1354.63 866.2 L1344.07 855.575 L1346.81 852.774 L1357.43 863.399 L1368.06 852.774 L1370.81 855.575 Z\" fill=\"#000000\" fill-rule=\"evenodd\" fill-opacity=\"1\" /><path clip-path=\"url(#clip360)\" d=\"M 0 0 M1376.69 877.103 L1384.33 877.103 L1384.33 850.737 L1376.02 852.404 L1376.02 848.145 L1384.28 846.478 L1388.96 846.478 L1388.96 877.103 L1396.6 877.103 L1396.6 881.038 L1376.69 881.038 L1376.69 877.103 Z\" fill=\"#000000\" fill-rule=\"evenodd\" fill-opacity=\"1\" /><path clip-path=\"url(#clip360)\" d=\"M 0 0 M1411.67 849.557 Q1408.06 849.557 1406.23 853.122 Q1404.42 856.663 1404.42 863.793 Q1404.42 870.899 1406.23 874.464 Q1408.06 878.006 1411.67 878.006 Q1415.3 878.006 1417.11 874.464 Q1418.94 870.899 1418.94 863.793 Q1418.94 856.663 1417.11 853.122 Q1415.3 849.557 1411.67 849.557 M1411.67 845.853 Q1417.48 845.853 1420.53 850.46 Q1423.61 855.043 1423.61 863.793 Q1423.61 872.52 1420.53 877.126 Q1417.48 881.709 1411.67 881.709 Q1405.86 881.709 1402.78 877.126 Q1399.72 872.52 1399.72 863.793 Q1399.72 855.043 1402.78 850.46 Q1405.86 845.853 1411.67 845.853 Z\" fill=\"#000000\" fill-rule=\"evenodd\" fill-opacity=\"1\" /><path clip-path=\"url(#clip360)\" d=\"M 0 0 M1423.61 839.954 L1447.72 839.954 L1447.72 843.152 L1423.61 843.152 L1423.61 839.954 Z\" fill=\"#000000\" fill-rule=\"evenodd\" fill-opacity=\"1\" /><path clip-path=\"url(#clip360)\" d=\"M 0 0 M1460.44 838.074 Q1457.88 838.074 1456.37 839.823 Q1454.89 841.572 1454.89 844.619 Q1454.89 847.647 1456.37 849.415 Q1457.88 851.164 1460.44 851.164 Q1462.99 851.164 1464.48 849.415 Q1465.99 847.647 1465.99 844.619 Q1465.99 841.572 1464.48 839.823 Q1462.99 838.074 1460.44 838.074 M1467.98 826.168 L1467.98 829.629 Q1466.55 828.952 1465.08 828.595 Q1463.63 828.237 1462.2 828.237 Q1458.44 828.237 1456.45 830.776 Q1454.47 833.315 1454.19 838.45 Q1455.3 836.814 1456.98 835.948 Q1458.65 835.064 1460.66 835.064 Q1464.89 835.064 1467.34 837.641 Q1469.8 840.199 1469.8 844.619 Q1469.8 848.945 1467.25 851.559 Q1464.69 854.173 1460.44 854.173 Q1455.57 854.173 1452.99 850.449 Q1450.41 846.706 1450.41 839.616 Q1450.41 832.958 1453.57 829.008 Q1456.73 825.04 1462.05 825.04 Q1463.48 825.04 1464.93 825.322 Q1466.4 825.604 1467.98 826.168 Z\" fill=\"#000000\" fill-rule=\"evenodd\" fill-opacity=\"1\" /><path clip-path=\"url(#clip360)\" d=\"M 0 0 M1321.25 592.889 L1337.57 592.889 L1337.57 596.824 L1315.63 596.824 L1315.63 592.889 Q1318.29 590.134 1322.87 585.504 Q1327.48 580.852 1328.66 579.509 Q1330.9 576.986 1331.78 575.25 Q1332.69 573.49 1332.69 571.801 Q1332.69 569.046 1330.74 567.31 Q1328.82 565.574 1325.72 565.574 Q1323.52 565.574 1321.07 566.338 Q1318.64 567.102 1315.86 568.653 L1315.86 563.93 Q1318.68 562.796 1321.14 562.217 Q1323.59 561.639 1325.63 561.639 Q1331 561.639 1334.19 564.324 Q1337.39 567.009 1337.39 571.5 Q1337.39 573.629 1336.57 575.551 Q1335.79 577.449 1333.68 580.041 Q1333.1 580.713 1330 583.93 Q1326.9 587.125 1321.25 592.889 Z\" fill=\"#000000\" fill-rule=\"evenodd\" fill-opacity=\"1\" /><path clip-path=\"url(#clip360)\" d=\"M 0 0 M1370.81 571.361 L1360.23 581.986 L1370.81 592.564 L1368.06 595.365 L1357.43 584.74 L1346.81 595.365 L1344.07 592.564 L1354.63 581.986 L1344.07 571.361 L1346.81 568.56 L1357.43 579.185 L1368.06 568.56 L1370.81 571.361 Z\" fill=\"#000000\" fill-rule=\"evenodd\" fill-opacity=\"1\" /><path clip-path=\"url(#clip360)\" d=\"M 0 0 M1376.69 592.889 L1384.33 592.889 L1384.33 566.523 L1376.02 568.19 L1376.02 563.93 L1384.28 562.264 L1388.96 562.264 L1388.96 592.889 L1396.6 592.889 L1396.6 596.824 L1376.69 596.824 L1376.69 592.889 Z\" fill=\"#000000\" fill-rule=\"evenodd\" fill-opacity=\"1\" /><path clip-path=\"url(#clip360)\" d=\"M 0 0 M1411.67 565.342 Q1408.06 565.342 1406.23 568.907 Q1404.42 572.449 1404.42 579.578 Q1404.42 586.685 1406.23 590.25 Q1408.06 593.791 1411.67 593.791 Q1415.3 593.791 1417.11 590.25 Q1418.94 586.685 1418.94 579.578 Q1418.94 572.449 1417.11 568.907 Q1415.3 565.342 1411.67 565.342 M1411.67 561.639 Q1417.48 561.639 1420.53 566.245 Q1423.61 570.828 1423.61 579.578 Q1423.61 588.305 1420.53 592.912 Q1417.48 597.495 1411.67 597.495 Q1405.86 597.495 1402.78 592.912 Q1399.72 588.305 1399.72 579.578 Q1399.72 570.828 1402.78 566.245 Q1405.86 561.639 1411.67 561.639 Z\" fill=\"#000000\" fill-rule=\"evenodd\" fill-opacity=\"1\" /><path clip-path=\"url(#clip360)\" d=\"M 0 0 M1423.61 555.74 L1447.72 555.74 L1447.72 558.937 L1423.61 558.937 L1423.61 555.74 Z\" fill=\"#000000\" fill-rule=\"evenodd\" fill-opacity=\"1\" /><path clip-path=\"url(#clip360)\" d=\"M 0 0 M1460.44 553.859 Q1457.88 553.859 1456.37 555.608 Q1454.89 557.358 1454.89 560.404 Q1454.89 563.432 1456.37 565.2 Q1457.88 566.949 1460.44 566.949 Q1462.99 566.949 1464.48 565.2 Q1465.99 563.432 1465.99 560.404 Q1465.99 557.358 1464.48 555.608 Q1462.99 553.859 1460.44 553.859 M1467.98 541.954 L1467.98 545.415 Q1466.55 544.737 1465.08 544.38 Q1463.63 544.023 1462.2 544.023 Q1458.44 544.023 1456.45 546.562 Q1454.47 549.101 1454.19 554.235 Q1455.3 552.599 1456.98 551.734 Q1458.65 550.85 1460.66 550.85 Q1464.89 550.85 1467.34 553.427 Q1469.8 555.985 1469.8 560.404 Q1469.8 564.73 1467.25 567.344 Q1464.69 569.959 1460.44 569.959 Q1455.57 569.959 1452.99 566.235 Q1450.41 562.492 1450.41 555.402 Q1450.41 548.744 1453.57 544.794 Q1456.73 540.825 1462.05 540.825 Q1463.48 540.825 1464.93 541.108 Q1466.4 541.39 1467.98 541.954 Z\" fill=\"#000000\" fill-rule=\"evenodd\" fill-opacity=\"1\" /><path clip-path=\"url(#clip360)\" d=\"M 0 0 M1330.44 293.975 Q1333.8 294.693 1335.67 296.961 Q1337.57 299.23 1337.57 302.563 Q1337.57 307.679 1334.05 310.48 Q1330.53 313.281 1324.05 313.281 Q1321.88 313.281 1319.56 312.841 Q1317.27 312.424 1314.82 311.568 L1314.82 307.054 Q1316.76 308.188 1319.07 308.767 Q1321.39 309.345 1323.91 309.345 Q1328.31 309.345 1330.6 307.609 Q1332.92 305.873 1332.92 302.563 Q1332.92 299.508 1330.76 297.795 Q1328.64 296.058 1324.82 296.058 L1320.79 296.058 L1320.79 292.216 L1325 292.216 Q1328.45 292.216 1330.28 290.85 Q1332.11 289.461 1332.11 286.869 Q1332.11 284.207 1330.21 282.795 Q1328.33 281.359 1324.82 281.359 Q1322.89 281.359 1320.7 281.776 Q1318.5 282.193 1315.86 283.072 L1315.86 278.906 Q1318.52 278.165 1320.83 277.795 Q1323.17 277.424 1325.23 277.424 Q1330.56 277.424 1333.66 279.855 Q1336.76 282.262 1336.76 286.383 Q1336.76 289.253 1335.12 291.244 Q1333.47 293.211 1330.44 293.975 Z\" fill=\"#000000\" fill-rule=\"evenodd\" fill-opacity=\"1\" /><path clip-path=\"url(#clip360)\" d=\"M 0 0 M1370.81 287.146 L1360.23 297.771 L1370.81 308.35 L1368.06 311.151 L1357.43 300.526 L1346.81 311.151 L1344.07 308.35 L1354.63 297.771 L1344.07 287.146 L1346.81 284.346 L1357.43 294.971 L1368.06 284.346 L1370.81 287.146 Z\" fill=\"#000000\" fill-rule=\"evenodd\" fill-opacity=\"1\" /><path clip-path=\"url(#clip360)\" d=\"M 0 0 M1376.69 308.674 L1384.33 308.674 L1384.33 282.309 L1376.02 283.975 L1376.02 279.716 L1384.28 278.049 L1388.96 278.049 L1388.96 308.674 L1396.6 308.674 L1396.6 312.609 L1376.69 312.609 L1376.69 308.674 Z\" fill=\"#000000\" fill-rule=\"evenodd\" fill-opacity=\"1\" /><path clip-path=\"url(#clip360)\" d=\"M 0 0 M1411.67 281.128 Q1408.06 281.128 1406.23 284.693 Q1404.42 288.234 1404.42 295.364 Q1404.42 302.47 1406.23 306.035 Q1408.06 309.577 1411.67 309.577 Q1415.3 309.577 1417.11 306.035 Q1418.94 302.47 1418.94 295.364 Q1418.94 288.234 1417.11 284.693 Q1415.3 281.128 1411.67 281.128 M1411.67 277.424 Q1417.48 277.424 1420.53 282.031 Q1423.61 286.614 1423.61 295.364 Q1423.61 304.091 1420.53 308.697 Q1417.48 313.281 1411.67 313.281 Q1405.86 313.281 1402.78 308.697 Q1399.72 304.091 1399.72 295.364 Q1399.72 286.614 1402.78 282.031 Q1405.86 277.424 1411.67 277.424 Z\" fill=\"#000000\" fill-rule=\"evenodd\" fill-opacity=\"1\" /><path clip-path=\"url(#clip360)\" d=\"M 0 0 M1423.61 271.526 L1447.72 271.526 L1447.72 274.723 L1423.61 274.723 L1423.61 271.526 Z\" fill=\"#000000\" fill-rule=\"evenodd\" fill-opacity=\"1\" /><path clip-path=\"url(#clip360)\" d=\"M 0 0 M1460.44 269.645 Q1457.88 269.645 1456.37 271.394 Q1454.89 273.143 1454.89 276.19 Q1454.89 279.218 1456.37 280.986 Q1457.88 282.735 1460.44 282.735 Q1462.99 282.735 1464.48 280.986 Q1465.99 279.218 1465.99 276.19 Q1465.99 273.143 1464.48 271.394 Q1462.99 269.645 1460.44 269.645 M1467.98 257.74 L1467.98 261.2 Q1466.55 260.523 1465.08 260.166 Q1463.63 259.808 1462.2 259.808 Q1458.44 259.808 1456.45 262.347 Q1454.47 264.887 1454.19 270.021 Q1455.3 268.385 1456.98 267.52 Q1458.65 266.636 1460.66 266.636 Q1464.89 266.636 1467.34 269.212 Q1469.8 271.77 1469.8 276.19 Q1469.8 280.516 1467.25 283.13 Q1464.69 285.744 1460.44 285.744 Q1455.57 285.744 1452.99 282.02 Q1450.41 278.278 1450.41 271.187 Q1450.41 264.529 1453.57 260.58 Q1456.73 256.611 1462.05 256.611 Q1463.48 256.611 1464.93 256.893 Q1466.4 257.175 1467.98 257.74 Z\" fill=\"#000000\" fill-rule=\"evenodd\" fill-opacity=\"1\" /><path clip-path=\"url(#clip360)\" d=\"M 0 0 M1204.09 1045.97 L1204.09 1040.08 L1212.49 1047.34 L1212.49 1052.21 L1204.09 1045.97 M1218.6 1033.88 L1224.87 1033.88 Q1223.12 1037.54 1222.26 1040.78 Q1221.4 1044.03 1221.4 1047.05 Q1221.4 1052.3 1223.44 1055.17 Q1225.47 1058 1229.23 1058 Q1232.38 1058 1234 1056.12 Q1235.6 1054.21 1236.58 1048.93 L1237.38 1045.05 Q1238.75 1037.85 1242.22 1034.45 Q1245.65 1031.01 1251.45 1031.01 Q1258.35 1031.01 1261.92 1035.66 Q1265.48 1040.27 1265.48 1049.22 Q1265.48 1052.59 1264.72 1056.41 Q1263.95 1060.2 1262.46 1064.27 L1255.84 1064.27 Q1258.03 1060.36 1259.15 1056.6 Q1260.26 1052.84 1260.26 1049.22 Q1260.26 1043.71 1258.1 1040.72 Q1255.93 1037.73 1251.92 1037.73 Q1248.42 1037.73 1246.45 1039.89 Q1244.48 1042.02 1243.49 1046.92 L1242.73 1050.84 Q1241.29 1058.03 1238.24 1061.25 Q1235.18 1064.46 1229.74 1064.46 Q1223.44 1064.46 1219.81 1060.04 Q1216.18 1055.58 1216.18 1047.78 Q1216.18 1044.44 1216.79 1040.97 Q1217.39 1037.5 1218.6 1033.88 Z\" fill=\"#000000\" fill-rule=\"evenodd\" fill-opacity=\"1\" /><path clip-path=\"url(#clip360)\" d=\"M 0 0 M1234.39 1004.21 Q1233.81 1005.2 1233.56 1006.38 Q1233.27 1007.52 1233.27 1008.92 Q1233.27 1013.89 1236.52 1016.56 Q1239.73 1019.2 1245.78 1019.2 L1264.56 1019.2 L1264.56 1025.09 L1228.91 1025.09 L1228.91 1019.2 L1234.45 1019.2 Q1231.2 1017.36 1229.64 1014.4 Q1228.05 1011.44 1228.05 1007.2 Q1228.05 1006.6 1228.15 1005.87 Q1228.21 1005.13 1228.37 1004.24 L1234.39 1004.21 Z\" fill=\"#000000\" fill-rule=\"evenodd\" fill-opacity=\"1\" /><path clip-path=\"url(#clip360)\" d=\"M 0 0 M1245.27 969.008 L1248.14 969.008 L1248.14 995.935 Q1254.18 995.553 1257.37 992.307 Q1260.52 989.029 1260.52 983.204 Q1260.52 979.83 1259.69 976.679 Q1258.86 973.496 1257.21 970.377 L1262.75 970.377 Q1264.08 973.528 1264.78 976.838 Q1265.48 980.148 1265.48 983.554 Q1265.48 992.084 1260.52 997.081 Q1255.55 1002.05 1247.09 1002.05 Q1238.33 1002.05 1233.21 997.336 Q1228.05 992.593 1228.05 984.573 Q1228.05 977.379 1232.7 973.21 Q1237.31 969.008 1245.27 969.008 M1243.55 974.865 Q1238.75 974.929 1235.88 977.57 Q1233.02 980.18 1233.02 984.509 Q1233.02 989.411 1235.79 992.371 Q1238.56 995.299 1243.58 995.744 L1243.55 974.865 Z\" fill=\"#000000\" fill-rule=\"evenodd\" fill-opacity=\"1\" /><path clip-path=\"url(#clip360)\" d=\"M 0 0 M1234.32 939.408 L1215.03 939.408 L1215.03 933.551 L1264.56 933.551 L1264.56 939.408 L1259.21 939.408 Q1262.4 941.254 1263.95 944.087 Q1265.48 946.888 1265.48 950.834 Q1265.48 957.296 1260.33 961.37 Q1255.17 965.412 1246.77 965.412 Q1238.36 965.412 1233.21 961.37 Q1228.05 957.296 1228.05 950.834 Q1228.05 946.888 1229.61 944.087 Q1231.14 941.254 1234.32 939.408 M1246.77 959.364 Q1253.23 959.364 1256.92 956.723 Q1260.58 954.049 1260.58 949.402 Q1260.58 944.755 1256.92 942.082 Q1253.23 939.408 1246.77 939.408 Q1240.31 939.408 1236.65 942.082 Q1232.95 944.755 1232.95 949.402 Q1232.95 954.049 1236.65 956.723 Q1240.31 959.364 1246.77 959.364 Z\" fill=\"#000000\" fill-rule=\"evenodd\" fill-opacity=\"1\" /><path clip-path=\"url(#clip360)\" d=\"M 0 0 M1243.04 897.776 L1264.56 897.776 L1264.56 903.633 L1243.23 903.633 Q1238.17 903.633 1235.66 905.606 Q1233.14 907.579 1233.14 911.526 Q1233.14 916.269 1236.17 919.006 Q1239.19 921.743 1244.41 921.743 L1264.56 921.743 L1264.56 927.631 L1228.91 927.631 L1228.91 921.743 L1234.45 921.743 Q1231.24 919.642 1229.64 916.81 Q1228.05 913.945 1228.05 910.221 Q1228.05 904.078 1231.87 900.927 Q1235.66 897.776 1243.04 897.776 Z\" fill=\"#000000\" fill-rule=\"evenodd\" fill-opacity=\"1\" /><path clip-path=\"url(#clip360)\" d=\"M 0 0 M1228.91 891.633 L1228.91 885.777 L1264.56 885.777 L1264.56 891.633 L1228.91 891.633 M1215.03 891.633 L1215.03 885.777 L1222.45 885.777 L1222.45 891.633 L1215.03 891.633 Z\" fill=\"#000000\" fill-rule=\"evenodd\" fill-opacity=\"1\" /><path clip-path=\"url(#clip360)\" d=\"M 0 0 M1230.28 833.26 L1235.75 833.26 Q1234.39 835.742 1233.72 838.257 Q1233.02 840.739 1233.02 843.286 Q1233.02 848.983 1236.65 852.134 Q1240.24 855.285 1246.77 855.285 Q1253.29 855.285 1256.92 852.134 Q1260.52 848.983 1260.52 843.286 Q1260.52 840.739 1259.85 838.257 Q1259.15 835.742 1257.78 833.26 L1263.19 833.26 Q1264.34 835.711 1264.91 838.352 Q1265.48 840.962 1265.48 843.922 Q1265.48 851.975 1260.42 856.717 Q1255.36 861.46 1246.77 861.46 Q1238.05 861.46 1233.05 856.686 Q1228.05 851.879 1228.05 843.54 Q1228.05 840.835 1228.63 838.257 Q1229.17 835.679 1230.28 833.26 Z\" fill=\"#000000\" fill-rule=\"evenodd\" fill-opacity=\"1\" /><path clip-path=\"url(#clip360)\" d=\"M 0 0 M1228.91 829.663 L1228.91 801.845 L1234.26 801.845 L1259.88 823.87 L1259.88 801.845 L1264.56 801.845 L1264.56 830.459 L1259.21 830.459 L1233.59 808.434 L1233.59 829.663 L1228.91 829.663 Z\" fill=\"#000000\" fill-rule=\"evenodd\" fill-opacity=\"1\" /><path clip-path=\"url(#clip360)\" d=\"M 0 0 M1246.64 779.501 Q1246.64 786.599 1248.26 789.336 Q1249.89 792.074 1253.8 792.074 Q1256.92 792.074 1258.77 790.037 Q1260.58 787.968 1260.58 784.435 Q1260.58 779.565 1257.14 776.637 Q1253.67 773.677 1247.95 773.677 L1246.64 773.677 L1246.64 779.501 M1244.22 767.82 L1264.56 767.82 L1264.56 773.677 L1259.15 773.677 Q1262.4 775.682 1263.95 778.674 Q1265.48 781.666 1265.48 785.994 Q1265.48 791.469 1262.43 794.715 Q1259.34 797.93 1254.18 797.93 Q1248.17 797.93 1245.11 793.92 Q1242.06 789.877 1242.06 781.889 L1242.06 773.677 L1241.48 773.677 Q1237.44 773.677 1235.25 776.35 Q1233.02 778.992 1233.02 783.798 Q1233.02 786.854 1233.75 789.75 Q1234.48 792.647 1235.95 795.32 L1230.54 795.32 Q1229.29 792.105 1228.69 789.082 Q1228.05 786.058 1228.05 783.193 Q1228.05 775.459 1232.06 771.64 Q1236.07 767.82 1244.22 767.82 Z\" fill=\"#000000\" fill-rule=\"evenodd\" fill-opacity=\"1\" /><path clip-path=\"url(#clip360)\" d=\"M 0 0 M1229.96 738.952 L1235.5 738.952 Q1234.23 741.434 1233.59 744.108 Q1232.95 746.782 1232.95 749.646 Q1232.95 754.007 1234.29 756.203 Q1235.63 758.367 1238.3 758.367 Q1240.34 758.367 1241.52 756.808 Q1242.66 755.248 1243.71 750.537 L1244.16 748.532 Q1245.49 742.294 1247.95 739.684 Q1250.36 737.042 1254.72 737.042 Q1259.69 737.042 1262.59 740.989 Q1265.48 744.904 1265.48 751.779 Q1265.48 754.643 1264.91 757.762 Q1264.37 760.85 1263.25 764.287 L1257.21 764.287 Q1258.89 761.041 1259.75 757.89 Q1260.58 754.739 1260.58 751.651 Q1260.58 747.514 1259.18 745.286 Q1257.75 743.058 1255.17 743.058 Q1252.78 743.058 1251.51 744.681 Q1250.24 746.272 1249.06 751.715 L1248.58 753.752 Q1247.44 759.195 1245.08 761.614 Q1242.69 764.033 1238.56 764.033 Q1233.53 764.033 1230.79 760.468 Q1228.05 756.903 1228.05 750.346 Q1228.05 747.1 1228.53 744.235 Q1229.01 741.371 1229.96 738.952 Z\" fill=\"#000000\" fill-rule=\"evenodd\" fill-opacity=\"1\" /><path clip-path=\"url(#clip360)\" d=\"M 0 0 M1228.91 713.584 L1228.91 707.728 L1256.73 700.407 L1228.91 693.119 L1228.91 686.212 L1256.73 678.891 L1228.91 671.603 L1228.91 665.746 L1264.56 675.072 L1264.56 681.979 L1235.34 689.649 L1264.56 697.352 L1264.56 704.259 L1228.91 713.584 Z\" fill=\"#000000\" fill-rule=\"evenodd\" fill-opacity=\"1\" /><path clip-path=\"url(#clip360)\" d=\"M 0 0 M1267.87 644.771 Q1274.24 647.254 1276.18 649.609 Q1278.12 651.964 1278.12 655.911 L1278.12 660.59 L1273.22 660.59 L1273.22 657.152 Q1273.22 654.734 1272.07 653.397 Q1270.93 652.06 1266.66 650.437 L1263.99 649.386 L1228.91 663.805 L1228.91 657.598 L1256.79 646.458 L1228.91 635.318 L1228.91 629.112 L1267.87 644.771 Z\" fill=\"#000000\" fill-rule=\"evenodd\" fill-opacity=\"1\" /><path clip-path=\"url(#clip360)\" d=\"M 0 0 M1215.03 623.191 L1215.03 617.303 L1244.28 617.303 L1228.91 599.829 L1228.91 592.35 L1245.59 611.256 L1264.56 591.554 L1264.56 599.193 L1247.15 617.303 L1264.56 617.303 L1264.56 623.191 L1215.03 623.191 Z\" fill=\"#000000\" fill-rule=\"evenodd\" fill-opacity=\"1\" /><path clip-path=\"url(#clip360)\" d=\"M 0 0 M1233.02 573.921 Q1233.02 578.631 1236.71 581.369 Q1240.37 584.106 1246.77 584.106 Q1253.17 584.106 1256.86 581.401 Q1260.52 578.663 1260.52 573.921 Q1260.52 569.242 1256.83 566.505 Q1253.13 563.768 1246.77 563.768 Q1240.43 563.768 1236.74 566.505 Q1233.02 569.242 1233.02 573.921 M1228.05 573.921 Q1228.05 566.282 1233.02 561.922 Q1237.98 557.561 1246.77 557.561 Q1255.52 557.561 1260.52 561.922 Q1265.48 566.282 1265.48 573.921 Q1265.48 581.592 1260.52 585.952 Q1255.52 590.281 1246.77 590.281 Q1237.98 590.281 1233.02 585.952 Q1228.05 581.592 1228.05 573.921 Z\" fill=\"#000000\" fill-rule=\"evenodd\" fill-opacity=\"1\" /><path clip-path=\"url(#clip360)\" d=\"M 0 0 M1243.04 521.786 L1264.56 521.786 L1264.56 527.642 L1243.23 527.642 Q1238.17 527.642 1235.66 529.616 Q1233.14 531.589 1233.14 535.536 Q1233.14 540.278 1236.17 543.015 Q1239.19 545.753 1244.41 545.753 L1264.56 545.753 L1264.56 551.641 L1228.91 551.641 L1228.91 545.753 L1234.45 545.753 Q1231.24 543.652 1229.64 540.819 Q1228.05 537.955 1228.05 534.231 Q1228.05 528.088 1231.87 524.937 Q1235.66 521.786 1243.04 521.786 Z\" fill=\"#000000\" fill-rule=\"evenodd\" fill-opacity=\"1\" /><path clip-path=\"url(#clip360)\" d=\"M 0 0 M1246.64 499.442 Q1246.64 506.54 1248.26 509.277 Q1249.89 512.014 1253.8 512.014 Q1256.92 512.014 1258.77 509.977 Q1260.58 507.908 1260.58 504.376 Q1260.58 499.506 1257.14 496.578 Q1253.67 493.617 1247.95 493.617 L1246.64 493.617 L1246.64 499.442 M1244.22 487.761 L1264.56 487.761 L1264.56 493.617 L1259.15 493.617 Q1262.4 495.623 1263.95 498.615 Q1265.48 501.606 1265.48 505.935 Q1265.48 511.41 1262.43 514.656 Q1259.34 517.871 1254.18 517.871 Q1248.17 517.871 1245.11 513.86 Q1242.06 509.818 1242.06 501.829 L1242.06 493.617 L1241.48 493.617 Q1237.44 493.617 1235.25 496.291 Q1233.02 498.933 1233.02 503.739 Q1233.02 506.795 1233.75 509.691 Q1234.48 512.587 1235.95 515.261 L1230.54 515.261 Q1229.29 512.046 1228.69 509.022 Q1228.05 505.999 1228.05 503.134 Q1228.05 495.4 1232.06 491.58 Q1236.07 487.761 1244.22 487.761 Z\" fill=\"#000000\" fill-rule=\"evenodd\" fill-opacity=\"1\" /><path clip-path=\"url(#clip360)\" d=\"M 0 0 M1243.04 451.986 L1264.56 451.986 L1264.56 457.842 L1243.23 457.842 Q1238.17 457.842 1235.66 459.816 Q1233.14 461.789 1233.14 465.736 Q1233.14 470.478 1236.17 473.215 Q1239.19 475.953 1244.41 475.953 L1264.56 475.953 L1264.56 481.841 L1228.91 481.841 L1228.91 475.953 L1234.45 475.953 Q1231.24 473.852 1229.64 471.019 Q1228.05 468.155 1228.05 464.431 Q1228.05 458.288 1231.87 455.137 Q1235.66 451.986 1243.04 451.986 Z\" fill=\"#000000\" fill-rule=\"evenodd\" fill-opacity=\"1\" /><path clip-path=\"url(#clip360)\" d=\"M 0 0 M1228.91 445.843 L1228.91 439.986 L1264.56 439.986 L1264.56 445.843 L1228.91 445.843 M1215.03 445.843 L1215.03 439.986 L1222.45 439.986 L1222.45 445.843 L1215.03 445.843 Z\" fill=\"#000000\" fill-rule=\"evenodd\" fill-opacity=\"1\" /><path clip-path=\"url(#clip360)\" d=\"M 0 0 M1246.64 417.643 Q1246.64 424.741 1248.26 427.478 Q1249.89 430.215 1253.8 430.215 Q1256.92 430.215 1258.77 428.178 Q1260.58 426.109 1260.58 422.576 Q1260.58 417.706 1257.14 414.778 Q1253.67 411.818 1247.95 411.818 L1246.64 411.818 L1246.64 417.643 M1244.22 405.962 L1264.56 405.962 L1264.56 411.818 L1259.15 411.818 Q1262.4 413.823 1263.95 416.815 Q1265.48 419.807 1265.48 424.136 Q1265.48 429.61 1262.43 432.857 Q1259.34 436.071 1254.18 436.071 Q1248.17 436.071 1245.11 432.061 Q1242.06 428.019 1242.06 420.03 L1242.06 411.818 L1241.48 411.818 Q1237.44 411.818 1235.25 414.492 Q1233.02 417.134 1233.02 421.94 Q1233.02 424.995 1233.75 427.892 Q1234.48 430.788 1235.95 433.462 L1230.54 433.462 Q1229.29 430.247 1228.69 427.223 Q1228.05 424.199 1228.05 421.335 Q1228.05 413.601 1232.06 409.781 Q1236.07 405.962 1244.22 405.962 Z\" fill=\"#000000\" fill-rule=\"evenodd\" fill-opacity=\"1\" /><polyline clip-path=\"url(#clip363)\" style=\"stroke:#000000; stroke-width:4; stroke-opacity:1; fill:none\" points=\"\n",
       "  1529.77,1384.24 1529.77,86.1857 \n",
       "  \"/>\n",
       "<polyline clip-path=\"url(#clip363)\" style=\"stroke:#000000; stroke-width:4; stroke-opacity:1; fill:none\" points=\"\n",
       "  1796.11,1242.66 1796.11,244.421 \n",
       "  \"/>\n",
       "<polyline clip-path=\"url(#clip363)\" style=\"stroke:#000000; stroke-width:4; stroke-opacity:1; fill:none\" points=\"\n",
       "  2062.45,1260.77 2062.45,374.495 \n",
       "  \"/>\n",
       "<polyline clip-path=\"url(#clip363)\" style=\"stroke:#000000; stroke-width:4; stroke-opacity:1; fill:none\" points=\"\n",
       "  2328.79,1319.49 2328.79,173.386 \n",
       "  \"/>\n",
       "<line clip-path=\"url(#clip363)\" x1=\"1545.77\" y1=\"1384.24\" x2=\"1513.77\" y2=\"1384.24\" style=\"stroke:#000000; stroke-width:3.2; stroke-opacity:1\"/>\n",
       "<line clip-path=\"url(#clip363)\" x1=\"1545.77\" y1=\"86.1857\" x2=\"1513.77\" y2=\"86.1857\" style=\"stroke:#000000; stroke-width:3.2; stroke-opacity:1\"/>\n",
       "<line clip-path=\"url(#clip363)\" x1=\"1812.11\" y1=\"1242.66\" x2=\"1780.11\" y2=\"1242.66\" style=\"stroke:#000000; stroke-width:3.2; stroke-opacity:1\"/>\n",
       "<line clip-path=\"url(#clip363)\" x1=\"1812.11\" y1=\"244.421\" x2=\"1780.11\" y2=\"244.421\" style=\"stroke:#000000; stroke-width:3.2; stroke-opacity:1\"/>\n",
       "<line clip-path=\"url(#clip363)\" x1=\"2078.45\" y1=\"1260.77\" x2=\"2046.45\" y2=\"1260.77\" style=\"stroke:#000000; stroke-width:3.2; stroke-opacity:1\"/>\n",
       "<line clip-path=\"url(#clip363)\" x1=\"2078.45\" y1=\"374.495\" x2=\"2046.45\" y2=\"374.495\" style=\"stroke:#000000; stroke-width:3.2; stroke-opacity:1\"/>\n",
       "<line clip-path=\"url(#clip363)\" x1=\"2344.79\" y1=\"1319.49\" x2=\"2312.79\" y2=\"1319.49\" style=\"stroke:#000000; stroke-width:3.2; stroke-opacity:1\"/>\n",
       "<line clip-path=\"url(#clip363)\" x1=\"2344.79\" y1=\"173.386\" x2=\"2312.79\" y2=\"173.386\" style=\"stroke:#000000; stroke-width:3.2; stroke-opacity:1\"/>\n",
       "<circle clip-path=\"url(#clip363)\" cx=\"1529.77\" cy=\"735.212\" r=\"14\" fill=\"#0000ff\" fill-rule=\"evenodd\" fill-opacity=\"1\" stroke=\"#000000\" stroke-opacity=\"1\" stroke-width=\"3.2\"/>\n",
       "<circle clip-path=\"url(#clip363)\" cx=\"1796.11\" cy=\"743.539\" r=\"14\" fill=\"#0000ff\" fill-rule=\"evenodd\" fill-opacity=\"1\" stroke=\"#000000\" stroke-opacity=\"1\" stroke-width=\"3.2\"/>\n",
       "<circle clip-path=\"url(#clip363)\" cx=\"2062.45\" cy=\"817.634\" r=\"14\" fill=\"#0000ff\" fill-rule=\"evenodd\" fill-opacity=\"1\" stroke=\"#000000\" stroke-opacity=\"1\" stroke-width=\"3.2\"/>\n",
       "<circle clip-path=\"url(#clip363)\" cx=\"2328.79\" cy=\"746.438\" r=\"14\" fill=\"#0000ff\" fill-rule=\"evenodd\" fill-opacity=\"1\" stroke=\"#000000\" stroke-opacity=\"1\" stroke-width=\"3.2\"/>\n",
       "<path clip-path=\"url(#clip360)\" d=\"\n",
       "M1667.18 214.069 L2324.52 214.069 L2324.52 93.1086 L1667.18 93.1086  Z\n",
       "  \" fill=\"#ffffff\" fill-rule=\"evenodd\" fill-opacity=\"1\"/>\n",
       "<polyline clip-path=\"url(#clip360)\" style=\"stroke:#000000; stroke-width:4; stroke-opacity:1; fill:none\" points=\"\n",
       "  1667.18,214.069 2324.52,214.069 2324.52,93.1086 1667.18,93.1086 1667.18,214.069 \n",
       "  \"/>\n",
       "<circle clip-path=\"url(#clip360)\" cx=\"1704.82\" cy=\"153.589\" r=\"23\" fill=\"#0000ff\" fill-rule=\"evenodd\" fill-opacity=\"1\" stroke=\"#000000\" stroke-opacity=\"1\" stroke-width=\"5.12\"/>\n",
       "<path clip-path=\"url(#clip360)\" d=\"M 0 0 M1742.47 136.309 L1747.14 136.309 L1747.14 170.869 L1742.47 170.869 L1742.47 136.309 Z\" fill=\"#000000\" fill-rule=\"evenodd\" fill-opacity=\"1\" /><path clip-path=\"url(#clip360)\" d=\"M 0 0 M1751.61 134.85 L1755.87 134.85 L1755.87 170.869 L1751.61 170.869 L1751.61 134.85 Z\" fill=\"#000000\" fill-rule=\"evenodd\" fill-opacity=\"1\" /><path clip-path=\"url(#clip360)\" d=\"M 0 0 M1770.38 147.929 Q1766.96 147.929 1764.97 150.614 Q1762.97 153.276 1762.97 157.929 Q1762.97 162.582 1764.94 165.267 Q1766.93 167.929 1770.38 167.929 Q1773.78 167.929 1775.78 165.244 Q1777.77 162.558 1777.77 157.929 Q1777.77 153.322 1775.78 150.637 Q1773.78 147.929 1770.38 147.929 M1770.38 144.318 Q1775.94 144.318 1779.11 147.929 Q1782.28 151.54 1782.28 157.929 Q1782.28 164.295 1779.11 167.929 Q1775.94 171.54 1770.38 171.54 Q1764.8 171.54 1761.63 167.929 Q1758.48 164.295 1758.48 157.929 Q1758.48 151.54 1761.63 147.929 Q1764.8 144.318 1770.38 144.318 Z\" fill=\"#000000\" fill-rule=\"evenodd\" fill-opacity=\"1\" /><path clip-path=\"url(#clip360)\" d=\"M 0 0 M1805.4 145.938 L1805.4 149.92 Q1803.6 148.924 1801.77 148.438 Q1799.96 147.929 1798.11 147.929 Q1793.97 147.929 1791.68 150.568 Q1789.39 153.184 1789.39 157.929 Q1789.39 162.674 1791.68 165.313 Q1793.97 167.929 1798.11 167.929 Q1799.96 167.929 1801.77 167.443 Q1803.6 166.933 1805.4 165.938 L1805.4 169.873 Q1803.62 170.707 1801.7 171.123 Q1799.8 171.54 1797.65 171.54 Q1791.79 171.54 1788.34 167.859 Q1784.9 164.179 1784.9 157.929 Q1784.9 151.586 1788.37 147.952 Q1791.86 144.318 1797.93 144.318 Q1799.9 144.318 1801.77 144.735 Q1803.65 145.128 1805.4 145.938 Z\" fill=\"#000000\" fill-rule=\"evenodd\" fill-opacity=\"1\" /><path clip-path=\"url(#clip360)\" d=\"M 0 0 M1808.02 144.943 L1828.25 144.943 L1828.25 148.832 L1812.23 167.466 L1828.25 167.466 L1828.25 170.869 L1807.44 170.869 L1807.44 166.98 L1823.46 148.346 L1808.02 148.346 L1808.02 144.943 Z\" fill=\"#000000\" fill-rule=\"evenodd\" fill-opacity=\"1\" /><path clip-path=\"url(#clip360)\" d=\"M 0 0 M1843.51 173.276 Q1841.7 177.906 1839.99 179.318 Q1838.27 180.73 1835.4 180.73 L1832 180.73 L1832 177.165 L1834.5 177.165 Q1836.26 177.165 1837.23 176.332 Q1838.21 175.498 1839.39 172.396 L1840.15 170.452 L1829.66 144.943 L1834.18 144.943 L1842.28 165.221 L1850.38 144.943 L1854.9 144.943 L1843.51 173.276 Z\" fill=\"#000000\" fill-rule=\"evenodd\" fill-opacity=\"1\" /><path clip-path=\"url(#clip360)\" d=\"M 0 0 M1880.91 155.221 L1880.91 170.869 L1876.65 170.869 L1876.65 155.359 Q1876.65 151.679 1875.22 149.85 Q1873.78 148.022 1870.91 148.022 Q1867.46 148.022 1865.47 150.221 Q1863.48 152.42 1863.48 156.216 L1863.48 170.869 L1859.2 170.869 L1859.2 144.943 L1863.48 144.943 L1863.48 148.971 Q1865.01 146.633 1867.07 145.475 Q1869.15 144.318 1871.86 144.318 Q1876.33 144.318 1878.62 147.096 Q1880.91 149.85 1880.91 155.221 Z\" fill=\"#000000\" fill-rule=\"evenodd\" fill-opacity=\"1\" /><path clip-path=\"url(#clip360)\" d=\"M 0 0 M1916.98 145.707 L1916.98 149.734 Q1915.17 148.809 1913.23 148.346 Q1911.28 147.883 1909.2 147.883 Q1906.03 147.883 1904.43 148.855 Q1902.86 149.827 1902.86 151.771 Q1902.86 153.253 1903.99 154.109 Q1905.13 154.943 1908.55 155.707 L1910.01 156.031 Q1914.55 157.003 1916.45 158.785 Q1918.37 160.545 1918.37 163.716 Q1918.37 167.327 1915.5 169.433 Q1912.65 171.54 1907.65 171.54 Q1905.57 171.54 1903.3 171.123 Q1901.05 170.73 1898.55 169.92 L1898.55 165.521 Q1900.91 166.748 1903.21 167.373 Q1905.5 167.975 1907.74 167.975 Q1910.75 167.975 1912.37 166.957 Q1913.99 165.915 1913.99 164.04 Q1913.99 162.304 1912.81 161.378 Q1911.65 160.452 1907.7 159.596 L1906.21 159.248 Q1902.26 158.415 1900.5 156.702 Q1898.74 154.966 1898.74 151.957 Q1898.74 148.299 1901.33 146.309 Q1903.92 144.318 1908.69 144.318 Q1911.05 144.318 1913.14 144.665 Q1915.22 145.012 1916.98 145.707 Z\" fill=\"#000000\" fill-rule=\"evenodd\" fill-opacity=\"1\" /><path clip-path=\"url(#clip360)\" d=\"M 0 0 M1922.67 134.85 L1926.96 134.85 L1926.96 156.123 L1939.66 144.943 L1945.1 144.943 L1931.35 157.072 L1945.68 170.869 L1940.13 170.869 L1926.96 158.207 L1926.96 170.869 L1922.67 170.869 L1922.67 134.85 Z\" fill=\"#000000\" fill-rule=\"evenodd\" fill-opacity=\"1\" /><path clip-path=\"url(#clip360)\" d=\"M 0 0 M1961.1 157.836 Q1955.94 157.836 1953.95 159.017 Q1951.95 160.197 1951.95 163.045 Q1951.95 165.313 1953.44 166.656 Q1954.94 167.975 1957.51 167.975 Q1961.05 167.975 1963.18 165.475 Q1965.33 162.952 1965.33 158.785 L1965.33 157.836 L1961.1 157.836 M1969.59 156.077 L1969.59 170.869 L1965.33 170.869 L1965.33 166.933 Q1963.88 169.295 1961.7 170.429 Q1959.52 171.54 1956.38 171.54 Q1952.39 171.54 1950.03 169.318 Q1947.7 167.072 1947.7 163.322 Q1947.7 158.947 1950.61 156.725 Q1953.55 154.503 1959.36 154.503 L1965.33 154.503 L1965.33 154.086 Q1965.33 151.147 1963.39 149.549 Q1961.47 147.929 1957.97 147.929 Q1955.75 147.929 1953.64 148.461 Q1951.54 148.994 1949.59 150.059 L1949.59 146.123 Q1951.93 145.221 1954.13 144.781 Q1956.33 144.318 1958.41 144.318 Q1964.04 144.318 1966.82 147.234 Q1969.59 150.151 1969.59 156.077 Z\" fill=\"#000000\" fill-rule=\"evenodd\" fill-opacity=\"1\" /><path clip-path=\"url(#clip360)\" d=\"M 0 0 M1974.06 134.85 L1978.32 134.85 L1978.32 170.869 L1974.06 170.869 L1974.06 134.85 Z\" fill=\"#000000\" fill-rule=\"evenodd\" fill-opacity=\"1\" /><path clip-path=\"url(#clip360)\" d=\"M 0 0 M1994.57 157.836 Q1989.41 157.836 1987.42 159.017 Q1985.43 160.197 1985.43 163.045 Q1985.43 165.313 1986.91 166.656 Q1988.41 167.975 1990.98 167.975 Q1994.52 167.975 1996.65 165.475 Q1998.81 162.952 1998.81 158.785 L1998.81 157.836 L1994.57 157.836 M2003.07 156.077 L2003.07 170.869 L1998.81 170.869 L1998.81 166.933 Q1997.35 169.295 1995.17 170.429 Q1993 171.54 1989.85 171.54 Q1985.87 171.54 1983.51 169.318 Q1981.17 167.072 1981.17 163.322 Q1981.17 158.947 1984.08 156.725 Q1987.02 154.503 1992.83 154.503 L1998.81 154.503 L1998.81 154.086 Q1998.81 151.147 1996.86 149.549 Q1994.94 147.929 1991.45 147.929 Q1989.22 147.929 1987.12 148.461 Q1985.01 148.994 1983.07 150.059 L1983.07 146.123 Q1985.4 145.221 1987.6 144.781 Q1989.8 144.318 1991.89 144.318 Q1997.51 144.318 2000.29 147.234 Q2003.07 150.151 2003.07 156.077 Z\" fill=\"#000000\" fill-rule=\"evenodd\" fill-opacity=\"1\" /><path clip-path=\"url(#clip360)\" d=\"M 0 0 M2022.56 148.924 Q2021.84 148.508 2020.98 148.322 Q2020.15 148.114 2019.13 148.114 Q2015.52 148.114 2013.57 150.475 Q2011.65 152.813 2011.65 157.211 L2011.65 170.869 L2007.37 170.869 L2007.37 144.943 L2011.65 144.943 L2011.65 148.971 Q2013 146.609 2015.15 145.475 Q2017.3 144.318 2020.38 144.318 Q2020.82 144.318 2021.35 144.387 Q2021.89 144.434 2022.53 144.549 L2022.56 148.924 Z\" fill=\"#000000\" fill-rule=\"evenodd\" fill-opacity=\"1\" /><path clip-path=\"url(#clip360)\" d=\"M 0 0 M2047.74 155.221 L2047.74 170.869 L2043.48 170.869 L2043.48 155.359 Q2043.48 151.679 2042.05 149.85 Q2040.61 148.022 2037.74 148.022 Q2034.29 148.022 2032.3 150.221 Q2030.31 152.42 2030.31 156.216 L2030.31 170.869 L2026.03 170.869 L2026.03 144.943 L2030.31 144.943 L2030.31 148.971 Q2031.84 146.633 2033.9 145.475 Q2035.98 144.318 2038.69 144.318 Q2043.16 144.318 2045.45 147.096 Q2047.74 149.85 2047.74 155.221 Z\" fill=\"#000000\" fill-rule=\"evenodd\" fill-opacity=\"1\" /><path clip-path=\"url(#clip360)\" d=\"M 0 0 M2063 173.276 Q2061.19 177.906 2059.48 179.318 Q2057.76 180.73 2054.89 180.73 L2051.49 180.73 L2051.49 177.165 L2053.99 177.165 Q2055.75 177.165 2056.72 176.332 Q2057.7 175.498 2058.88 172.396 L2059.64 170.452 L2049.15 144.943 L2053.67 144.943 L2061.77 165.221 L2069.87 144.943 L2074.38 144.943 L2063 173.276 Z\" fill=\"#000000\" fill-rule=\"evenodd\" fill-opacity=\"1\" /><path clip-path=\"url(#clip360)\" d=\"M 0 0 M2091.44 144.943 L2095.7 144.943 L2101.03 165.174 L2106.33 144.943 L2111.35 144.943 L2116.68 165.174 L2121.98 144.943 L2126.24 144.943 L2119.45 170.869 L2114.43 170.869 L2108.85 149.619 L2103.25 170.869 L2098.23 170.869 L2091.44 144.943 Z\" fill=\"#000000\" fill-rule=\"evenodd\" fill-opacity=\"1\" /><path clip-path=\"url(#clip360)\" d=\"M 0 0 M2152.88 156.841 L2152.88 158.924 L2133.3 158.924 Q2133.57 163.322 2135.94 165.637 Q2138.32 167.929 2142.56 167.929 Q2145.01 167.929 2147.3 167.327 Q2149.62 166.725 2151.88 165.521 L2151.88 169.549 Q2149.59 170.521 2147.19 171.031 Q2144.78 171.54 2142.3 171.54 Q2136.1 171.54 2132.46 167.929 Q2128.85 164.318 2128.85 158.16 Q2128.85 151.795 2132.28 148.068 Q2135.73 144.318 2141.56 144.318 Q2146.79 144.318 2149.82 147.697 Q2152.88 151.054 2152.88 156.841 M2148.62 155.591 Q2148.57 152.096 2146.65 150.012 Q2144.75 147.929 2141.61 147.929 Q2138.04 147.929 2135.89 149.943 Q2133.76 151.957 2133.44 155.614 L2148.62 155.591 Z\" fill=\"#000000\" fill-rule=\"evenodd\" fill-opacity=\"1\" /><path clip-path=\"url(#clip360)\" d=\"M 0 0 M2157.19 134.85 L2161.47 134.85 L2161.47 156.123 L2174.18 144.943 L2179.62 144.943 L2165.87 157.072 L2180.19 170.869 L2174.64 170.869 L2161.47 158.207 L2161.47 170.869 L2157.19 170.869 L2157.19 134.85 Z\" fill=\"#000000\" fill-rule=\"evenodd\" fill-opacity=\"1\" /><path clip-path=\"url(#clip360)\" d=\"M 0 0 M2188.87 137.582 L2188.87 144.943 L2197.65 144.943 L2197.65 148.253 L2188.87 148.253 L2188.87 162.327 Q2188.87 165.498 2189.73 166.401 Q2190.61 167.304 2193.27 167.304 L2197.65 167.304 L2197.65 170.869 L2193.27 170.869 Q2188.34 170.869 2186.47 169.04 Q2184.59 167.188 2184.59 162.327 L2184.59 148.253 L2181.47 148.253 L2181.47 144.943 L2184.59 144.943 L2184.59 137.582 L2188.87 137.582 Z\" fill=\"#000000\" fill-rule=\"evenodd\" fill-opacity=\"1\" /><path clip-path=\"url(#clip360)\" d=\"M 0 0 M2212.16 147.929 Q2208.74 147.929 2206.75 150.614 Q2204.75 153.276 2204.75 157.929 Q2204.75 162.582 2206.72 165.267 Q2208.71 167.929 2212.16 167.929 Q2215.56 167.929 2217.56 165.244 Q2219.55 162.558 2219.55 157.929 Q2219.55 153.322 2217.56 150.637 Q2215.56 147.929 2212.16 147.929 M2212.16 144.318 Q2217.72 144.318 2220.89 147.929 Q2224.06 151.54 2224.06 157.929 Q2224.06 164.295 2220.89 167.929 Q2217.72 171.54 2212.16 171.54 Q2206.58 171.54 2203.41 167.929 Q2200.26 164.295 2200.26 157.929 Q2200.26 151.54 2203.41 147.929 Q2206.58 144.318 2212.16 144.318 Z\" fill=\"#000000\" fill-rule=\"evenodd\" fill-opacity=\"1\" /><path clip-path=\"url(#clip360)\" d=\"M 0 0 M2243.55 148.924 Q2242.83 148.508 2241.98 148.322 Q2241.14 148.114 2240.12 148.114 Q2236.51 148.114 2234.57 150.475 Q2232.65 152.813 2232.65 157.211 L2232.65 170.869 L2228.37 170.869 L2228.37 144.943 L2232.65 144.943 L2232.65 148.971 Q2233.99 146.609 2236.14 145.475 Q2238.3 144.318 2241.37 144.318 Q2241.81 144.318 2242.35 144.387 Q2242.88 144.434 2243.53 144.549 L2243.55 148.924 Z\" fill=\"#000000\" fill-rule=\"evenodd\" fill-opacity=\"1\" /><path clip-path=\"url(#clip360)\" d=\"M 0 0 M2257.02 147.929 Q2253.6 147.929 2251.61 150.614 Q2249.62 153.276 2249.62 157.929 Q2249.62 162.582 2251.58 165.267 Q2253.57 167.929 2257.02 167.929 Q2260.43 167.929 2262.42 165.244 Q2264.41 162.558 2264.41 157.929 Q2264.41 153.322 2262.42 150.637 Q2260.43 147.929 2257.02 147.929 M2257.02 144.318 Q2262.58 144.318 2265.75 147.929 Q2268.92 151.54 2268.92 157.929 Q2268.92 164.295 2265.75 167.929 Q2262.58 171.54 2257.02 171.54 Q2251.44 171.54 2248.27 167.929 Q2245.12 164.295 2245.12 157.929 Q2245.12 151.54 2248.27 147.929 Q2251.44 144.318 2257.02 144.318 M2260.24 132.952 L2264.85 132.952 L2257.3 141.656 L2253.76 141.656 L2260.24 132.952 Z\" fill=\"#000000\" fill-rule=\"evenodd\" fill-opacity=\"1\" /><path clip-path=\"url(#clip360)\" d=\"M 0 0 M2270.91 144.943 L2275.17 144.943 L2280.49 165.174 L2285.8 144.943 L2290.82 144.943 L2296.14 165.174 L2301.44 144.943 L2305.7 144.943 L2298.92 170.869 L2293.9 170.869 L2288.32 149.619 L2282.72 170.869 L2277.69 170.869 L2270.91 144.943 Z\" fill=\"#000000\" fill-rule=\"evenodd\" fill-opacity=\"1\" /></svg>\n"
      ]
     },
     "execution_count": 359,
     "metadata": {},
     "output_type": "execute_result"
    }
   ],
   "source": [
    "scatter(result.rozmiar, result.mean, group=result.type, colour = [:red :blue], yerr=result.std, layout=2,\n",
    "        label = [\"Mnożenie macierzy przez wektor\" \"Iloczyn skalarny wektorów\"])\n",
    "xlabel!(\"Wielkość wektora\")\n",
    "ylabel!(\"Średni czas wykonania\")"
   ]
  }
 ],
 "metadata": {
  "kernelspec": {
   "display_name": "Julia 1.5.4",
   "language": "julia",
   "name": "julia-1.5"
  },
  "language_info": {
   "file_extension": ".jl",
   "mimetype": "application/julia",
   "name": "julia",
   "version": "1.5.4"
  }
 },
 "nbformat": 4,
 "nbformat_minor": 4
}
