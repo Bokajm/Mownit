{
 "cells": [
  {
   "cell_type": "markdown",
   "metadata": {},
   "source": [
    "# Lab. 9, Jakub Margol"
   ]
  },
  {
   "cell_type": "code",
   "execution_count": 3,
   "metadata": {
    "scrolled": true
   },
   "outputs": [
    {
     "name": "stderr",
     "output_type": "stream",
     "text": [
      "\u001b[32m\u001b[1m  Resolving\u001b[22m\u001b[39m package versions...\n",
      "\u001b[32m\u001b[1mNo Changes\u001b[22m\u001b[39m to `~/Project.toml`\n",
      "\u001b[32m\u001b[1mNo Changes\u001b[22m\u001b[39m to `~/Manifest.toml`\n",
      "\u001b[32m\u001b[1m  Resolving\u001b[22m\u001b[39m package versions...\n",
      "\u001b[32m\u001b[1mNo Changes\u001b[22m\u001b[39m to `~/Project.toml`\n",
      "\u001b[32m\u001b[1mNo Changes\u001b[22m\u001b[39m to `~/Manifest.toml`\n",
      "\u001b[32m\u001b[1m  Resolving\u001b[22m\u001b[39m package versions...\n",
      "\u001b[32m\u001b[1mNo Changes\u001b[22m\u001b[39m to `~/Project.toml`\n",
      "\u001b[32m\u001b[1mNo Changes\u001b[22m\u001b[39m to `~/Manifest.toml`\n",
      "\u001b[32m\u001b[1m  Resolving\u001b[22m\u001b[39m package versions...\n",
      "\u001b[32m\u001b[1mNo Changes\u001b[22m\u001b[39m to `~/Project.toml`\n",
      "\u001b[32m\u001b[1mNo Changes\u001b[22m\u001b[39m to `~/Manifest.toml`\n",
      "\u001b[32m\u001b[1m  Resolving\u001b[22m\u001b[39m package versions...\n",
      "\u001b[32m\u001b[1mNo Changes\u001b[22m\u001b[39m to `~/Project.toml`\n",
      "\u001b[32m\u001b[1mNo Changes\u001b[22m\u001b[39m to `~/Manifest.toml`\n",
      "┌ Info: Precompiling Plots [91a5bcdd-55d7-5caf-9e0b-520d859cae80]\n",
      "└ @ Base loading.jl:1278\n",
      "┌ Info: Precompiling DataFrames [a93c6f00-e57d-5684-b7b6-d8193f3e46c0]\n",
      "└ @ Base loading.jl:1278\n",
      "┌ Info: Precompiling CSV [336ed68f-0bac-5ca0-87d4-7b16caf5d00b]\n",
      "└ @ Base loading.jl:1278\n"
     ]
    }
   ],
   "source": [
    "using Pkg\n",
    "Pkg.add(\"Plots\")\n",
    "Pkg.add(\"DataFrames\")\n",
    "Pkg.add(\"LinearAlgebra\")\n",
    "Pkg.add(\"Polynomials\")\n",
    "Pkg.add(\"CSV\")\n",
    "using Plots\n",
    "using DataFrames\n",
    "using Statistics\n",
    "using LinearAlgebra\n",
    "using Polynomials\n",
    "using CSV"
   ]
  },
  {
   "cell_type": "code",
   "execution_count": 5,
   "metadata": {
    "scrolled": true
   },
   "outputs": [
    {
     "data": {
      "text/plain": [
       "2"
      ]
     },
     "execution_count": 5,
     "metadata": {},
     "output_type": "execute_result"
    }
   ],
   "source": [
    "1+1"
   ]
  },
  {
   "cell_type": "code",
   "execution_count": 6,
   "metadata": {},
   "outputs": [
    {
     "data": {
      "text/plain": [
       "10×10 Array{Float64,2}:\n",
       " 0.6558     0.523452  0.622195    …  0.831447   0.575591   0.219808\n",
       " 0.155987   0.59607   0.826846       0.858414   0.0512368  0.510252\n",
       " 0.780425   0.584174  0.78046        0.911073   0.791419   0.723485\n",
       " 0.760079   0.360944  0.00218388     0.744916   0.0619367  0.525791\n",
       " 0.151523   0.414489  0.17411        0.322487   0.9196     0.879077\n",
       " 0.0179283  0.916908  0.114823    …  0.0772383  0.0738202  0.530065\n",
       " 0.833908   0.595615  0.111239       0.254818   0.334579   0.10064\n",
       " 0.875824   0.735915  0.645748       0.593072   0.240679   0.157983\n",
       " 0.89173    0.476032  0.61548        0.70858    0.623652   0.161825\n",
       " 0.878574   0.950179  0.46061        0.644358   0.214797   0.00691604"
      ]
     },
     "execution_count": 6,
     "metadata": {},
     "output_type": "execute_result"
    }
   ],
   "source": [
    "A = rand(10,10)"
   ]
  },
  {
   "cell_type": "code",
   "execution_count": 7,
   "metadata": {},
   "outputs": [
    {
     "data": {
      "text/plain": [
       "10-element Array{Float64,1}:\n",
       " 0.3768366631977744\n",
       " 0.37232078508540023\n",
       " 0.5684742350929279\n",
       " 0.8916788081864582\n",
       " 0.043442674780844515\n",
       " 0.04480392585104842\n",
       " 0.4923834414216224\n",
       " 0.2518118128379885\n",
       " 0.5569350507813453\n",
       " 0.08289269989670545"
      ]
     },
     "execution_count": 7,
     "metadata": {},
     "output_type": "execute_result"
    }
   ],
   "source": [
    "xo = rand(10)"
   ]
  },
  {
   "cell_type": "code",
   "execution_count": 8,
   "metadata": {},
   "outputs": [
    {
     "data": {
      "text/plain": [
       "10-element Array{Float64,1}:\n",
       " 2.168568769600598\n",
       " 2.180315104930739\n",
       " 2.0875184349124334\n",
       " 1.1481470602546535\n",
       " 1.5867433155929438\n",
       " 1.2048890751563104\n",
       " 1.3806451682304468\n",
       " 2.4720594145008117\n",
       " 2.1783352553190305\n",
       " 2.1569918164642443"
      ]
     },
     "execution_count": 8,
     "metadata": {},
     "output_type": "execute_result"
    }
   ],
   "source": [
    "b = A*xo"
   ]
  },
  {
   "cell_type": "code",
   "execution_count": 9,
   "metadata": {},
   "outputs": [
    {
     "data": {
      "text/plain": [
       "10-element Array{Float64,1}:\n",
       " 0.37683666319777354\n",
       " 0.37232078508539956\n",
       " 0.5684742350929279\n",
       " 0.8916788081864588\n",
       " 0.04344267478084518\n",
       " 0.04480392585104842\n",
       " 0.49238344142162216\n",
       " 0.2518118128379889\n",
       " 0.5569350507813462\n",
       " 0.08289269989670567"
      ]
     },
     "execution_count": 9,
     "metadata": {},
     "output_type": "execute_result"
    }
   ],
   "source": [
    "x1 = inv(A) * b"
   ]
  },
  {
   "cell_type": "code",
   "execution_count": 10,
   "metadata": {},
   "outputs": [
    {
     "data": {
      "text/plain": [
       "10-element Array{Float64,1}:\n",
       " 0.37683666319777476\n",
       " 0.37232078508539934\n",
       " 0.5684742350929279\n",
       " 0.8916788081864591\n",
       " 0.04344267478084359\n",
       " 0.04480392585104888\n",
       " 0.4923834414216223\n",
       " 0.2518118128379879\n",
       " 0.5569350507813461\n",
       " 0.08289269989670565"
      ]
     },
     "execution_count": 10,
     "metadata": {},
     "output_type": "execute_result"
    }
   ],
   "source": [
    "x2 = A\\b"
   ]
  },
  {
   "cell_type": "code",
   "execution_count": 11,
   "metadata": {},
   "outputs": [
    {
     "data": {
      "text/plain": [
       "10-element Array{Float64,1}:\n",
       " 0.37683666319777476\n",
       " 0.37232078508539934\n",
       " 0.5684742350929279\n",
       " 0.8916788081864591\n",
       " 0.04344267478084359\n",
       " 0.04480392585104888\n",
       " 0.4923834414216223\n",
       " 0.2518118128379879\n",
       " 0.5569350507813461\n",
       " 0.08289269989670565"
      ]
     },
     "execution_count": 11,
     "metadata": {},
     "output_type": "execute_result"
    }
   ],
   "source": [
    "Af = factorize(A)\n",
    "x3 = Af\\b"
   ]
  },
  {
   "cell_type": "code",
   "execution_count": 12,
   "metadata": {},
   "outputs": [
    {
     "data": {
      "text/plain": [
       "len (generic function with 1 method)"
      ]
     },
     "execution_count": 12,
     "metadata": {},
     "output_type": "execute_result"
    }
   ],
   "source": [
    "#Pomocnicza funkcja do wyliczania długości wektora, bo nie mogłem żadnej znaleźć :c\n",
    "function len(vec)\n",
    "    sum = 0\n",
    "    for x in vec\n",
    "       sum += x*x\n",
    "    end\n",
    "    sqrt(sum)\n",
    "end"
   ]
  },
  {
   "cell_type": "code",
   "execution_count": 13,
   "metadata": {},
   "outputs": [
    {
     "data": {
      "text/plain": [
       "4.440892098500626e-16"
      ]
     },
     "execution_count": 13,
     "metadata": {},
     "output_type": "execute_result"
    }
   ],
   "source": [
    "r1 = abs(len(x1) - len(xo))"
   ]
  },
  {
   "cell_type": "code",
   "execution_count": 14,
   "metadata": {},
   "outputs": [
    {
     "data": {
      "text/plain": [
       "6.661338147750939e-16"
      ]
     },
     "execution_count": 14,
     "metadata": {},
     "output_type": "execute_result"
    }
   ],
   "source": [
    "r2 = abs(len(x2) - len(xo))"
   ]
  },
  {
   "cell_type": "code",
   "execution_count": 15,
   "metadata": {},
   "outputs": [
    {
     "data": {
      "text/plain": [
       "6.661338147750939e-16"
      ]
     },
     "execution_count": 15,
     "metadata": {},
     "output_type": "execute_result"
    }
   ],
   "source": [
    "r3 = abs(len(x3) - len(xo))"
   ]
  },
  {
   "cell_type": "code",
   "execution_count": 16,
   "metadata": {},
   "outputs": [
    {
     "data": {
      "text/html": [
       "<table class=\"data-frame\"><thead><tr><th></th><th>Metoda</th><th>Różnica dł.</th><th>Czas</th></tr><tr><th></th><th>String</th><th>Float64</th><th>Float64</th></tr></thead><tbody><p>0 rows × 3 columns</p></tbody></table>"
      ],
      "text/latex": [
       "\\begin{tabular}{r|ccc}\n",
       "\t& Metoda & Różnica dł. & Czas\\\\\n",
       "\t\\hline\n",
       "\t& String & Float64 & Float64\\\\\n",
       "\t\\hline\n",
       "\\end{tabular}\n"
      ],
      "text/plain": [
       "0×3 DataFrame\n"
      ]
     },
     "execution_count": 16,
     "metadata": {},
     "output_type": "execute_result"
    }
   ],
   "source": [
    "wyniki = DataFrame(A = String[], B = Float64[], C = Float64[])\n",
    "colnames = [\"Metoda\",\"Różnica dł.\",\"Czas\"]\n",
    "\n",
    "rename!(wyniki, Symbol.(colnames))"
   ]
  },
  {
   "cell_type": "markdown",
   "metadata": {},
   "source": [
    "### Pomiary wykonuję 10 razy dla losowych wartości wektora (1000) i macierzy (1000x1000)"
   ]
  },
  {
   "cell_type": "markdown",
   "metadata": {},
   "source": [
    "Mierzę wyniki dla: mnożenia po użyciu inv, wbudowanego operatora \"\\\", funkcji factorize wraz z operatorem \"\\\" oraz samego dzielenia już po zastosowaniu funkcji factorize (czas dzielenia dla macierzy po faktoryzacji)"
   ]
  },
  {
   "cell_type": "code",
   "execution_count": 17,
   "metadata": {},
   "outputs": [],
   "source": [
    "for i in 1:10\n",
    "    xo = rand(1000) \n",
    "    A = rand(1000,1000)\n",
    "    b = A*xo\n",
    "\n",
    "    t1 = (@timed x1 = inv(A)*b).time\n",
    "    t2 = (@timed x2 = A\\b).time\n",
    "    t3 = (@timed x3 = factorize(A)\\b).time\n",
    "    Af = factorize(A)\n",
    "    t4 = (@timed x4 = Af\\b).time\n",
    "\n",
    "    push!(wyniki,(\"inv\", abs(len(x1)-len(xo)), t1))\n",
    "    push!(wyniki,(\"operator dzielenia\", abs(len(x2)-len(xo)), t2))\n",
    "    push!(wyniki,(\"factorize + dzielenie\", abs(len(x3)-len(xo)), t3))\n",
    "    push!(wyniki,(\"samo dzielenie po faktoryzacji\", abs(len(x4)-len(xo)), t4))\n",
    "end"
   ]
  },
  {
   "cell_type": "code",
   "execution_count": 18,
   "metadata": {},
   "outputs": [
    {
     "data": {
      "text/html": [
       "<table class=\"data-frame\"><thead><tr><th></th><th>Metoda</th><th>Różnica dł.</th><th>Czas</th></tr><tr><th></th><th>String</th><th>Float64</th><th>Float64</th></tr></thead><tbody><p>40 rows × 3 columns</p><tr><th>1</th><td>inv</td><td>7.29372e-12</td><td>1.0926</td></tr><tr><th>2</th><td>operator dzielenia</td><td>2.31992e-12</td><td>0.303242</td></tr><tr><th>3</th><td>factorize + dzielenie</td><td>2.31992e-12</td><td>0.303619</td></tr><tr><th>4</th><td>samo dzielenie po faktoryzacji</td><td>2.31992e-12</td><td>0.00116848</td></tr><tr><th>5</th><td>inv</td><td>2.52953e-12</td><td>0.748882</td></tr><tr><th>6</th><td>operator dzielenia</td><td>2.16716e-13</td><td>0.512672</td></tr><tr><th>7</th><td>factorize + dzielenie</td><td>2.16716e-13</td><td>0.792809</td></tr><tr><th>8</th><td>samo dzielenie po faktoryzacji</td><td>2.16716e-13</td><td>0.00145749</td></tr><tr><th>9</th><td>inv</td><td>6.03961e-14</td><td>2.09403</td></tr><tr><th>10</th><td>operator dzielenia</td><td>1.42109e-14</td><td>0.206301</td></tr><tr><th>11</th><td>factorize + dzielenie</td><td>1.42109e-14</td><td>0.713713</td></tr><tr><th>12</th><td>samo dzielenie po faktoryzacji</td><td>1.42109e-14</td><td>0.00120435</td></tr><tr><th>13</th><td>inv</td><td>1.22924e-12</td><td>0.704483</td></tr><tr><th>14</th><td>operator dzielenia</td><td>1.06581e-14</td><td>0.998125</td></tr><tr><th>15</th><td>factorize + dzielenie</td><td>1.06581e-14</td><td>0.497618</td></tr><tr><th>16</th><td>samo dzielenie po faktoryzacji</td><td>1.06581e-14</td><td>0.00132229</td></tr><tr><th>17</th><td>inv</td><td>8.17124e-14</td><td>1.38628</td></tr><tr><th>18</th><td>operator dzielenia</td><td>1.42109e-14</td><td>0.401871</td></tr><tr><th>19</th><td>factorize + dzielenie</td><td>1.42109e-14</td><td>0.508541</td></tr><tr><th>20</th><td>samo dzielenie po faktoryzacji</td><td>1.42109e-14</td><td>0.00128026</td></tr><tr><th>21</th><td>inv</td><td>2.87059e-12</td><td>0.701452</td></tr><tr><th>22</th><td>operator dzielenia</td><td>3.16192e-13</td><td>0.294038</td></tr><tr><th>23</th><td>factorize + dzielenie</td><td>3.16192e-13</td><td>0.205882</td></tr><tr><th>24</th><td>samo dzielenie po faktoryzacji</td><td>3.16192e-13</td><td>0.00127178</td></tr><tr><th>25</th><td>inv</td><td>2.4869e-13</td><td>0.700046</td></tr><tr><th>26</th><td>operator dzielenia</td><td>1.91847e-13</td><td>0.40284</td></tr><tr><th>27</th><td>factorize + dzielenie</td><td>1.91847e-13</td><td>0.291572</td></tr><tr><th>28</th><td>samo dzielenie po faktoryzacji</td><td>1.91847e-13</td><td>0.00106651</td></tr><tr><th>29</th><td>inv</td><td>2.4869e-13</td><td>0.599872</td></tr><tr><th>30</th><td>operator dzielenia</td><td>2.0961e-13</td><td>0.20282</td></tr><tr><th>&vellip;</th><td>&vellip;</td><td>&vellip;</td><td>&vellip;</td></tr></tbody></table>"
      ],
      "text/latex": [
       "\\begin{tabular}{r|ccc}\n",
       "\t& Metoda & Różnica dł. & Czas\\\\\n",
       "\t\\hline\n",
       "\t& String & Float64 & Float64\\\\\n",
       "\t\\hline\n",
       "\t1 & inv & 7.29372e-12 & 1.0926 \\\\\n",
       "\t2 & operator dzielenia & 2.31992e-12 & 0.303242 \\\\\n",
       "\t3 & factorize + dzielenie & 2.31992e-12 & 0.303619 \\\\\n",
       "\t4 & samo dzielenie po faktoryzacji & 2.31992e-12 & 0.00116848 \\\\\n",
       "\t5 & inv & 2.52953e-12 & 0.748882 \\\\\n",
       "\t6 & operator dzielenia & 2.16716e-13 & 0.512672 \\\\\n",
       "\t7 & factorize + dzielenie & 2.16716e-13 & 0.792809 \\\\\n",
       "\t8 & samo dzielenie po faktoryzacji & 2.16716e-13 & 0.00145749 \\\\\n",
       "\t9 & inv & 6.03961e-14 & 2.09403 \\\\\n",
       "\t10 & operator dzielenia & 1.42109e-14 & 0.206301 \\\\\n",
       "\t11 & factorize + dzielenie & 1.42109e-14 & 0.713713 \\\\\n",
       "\t12 & samo dzielenie po faktoryzacji & 1.42109e-14 & 0.00120435 \\\\\n",
       "\t13 & inv & 1.22924e-12 & 0.704483 \\\\\n",
       "\t14 & operator dzielenia & 1.06581e-14 & 0.998125 \\\\\n",
       "\t15 & factorize + dzielenie & 1.06581e-14 & 0.497618 \\\\\n",
       "\t16 & samo dzielenie po faktoryzacji & 1.06581e-14 & 0.00132229 \\\\\n",
       "\t17 & inv & 8.17124e-14 & 1.38628 \\\\\n",
       "\t18 & operator dzielenia & 1.42109e-14 & 0.401871 \\\\\n",
       "\t19 & factorize + dzielenie & 1.42109e-14 & 0.508541 \\\\\n",
       "\t20 & samo dzielenie po faktoryzacji & 1.42109e-14 & 0.00128026 \\\\\n",
       "\t21 & inv & 2.87059e-12 & 0.701452 \\\\\n",
       "\t22 & operator dzielenia & 3.16192e-13 & 0.294038 \\\\\n",
       "\t23 & factorize + dzielenie & 3.16192e-13 & 0.205882 \\\\\n",
       "\t24 & samo dzielenie po faktoryzacji & 3.16192e-13 & 0.00127178 \\\\\n",
       "\t25 & inv & 2.4869e-13 & 0.700046 \\\\\n",
       "\t26 & operator dzielenia & 1.91847e-13 & 0.40284 \\\\\n",
       "\t27 & factorize + dzielenie & 1.91847e-13 & 0.291572 \\\\\n",
       "\t28 & samo dzielenie po faktoryzacji & 1.91847e-13 & 0.00106651 \\\\\n",
       "\t29 & inv & 2.4869e-13 & 0.599872 \\\\\n",
       "\t30 & operator dzielenia & 2.0961e-13 & 0.20282 \\\\\n",
       "\t$\\dots$ & $\\dots$ & $\\dots$ & $\\dots$ \\\\\n",
       "\\end{tabular}\n"
      ],
      "text/plain": [
       "40×3 DataFrame\n",
       "│ Row │ Metoda                         │ Różnica dł. │ Czas       │\n",
       "│     │ \u001b[90mString\u001b[39m                         │ \u001b[90mFloat64\u001b[39m     │ \u001b[90mFloat64\u001b[39m    │\n",
       "├─────┼────────────────────────────────┼─────────────┼────────────┤\n",
       "│ 1   │ inv                            │ 7.29372e-12 │ 1.0926     │\n",
       "│ 2   │ operator dzielenia             │ 2.31992e-12 │ 0.303242   │\n",
       "│ 3   │ factorize + dzielenie          │ 2.31992e-12 │ 0.303619   │\n",
       "│ 4   │ samo dzielenie po faktoryzacji │ 2.31992e-12 │ 0.00116848 │\n",
       "│ 5   │ inv                            │ 2.52953e-12 │ 0.748882   │\n",
       "│ 6   │ operator dzielenia             │ 2.16716e-13 │ 0.512672   │\n",
       "│ 7   │ factorize + dzielenie          │ 2.16716e-13 │ 0.792809   │\n",
       "│ 8   │ samo dzielenie po faktoryzacji │ 2.16716e-13 │ 0.00145749 │\n",
       "│ 9   │ inv                            │ 6.03961e-14 │ 2.09403    │\n",
       "│ 10  │ operator dzielenia             │ 1.42109e-14 │ 0.206301   │\n",
       "⋮\n",
       "│ 30  │ operator dzielenia             │ 2.0961e-13  │ 0.20282    │\n",
       "│ 31  │ factorize + dzielenie          │ 2.0961e-13  │ 0.292956   │\n",
       "│ 32  │ samo dzielenie po faktoryzacji │ 2.0961e-13  │ 0.00133021 │\n",
       "│ 33  │ inv                            │ 3.73035e-12 │ 0.597316   │\n",
       "│ 34  │ operator dzielenia             │ 3.33955e-13 │ 0.202228   │\n",
       "│ 35  │ factorize + dzielenie          │ 3.33955e-13 │ 0.298234   │\n",
       "│ 36  │ samo dzielenie po faktoryzacji │ 3.33955e-13 │ 0.0015803  │\n",
       "│ 37  │ inv                            │ 8.98837e-13 │ 0.71109    │\n",
       "│ 38  │ operator dzielenia             │ 1.13687e-13 │ 0.396225   │\n",
       "│ 39  │ factorize + dzielenie          │ 1.13687e-13 │ 0.599169   │\n",
       "│ 40  │ samo dzielenie po faktoryzacji │ 1.13687e-13 │ 0.00133662 │"
      ]
     },
     "execution_count": 18,
     "metadata": {},
     "output_type": "execute_result"
    }
   ],
   "source": [
    "wyniki"
   ]
  },
  {
   "cell_type": "code",
   "execution_count": 19,
   "metadata": {},
   "outputs": [
    {
     "data": {
      "text/html": [
       "<p><b>GroupedDataFrame with 4 groups based on key: Metoda</b></p><p><i>First Group (10 rows): Metoda = \"inv\"</i></p><table class=\"data-frame\"><thead><tr><th></th><th>Metoda</th><th>Różnica dł.</th><th>Czas</th></tr><tr><th></th><th>String</th><th>Float64</th><th>Float64</th></tr></thead><tbody><tr><th>1</th><td>inv</td><td>7.29372e-12</td><td>1.0926</td></tr><tr><th>2</th><td>inv</td><td>2.52953e-12</td><td>0.748882</td></tr><tr><th>3</th><td>inv</td><td>6.03961e-14</td><td>2.09403</td></tr><tr><th>4</th><td>inv</td><td>1.22924e-12</td><td>0.704483</td></tr><tr><th>5</th><td>inv</td><td>8.17124e-14</td><td>1.38628</td></tr><tr><th>6</th><td>inv</td><td>2.87059e-12</td><td>0.701452</td></tr><tr><th>7</th><td>inv</td><td>2.4869e-13</td><td>0.700046</td></tr><tr><th>8</th><td>inv</td><td>2.4869e-13</td><td>0.599872</td></tr><tr><th>9</th><td>inv</td><td>3.73035e-12</td><td>0.597316</td></tr><tr><th>10</th><td>inv</td><td>8.98837e-13</td><td>0.71109</td></tr></tbody></table><p>&vellip;</p><p><i>Last Group (10 rows): Metoda = \"samo dzielenie po faktoryzacji\"</i></p><table class=\"data-frame\"><thead><tr><th></th><th>Metoda</th><th>Różnica dł.</th><th>Czas</th></tr><tr><th></th><th>String</th><th>Float64</th><th>Float64</th></tr></thead><tbody><tr><th>1</th><td>samo dzielenie po faktoryzacji</td><td>2.31992e-12</td><td>0.00116848</td></tr><tr><th>2</th><td>samo dzielenie po faktoryzacji</td><td>2.16716e-13</td><td>0.00145749</td></tr><tr><th>3</th><td>samo dzielenie po faktoryzacji</td><td>1.42109e-14</td><td>0.00120435</td></tr><tr><th>4</th><td>samo dzielenie po faktoryzacji</td><td>1.06581e-14</td><td>0.00132229</td></tr><tr><th>5</th><td>samo dzielenie po faktoryzacji</td><td>1.42109e-14</td><td>0.00128026</td></tr><tr><th>6</th><td>samo dzielenie po faktoryzacji</td><td>3.16192e-13</td><td>0.00127178</td></tr><tr><th>7</th><td>samo dzielenie po faktoryzacji</td><td>1.91847e-13</td><td>0.00106651</td></tr><tr><th>8</th><td>samo dzielenie po faktoryzacji</td><td>2.0961e-13</td><td>0.00133021</td></tr><tr><th>9</th><td>samo dzielenie po faktoryzacji</td><td>3.33955e-13</td><td>0.0015803</td></tr><tr><th>10</th><td>samo dzielenie po faktoryzacji</td><td>1.13687e-13</td><td>0.00133662</td></tr></tbody></table>"
      ],
      "text/latex": [
       "GroupedDataFrame with 4 groups based on key: Metoda\n",
       "\n",
       "First Group (10 rows): Metoda = \"inv\"\n",
       "\n",
       "\\begin{tabular}{r|ccc}\n",
       "\t& Metoda & Różnica dł. & Czas\\\\\n",
       "\t\\hline\n",
       "\t& String & Float64 & Float64\\\\\n",
       "\t\\hline\n",
       "\t1 & inv & 7.29372e-12 & 1.0926 \\\\\n",
       "\t2 & inv & 2.52953e-12 & 0.748882 \\\\\n",
       "\t3 & inv & 6.03961e-14 & 2.09403 \\\\\n",
       "\t4 & inv & 1.22924e-12 & 0.704483 \\\\\n",
       "\t5 & inv & 8.17124e-14 & 1.38628 \\\\\n",
       "\t6 & inv & 2.87059e-12 & 0.701452 \\\\\n",
       "\t7 & inv & 2.4869e-13 & 0.700046 \\\\\n",
       "\t8 & inv & 2.4869e-13 & 0.599872 \\\\\n",
       "\t9 & inv & 3.73035e-12 & 0.597316 \\\\\n",
       "\t10 & inv & 8.98837e-13 & 0.71109 \\\\\n",
       "\\end{tabular}\n",
       "\n",
       "$\\dots$\n",
       "\n",
       "Last Group (10 rows): Metoda = \"samo dzielenie po faktoryzacji\"\n",
       "\n",
       "\\begin{tabular}{r|ccc}\n",
       "\t& Metoda & Różnica dł. & Czas\\\\\n",
       "\t\\hline\n",
       "\t& String & Float64 & Float64\\\\\n",
       "\t\\hline\n",
       "\t1 & samo dzielenie po faktoryzacji & 2.31992e-12 & 0.00116848 \\\\\n",
       "\t2 & samo dzielenie po faktoryzacji & 2.16716e-13 & 0.00145749 \\\\\n",
       "\t3 & samo dzielenie po faktoryzacji & 1.42109e-14 & 0.00120435 \\\\\n",
       "\t4 & samo dzielenie po faktoryzacji & 1.06581e-14 & 0.00132229 \\\\\n",
       "\t5 & samo dzielenie po faktoryzacji & 1.42109e-14 & 0.00128026 \\\\\n",
       "\t6 & samo dzielenie po faktoryzacji & 3.16192e-13 & 0.00127178 \\\\\n",
       "\t7 & samo dzielenie po faktoryzacji & 1.91847e-13 & 0.00106651 \\\\\n",
       "\t8 & samo dzielenie po faktoryzacji & 2.0961e-13 & 0.00133021 \\\\\n",
       "\t9 & samo dzielenie po faktoryzacji & 3.33955e-13 & 0.0015803 \\\\\n",
       "\t10 & samo dzielenie po faktoryzacji & 1.13687e-13 & 0.00133662 \\\\\n",
       "\\end{tabular}\n"
      ],
      "text/plain": [
       "GroupedDataFrame with 4 groups based on key: Metoda\n",
       "First Group (10 rows): Metoda = \"inv\"\n",
       "│ Row │ Metoda │ Różnica dł. │ Czas     │\n",
       "│     │ \u001b[90mString\u001b[39m │ \u001b[90mFloat64\u001b[39m     │ \u001b[90mFloat64\u001b[39m  │\n",
       "├─────┼────────┼─────────────┼──────────┤\n",
       "│ 1   │ inv    │ 7.29372e-12 │ 1.0926   │\n",
       "│ 2   │ inv    │ 2.52953e-12 │ 0.748882 │\n",
       "│ 3   │ inv    │ 6.03961e-14 │ 2.09403  │\n",
       "│ 4   │ inv    │ 1.22924e-12 │ 0.704483 │\n",
       "│ 5   │ inv    │ 8.17124e-14 │ 1.38628  │\n",
       "│ 6   │ inv    │ 2.87059e-12 │ 0.701452 │\n",
       "│ 7   │ inv    │ 2.4869e-13  │ 0.700046 │\n",
       "│ 8   │ inv    │ 2.4869e-13  │ 0.599872 │\n",
       "│ 9   │ inv    │ 3.73035e-12 │ 0.597316 │\n",
       "│ 10  │ inv    │ 8.98837e-13 │ 0.71109  │\n",
       "⋮\n",
       "Last Group (10 rows): Metoda = \"samo dzielenie po faktoryzacji\"\n",
       "│ Row │ Metoda                         │ Różnica dł. │ Czas       │\n",
       "│     │ \u001b[90mString\u001b[39m                         │ \u001b[90mFloat64\u001b[39m     │ \u001b[90mFloat64\u001b[39m    │\n",
       "├─────┼────────────────────────────────┼─────────────┼────────────┤\n",
       "│ 1   │ samo dzielenie po faktoryzacji │ 2.31992e-12 │ 0.00116848 │\n",
       "│ 2   │ samo dzielenie po faktoryzacji │ 2.16716e-13 │ 0.00145749 │\n",
       "│ 3   │ samo dzielenie po faktoryzacji │ 1.42109e-14 │ 0.00120435 │\n",
       "│ 4   │ samo dzielenie po faktoryzacji │ 1.06581e-14 │ 0.00132229 │\n",
       "│ 5   │ samo dzielenie po faktoryzacji │ 1.42109e-14 │ 0.00128026 │\n",
       "│ 6   │ samo dzielenie po faktoryzacji │ 3.16192e-13 │ 0.00127178 │\n",
       "│ 7   │ samo dzielenie po faktoryzacji │ 1.91847e-13 │ 0.00106651 │\n",
       "│ 8   │ samo dzielenie po faktoryzacji │ 2.0961e-13  │ 0.00133021 │\n",
       "│ 9   │ samo dzielenie po faktoryzacji │ 3.33955e-13 │ 0.0015803  │\n",
       "│ 10  │ samo dzielenie po faktoryzacji │ 1.13687e-13 │ 0.00133662 │"
      ]
     },
     "execution_count": 19,
     "metadata": {},
     "output_type": "execute_result"
    }
   ],
   "source": [
    "grouped = groupby(wyniki, :1)"
   ]
  },
  {
   "cell_type": "code",
   "execution_count": 20,
   "metadata": {
    "scrolled": true
   },
   "outputs": [
    {
     "data": {
      "text/html": [
       "<table class=\"data-frame\"><thead><tr><th></th><th>Metoda</th><th>Średni czas wykonania</th><th>Odchylenie st. (czas)</th><th>Średnia różnica dł.</th></tr><tr><th></th><th>String</th><th>Float64</th><th>Float64</th><th>Float64</th></tr></thead><tbody><p>4 rows × 5 columns (omitted printing of 1 columns)</p><tr><th>1</th><td>inv</td><td>0.933606</td><td>0.476775</td><td>1.91918e-12</td></tr><tr><th>2</th><td>operator dzielenia</td><td>0.392036</td><td>0.237099</td><td>3.74101e-13</td></tr><tr><th>3</th><td>factorize + dzielenie</td><td>0.450411</td><td>0.202436</td><td>3.74101e-13</td></tr><tr><th>4</th><td>samo dzielenie po faktoryzacji</td><td>0.00130183</td><td>0.00014462</td><td>3.74101e-13</td></tr></tbody></table>"
      ],
      "text/latex": [
       "\\begin{tabular}{r|ccccc}\n",
       "\t& Metoda & Średni czas wykonania & Odchylenie st. (czas) & Średnia różnica dł. & \\\\\n",
       "\t\\hline\n",
       "\t& String & Float64 & Float64 & Float64 & \\\\\n",
       "\t\\hline\n",
       "\t1 & inv & 0.933606 & 0.476775 & 1.91918e-12 & $\\dots$ \\\\\n",
       "\t2 & operator dzielenia & 0.392036 & 0.237099 & 3.74101e-13 & $\\dots$ \\\\\n",
       "\t3 & factorize + dzielenie & 0.450411 & 0.202436 & 3.74101e-13 & $\\dots$ \\\\\n",
       "\t4 & samo dzielenie po faktoryzacji & 0.00130183 & 0.00014462 & 3.74101e-13 & $\\dots$ \\\\\n",
       "\\end{tabular}\n"
      ],
      "text/plain": [
       "4×5 DataFrame. Omitted printing of 3 columns\n",
       "│ Row │ Metoda                         │ Średni czas wykonania │\n",
       "│     │ \u001b[90mString\u001b[39m                         │ \u001b[90mFloat64\u001b[39m               │\n",
       "├─────┼────────────────────────────────┼───────────────────────┤\n",
       "│ 1   │ inv                            │ 0.933606              │\n",
       "│ 2   │ operator dzielenia             │ 0.392036              │\n",
       "│ 3   │ factorize + dzielenie          │ 0.450411              │\n",
       "│ 4   │ samo dzielenie po faktoryzacji │ 0.00130183            │"
      ]
     },
     "execution_count": 20,
     "metadata": {},
     "output_type": "execute_result"
    }
   ],
   "source": [
    "tm = combine(grouped ,\"Czas\" => mean)\n",
    "tmp = combine(grouped ,\"Czas\" => std)\n",
    "tmm = combine(grouped, \"Różnica dł.\" => mean)\n",
    "tmm2 = combine(grouped, \"Różnica dł.\" => std)\n",
    "tm.\"Odchylenie st. (czas)\" = tmp.\"Czas_std\"\n",
    "tm.\"Średnia różnica dł.\" = tmm.\"Różnica dł._mean\"\n",
    "tm.\"Odchylenie st. (dł)\" = tmm2.\"Różnica dł._std\"\n",
    "rename!(tm, \"Czas_mean\" => \"Średni czas wykonania\")"
   ]
  },
  {
   "cell_type": "markdown",
   "metadata": {},
   "source": [
    "## Tabela z podsumowaniem wyników pomiarów"
   ]
  },
  {
   "cell_type": "code",
   "execution_count": 21,
   "metadata": {
    "scrolled": true
   },
   "outputs": [
    {
     "data": {
      "text/html": [
       "<table class=\"data-frame\"><thead><tr><th></th><th>Metoda</th><th>Średni czas wykonania</th><th>Średnia różnica dł.</th></tr><tr><th></th><th>String</th><th>Float64</th><th>Float64</th></tr></thead><tbody><p>4 rows × 3 columns</p><tr><th>1</th><td>inv</td><td>0.933606</td><td>1.91918e-12</td></tr><tr><th>2</th><td>operator dzielenia</td><td>0.392036</td><td>3.74101e-13</td></tr><tr><th>3</th><td>factorize + dzielenie</td><td>0.450411</td><td>3.74101e-13</td></tr><tr><th>4</th><td>samo dzielenie po faktoryzacji</td><td>0.00130183</td><td>3.74101e-13</td></tr></tbody></table>"
      ],
      "text/latex": [
       "\\begin{tabular}{r|ccc}\n",
       "\t& Metoda & Średni czas wykonania & Średnia różnica dł.\\\\\n",
       "\t\\hline\n",
       "\t& String & Float64 & Float64\\\\\n",
       "\t\\hline\n",
       "\t1 & inv & 0.933606 & 1.91918e-12 \\\\\n",
       "\t2 & operator dzielenia & 0.392036 & 3.74101e-13 \\\\\n",
       "\t3 & factorize + dzielenie & 0.450411 & 3.74101e-13 \\\\\n",
       "\t4 & samo dzielenie po faktoryzacji & 0.00130183 & 3.74101e-13 \\\\\n",
       "\\end{tabular}\n"
      ],
      "text/plain": [
       "4×3 DataFrame. Omitted printing of 1 columns\n",
       "│ Row │ Metoda                         │ Średni czas wykonania │\n",
       "│     │ \u001b[90mString\u001b[39m                         │ \u001b[90mFloat64\u001b[39m               │\n",
       "├─────┼────────────────────────────────┼───────────────────────┤\n",
       "│ 1   │ inv                            │ 0.933606              │\n",
       "│ 2   │ operator dzielenia             │ 0.392036              │\n",
       "│ 3   │ factorize + dzielenie          │ 0.450411              │\n",
       "│ 4   │ samo dzielenie po faktoryzacji │ 0.00130183            │"
      ]
     },
     "execution_count": 21,
     "metadata": {},
     "output_type": "execute_result"
    }
   ],
   "source": [
    "select(tm, Not(:3, :5))"
   ]
  },
  {
   "cell_type": "markdown",
   "metadata": {},
   "source": [
    "### Wykresy średnich wartości dla czasu pomiarów i jakości wyników"
   ]
  },
  {
   "cell_type": "code",
   "execution_count": 22,
   "metadata": {},
   "outputs": [
    {
     "data": {
      "image/svg+xml": [
       "<?xml version=\"1.0\" encoding=\"utf-8\"?>\n",
       "<svg xmlns=\"http://www.w3.org/2000/svg\" xmlns:xlink=\"http://www.w3.org/1999/xlink\" width=\"600\" height=\"400\" viewBox=\"0 0 2400 1600\">\n",
       "<defs>\n",
       "  <clipPath id=\"clip520\">\n",
       "    <rect x=\"0\" y=\"0\" width=\"2400\" height=\"1600\"/>\n",
       "  </clipPath>\n",
       "</defs>\n",
       "<path clip-path=\"url(#clip520)\" d=\"\n",
       "M0 1600 L2400 1600 L2400 0 L0 0  Z\n",
       "  \" fill=\"#ffffff\" fill-rule=\"evenodd\" fill-opacity=\"1\"/>\n",
       "<defs>\n",
       "  <clipPath id=\"clip521\">\n",
       "    <rect x=\"480\" y=\"0\" width=\"1681\" height=\"1600\"/>\n",
       "  </clipPath>\n",
       "</defs>\n",
       "<path clip-path=\"url(#clip520)\" d=\"\n",
       "M249.542 1423.18 L2352.76 1423.18 L2352.76 123.472 L249.542 123.472  Z\n",
       "  \" fill=\"#ffffff\" fill-rule=\"evenodd\" fill-opacity=\"1\"/>\n",
       "<defs>\n",
       "  <clipPath id=\"clip522\">\n",
       "    <rect x=\"249\" y=\"123\" width=\"2104\" height=\"1301\"/>\n",
       "  </clipPath>\n",
       "</defs>\n",
       "<polyline clip-path=\"url(#clip522)\" style=\"stroke:#000000; stroke-width:2; stroke-opacity:0.1; fill:none\" points=\"\n",
       "  309.067,1423.18 309.067,123.472 \n",
       "  \"/>\n",
       "<polyline clip-path=\"url(#clip522)\" style=\"stroke:#000000; stroke-width:2; stroke-opacity:0.1; fill:none\" points=\"\n",
       "  970.455,1423.18 970.455,123.472 \n",
       "  \"/>\n",
       "<polyline clip-path=\"url(#clip522)\" style=\"stroke:#000000; stroke-width:2; stroke-opacity:0.1; fill:none\" points=\"\n",
       "  1631.84,1423.18 1631.84,123.472 \n",
       "  \"/>\n",
       "<polyline clip-path=\"url(#clip522)\" style=\"stroke:#000000; stroke-width:2; stroke-opacity:0.1; fill:none\" points=\"\n",
       "  2293.23,1423.18 2293.23,123.472 \n",
       "  \"/>\n",
       "<polyline clip-path=\"url(#clip520)\" style=\"stroke:#000000; stroke-width:4; stroke-opacity:1; fill:none\" points=\"\n",
       "  249.542,1423.18 2352.76,1423.18 \n",
       "  \"/>\n",
       "<polyline clip-path=\"url(#clip520)\" style=\"stroke:#000000; stroke-width:4; stroke-opacity:1; fill:none\" points=\"\n",
       "  309.067,1423.18 309.067,1407.58 \n",
       "  \"/>\n",
       "<polyline clip-path=\"url(#clip520)\" style=\"stroke:#000000; stroke-width:4; stroke-opacity:1; fill:none\" points=\"\n",
       "  970.455,1423.18 970.455,1407.58 \n",
       "  \"/>\n",
       "<polyline clip-path=\"url(#clip520)\" style=\"stroke:#000000; stroke-width:4; stroke-opacity:1; fill:none\" points=\"\n",
       "  1631.84,1423.18 1631.84,1407.58 \n",
       "  \"/>\n",
       "<polyline clip-path=\"url(#clip520)\" style=\"stroke:#000000; stroke-width:4; stroke-opacity:1; fill:none\" points=\"\n",
       "  2293.23,1423.18 2293.23,1407.58 \n",
       "  \"/>\n",
       "<path clip-path=\"url(#clip520)\" d=\"M 0 0 M299.449 1479.92 L307.088 1479.92 L307.088 1453.55 L298.778 1455.22 L298.778 1450.96 L307.042 1449.29 L311.717 1449.29 L311.717 1479.92 L319.356 1479.92 L319.356 1483.85 L299.449 1483.85 L299.449 1479.92 Z\" fill=\"#000000\" fill-rule=\"evenodd\" fill-opacity=\"1\" /><path clip-path=\"url(#clip520)\" d=\"M 0 0 M965.108 1479.92 L981.427 1479.92 L981.427 1483.85 L959.483 1483.85 L959.483 1479.92 Q962.145 1477.16 966.728 1472.53 Q971.335 1467.88 972.515 1466.54 Q974.76 1464.01 975.64 1462.28 Q976.543 1460.52 976.543 1458.83 Q976.543 1456.07 974.598 1454.34 Q972.677 1452.6 969.575 1452.6 Q967.376 1452.6 964.923 1453.37 Q962.492 1454.13 959.714 1455.68 L959.714 1450.96 Q962.538 1449.82 964.992 1449.25 Q967.446 1448.67 969.483 1448.67 Q974.853 1448.67 978.048 1451.35 Q981.242 1454.04 981.242 1458.53 Q981.242 1460.66 980.432 1462.58 Q979.645 1464.48 977.538 1467.07 Q976.96 1467.74 973.858 1470.96 Q970.756 1474.15 965.108 1479.92 Z\" fill=\"#000000\" fill-rule=\"evenodd\" fill-opacity=\"1\" /><path clip-path=\"url(#clip520)\" d=\"M 0 0 M1636.09 1465.22 Q1639.45 1465.94 1641.32 1468.2 Q1643.22 1470.47 1643.22 1473.81 Q1643.22 1478.92 1639.7 1481.72 Q1636.18 1484.52 1629.7 1484.52 Q1627.53 1484.52 1625.21 1484.08 Q1622.92 1483.67 1620.47 1482.81 L1620.47 1478.3 Q1622.41 1479.43 1624.72 1480.01 Q1627.04 1480.59 1629.56 1480.59 Q1633.96 1480.59 1636.25 1478.85 Q1638.57 1477.12 1638.57 1473.81 Q1638.57 1470.75 1636.41 1469.04 Q1634.29 1467.3 1630.47 1467.3 L1626.44 1467.3 L1626.44 1463.46 L1630.65 1463.46 Q1634.1 1463.46 1635.93 1462.09 Q1637.76 1460.7 1637.76 1458.11 Q1637.76 1455.45 1635.86 1454.04 Q1633.98 1452.6 1630.47 1452.6 Q1628.54 1452.6 1626.35 1453.02 Q1624.15 1453.44 1621.51 1454.31 L1621.51 1450.15 Q1624.17 1449.41 1626.48 1449.04 Q1628.82 1448.67 1630.88 1448.67 Q1636.21 1448.67 1639.31 1451.1 Q1642.41 1453.5 1642.41 1457.63 Q1642.41 1460.5 1640.77 1462.49 Q1639.12 1464.45 1636.09 1465.22 Z\" fill=\"#000000\" fill-rule=\"evenodd\" fill-opacity=\"1\" /><path clip-path=\"url(#clip520)\" d=\"M 0 0 M2296.24 1453.37 L2284.43 1471.81 L2296.24 1471.81 L2296.24 1453.37 M2295.01 1449.29 L2300.89 1449.29 L2300.89 1471.81 L2305.82 1471.81 L2305.82 1475.7 L2300.89 1475.7 L2300.89 1483.85 L2296.24 1483.85 L2296.24 1475.7 L2280.64 1475.7 L2280.64 1471.19 L2295.01 1449.29 Z\" fill=\"#000000\" fill-rule=\"evenodd\" fill-opacity=\"1\" /><path clip-path=\"url(#clip520)\" d=\"M 0 0 M1185.75 1520.52 L1195.34 1520.52 L1207.46 1552.86 L1219.65 1520.52 L1229.23 1520.52 L1229.23 1568.04 L1222.96 1568.04 L1222.96 1526.32 L1210.71 1558.91 L1204.25 1558.91 L1191.99 1526.32 L1191.99 1568.04 L1185.75 1568.04 L1185.75 1520.52 Z\" fill=\"#000000\" fill-rule=\"evenodd\" fill-opacity=\"1\" /><path clip-path=\"url(#clip520)\" d=\"M 0 0 M1272.23 1548.76 L1272.23 1551.62 L1245.31 1551.62 Q1245.69 1557.67 1248.93 1560.85 Q1252.21 1564 1258.04 1564 Q1261.41 1564 1264.56 1563.17 Q1267.74 1562.35 1270.86 1560.69 L1270.86 1566.23 Q1267.71 1567.57 1264.4 1568.27 Q1261.09 1568.97 1257.69 1568.97 Q1249.16 1568.97 1244.16 1564 Q1239.19 1559.04 1239.19 1550.57 Q1239.19 1541.82 1243.91 1536.69 Q1248.65 1531.54 1256.67 1531.54 Q1263.86 1531.54 1268.03 1536.18 Q1272.23 1540.8 1272.23 1548.76 M1266.38 1547.04 Q1266.31 1542.23 1263.67 1539.37 Q1261.06 1536.5 1256.73 1536.5 Q1251.83 1536.5 1248.87 1539.27 Q1245.94 1542.04 1245.5 1547.07 L1266.38 1547.04 Z\" fill=\"#000000\" fill-rule=\"evenodd\" fill-opacity=\"1\" /><path clip-path=\"url(#clip520)\" d=\"M 0 0 M1287.64 1522.27 L1287.64 1532.4 L1299.7 1532.4 L1299.7 1536.95 L1287.64 1536.95 L1287.64 1556.3 Q1287.64 1560.66 1288.82 1561.9 Q1290.02 1563.14 1293.69 1563.14 L1299.7 1563.14 L1299.7 1568.04 L1293.69 1568.04 Q1286.91 1568.04 1284.33 1565.53 Q1281.75 1562.98 1281.75 1556.3 L1281.75 1536.95 L1277.45 1536.95 L1277.45 1532.4 L1281.75 1532.4 L1281.75 1522.27 L1287.64 1522.27 Z\" fill=\"#000000\" fill-rule=\"evenodd\" fill-opacity=\"1\" /><path clip-path=\"url(#clip520)\" d=\"M 0 0 M1321.22 1536.5 Q1316.51 1536.5 1313.77 1540.19 Q1311.03 1543.85 1311.03 1550.25 Q1311.03 1556.65 1313.74 1560.34 Q1316.47 1564 1321.22 1564 Q1325.9 1564 1328.63 1560.31 Q1331.37 1556.62 1331.37 1550.25 Q1331.37 1543.92 1328.63 1540.23 Q1325.9 1536.5 1321.22 1536.5 M1321.22 1531.54 Q1328.86 1531.54 1333.22 1536.5 Q1337.58 1541.47 1337.58 1550.25 Q1337.58 1559 1333.22 1564 Q1328.86 1568.97 1321.22 1568.97 Q1313.55 1568.97 1309.19 1564 Q1304.86 1559 1304.86 1550.25 Q1304.86 1541.47 1309.19 1536.5 Q1313.55 1531.54 1321.22 1531.54 Z\" fill=\"#000000\" fill-rule=\"evenodd\" fill-opacity=\"1\" /><path clip-path=\"url(#clip520)\" d=\"M 0 0 M1370.74 1537.81 L1370.74 1518.52 L1376.6 1518.52 L1376.6 1568.04 L1370.74 1568.04 L1370.74 1562.7 Q1368.9 1565.88 1366.06 1567.44 Q1363.26 1568.97 1359.32 1568.97 Q1352.85 1568.97 1348.78 1563.81 Q1344.74 1558.65 1344.74 1550.25 Q1344.74 1541.85 1348.78 1536.69 Q1352.85 1531.54 1359.32 1531.54 Q1363.26 1531.54 1366.06 1533.1 Q1368.9 1534.62 1370.74 1537.81 M1350.79 1550.25 Q1350.79 1556.71 1353.43 1560.4 Q1356.1 1564.07 1360.75 1564.07 Q1365.39 1564.07 1368.07 1560.4 Q1370.74 1556.71 1370.74 1550.25 Q1370.74 1543.79 1368.07 1540.13 Q1365.39 1536.44 1360.75 1536.44 Q1356.1 1536.44 1353.43 1540.13 Q1350.79 1543.79 1350.79 1550.25 Z\" fill=\"#000000\" fill-rule=\"evenodd\" fill-opacity=\"1\" /><path clip-path=\"url(#clip520)\" d=\"M 0 0 M1404.86 1550.12 Q1397.76 1550.12 1395.03 1551.75 Q1392.29 1553.37 1392.29 1557.29 Q1392.29 1560.4 1394.33 1562.25 Q1396.4 1564.07 1399.93 1564.07 Q1404.8 1564.07 1407.73 1560.63 Q1410.69 1557.16 1410.69 1551.43 L1410.69 1550.12 L1404.86 1550.12 M1416.54 1547.71 L1416.54 1568.04 L1410.69 1568.04 L1410.69 1562.63 Q1408.68 1565.88 1405.69 1567.44 Q1402.7 1568.97 1398.37 1568.97 Q1392.89 1568.97 1389.65 1565.91 Q1386.43 1562.82 1386.43 1557.67 Q1386.43 1551.65 1390.44 1548.6 Q1394.49 1545.54 1402.48 1545.54 L1410.69 1545.54 L1410.69 1544.97 Q1410.69 1540.93 1408.01 1538.73 Q1405.37 1536.5 1400.57 1536.5 Q1397.51 1536.5 1394.61 1537.23 Q1391.72 1537.97 1389.04 1539.43 L1389.04 1534.02 Q1392.26 1532.78 1395.28 1532.17 Q1398.31 1531.54 1401.17 1531.54 Q1408.9 1531.54 1412.72 1535.55 Q1416.54 1539.56 1416.54 1547.71 Z\" fill=\"#000000\" fill-rule=\"evenodd\" fill-opacity=\"1\" /><polyline clip-path=\"url(#clip522)\" style=\"stroke:#000000; stroke-width:2; stroke-opacity:0.1; fill:none\" points=\"\n",
       "  249.542,1387.4 2352.76,1387.4 \n",
       "  \"/>\n",
       "<polyline clip-path=\"url(#clip522)\" style=\"stroke:#000000; stroke-width:2; stroke-opacity:0.1; fill:none\" points=\"\n",
       "  249.542,1169.88 2352.76,1169.88 \n",
       "  \"/>\n",
       "<polyline clip-path=\"url(#clip522)\" style=\"stroke:#000000; stroke-width:2; stroke-opacity:0.1; fill:none\" points=\"\n",
       "  249.542,952.362 2352.76,952.362 \n",
       "  \"/>\n",
       "<polyline clip-path=\"url(#clip522)\" style=\"stroke:#000000; stroke-width:2; stroke-opacity:0.1; fill:none\" points=\"\n",
       "  249.542,734.842 2352.76,734.842 \n",
       "  \"/>\n",
       "<polyline clip-path=\"url(#clip522)\" style=\"stroke:#000000; stroke-width:2; stroke-opacity:0.1; fill:none\" points=\"\n",
       "  249.542,517.321 2352.76,517.321 \n",
       "  \"/>\n",
       "<polyline clip-path=\"url(#clip522)\" style=\"stroke:#000000; stroke-width:2; stroke-opacity:0.1; fill:none\" points=\"\n",
       "  249.542,299.801 2352.76,299.801 \n",
       "  \"/>\n",
       "<polyline clip-path=\"url(#clip520)\" style=\"stroke:#000000; stroke-width:4; stroke-opacity:1; fill:none\" points=\"\n",
       "  249.542,1423.18 249.542,123.472 \n",
       "  \"/>\n",
       "<polyline clip-path=\"url(#clip520)\" style=\"stroke:#000000; stroke-width:4; stroke-opacity:1; fill:none\" points=\"\n",
       "  249.542,1387.4 274.781,1387.4 \n",
       "  \"/>\n",
       "<polyline clip-path=\"url(#clip520)\" style=\"stroke:#000000; stroke-width:4; stroke-opacity:1; fill:none\" points=\"\n",
       "  249.542,1169.88 274.781,1169.88 \n",
       "  \"/>\n",
       "<polyline clip-path=\"url(#clip520)\" style=\"stroke:#000000; stroke-width:4; stroke-opacity:1; fill:none\" points=\"\n",
       "  249.542,952.362 274.781,952.362 \n",
       "  \"/>\n",
       "<polyline clip-path=\"url(#clip520)\" style=\"stroke:#000000; stroke-width:4; stroke-opacity:1; fill:none\" points=\"\n",
       "  249.542,734.842 274.781,734.842 \n",
       "  \"/>\n",
       "<polyline clip-path=\"url(#clip520)\" style=\"stroke:#000000; stroke-width:4; stroke-opacity:1; fill:none\" points=\"\n",
       "  249.542,517.321 274.781,517.321 \n",
       "  \"/>\n",
       "<polyline clip-path=\"url(#clip520)\" style=\"stroke:#000000; stroke-width:4; stroke-opacity:1; fill:none\" points=\"\n",
       "  249.542,299.801 274.781,299.801 \n",
       "  \"/>\n",
       "<path clip-path=\"url(#clip520)\" d=\"M 0 0 M126.205 1373.2 Q122.593 1373.2 120.765 1376.77 Q118.959 1380.31 118.959 1387.44 Q118.959 1394.54 120.765 1398.11 Q122.593 1401.65 126.205 1401.65 Q129.839 1401.65 131.644 1398.11 Q133.473 1394.54 133.473 1387.44 Q133.473 1380.31 131.644 1376.77 Q129.839 1373.2 126.205 1373.2 M126.205 1369.5 Q132.015 1369.5 135.07 1374.1 Q138.149 1378.69 138.149 1387.44 Q138.149 1396.16 135.07 1400.77 Q132.015 1405.35 126.205 1405.35 Q120.394 1405.35 117.316 1400.77 Q114.26 1396.16 114.26 1387.44 Q114.26 1378.69 117.316 1374.1 Q120.394 1369.5 126.205 1369.5 Z\" fill=\"#000000\" fill-rule=\"evenodd\" fill-opacity=\"1\" /><path clip-path=\"url(#clip520)\" d=\"M 0 0 M146.366 1398.8 L151.251 1398.8 L151.251 1404.68 L146.366 1404.68 L146.366 1398.8 Z\" fill=\"#000000\" fill-rule=\"evenodd\" fill-opacity=\"1\" /><path clip-path=\"url(#clip520)\" d=\"M 0 0 M171.436 1373.2 Q167.825 1373.2 165.996 1376.77 Q164.19 1380.31 164.19 1387.44 Q164.19 1394.54 165.996 1398.11 Q167.825 1401.65 171.436 1401.65 Q175.07 1401.65 176.876 1398.11 Q178.704 1394.54 178.704 1387.44 Q178.704 1380.31 176.876 1376.77 Q175.07 1373.2 171.436 1373.2 M171.436 1369.5 Q177.246 1369.5 180.301 1374.1 Q183.38 1378.69 183.38 1387.44 Q183.38 1396.16 180.301 1400.77 Q177.246 1405.35 171.436 1405.35 Q165.626 1405.35 162.547 1400.77 Q159.491 1396.16 159.491 1387.44 Q159.491 1378.69 162.547 1374.1 Q165.626 1369.5 171.436 1369.5 Z\" fill=\"#000000\" fill-rule=\"evenodd\" fill-opacity=\"1\" /><path clip-path=\"url(#clip520)\" d=\"M 0 0 M201.598 1373.2 Q197.987 1373.2 196.158 1376.77 Q194.352 1380.31 194.352 1387.44 Q194.352 1394.54 196.158 1398.11 Q197.987 1401.65 201.598 1401.65 Q205.232 1401.65 207.037 1398.11 Q208.866 1394.54 208.866 1387.44 Q208.866 1380.31 207.037 1376.77 Q205.232 1373.2 201.598 1373.2 M201.598 1369.5 Q207.408 1369.5 210.463 1374.1 Q213.542 1378.69 213.542 1387.44 Q213.542 1396.16 210.463 1400.77 Q207.408 1405.35 201.598 1405.35 Q195.787 1405.35 192.709 1400.77 Q189.653 1396.16 189.653 1387.44 Q189.653 1378.69 192.709 1374.1 Q195.787 1369.5 201.598 1369.5 Z\" fill=\"#000000\" fill-rule=\"evenodd\" fill-opacity=\"1\" /><path clip-path=\"url(#clip520)\" d=\"M 0 0 M127.2 1155.68 Q123.589 1155.68 121.76 1159.25 Q119.955 1162.79 119.955 1169.92 Q119.955 1177.02 121.76 1180.59 Q123.589 1184.13 127.2 1184.13 Q130.834 1184.13 132.64 1180.59 Q134.468 1177.02 134.468 1169.92 Q134.468 1162.79 132.64 1159.25 Q130.834 1155.68 127.2 1155.68 M127.2 1151.98 Q133.01 1151.98 136.066 1156.58 Q139.144 1161.17 139.144 1169.92 Q139.144 1178.64 136.066 1183.25 Q133.01 1187.83 127.2 1187.83 Q121.39 1187.83 118.311 1183.25 Q115.256 1178.64 115.256 1169.92 Q115.256 1161.17 118.311 1156.58 Q121.39 1151.98 127.2 1151.98 Z\" fill=\"#000000\" fill-rule=\"evenodd\" fill-opacity=\"1\" /><path clip-path=\"url(#clip520)\" d=\"M 0 0 M147.362 1181.28 L152.246 1181.28 L152.246 1187.16 L147.362 1187.16 L147.362 1181.28 Z\" fill=\"#000000\" fill-rule=\"evenodd\" fill-opacity=\"1\" /><path clip-path=\"url(#clip520)\" d=\"M 0 0 M166.459 1183.23 L182.778 1183.23 L182.778 1187.16 L160.834 1187.16 L160.834 1183.23 Q163.496 1180.47 168.079 1175.84 Q172.686 1171.19 173.866 1169.85 Q176.112 1167.32 176.991 1165.59 Q177.894 1163.83 177.894 1162.14 Q177.894 1159.38 175.95 1157.65 Q174.028 1155.91 170.927 1155.91 Q168.727 1155.91 166.274 1156.68 Q163.843 1157.44 161.065 1158.99 L161.065 1154.27 Q163.89 1153.13 166.343 1152.56 Q168.797 1151.98 170.834 1151.98 Q176.204 1151.98 179.399 1154.66 Q182.593 1157.35 182.593 1161.84 Q182.593 1163.97 181.783 1165.89 Q180.996 1167.79 178.889 1170.38 Q178.311 1171.05 175.209 1174.27 Q172.107 1177.46 166.459 1183.23 Z\" fill=\"#000000\" fill-rule=\"evenodd\" fill-opacity=\"1\" /><path clip-path=\"url(#clip520)\" d=\"M 0 0 M192.639 1152.6 L210.996 1152.6 L210.996 1156.54 L196.922 1156.54 L196.922 1165.01 Q197.94 1164.66 198.959 1164.5 Q199.977 1164.32 200.996 1164.32 Q206.783 1164.32 210.162 1167.49 Q213.542 1170.66 213.542 1176.07 Q213.542 1181.65 210.07 1184.75 Q206.598 1187.83 200.278 1187.83 Q198.102 1187.83 195.834 1187.46 Q193.588 1187.09 191.181 1186.35 L191.181 1181.65 Q193.264 1182.79 195.487 1183.34 Q197.709 1183.9 200.186 1183.9 Q204.19 1183.9 206.528 1181.79 Q208.866 1179.69 208.866 1176.07 Q208.866 1172.46 206.528 1170.36 Q204.19 1168.25 200.186 1168.25 Q198.311 1168.25 196.436 1168.67 Q194.584 1169.08 192.639 1169.96 L192.639 1152.6 Z\" fill=\"#000000\" fill-rule=\"evenodd\" fill-opacity=\"1\" /><path clip-path=\"url(#clip520)\" d=\"M 0 0 M126.205 938.161 Q122.593 938.161 120.765 941.725 Q118.959 945.267 118.959 952.397 Q118.959 959.503 120.765 963.068 Q122.593 966.609 126.205 966.609 Q129.839 966.609 131.644 963.068 Q133.473 959.503 133.473 952.397 Q133.473 945.267 131.644 941.725 Q129.839 938.161 126.205 938.161 M126.205 934.457 Q132.015 934.457 135.07 939.063 Q138.149 943.647 138.149 952.397 Q138.149 961.123 135.07 965.73 Q132.015 970.313 126.205 970.313 Q120.394 970.313 117.316 965.73 Q114.26 961.123 114.26 952.397 Q114.26 943.647 117.316 939.063 Q120.394 934.457 126.205 934.457 Z\" fill=\"#000000\" fill-rule=\"evenodd\" fill-opacity=\"1\" /><path clip-path=\"url(#clip520)\" d=\"M 0 0 M146.366 963.762 L151.251 963.762 L151.251 969.642 L146.366 969.642 L146.366 963.762 Z\" fill=\"#000000\" fill-rule=\"evenodd\" fill-opacity=\"1\" /><path clip-path=\"url(#clip520)\" d=\"M 0 0 M161.482 935.082 L179.839 935.082 L179.839 939.017 L165.765 939.017 L165.765 947.489 Q166.783 947.142 167.802 946.98 Q168.82 946.795 169.839 946.795 Q175.626 946.795 179.005 949.966 Q182.385 953.137 182.385 958.554 Q182.385 964.133 178.913 967.234 Q175.44 970.313 169.121 970.313 Q166.945 970.313 164.677 969.943 Q162.431 969.572 160.024 968.832 L160.024 964.133 Q162.107 965.267 164.329 965.822 Q166.552 966.378 169.028 966.378 Q173.033 966.378 175.371 964.272 Q177.709 962.165 177.709 958.554 Q177.709 954.943 175.371 952.836 Q173.033 950.73 169.028 950.73 Q167.153 950.73 165.278 951.147 Q163.427 951.563 161.482 952.443 L161.482 935.082 Z\" fill=\"#000000\" fill-rule=\"evenodd\" fill-opacity=\"1\" /><path clip-path=\"url(#clip520)\" d=\"M 0 0 M201.598 938.161 Q197.987 938.161 196.158 941.725 Q194.352 945.267 194.352 952.397 Q194.352 959.503 196.158 963.068 Q197.987 966.609 201.598 966.609 Q205.232 966.609 207.037 963.068 Q208.866 959.503 208.866 952.397 Q208.866 945.267 207.037 941.725 Q205.232 938.161 201.598 938.161 M201.598 934.457 Q207.408 934.457 210.463 939.063 Q213.542 943.647 213.542 952.397 Q213.542 961.123 210.463 965.73 Q207.408 970.313 201.598 970.313 Q195.787 970.313 192.709 965.73 Q189.653 961.123 189.653 952.397 Q189.653 943.647 192.709 939.063 Q195.787 934.457 201.598 934.457 Z\" fill=\"#000000\" fill-rule=\"evenodd\" fill-opacity=\"1\" /><path clip-path=\"url(#clip520)\" d=\"M 0 0 M127.2 720.64 Q123.589 720.64 121.76 724.205 Q119.955 727.747 119.955 734.876 Q119.955 741.983 121.76 745.547 Q123.589 749.089 127.2 749.089 Q130.834 749.089 132.64 745.547 Q134.468 741.983 134.468 734.876 Q134.468 727.747 132.64 724.205 Q130.834 720.64 127.2 720.64 M127.2 716.937 Q133.01 716.937 136.066 721.543 Q139.144 726.126 139.144 734.876 Q139.144 743.603 136.066 748.209 Q133.01 752.793 127.2 752.793 Q121.39 752.793 118.311 748.209 Q115.256 743.603 115.256 734.876 Q115.256 726.126 118.311 721.543 Q121.39 716.937 127.2 716.937 Z\" fill=\"#000000\" fill-rule=\"evenodd\" fill-opacity=\"1\" /><path clip-path=\"url(#clip520)\" d=\"M 0 0 M147.362 746.242 L152.246 746.242 L152.246 752.122 L147.362 752.122 L147.362 746.242 Z\" fill=\"#000000\" fill-rule=\"evenodd\" fill-opacity=\"1\" /><path clip-path=\"url(#clip520)\" d=\"M 0 0 M161.251 717.562 L183.473 717.562 L183.473 719.552 L170.927 752.122 L166.042 752.122 L177.848 721.497 L161.251 721.497 L161.251 717.562 Z\" fill=\"#000000\" fill-rule=\"evenodd\" fill-opacity=\"1\" /><path clip-path=\"url(#clip520)\" d=\"M 0 0 M192.639 717.562 L210.996 717.562 L210.996 721.497 L196.922 721.497 L196.922 729.969 Q197.94 729.622 198.959 729.46 Q199.977 729.274 200.996 729.274 Q206.783 729.274 210.162 732.446 Q213.542 735.617 213.542 741.034 Q213.542 746.612 210.07 749.714 Q206.598 752.793 200.278 752.793 Q198.102 752.793 195.834 752.422 Q193.588 752.052 191.181 751.311 L191.181 746.612 Q193.264 747.747 195.487 748.302 Q197.709 748.858 200.186 748.858 Q204.19 748.858 206.528 746.751 Q208.866 744.645 208.866 741.034 Q208.866 737.423 206.528 735.316 Q204.19 733.21 200.186 733.21 Q198.311 733.21 196.436 733.626 Q194.584 734.043 192.639 734.923 L192.639 717.562 Z\" fill=\"#000000\" fill-rule=\"evenodd\" fill-opacity=\"1\" /><path clip-path=\"url(#clip520)\" d=\"M 0 0 M117.015 530.666 L124.654 530.666 L124.654 504.3 L116.343 505.967 L116.343 501.708 L124.607 500.041 L129.283 500.041 L129.283 530.666 L136.922 530.666 L136.922 534.601 L117.015 534.601 L117.015 530.666 Z\" fill=\"#000000\" fill-rule=\"evenodd\" fill-opacity=\"1\" /><path clip-path=\"url(#clip520)\" d=\"M 0 0 M146.366 528.722 L151.251 528.722 L151.251 534.601 L146.366 534.601 L146.366 528.722 Z\" fill=\"#000000\" fill-rule=\"evenodd\" fill-opacity=\"1\" /><path clip-path=\"url(#clip520)\" d=\"M 0 0 M171.436 503.12 Q167.825 503.12 165.996 506.685 Q164.19 510.226 164.19 517.356 Q164.19 524.462 165.996 528.027 Q167.825 531.569 171.436 531.569 Q175.07 531.569 176.876 528.027 Q178.704 524.462 178.704 517.356 Q178.704 510.226 176.876 506.685 Q175.07 503.12 171.436 503.12 M171.436 499.416 Q177.246 499.416 180.301 504.023 Q183.38 508.606 183.38 517.356 Q183.38 526.083 180.301 530.689 Q177.246 535.272 171.436 535.272 Q165.626 535.272 162.547 530.689 Q159.491 526.083 159.491 517.356 Q159.491 508.606 162.547 504.023 Q165.626 499.416 171.436 499.416 Z\" fill=\"#000000\" fill-rule=\"evenodd\" fill-opacity=\"1\" /><path clip-path=\"url(#clip520)\" d=\"M 0 0 M201.598 503.12 Q197.987 503.12 196.158 506.685 Q194.352 510.226 194.352 517.356 Q194.352 524.462 196.158 528.027 Q197.987 531.569 201.598 531.569 Q205.232 531.569 207.037 528.027 Q208.866 524.462 208.866 517.356 Q208.866 510.226 207.037 506.685 Q205.232 503.12 201.598 503.12 M201.598 499.416 Q207.408 499.416 210.463 504.023 Q213.542 508.606 213.542 517.356 Q213.542 526.083 210.463 530.689 Q207.408 535.272 201.598 535.272 Q195.787 535.272 192.709 530.689 Q189.653 526.083 189.653 517.356 Q189.653 508.606 192.709 504.023 Q195.787 499.416 201.598 499.416 Z\" fill=\"#000000\" fill-rule=\"evenodd\" fill-opacity=\"1\" /><path clip-path=\"url(#clip520)\" d=\"M 0 0 M118.01 313.146 L125.649 313.146 L125.649 286.78 L117.339 288.447 L117.339 284.187 L125.603 282.521 L130.279 282.521 L130.279 313.146 L137.917 313.146 L137.917 317.081 L118.01 317.081 L118.01 313.146 Z\" fill=\"#000000\" fill-rule=\"evenodd\" fill-opacity=\"1\" /><path clip-path=\"url(#clip520)\" d=\"M 0 0 M147.362 311.201 L152.246 311.201 L152.246 317.081 L147.362 317.081 L147.362 311.201 Z\" fill=\"#000000\" fill-rule=\"evenodd\" fill-opacity=\"1\" /><path clip-path=\"url(#clip520)\" d=\"M 0 0 M166.459 313.146 L182.778 313.146 L182.778 317.081 L160.834 317.081 L160.834 313.146 Q163.496 310.391 168.079 305.761 Q172.686 301.109 173.866 299.766 Q176.112 297.243 176.991 295.507 Q177.894 293.748 177.894 292.058 Q177.894 289.303 175.95 287.567 Q174.028 285.831 170.927 285.831 Q168.727 285.831 166.274 286.595 Q163.843 287.359 161.065 288.91 L161.065 284.187 Q163.89 283.053 166.343 282.475 Q168.797 281.896 170.834 281.896 Q176.204 281.896 179.399 284.581 Q182.593 287.266 182.593 291.757 Q182.593 293.887 181.783 295.808 Q180.996 297.706 178.889 300.299 Q178.311 300.97 175.209 304.187 Q172.107 307.382 166.459 313.146 Z\" fill=\"#000000\" fill-rule=\"evenodd\" fill-opacity=\"1\" /><path clip-path=\"url(#clip520)\" d=\"M 0 0 M192.639 282.521 L210.996 282.521 L210.996 286.456 L196.922 286.456 L196.922 294.928 Q197.94 294.581 198.959 294.419 Q199.977 294.234 200.996 294.234 Q206.783 294.234 210.162 297.405 Q213.542 300.576 213.542 305.993 Q213.542 311.572 210.07 314.673 Q206.598 317.752 200.278 317.752 Q198.102 317.752 195.834 317.382 Q193.588 317.011 191.181 316.271 L191.181 311.572 Q193.264 312.706 195.487 313.261 Q197.709 313.817 200.186 313.817 Q204.19 313.817 206.528 311.71 Q208.866 309.604 208.866 305.993 Q208.866 302.382 206.528 300.275 Q204.19 298.169 200.186 298.169 Q198.311 298.169 196.436 298.586 Q194.584 299.002 192.639 299.882 L192.639 282.521 Z\" fill=\"#000000\" fill-rule=\"evenodd\" fill-opacity=\"1\" /><path clip-path=\"url(#clip520)\" d=\"M 0 0 M3.52994 1173.09 L3.52994 1167.2 L11.9327 1174.46 L11.9327 1179.33 L3.52994 1173.09 M18.0438 1161 L24.314 1161 Q22.5634 1164.66 21.704 1167.9 Q20.8447 1171.15 20.8447 1174.17 Q20.8447 1179.43 22.8817 1182.29 Q24.9187 1185.12 28.6745 1185.12 Q31.8255 1185.12 33.4488 1183.25 Q35.0402 1181.34 36.0269 1176.05 L36.8226 1172.17 Q38.1912 1164.98 41.6605 1161.57 Q45.098 1158.13 50.8908 1158.13 Q57.7976 1158.13 61.3624 1162.78 Q64.9272 1167.4 64.9272 1176.34 Q64.9272 1179.71 64.1633 1183.53 Q63.3994 1187.32 61.9035 1191.39 L55.2831 1191.39 Q57.4793 1187.48 58.5933 1183.72 Q59.7073 1179.97 59.7073 1176.34 Q59.7073 1170.83 57.543 1167.84 Q55.3786 1164.85 51.3682 1164.85 Q47.8671 1164.85 45.8937 1167.01 Q43.9204 1169.15 42.9337 1174.05 L42.1698 1177.96 Q40.7375 1185.16 37.682 1188.37 Q34.6264 1191.58 29.1837 1191.58 Q22.8817 1191.58 19.2532 1187.16 Q15.6248 1182.7 15.6248 1174.91 Q15.6248 1171.56 16.2295 1168.1 Q16.8343 1164.63 18.0438 1161 Z\" fill=\"#000000\" fill-rule=\"evenodd\" fill-opacity=\"1\" /><path clip-path=\"url(#clip520)\" d=\"M 0 0 M33.8307 1127.7 Q33.2578 1128.69 33.0032 1129.87 Q32.7167 1131.02 32.7167 1132.42 Q32.7167 1137.38 35.9632 1140.05 Q39.1779 1142.7 45.2253 1142.7 L64.0042 1142.7 L64.0042 1148.58 L28.3562 1148.58 L28.3562 1142.7 L33.8944 1142.7 Q30.6479 1140.85 29.0883 1137.89 Q27.4968 1134.93 27.4968 1130.7 Q27.4968 1130.09 27.5923 1129.36 Q27.656 1128.63 27.8151 1127.74 L33.8307 1127.7 Z\" fill=\"#000000\" fill-rule=\"evenodd\" fill-opacity=\"1\" /><path clip-path=\"url(#clip520)\" d=\"M 0 0 M44.7161 1092.5 L47.5806 1092.5 L47.5806 1119.43 Q53.6281 1119.05 56.8109 1115.8 Q59.9619 1112.52 59.9619 1106.7 Q59.9619 1103.32 59.1344 1100.17 Q58.3069 1096.99 56.6518 1093.87 L62.1899 1093.87 Q63.5267 1097.02 64.227 1100.33 Q64.9272 1103.64 64.9272 1107.05 Q64.9272 1115.58 59.9619 1120.58 Q54.9967 1125.54 46.5303 1125.54 Q37.7774 1125.54 32.6531 1120.83 Q27.4968 1116.09 27.4968 1108.07 Q27.4968 1100.87 32.1438 1096.7 Q36.7589 1092.5 44.7161 1092.5 M42.9973 1098.36 Q38.1912 1098.42 35.3266 1101.06 Q32.4621 1103.67 32.4621 1108 Q32.4621 1112.9 35.2312 1115.86 Q38.0002 1118.79 43.0292 1119.24 L42.9973 1098.36 Z\" fill=\"#000000\" fill-rule=\"evenodd\" fill-opacity=\"1\" /><path clip-path=\"url(#clip520)\" d=\"M 0 0 M33.7671 1059.43 L14.479 1059.43 L14.479 1053.58 L64.0042 1053.58 L64.0042 1059.43 L58.657 1059.43 Q61.8398 1061.28 63.3994 1064.11 Q64.9272 1066.91 64.9272 1070.86 Q64.9272 1077.32 59.771 1081.39 Q54.6147 1085.44 46.212 1085.44 Q37.8093 1085.44 32.6531 1081.39 Q27.4968 1077.32 27.4968 1070.86 Q27.4968 1066.91 29.0564 1064.11 Q30.5842 1061.28 33.7671 1059.43 M46.212 1079.39 Q52.6732 1079.39 56.3653 1076.75 Q60.0256 1074.07 60.0256 1069.43 Q60.0256 1064.78 56.3653 1062.11 Q52.6732 1059.43 46.212 1059.43 Q39.7508 1059.43 36.0905 1062.11 Q32.3984 1064.78 32.3984 1069.43 Q32.3984 1074.07 36.0905 1076.75 Q39.7508 1079.39 46.212 1079.39 Z\" fill=\"#000000\" fill-rule=\"evenodd\" fill-opacity=\"1\" /><path clip-path=\"url(#clip520)\" d=\"M 0 0 M42.4881 1011.88 L64.0042 1011.88 L64.0042 1017.74 L42.679 1017.74 Q37.6183 1017.74 35.1038 1019.71 Q32.5894 1021.68 32.5894 1025.63 Q32.5894 1030.37 35.6131 1033.11 Q38.6368 1035.85 43.8567 1035.85 L64.0042 1035.85 L64.0042 1041.74 L28.3562 1041.74 L28.3562 1035.85 L33.8944 1035.85 Q30.6797 1033.75 29.0883 1030.91 Q27.4968 1028.05 27.4968 1024.33 Q27.4968 1018.18 31.3163 1015.03 Q35.1038 1011.88 42.4881 1011.88 Z\" fill=\"#000000\" fill-rule=\"evenodd\" fill-opacity=\"1\" /><path clip-path=\"url(#clip520)\" d=\"M 0 0 M28.3562 1000.2 L28.3562 994.343 L64.0042 994.343 L64.0042 1000.2 L28.3562 1000.2 M14.479 1000.2 L14.479 994.343 L21.895 994.343 L21.895 1000.2 L14.479 1000.2 Z\" fill=\"#000000\" fill-rule=\"evenodd\" fill-opacity=\"1\" /><path clip-path=\"url(#clip520)\" d=\"M 0 0 M29.7248 935.715 L35.1993 935.715 Q33.8307 938.198 33.1623 940.712 Q32.4621 943.195 32.4621 945.741 Q32.4621 951.438 36.0905 954.589 Q39.6872 957.741 46.212 957.741 Q52.7369 957.741 56.3653 954.589 Q59.9619 951.438 59.9619 945.741 Q59.9619 943.195 59.2935 940.712 Q58.5933 938.198 57.2247 935.715 L62.6355 935.715 Q63.7814 938.166 64.3543 940.808 Q64.9272 943.418 64.9272 946.378 Q64.9272 954.43 59.8664 959.173 Q54.8057 963.915 46.212 963.915 Q37.491 963.915 32.4939 959.141 Q27.4968 954.335 27.4968 945.996 Q27.4968 943.29 28.0697 940.712 Q28.6108 938.134 29.7248 935.715 Z\" fill=\"#000000\" fill-rule=\"evenodd\" fill-opacity=\"1\" /><path clip-path=\"url(#clip520)\" d=\"M 0 0 M28.3562 928.076 L28.3562 900.258 L33.7034 900.258 L59.3254 922.284 L59.3254 900.258 L64.0042 900.258 L64.0042 928.872 L58.657 928.872 L33.035 906.847 L33.035 928.076 L28.3562 928.076 Z\" fill=\"#000000\" fill-rule=\"evenodd\" fill-opacity=\"1\" /><path clip-path=\"url(#clip520)\" d=\"M 0 0 M46.0847 875.114 Q46.0847 882.211 47.7079 884.949 Q49.3312 887.686 53.2461 887.686 Q56.3653 887.686 58.2114 885.649 Q60.0256 883.58 60.0256 880.047 Q60.0256 875.177 56.5881 872.249 Q53.1188 869.289 47.3897 869.289 L46.0847 869.289 L46.0847 875.114 M43.6657 863.433 L64.0042 863.433 L64.0042 869.289 L58.5933 869.289 Q61.8398 871.294 63.3994 874.286 Q64.9272 877.278 64.9272 881.607 Q64.9272 887.081 61.8716 890.328 Q58.7843 893.542 53.6281 893.542 Q47.6125 893.542 44.5569 889.532 Q41.5014 885.49 41.5014 877.501 L41.5014 869.289 L40.9285 869.289 Q36.8862 869.289 34.6901 871.963 Q32.4621 874.604 32.4621 879.41 Q32.4621 882.466 33.1941 885.362 Q33.9262 888.259 35.3903 890.932 L29.9795 890.932 Q28.7381 887.718 28.1334 884.694 Q27.4968 881.67 27.4968 878.806 Q27.4968 871.071 31.5072 867.252 Q35.5176 863.433 43.6657 863.433 Z\" fill=\"#000000\" fill-rule=\"evenodd\" fill-opacity=\"1\" /><path clip-path=\"url(#clip520)\" d=\"M 0 0 M29.4065 828.644 L34.9447 828.644 Q33.6716 831.127 33.035 833.8 Q32.3984 836.474 32.3984 839.338 Q32.3984 843.699 33.7352 845.895 Q35.072 848.059 37.7456 848.059 Q39.7826 848.059 40.9603 846.5 Q42.1061 844.94 43.1565 840.23 L43.6021 838.224 Q44.9389 831.986 47.3897 829.376 Q49.8086 826.734 54.1691 826.734 Q59.1344 826.734 62.0308 830.681 Q64.9272 834.596 64.9272 841.471 Q64.9272 844.335 64.3543 847.455 Q63.8132 850.542 62.6992 853.979 L56.6518 853.979 Q58.3387 850.733 59.198 847.582 Q60.0256 844.431 60.0256 841.344 Q60.0256 837.206 58.6251 834.978 Q57.1929 832.75 54.6147 832.75 Q52.2276 832.75 50.9545 834.373 Q49.6813 835.965 48.5037 841.407 L48.0262 843.444 Q46.8804 848.887 44.5251 851.306 Q42.138 853.725 38.0002 853.725 Q32.9713 853.725 30.2341 850.16 Q27.4968 846.595 27.4968 840.039 Q27.4968 836.792 27.9743 833.928 Q28.4517 831.063 29.4065 828.644 Z\" fill=\"#000000\" fill-rule=\"evenodd\" fill-opacity=\"1\" /><path clip-path=\"url(#clip520)\" d=\"M 0 0 M28.3562 800.094 L28.3562 794.237 L56.1743 786.917 L28.3562 779.628 L28.3562 772.721 L56.1743 765.401 L28.3562 758.112 L28.3562 752.255 L64.0042 761.581 L64.0042 768.488 L34.7856 776.159 L64.0042 783.861 L64.0042 790.768 L28.3562 800.094 Z\" fill=\"#000000\" fill-rule=\"evenodd\" fill-opacity=\"1\" /><path clip-path=\"url(#clip520)\" d=\"M 0 0 M67.3143 728.543 Q73.68 731.026 75.6216 733.381 Q77.5631 735.736 77.5631 739.683 L77.5631 744.362 L72.6615 744.362 L72.6615 740.925 Q72.6615 738.506 71.5157 737.169 Q70.3699 735.832 66.1048 734.209 L63.4312 733.158 L28.3562 747.577 L28.3562 741.37 L56.238 730.23 L28.3562 719.09 L28.3562 712.884 L67.3143 728.543 Z\" fill=\"#000000\" fill-rule=\"evenodd\" fill-opacity=\"1\" /><path clip-path=\"url(#clip520)\" d=\"M 0 0 M14.479 705.022 L14.479 699.134 L43.7294 699.134 L28.3562 681.66 L28.3562 674.18 L45.0344 693.086 L64.0042 673.384 L64.0042 681.023 L46.5939 699.134 L64.0042 699.134 L64.0042 705.022 L14.479 705.022 Z\" fill=\"#000000\" fill-rule=\"evenodd\" fill-opacity=\"1\" /><path clip-path=\"url(#clip520)\" d=\"M 0 0 M32.4621 655.56 Q32.4621 660.271 36.1542 663.008 Q39.8145 665.746 46.212 665.746 Q52.6095 665.746 56.3017 663.04 Q59.9619 660.303 59.9619 655.56 Q59.9619 650.882 56.2698 648.144 Q52.5777 645.407 46.212 645.407 Q39.8781 645.407 36.186 648.144 Q32.4621 650.882 32.4621 655.56 M27.4968 655.56 Q27.4968 647.922 32.4621 643.561 Q37.4273 639.201 46.212 639.201 Q54.9649 639.201 59.9619 643.561 Q64.9272 647.922 64.9272 655.56 Q64.9272 663.231 59.9619 667.592 Q54.9649 671.92 46.212 671.92 Q37.4273 671.92 32.4621 667.592 Q27.4968 663.231 27.4968 655.56 Z\" fill=\"#000000\" fill-rule=\"evenodd\" fill-opacity=\"1\" /><path clip-path=\"url(#clip520)\" d=\"M 0 0 M42.4881 599.86 L64.0042 599.86 L64.0042 605.717 L42.679 605.717 Q37.6183 605.717 35.1038 607.69 Q32.5894 609.664 32.5894 613.61 Q32.5894 618.353 35.6131 621.09 Q38.6368 623.827 43.8567 623.827 L64.0042 623.827 L64.0042 629.716 L28.3562 629.716 L28.3562 623.827 L33.8944 623.827 Q30.6797 621.727 29.0883 618.894 Q27.4968 616.029 27.4968 612.305 Q27.4968 606.163 31.3163 603.012 Q35.1038 599.86 42.4881 599.86 Z\" fill=\"#000000\" fill-rule=\"evenodd\" fill-opacity=\"1\" /><path clip-path=\"url(#clip520)\" d=\"M 0 0 M46.0847 571.979 Q46.0847 579.076 47.7079 581.814 Q49.3312 584.551 53.2461 584.551 Q56.3653 584.551 58.2114 582.514 Q60.0256 580.445 60.0256 576.912 Q60.0256 572.042 56.5881 569.114 Q53.1188 566.154 47.3897 566.154 L46.0847 566.154 L46.0847 571.979 M43.6657 560.298 L64.0042 560.298 L64.0042 566.154 L58.5933 566.154 Q61.8398 568.159 63.3994 571.151 Q64.9272 574.143 64.9272 578.472 Q64.9272 583.946 61.8716 587.193 Q58.7843 590.407 53.6281 590.407 Q47.6125 590.407 44.5569 586.397 Q41.5014 582.355 41.5014 574.366 L41.5014 566.154 L40.9285 566.154 Q36.8862 566.154 34.6901 568.828 Q32.4621 571.469 32.4621 576.276 Q32.4621 579.331 33.1941 582.227 Q33.9262 585.124 35.3903 587.797 L29.9795 587.797 Q28.7381 584.583 28.1334 581.559 Q27.4968 578.535 27.4968 575.671 Q27.4968 567.936 31.5072 564.117 Q35.5176 560.298 43.6657 560.298 Z\" fill=\"#000000\" fill-rule=\"evenodd\" fill-opacity=\"1\" /><path clip-path=\"url(#clip520)\" d=\"M 0 0 M42.4881 518.602 L64.0042 518.602 L64.0042 524.459 L42.679 524.459 Q37.6183 524.459 35.1038 526.432 Q32.5894 528.405 32.5894 532.352 Q32.5894 537.095 35.6131 539.832 Q38.6368 542.569 43.8567 542.569 L64.0042 542.569 L64.0042 548.457 L28.3562 548.457 L28.3562 542.569 L33.8944 542.569 Q30.6797 540.468 29.0883 537.636 Q27.4968 534.771 27.4968 531.047 Q27.4968 524.904 31.3163 521.753 Q35.1038 518.602 42.4881 518.602 Z\" fill=\"#000000\" fill-rule=\"evenodd\" fill-opacity=\"1\" /><path clip-path=\"url(#clip520)\" d=\"M 0 0 M28.3562 506.921 L28.3562 501.065 L64.0042 501.065 L64.0042 506.921 L28.3562 506.921 M14.479 506.921 L14.479 501.065 L21.895 501.065 L21.895 506.921 L14.479 506.921 Z\" fill=\"#000000\" fill-rule=\"evenodd\" fill-opacity=\"1\" /><path clip-path=\"url(#clip520)\" d=\"M 0 0 M46.0847 472.61 Q46.0847 479.708 47.7079 482.445 Q49.3312 485.182 53.2461 485.182 Q56.3653 485.182 58.2114 483.145 Q60.0256 481.076 60.0256 477.543 Q60.0256 472.674 56.5881 469.745 Q53.1188 466.785 47.3897 466.785 L46.0847 466.785 L46.0847 472.61 M43.6657 460.929 L64.0042 460.929 L64.0042 466.785 L58.5933 466.785 Q61.8398 468.791 63.3994 471.782 Q64.9272 474.774 64.9272 479.103 Q64.9272 484.578 61.8716 487.824 Q58.7843 491.039 53.6281 491.039 Q47.6125 491.039 44.5569 487.028 Q41.5014 482.986 41.5014 474.997 L41.5014 466.785 L40.9285 466.785 Q36.8862 466.785 34.6901 469.459 Q32.4621 472.101 32.4621 476.907 Q32.4621 479.962 33.1941 482.859 Q33.9262 485.755 35.3903 488.429 L29.9795 488.429 Q28.7381 485.214 28.1334 482.19 Q27.4968 479.167 27.4968 476.302 Q27.4968 468.568 31.5072 464.748 Q35.5176 460.929 43.6657 460.929 Z\" fill=\"#000000\" fill-rule=\"evenodd\" fill-opacity=\"1\" /><path clip-path=\"url(#clip520)\" d=\"M 0 0 M14.479 428.687 L14.479 415.191 L19.0304 415.191 L19.0304 422.83 L68.0464 422.83 L68.0464 415.191 L72.5979 415.191 L72.5979 428.687 L14.479 428.687 Z\" fill=\"#000000\" fill-rule=\"evenodd\" fill-opacity=\"1\" /><path clip-path=\"url(#clip520)\" d=\"M 0 0 M29.4065 379.989 L34.9447 379.989 Q33.6716 382.472 33.035 385.145 Q32.3984 387.819 32.3984 390.683 Q32.3984 395.044 33.7352 397.24 Q35.072 399.404 37.7456 399.404 Q39.7826 399.404 40.9603 397.845 Q42.1061 396.285 43.1565 391.575 L43.6021 389.569 Q44.9389 383.331 47.3897 380.721 Q49.8086 378.079 54.1691 378.079 Q59.1344 378.079 62.0308 382.026 Q64.9272 385.941 64.9272 392.816 Q64.9272 395.68 64.3543 398.8 Q63.8132 401.887 62.6992 405.324 L56.6518 405.324 Q58.3387 402.078 59.198 398.927 Q60.0256 395.776 60.0256 392.689 Q60.0256 388.551 58.6251 386.323 Q57.1929 384.095 54.6147 384.095 Q52.2276 384.095 50.9545 385.718 Q49.6813 387.31 48.5037 392.752 L48.0262 394.789 Q46.8804 400.232 44.5251 402.651 Q42.138 405.07 38.0002 405.07 Q32.9713 405.07 30.2341 401.505 Q27.4968 397.94 27.4968 391.384 Q27.4968 388.137 27.9743 385.273 Q28.4517 382.408 29.4065 379.989 Z\" fill=\"#000000\" fill-rule=\"evenodd\" fill-opacity=\"1\" /><path clip-path=\"url(#clip520)\" d=\"M 0 0 M14.479 355.067 L72.5979 355.067 L72.5979 368.563 L68.0464 368.563 L68.0464 360.956 L19.0304 360.956 L19.0304 368.563 L14.479 368.563 L14.479 355.067 Z\" fill=\"#000000\" fill-rule=\"evenodd\" fill-opacity=\"1\" /><path clip-path=\"url(#clip520)\" d=\"M 0 0 M1256.51 16.7545 L1256.51 25.383 Q1252.38 21.5346 1247.68 19.6307 Q1243.02 17.7268 1237.75 17.7268 Q1227.38 17.7268 1221.87 24.0867 Q1216.36 30.4061 1216.36 42.3968 Q1216.36 54.3469 1221.87 60.7069 Q1227.38 67.0263 1237.75 67.0263 Q1243.02 67.0263 1247.68 65.1223 Q1252.38 63.2184 1256.51 59.3701 L1256.51 67.9175 Q1252.21 70.8341 1247.39 72.2924 Q1242.61 73.7508 1237.27 73.7508 Q1223.53 73.7508 1215.63 65.3654 Q1207.74 56.9395 1207.74 42.3968 Q1207.74 27.8135 1215.63 19.4281 Q1223.53 11.0023 1237.27 11.0023 Q1242.69 11.0023 1247.47 12.4606 Q1252.3 13.8784 1256.51 16.7545 Z\" fill=\"#000000\" fill-rule=\"evenodd\" fill-opacity=\"1\" /><path clip-path=\"url(#clip520)\" d=\"M 0 0 M1265.58 27.2059 L1300.99 27.2059 L1300.99 34.0114 L1272.95 66.6212 L1300.99 66.6212 L1300.99 72.576 L1264.57 72.576 L1264.57 65.7705 L1292.6 33.1607 L1265.58 33.1607 L1265.58 27.2059 Z\" fill=\"#000000\" fill-rule=\"evenodd\" fill-opacity=\"1\" /><path clip-path=\"url(#clip520)\" d=\"M 0 0 M1332.99 49.7694 Q1323.96 49.7694 1320.47 51.8354 Q1316.99 53.9013 1316.99 58.8839 Q1316.99 62.8538 1319.58 65.2034 Q1322.21 67.5124 1326.71 67.5124 Q1332.91 67.5124 1336.63 63.1374 Q1340.4 58.7219 1340.4 51.4303 L1340.4 49.7694 L1332.99 49.7694 M1347.86 46.6907 L1347.86 72.576 L1340.4 72.576 L1340.4 65.6895 Q1337.85 69.8214 1334.04 71.8063 Q1330.23 73.7508 1324.73 73.7508 Q1317.76 73.7508 1313.63 69.8619 Q1309.53 65.9325 1309.53 59.3701 Q1309.53 51.7138 1314.64 47.825 Q1319.78 43.9361 1329.95 43.9361 L1340.4 43.9361 L1340.4 43.2069 Q1340.4 38.0623 1337 35.2672 Q1333.64 32.4315 1327.52 32.4315 Q1323.63 32.4315 1319.95 33.3632 Q1316.26 34.295 1312.86 36.1584 L1312.86 29.2718 Q1316.95 27.692 1320.8 26.9223 Q1324.64 26.1121 1328.29 26.1121 Q1338.13 26.1121 1342.99 31.2163 Q1347.86 36.3204 1347.86 46.6907 Z\" fill=\"#000000\" fill-rule=\"evenodd\" fill-opacity=\"1\" /><path clip-path=\"url(#clip520)\" d=\"M 0 0 M1392.13 28.5427 L1392.13 35.5912 Q1388.97 33.9709 1385.57 33.1607 Q1382.17 32.3505 1378.52 32.3505 Q1372.97 32.3505 1370.18 34.0519 Q1367.42 35.7533 1367.42 39.156 Q1367.42 41.7486 1369.41 43.2475 Q1371.39 44.7058 1377.39 46.0426 L1379.94 46.6097 Q1387.88 48.3111 1391.2 51.4303 Q1394.56 54.509 1394.56 60.0587 Q1394.56 66.3781 1389.54 70.0644 Q1384.56 73.7508 1375.81 73.7508 Q1372.16 73.7508 1368.19 73.0216 Q1364.26 72.3329 1359.89 70.9151 L1359.89 63.2184 Q1364.02 65.3654 1368.03 66.4591 Q1372.04 67.5124 1375.97 67.5124 Q1381.24 67.5124 1384.07 65.73 Q1386.91 63.9071 1386.91 60.6258 Q1386.91 57.5877 1384.84 55.9673 Q1382.82 54.3469 1375.89 52.8481 L1373.3 52.2405 Q1366.37 50.7821 1363.29 47.7845 Q1360.21 44.7463 1360.21 39.4801 Q1360.21 33.0797 1364.75 29.5959 Q1369.29 26.1121 1377.63 26.1121 Q1381.76 26.1121 1385.41 26.7198 Q1389.05 27.3274 1392.13 28.5427 Z\" fill=\"#000000\" fill-rule=\"evenodd\" fill-opacity=\"1\" /><polyline clip-path=\"url(#clip522)\" style=\"stroke:#000000; stroke-width:4; stroke-opacity:1; fill:none\" points=\"\n",
       "  1631.84,1171.64 1631.84,819.372 \n",
       "  \"/>\n",
       "<line clip-path=\"url(#clip522)\" x1=\"1647.84\" y1=\"1171.64\" x2=\"1615.84\" y2=\"1171.64\" style=\"stroke:#000000; stroke-width:3.2; stroke-opacity:1\"/>\n",
       "<line clip-path=\"url(#clip522)\" x1=\"1647.84\" y1=\"819.372\" x2=\"1615.84\" y2=\"819.372\" style=\"stroke:#000000; stroke-width:3.2; stroke-opacity:1\"/>\n",
       "<circle clip-path=\"url(#clip522)\" cx=\"1631.84\" cy=\"995.508\" r=\"14\" fill=\"#ff0000\" fill-rule=\"evenodd\" fill-opacity=\"1\" stroke=\"#000000\" stroke-opacity=\"1\" stroke-width=\"3.2\"/>\n",
       "<polyline clip-path=\"url(#clip522)\" style=\"stroke:#000000; stroke-width:4; stroke-opacity:1; fill:none\" points=\"\n",
       "  309.067,989.923 309.067,160.256 \n",
       "  \"/>\n",
       "<line clip-path=\"url(#clip522)\" x1=\"325.067\" y1=\"989.923\" x2=\"293.067\" y2=\"989.923\" style=\"stroke:#000000; stroke-width:3.2; stroke-opacity:1\"/>\n",
       "<line clip-path=\"url(#clip522)\" x1=\"325.067\" y1=\"160.256\" x2=\"293.067\" y2=\"160.256\" style=\"stroke:#000000; stroke-width:3.2; stroke-opacity:1\"/>\n",
       "<circle clip-path=\"url(#clip522)\" cx=\"309.067\" cy=\"575.09\" r=\"14\" fill=\"#0000ff\" fill-rule=\"evenodd\" fill-opacity=\"1\" stroke=\"#000000\" stroke-opacity=\"1\" stroke-width=\"3.2\"/>\n",
       "<polyline clip-path=\"url(#clip522)\" style=\"stroke:#000000; stroke-width:4; stroke-opacity:1; fill:none\" points=\"\n",
       "  970.455,1252.59 970.455,840.004 \n",
       "  \"/>\n",
       "<line clip-path=\"url(#clip522)\" x1=\"986.455\" y1=\"1252.59\" x2=\"954.455\" y2=\"1252.59\" style=\"stroke:#000000; stroke-width:3.2; stroke-opacity:1\"/>\n",
       "<line clip-path=\"url(#clip522)\" x1=\"986.455\" y1=\"840.004\" x2=\"954.455\" y2=\"840.004\" style=\"stroke:#000000; stroke-width:3.2; stroke-opacity:1\"/>\n",
       "<circle clip-path=\"url(#clip522)\" cx=\"970.455\" cy=\"1046.3\" r=\"14\" fill=\"#ffff00\" fill-rule=\"evenodd\" fill-opacity=\"1\" stroke=\"#000000\" stroke-opacity=\"1\" stroke-width=\"3.2\"/>\n",
       "<polyline clip-path=\"url(#clip522)\" style=\"stroke:#000000; stroke-width:4; stroke-opacity:1; fill:none\" points=\"\n",
       "  2293.23,1386.4 2293.23,1386.14 \n",
       "  \"/>\n",
       "<line clip-path=\"url(#clip522)\" x1=\"2309.23\" y1=\"1386.4\" x2=\"2277.23\" y2=\"1386.4\" style=\"stroke:#000000; stroke-width:3.2; stroke-opacity:1\"/>\n",
       "<line clip-path=\"url(#clip522)\" x1=\"2309.23\" y1=\"1386.14\" x2=\"2277.23\" y2=\"1386.14\" style=\"stroke:#000000; stroke-width:3.2; stroke-opacity:1\"/>\n",
       "<circle clip-path=\"url(#clip522)\" cx=\"2293.23\" cy=\"1386.27\" r=\"14\" fill=\"#008000\" fill-rule=\"evenodd\" fill-opacity=\"1\" stroke=\"#000000\" stroke-opacity=\"1\" stroke-width=\"3.2\"/>\n",
       "<path clip-path=\"url(#clip520)\" d=\"\n",
       "M1336.02 469.196 L2282.65 469.196 L2282.65 166.796 L1336.02 166.796  Z\n",
       "  \" fill=\"#ffffff\" fill-rule=\"evenodd\" fill-opacity=\"1\"/>\n",
       "<polyline clip-path=\"url(#clip520)\" style=\"stroke:#000000; stroke-width:4; stroke-opacity:1; fill:none\" points=\"\n",
       "  1336.02,469.196 2282.65,469.196 2282.65,166.796 1336.02,166.796 1336.02,469.196 \n",
       "  \"/>\n",
       "<circle clip-path=\"url(#clip520)\" cx=\"1429.5\" cy=\"227.276\" r=\"23\" fill=\"#ff0000\" fill-rule=\"evenodd\" fill-opacity=\"1\" stroke=\"#000000\" stroke-opacity=\"1\" stroke-width=\"5.12\"/>\n",
       "<path clip-path=\"url(#clip520)\" d=\"M 0 0 M1539.48 208.537 L1539.48 212.079 L1535.41 212.079 Q1533.11 212.079 1532.21 213.005 Q1531.33 213.931 1531.33 216.338 L1531.33 218.63 L1538.34 218.63 L1538.34 221.94 L1531.33 221.94 L1531.33 244.556 L1527.05 244.556 L1527.05 221.94 L1522.97 221.94 L1522.97 218.63 L1527.05 218.63 L1527.05 216.824 Q1527.05 212.496 1529.06 210.528 Q1531.08 208.537 1535.45 208.537 L1539.48 208.537 Z\" fill=\"#000000\" fill-rule=\"evenodd\" fill-opacity=\"1\" /><path clip-path=\"url(#clip520)\" d=\"M 0 0 M1554.83 231.523 Q1549.66 231.523 1547.67 232.704 Q1545.68 233.884 1545.68 236.732 Q1545.68 239 1547.16 240.343 Q1548.67 241.662 1551.24 241.662 Q1554.78 241.662 1556.91 239.162 Q1559.06 236.639 1559.06 232.472 L1559.06 231.523 L1554.83 231.523 M1563.32 229.764 L1563.32 244.556 L1559.06 244.556 L1559.06 240.621 Q1557.6 242.982 1555.43 244.116 Q1553.25 245.227 1550.1 245.227 Q1546.12 245.227 1543.76 243.005 Q1541.42 240.759 1541.42 237.009 Q1541.42 232.634 1544.34 230.412 Q1547.28 228.19 1553.09 228.19 L1559.06 228.19 L1559.06 227.773 Q1559.06 224.834 1557.12 223.236 Q1555.2 221.616 1551.7 221.616 Q1549.48 221.616 1547.37 222.148 Q1545.27 222.681 1543.32 223.746 L1543.32 219.81 Q1545.66 218.908 1547.86 218.468 Q1550.06 218.005 1552.14 218.005 Q1557.77 218.005 1560.54 220.922 Q1563.32 223.838 1563.32 229.764 Z\" fill=\"#000000\" fill-rule=\"evenodd\" fill-opacity=\"1\" /><path clip-path=\"url(#clip520)\" d=\"M 0 0 M1590.75 219.625 L1590.75 223.607 Q1588.95 222.611 1587.12 222.125 Q1585.31 221.616 1583.46 221.616 Q1579.32 221.616 1577.03 224.255 Q1574.73 226.871 1574.73 231.616 Q1574.73 236.361 1577.03 239 Q1579.32 241.616 1583.46 241.616 Q1585.31 241.616 1587.12 241.13 Q1588.95 240.621 1590.75 239.625 L1590.75 243.56 Q1588.97 244.394 1587.05 244.81 Q1585.15 245.227 1583 245.227 Q1577.14 245.227 1573.69 241.546 Q1570.24 237.866 1570.24 231.616 Q1570.24 225.273 1573.72 221.639 Q1577.21 218.005 1583.28 218.005 Q1585.24 218.005 1587.12 218.422 Q1588.99 218.815 1590.75 219.625 Z\" fill=\"#000000\" fill-rule=\"evenodd\" fill-opacity=\"1\" /><path clip-path=\"url(#clip520)\" d=\"M 0 0 M1602.37 211.269 L1602.37 218.63 L1611.15 218.63 L1611.15 221.94 L1602.37 221.94 L1602.37 236.014 Q1602.37 239.185 1603.23 240.088 Q1604.11 240.991 1606.77 240.991 L1611.15 240.991 L1611.15 244.556 L1606.77 244.556 Q1601.84 244.556 1599.97 242.727 Q1598.09 240.875 1598.09 236.014 L1598.09 221.94 L1594.97 221.94 L1594.97 218.63 L1598.09 218.63 L1598.09 211.269 L1602.37 211.269 Z\" fill=\"#000000\" fill-rule=\"evenodd\" fill-opacity=\"1\" /><path clip-path=\"url(#clip520)\" d=\"M 0 0 M1626.79 221.616 Q1623.37 221.616 1621.38 224.301 Q1619.39 226.963 1619.39 231.616 Q1619.39 236.269 1621.35 238.954 Q1623.34 241.616 1626.79 241.616 Q1630.2 241.616 1632.19 238.931 Q1634.18 236.246 1634.18 231.616 Q1634.18 227.01 1632.19 224.324 Q1630.2 221.616 1626.79 221.616 M1626.79 218.005 Q1632.35 218.005 1635.52 221.616 Q1638.69 225.227 1638.69 231.616 Q1638.69 237.982 1635.52 241.616 Q1632.35 245.227 1626.79 245.227 Q1621.21 245.227 1618.04 241.616 Q1614.9 237.982 1614.9 231.616 Q1614.9 225.227 1618.04 221.616 Q1621.21 218.005 1626.79 218.005 Z\" fill=\"#000000\" fill-rule=\"evenodd\" fill-opacity=\"1\" /><path clip-path=\"url(#clip520)\" d=\"M 0 0 M1660.77 222.611 Q1660.06 222.195 1659.2 222.01 Q1658.37 221.801 1657.35 221.801 Q1653.74 221.801 1651.79 224.162 Q1649.87 226.5 1649.87 230.898 L1649.87 244.556 L1645.59 244.556 L1645.59 218.63 L1649.87 218.63 L1649.87 222.658 Q1651.21 220.297 1653.37 219.162 Q1655.52 218.005 1658.6 218.005 Q1659.04 218.005 1659.57 218.074 Q1660.1 218.121 1660.75 218.236 L1660.77 222.611 Z\" fill=\"#000000\" fill-rule=\"evenodd\" fill-opacity=\"1\" /><path clip-path=\"url(#clip520)\" d=\"M 0 0 M1665.24 218.63 L1669.5 218.63 L1669.5 244.556 L1665.24 244.556 L1665.24 218.63 M1665.24 208.537 L1669.5 208.537 L1669.5 213.931 L1665.24 213.931 L1665.24 208.537 Z\" fill=\"#000000\" fill-rule=\"evenodd\" fill-opacity=\"1\" /><path clip-path=\"url(#clip520)\" d=\"M 0 0 M1676.56 218.63 L1696.79 218.63 L1696.79 222.519 L1680.77 241.153 L1696.79 241.153 L1696.79 244.556 L1675.98 244.556 L1675.98 240.667 L1692 222.033 L1676.56 222.033 L1676.56 218.63 Z\" fill=\"#000000\" fill-rule=\"evenodd\" fill-opacity=\"1\" /><path clip-path=\"url(#clip520)\" d=\"M 0 0 M1725.47 230.528 L1725.47 232.611 L1705.89 232.611 Q1706.17 237.009 1708.53 239.324 Q1710.91 241.616 1715.15 241.616 Q1717.6 241.616 1719.89 241.014 Q1722.21 240.412 1724.48 239.209 L1724.48 243.236 Q1722.19 244.208 1719.78 244.718 Q1717.37 245.227 1714.89 245.227 Q1708.69 245.227 1705.06 241.616 Q1701.45 238.005 1701.45 231.847 Q1701.45 225.482 1704.87 221.755 Q1708.32 218.005 1714.15 218.005 Q1719.39 218.005 1722.42 221.385 Q1725.47 224.741 1725.47 230.528 M1721.21 229.278 Q1721.17 225.783 1719.25 223.699 Q1717.35 221.616 1714.2 221.616 Q1710.64 221.616 1708.48 223.63 Q1706.35 225.644 1706.03 229.301 L1721.21 229.278 Z\" fill=\"#000000\" fill-rule=\"evenodd\" fill-opacity=\"1\" /><path clip-path=\"url(#clip520)\" d=\"M 0 0 M1764.87 214.834 L1764.87 227.727 L1777.76 227.727 L1777.76 231.662 L1764.87 231.662 L1764.87 244.556 L1760.98 244.556 L1760.98 231.662 L1748.09 231.662 L1748.09 227.727 L1760.98 227.727 L1760.98 214.834 L1764.87 214.834 Z\" fill=\"#000000\" fill-rule=\"evenodd\" fill-opacity=\"1\" /><path clip-path=\"url(#clip520)\" d=\"M 0 0 M1819.39 222.565 L1819.39 208.537 L1823.64 208.537 L1823.64 244.556 L1819.39 244.556 L1819.39 240.667 Q1818.04 242.982 1815.98 244.116 Q1813.95 245.227 1811.08 245.227 Q1806.38 245.227 1803.41 241.477 Q1800.47 237.727 1800.47 231.616 Q1800.47 225.505 1803.41 221.755 Q1806.38 218.005 1811.08 218.005 Q1813.95 218.005 1815.98 219.139 Q1818.04 220.25 1819.39 222.565 M1804.87 231.616 Q1804.87 236.315 1806.79 239 Q1808.74 241.662 1812.12 241.662 Q1815.5 241.662 1817.44 239 Q1819.39 236.315 1819.39 231.616 Q1819.39 226.917 1817.44 224.255 Q1815.5 221.57 1812.12 221.57 Q1808.74 221.57 1806.79 224.255 Q1804.87 226.917 1804.87 231.616 Z\" fill=\"#000000\" fill-rule=\"evenodd\" fill-opacity=\"1\" /><path clip-path=\"url(#clip520)\" d=\"M 0 0 M1830.57 218.63 L1850.8 218.63 L1850.8 222.519 L1834.78 241.153 L1850.8 241.153 L1850.8 244.556 L1829.99 244.556 L1829.99 240.667 L1846.01 222.033 L1830.57 222.033 L1830.57 218.63 Z\" fill=\"#000000\" fill-rule=\"evenodd\" fill-opacity=\"1\" /><path clip-path=\"url(#clip520)\" d=\"M 0 0 M1857.3 218.63 L1861.56 218.63 L1861.56 244.556 L1857.3 244.556 L1857.3 218.63 M1857.3 208.537 L1861.56 208.537 L1861.56 213.931 L1857.3 213.931 L1857.3 208.537 Z\" fill=\"#000000\" fill-rule=\"evenodd\" fill-opacity=\"1\" /><path clip-path=\"url(#clip520)\" d=\"M 0 0 M1892.65 230.528 L1892.65 232.611 L1873.07 232.611 Q1873.34 237.009 1875.7 239.324 Q1878.09 241.616 1882.32 241.616 Q1884.78 241.616 1887.07 241.014 Q1889.38 240.412 1891.65 239.209 L1891.65 243.236 Q1889.36 244.208 1886.95 244.718 Q1884.55 245.227 1882.07 245.227 Q1875.87 245.227 1872.23 241.616 Q1868.62 238.005 1868.62 231.847 Q1868.62 225.482 1872.05 221.755 Q1875.5 218.005 1881.33 218.005 Q1886.56 218.005 1889.59 221.385 Q1892.65 224.741 1892.65 230.528 M1888.39 229.278 Q1888.34 225.783 1886.42 223.699 Q1884.52 221.616 1881.38 221.616 Q1877.81 221.616 1875.66 223.63 Q1873.53 225.644 1873.2 229.301 L1888.39 229.278 Z\" fill=\"#000000\" fill-rule=\"evenodd\" fill-opacity=\"1\" /><path clip-path=\"url(#clip520)\" d=\"M 0 0 M1899.64 208.537 L1903.9 208.537 L1903.9 244.556 L1899.64 244.556 L1899.64 208.537 Z\" fill=\"#000000\" fill-rule=\"evenodd\" fill-opacity=\"1\" /><path clip-path=\"url(#clip520)\" d=\"M 0 0 M1934.99 230.528 L1934.99 232.611 L1915.4 232.611 Q1915.68 237.009 1918.04 239.324 Q1920.43 241.616 1924.66 241.616 Q1927.12 241.616 1929.41 241.014 Q1931.72 240.412 1933.99 239.209 L1933.99 243.236 Q1931.7 244.208 1929.29 244.718 Q1926.88 245.227 1924.41 245.227 Q1918.2 245.227 1914.57 241.616 Q1910.96 238.005 1910.96 231.847 Q1910.96 225.482 1914.38 221.755 Q1917.83 218.005 1923.67 218.005 Q1928.9 218.005 1931.93 221.385 Q1934.99 224.741 1934.99 230.528 M1930.73 229.278 Q1930.68 225.783 1928.76 223.699 Q1926.86 221.616 1923.71 221.616 Q1920.15 221.616 1918 223.63 Q1915.87 225.644 1915.54 229.301 L1930.73 229.278 Z\" fill=\"#000000\" fill-rule=\"evenodd\" fill-opacity=\"1\" /><path clip-path=\"url(#clip520)\" d=\"M 0 0 M1963.53 228.908 L1963.53 244.556 L1959.27 244.556 L1959.27 229.047 Q1959.27 225.366 1957.83 223.537 Q1956.4 221.709 1953.53 221.709 Q1950.08 221.709 1948.09 223.908 Q1946.1 226.107 1946.1 229.903 L1946.1 244.556 L1941.82 244.556 L1941.82 218.63 L1946.1 218.63 L1946.1 222.658 Q1947.63 220.32 1949.69 219.162 Q1951.77 218.005 1954.48 218.005 Q1958.94 218.005 1961.24 220.783 Q1963.53 223.537 1963.53 228.908 Z\" fill=\"#000000\" fill-rule=\"evenodd\" fill-opacity=\"1\" /><path clip-path=\"url(#clip520)\" d=\"M 0 0 M1972.02 218.63 L1976.28 218.63 L1976.28 244.556 L1972.02 244.556 L1972.02 218.63 M1972.02 208.537 L1976.28 208.537 L1976.28 213.931 L1972.02 213.931 L1972.02 208.537 Z\" fill=\"#000000\" fill-rule=\"evenodd\" fill-opacity=\"1\" /><path clip-path=\"url(#clip520)\" d=\"M 0 0 M2007.37 230.528 L2007.37 232.611 L1987.79 232.611 Q1988.06 237.009 1990.43 239.324 Q1992.81 241.616 1997.05 241.616 Q1999.5 241.616 2001.79 241.014 Q2004.11 240.412 2006.37 239.209 L2006.37 243.236 Q2004.08 244.208 2001.68 244.718 Q1999.27 245.227 1996.79 245.227 Q1990.59 245.227 1986.95 241.616 Q1983.34 238.005 1983.34 231.847 Q1983.34 225.482 1986.77 221.755 Q1990.22 218.005 1996.05 218.005 Q2001.28 218.005 2004.31 221.385 Q2007.37 224.741 2007.37 230.528 M2003.11 229.278 Q2003.06 225.783 2001.14 223.699 Q1999.25 221.616 1996.1 221.616 Q1992.53 221.616 1990.38 223.63 Q1988.25 225.644 1987.93 229.301 L2003.11 229.278 Z\" fill=\"#000000\" fill-rule=\"evenodd\" fill-opacity=\"1\" /><circle clip-path=\"url(#clip520)\" cx=\"1429.5\" cy=\"287.756\" r=\"23\" fill=\"#0000ff\" fill-rule=\"evenodd\" fill-opacity=\"1\" stroke=\"#000000\" stroke-opacity=\"1\" stroke-width=\"5.12\"/>\n",
       "<path clip-path=\"url(#clip520)\" d=\"M 0 0 M1522.97 279.11 L1527.23 279.11 L1527.23 305.036 L1522.97 305.036 L1522.97 279.11 M1522.97 269.017 L1527.23 269.017 L1527.23 274.411 L1522.97 274.411 L1522.97 269.017 Z\" fill=\"#000000\" fill-rule=\"evenodd\" fill-opacity=\"1\" /><path clip-path=\"url(#clip520)\" d=\"M 0 0 M1557.7 289.388 L1557.7 305.036 L1553.44 305.036 L1553.44 289.527 Q1553.44 285.846 1552 284.017 Q1550.57 282.189 1547.7 282.189 Q1544.25 282.189 1542.26 284.388 Q1540.27 286.587 1540.27 290.383 L1540.27 305.036 L1535.98 305.036 L1535.98 279.11 L1540.27 279.11 L1540.27 283.138 Q1541.79 280.8 1543.85 279.642 Q1545.94 278.485 1548.65 278.485 Q1553.11 278.485 1555.41 281.263 Q1557.7 284.017 1557.7 289.388 Z\" fill=\"#000000\" fill-rule=\"evenodd\" fill-opacity=\"1\" /><path clip-path=\"url(#clip520)\" d=\"M 0 0 M1563.14 279.11 L1567.65 279.11 L1575.75 300.869 L1583.85 279.11 L1588.37 279.11 L1578.65 305.036 L1572.86 305.036 L1563.14 279.11 Z\" fill=\"#000000\" fill-rule=\"evenodd\" fill-opacity=\"1\" /><circle clip-path=\"url(#clip520)\" cx=\"1429.5\" cy=\"348.236\" r=\"23\" fill=\"#ffff00\" fill-rule=\"evenodd\" fill-opacity=\"1\" stroke=\"#000000\" stroke-opacity=\"1\" stroke-width=\"5.12\"/>\n",
       "<path clip-path=\"url(#clip520)\" d=\"M 0 0 M1534.87 342.576 Q1531.45 342.576 1529.46 345.261 Q1527.47 347.923 1527.47 352.576 Q1527.47 357.229 1529.43 359.914 Q1531.42 362.576 1534.87 362.576 Q1538.28 362.576 1540.27 359.891 Q1542.26 357.206 1542.26 352.576 Q1542.26 347.97 1540.27 345.284 Q1538.28 342.576 1534.87 342.576 M1534.87 338.965 Q1540.43 338.965 1543.6 342.576 Q1546.77 346.187 1546.77 352.576 Q1546.77 358.942 1543.6 362.576 Q1540.43 366.187 1534.87 366.187 Q1529.29 366.187 1526.12 362.576 Q1522.97 358.942 1522.97 352.576 Q1522.97 346.187 1526.12 342.576 Q1529.29 338.965 1534.87 338.965 Z\" fill=\"#000000\" fill-rule=\"evenodd\" fill-opacity=\"1\" /><path clip-path=\"url(#clip520)\" d=\"M 0 0 M1557.95 361.627 L1557.95 375.377 L1553.67 375.377 L1553.67 339.59 L1557.95 339.59 L1557.95 343.525 Q1559.29 341.21 1561.33 340.099 Q1563.39 338.965 1566.24 338.965 Q1570.96 338.965 1573.9 342.715 Q1576.86 346.465 1576.86 352.576 Q1576.86 358.687 1573.9 362.437 Q1570.96 366.187 1566.24 366.187 Q1563.39 366.187 1561.33 365.076 Q1559.29 363.942 1557.95 361.627 M1572.44 352.576 Q1572.44 347.877 1570.5 345.215 Q1568.58 342.53 1565.2 342.53 Q1561.82 342.53 1559.87 345.215 Q1557.95 347.877 1557.95 352.576 Q1557.95 357.275 1559.87 359.96 Q1561.82 362.622 1565.2 362.622 Q1568.58 362.622 1570.5 359.96 Q1572.44 357.275 1572.44 352.576 Z\" fill=\"#000000\" fill-rule=\"evenodd\" fill-opacity=\"1\" /><path clip-path=\"url(#clip520)\" d=\"M 0 0 M1606.1 351.488 L1606.1 353.571 L1586.52 353.571 Q1586.79 357.969 1589.15 360.284 Q1591.54 362.576 1595.78 362.576 Q1598.23 362.576 1600.52 361.974 Q1602.84 361.372 1605.1 360.169 L1605.1 364.196 Q1602.81 365.168 1600.4 365.678 Q1598 366.187 1595.52 366.187 Q1589.32 366.187 1585.68 362.576 Q1582.07 358.965 1582.07 352.807 Q1582.07 346.442 1585.5 342.715 Q1588.95 338.965 1594.78 338.965 Q1600.01 338.965 1603.04 342.345 Q1606.1 345.701 1606.1 351.488 M1601.84 350.238 Q1601.79 346.743 1599.87 344.659 Q1597.97 342.576 1594.83 342.576 Q1591.26 342.576 1589.11 344.59 Q1586.98 346.604 1586.65 350.261 L1601.84 350.238 Z\" fill=\"#000000\" fill-rule=\"evenodd\" fill-opacity=\"1\" /><path clip-path=\"url(#clip520)\" d=\"M 0 0 M1628.11 343.571 Q1627.4 343.155 1626.54 342.97 Q1625.71 342.761 1624.69 342.761 Q1621.08 342.761 1619.13 345.122 Q1617.21 347.46 1617.21 351.858 L1617.21 365.516 L1612.93 365.516 L1612.93 339.59 L1617.21 339.59 L1617.21 343.618 Q1618.55 341.257 1620.71 340.122 Q1622.86 338.965 1625.94 338.965 Q1626.38 338.965 1626.91 339.034 Q1627.44 339.081 1628.09 339.196 L1628.11 343.571 Z\" fill=\"#000000\" fill-rule=\"evenodd\" fill-opacity=\"1\" /><path clip-path=\"url(#clip520)\" d=\"M 0 0 M1644.36 352.483 Q1639.2 352.483 1637.21 353.664 Q1635.22 354.844 1635.22 357.692 Q1635.22 359.96 1636.7 361.303 Q1638.21 362.622 1640.77 362.622 Q1644.32 362.622 1646.45 360.122 Q1648.6 357.599 1648.6 353.432 L1648.6 352.483 L1644.36 352.483 M1652.86 350.724 L1652.86 365.516 L1648.6 365.516 L1648.6 361.581 Q1647.14 363.942 1644.96 365.076 Q1642.79 366.187 1639.64 366.187 Q1635.66 366.187 1633.3 363.965 Q1630.96 361.719 1630.96 357.969 Q1630.96 353.594 1633.88 351.372 Q1636.82 349.15 1642.63 349.15 L1648.6 349.15 L1648.6 348.733 Q1648.6 345.794 1646.65 344.196 Q1644.73 342.576 1641.24 342.576 Q1639.02 342.576 1636.91 343.108 Q1634.8 343.641 1632.86 344.706 L1632.86 340.77 Q1635.2 339.868 1637.4 339.428 Q1639.59 338.965 1641.68 338.965 Q1647.3 338.965 1650.08 341.882 Q1652.86 344.798 1652.86 350.724 Z\" fill=\"#000000\" fill-rule=\"evenodd\" fill-opacity=\"1\" /><path clip-path=\"url(#clip520)\" d=\"M 0 0 M1665.84 332.229 L1665.84 339.59 L1674.62 339.59 L1674.62 342.9 L1665.84 342.9 L1665.84 356.974 Q1665.84 360.145 1666.7 361.048 Q1667.58 361.951 1670.24 361.951 L1674.62 361.951 L1674.62 365.516 L1670.24 365.516 Q1665.31 365.516 1663.44 363.687 Q1661.56 361.835 1661.56 356.974 L1661.56 342.9 L1658.44 342.9 L1658.44 339.59 L1661.56 339.59 L1661.56 332.229 L1665.84 332.229 Z\" fill=\"#000000\" fill-rule=\"evenodd\" fill-opacity=\"1\" /><path clip-path=\"url(#clip520)\" d=\"M 0 0 M1690.27 342.576 Q1686.84 342.576 1684.85 345.261 Q1682.86 347.923 1682.86 352.576 Q1682.86 357.229 1684.83 359.914 Q1686.82 362.576 1690.27 362.576 Q1693.67 362.576 1695.66 359.891 Q1697.65 357.206 1697.65 352.576 Q1697.65 347.97 1695.66 345.284 Q1693.67 342.576 1690.27 342.576 M1690.27 338.965 Q1695.82 338.965 1698.99 342.576 Q1702.16 346.187 1702.16 352.576 Q1702.16 358.942 1698.99 362.576 Q1695.82 366.187 1690.27 366.187 Q1684.69 366.187 1681.52 362.576 Q1678.37 358.942 1678.37 352.576 Q1678.37 346.187 1681.52 342.576 Q1684.69 338.965 1690.27 338.965 Z\" fill=\"#000000\" fill-rule=\"evenodd\" fill-opacity=\"1\" /><path clip-path=\"url(#clip520)\" d=\"M 0 0 M1724.25 343.571 Q1723.53 343.155 1722.67 342.97 Q1721.84 342.761 1720.82 342.761 Q1717.21 342.761 1715.27 345.122 Q1713.34 347.46 1713.34 351.858 L1713.34 365.516 L1709.06 365.516 L1709.06 339.59 L1713.34 339.59 L1713.34 343.618 Q1714.69 341.257 1716.84 340.122 Q1718.99 338.965 1722.07 338.965 Q1722.51 338.965 1723.04 339.034 Q1723.58 339.081 1724.22 339.196 L1724.25 343.571 Z\" fill=\"#000000\" fill-rule=\"evenodd\" fill-opacity=\"1\" /><path clip-path=\"url(#clip520)\" d=\"M 0 0 M1760.84 343.525 L1760.84 329.497 L1765.1 329.497 L1765.1 365.516 L1760.84 365.516 L1760.84 361.627 Q1759.5 363.942 1757.44 365.076 Q1755.4 366.187 1752.53 366.187 Q1747.83 366.187 1744.87 362.437 Q1741.93 358.687 1741.93 352.576 Q1741.93 346.465 1744.87 342.715 Q1747.83 338.965 1752.53 338.965 Q1755.4 338.965 1757.44 340.099 Q1759.5 341.21 1760.84 343.525 M1746.33 352.576 Q1746.33 357.275 1748.25 359.96 Q1750.2 362.622 1753.58 362.622 Q1756.95 362.622 1758.9 359.96 Q1760.84 357.275 1760.84 352.576 Q1760.84 347.877 1758.9 345.215 Q1756.95 342.53 1753.58 342.53 Q1750.2 342.53 1748.25 345.215 Q1746.33 347.877 1746.33 352.576 Z\" fill=\"#000000\" fill-rule=\"evenodd\" fill-opacity=\"1\" /><path clip-path=\"url(#clip520)\" d=\"M 0 0 M1772.02 339.59 L1792.26 339.59 L1792.26 343.479 L1776.24 362.113 L1792.26 362.113 L1792.26 365.516 L1771.45 365.516 L1771.45 361.627 L1787.46 342.993 L1772.02 342.993 L1772.02 339.59 Z\" fill=\"#000000\" fill-rule=\"evenodd\" fill-opacity=\"1\" /><path clip-path=\"url(#clip520)\" d=\"M 0 0 M1798.76 339.59 L1803.02 339.59 L1803.02 365.516 L1798.76 365.516 L1798.76 339.59 M1798.76 329.497 L1803.02 329.497 L1803.02 334.891 L1798.76 334.891 L1798.76 329.497 Z\" fill=\"#000000\" fill-rule=\"evenodd\" fill-opacity=\"1\" /><path clip-path=\"url(#clip520)\" d=\"M 0 0 M1834.11 351.488 L1834.11 353.571 L1814.52 353.571 Q1814.8 357.969 1817.16 360.284 Q1819.55 362.576 1823.78 362.576 Q1826.24 362.576 1828.53 361.974 Q1830.84 361.372 1833.11 360.169 L1833.11 364.196 Q1830.82 365.168 1828.41 365.678 Q1826.01 366.187 1823.53 366.187 Q1817.32 366.187 1813.69 362.576 Q1810.08 358.965 1810.08 352.807 Q1810.08 346.442 1813.51 342.715 Q1816.95 338.965 1822.79 338.965 Q1828.02 338.965 1831.05 342.345 Q1834.11 345.701 1834.11 351.488 M1829.85 350.238 Q1829.8 346.743 1827.88 344.659 Q1825.98 342.576 1822.83 342.576 Q1819.27 342.576 1817.12 344.59 Q1814.99 346.604 1814.66 350.261 L1829.85 350.238 Z\" fill=\"#000000\" fill-rule=\"evenodd\" fill-opacity=\"1\" /><path clip-path=\"url(#clip520)\" d=\"M 0 0 M1841.1 329.497 L1845.36 329.497 L1845.36 365.516 L1841.1 365.516 L1841.1 329.497 Z\" fill=\"#000000\" fill-rule=\"evenodd\" fill-opacity=\"1\" /><path clip-path=\"url(#clip520)\" d=\"M 0 0 M1876.45 351.488 L1876.45 353.571 L1856.86 353.571 Q1857.14 357.969 1859.5 360.284 Q1861.88 362.576 1866.12 362.576 Q1868.57 362.576 1870.87 361.974 Q1873.18 361.372 1875.45 360.169 L1875.45 364.196 Q1873.16 365.168 1870.75 365.678 Q1868.34 366.187 1865.87 366.187 Q1859.66 366.187 1856.03 362.576 Q1852.42 358.965 1852.42 352.807 Q1852.42 346.442 1855.84 342.715 Q1859.29 338.965 1865.13 338.965 Q1870.36 338.965 1873.39 342.345 Q1876.45 345.701 1876.45 351.488 M1872.19 350.238 Q1872.14 346.743 1870.22 344.659 Q1868.32 342.576 1865.17 342.576 Q1861.61 342.576 1859.45 344.59 Q1857.32 346.604 1857 350.261 L1872.19 350.238 Z\" fill=\"#000000\" fill-rule=\"evenodd\" fill-opacity=\"1\" /><path clip-path=\"url(#clip520)\" d=\"M 0 0 M1904.99 349.868 L1904.99 365.516 L1900.73 365.516 L1900.73 350.007 Q1900.73 346.326 1899.29 344.497 Q1897.86 342.669 1894.99 342.669 Q1891.54 342.669 1889.55 344.868 Q1887.56 347.067 1887.56 350.863 L1887.56 365.516 L1883.27 365.516 L1883.27 339.59 L1887.56 339.59 L1887.56 343.618 Q1889.08 341.28 1891.14 340.122 Q1893.23 338.965 1895.94 338.965 Q1900.4 338.965 1902.69 341.743 Q1904.99 344.497 1904.99 349.868 Z\" fill=\"#000000\" fill-rule=\"evenodd\" fill-opacity=\"1\" /><path clip-path=\"url(#clip520)\" d=\"M 0 0 M1913.48 339.59 L1917.74 339.59 L1917.74 365.516 L1913.48 365.516 L1913.48 339.59 M1913.48 329.497 L1917.74 329.497 L1917.74 334.891 L1913.48 334.891 L1913.48 329.497 Z\" fill=\"#000000\" fill-rule=\"evenodd\" fill-opacity=\"1\" /><path clip-path=\"url(#clip520)\" d=\"M 0 0 M1938.44 352.483 Q1933.27 352.483 1931.28 353.664 Q1929.29 354.844 1929.29 357.692 Q1929.29 359.96 1930.77 361.303 Q1932.28 362.622 1934.85 362.622 Q1938.39 362.622 1940.52 360.122 Q1942.67 357.599 1942.67 353.432 L1942.67 352.483 L1938.44 352.483 M1946.93 350.724 L1946.93 365.516 L1942.67 365.516 L1942.67 361.581 Q1941.21 363.942 1939.04 365.076 Q1936.86 366.187 1933.71 366.187 Q1929.73 366.187 1927.37 363.965 Q1925.03 361.719 1925.03 357.969 Q1925.03 353.594 1927.95 351.372 Q1930.89 349.15 1936.7 349.15 L1942.67 349.15 L1942.67 348.733 Q1942.67 345.794 1940.73 344.196 Q1938.81 342.576 1935.31 342.576 Q1933.09 342.576 1930.98 343.108 Q1928.88 343.641 1926.93 344.706 L1926.93 340.77 Q1929.27 339.868 1931.47 339.428 Q1933.67 338.965 1935.75 338.965 Q1941.38 338.965 1944.15 341.882 Q1946.93 344.798 1946.93 350.724 Z\" fill=\"#000000\" fill-rule=\"evenodd\" fill-opacity=\"1\" /><circle clip-path=\"url(#clip520)\" cx=\"1429.5\" cy=\"408.716\" r=\"23\" fill=\"#008000\" fill-rule=\"evenodd\" fill-opacity=\"1\" stroke=\"#000000\" stroke-opacity=\"1\" stroke-width=\"5.12\"/>\n",
       "<path clip-path=\"url(#clip520)\" d=\"M 0 0 M1541.4 400.834 L1541.4 404.862 Q1539.59 403.936 1537.65 403.473 Q1535.71 403.01 1533.62 403.01 Q1530.45 403.01 1528.85 403.982 Q1527.28 404.954 1527.28 406.899 Q1527.28 408.38 1528.41 409.237 Q1529.55 410.07 1532.97 410.834 L1534.43 411.158 Q1538.97 412.13 1540.87 413.912 Q1542.79 415.672 1542.79 418.843 Q1542.79 422.454 1539.92 424.561 Q1537.07 426.667 1532.07 426.667 Q1529.99 426.667 1527.72 426.25 Q1525.47 425.857 1522.97 425.047 L1522.97 420.649 Q1525.34 421.875 1527.63 422.5 Q1529.92 423.102 1532.16 423.102 Q1535.17 423.102 1536.79 422.084 Q1538.41 421.042 1538.41 419.167 Q1538.41 417.431 1537.23 416.505 Q1536.08 415.579 1532.12 414.723 L1530.64 414.375 Q1526.68 413.542 1524.92 411.829 Q1523.16 410.093 1523.16 407.084 Q1523.16 403.426 1525.75 401.436 Q1528.35 399.445 1533.11 399.445 Q1535.47 399.445 1537.56 399.792 Q1539.64 400.139 1541.4 400.834 Z\" fill=\"#000000\" fill-rule=\"evenodd\" fill-opacity=\"1\" /><path clip-path=\"url(#clip520)\" d=\"M 0 0 M1561.35 412.963 Q1556.19 412.963 1554.2 414.144 Q1552.21 415.324 1552.21 418.172 Q1552.21 420.44 1553.69 421.783 Q1555.2 423.102 1557.77 423.102 Q1561.31 423.102 1563.44 420.602 Q1565.59 418.079 1565.59 413.912 L1565.59 412.963 L1561.35 412.963 M1569.85 411.204 L1569.85 425.996 L1565.59 425.996 L1565.59 422.061 Q1564.13 424.422 1561.96 425.556 Q1559.78 426.667 1556.63 426.667 Q1552.65 426.667 1550.29 424.445 Q1547.95 422.199 1547.95 418.449 Q1547.95 414.074 1550.87 411.852 Q1553.81 409.63 1559.62 409.63 L1565.59 409.63 L1565.59 409.213 Q1565.59 406.274 1563.65 404.676 Q1561.72 403.056 1558.23 403.056 Q1556.01 403.056 1553.9 403.588 Q1551.79 404.121 1549.85 405.186 L1549.85 401.25 Q1552.19 400.348 1554.39 399.908 Q1556.59 399.445 1558.67 399.445 Q1564.29 399.445 1567.07 402.362 Q1569.85 405.278 1569.85 411.204 Z\" fill=\"#000000\" fill-rule=\"evenodd\" fill-opacity=\"1\" /><path clip-path=\"url(#clip520)\" d=\"M 0 0 M1598.81 405.047 Q1600.4 402.176 1602.63 400.811 Q1604.85 399.445 1607.86 399.445 Q1611.91 399.445 1614.11 402.292 Q1616.31 405.116 1616.31 410.348 L1616.31 425.996 L1612.03 425.996 L1612.03 410.487 Q1612.03 406.76 1610.71 404.954 Q1609.39 403.149 1606.68 403.149 Q1603.37 403.149 1601.45 405.348 Q1599.53 407.547 1599.53 411.343 L1599.53 425.996 L1595.24 425.996 L1595.24 410.487 Q1595.24 406.737 1593.92 404.954 Q1592.6 403.149 1589.85 403.149 Q1586.59 403.149 1584.66 405.371 Q1582.74 407.57 1582.74 411.343 L1582.74 425.996 L1578.46 425.996 L1578.46 400.07 L1582.74 400.07 L1582.74 404.098 Q1584.2 401.713 1586.24 400.579 Q1588.28 399.445 1591.08 399.445 Q1593.9 399.445 1595.87 400.88 Q1597.86 402.315 1598.81 405.047 Z\" fill=\"#000000\" fill-rule=\"evenodd\" fill-opacity=\"1\" /><path clip-path=\"url(#clip520)\" d=\"M 0 0 M1634.85 403.056 Q1631.42 403.056 1629.43 405.741 Q1627.44 408.403 1627.44 413.056 Q1627.44 417.709 1629.41 420.394 Q1631.4 423.056 1634.85 423.056 Q1638.25 423.056 1640.24 420.371 Q1642.23 417.686 1642.23 413.056 Q1642.23 408.45 1640.24 405.764 Q1638.25 403.056 1634.85 403.056 M1634.85 399.445 Q1640.4 399.445 1643.58 403.056 Q1646.75 406.667 1646.75 413.056 Q1646.75 419.422 1643.58 423.056 Q1640.4 426.667 1634.85 426.667 Q1629.27 426.667 1626.1 423.056 Q1622.95 419.422 1622.95 413.056 Q1622.95 406.667 1626.1 403.056 Q1629.27 399.445 1634.85 399.445 Z\" fill=\"#000000\" fill-rule=\"evenodd\" fill-opacity=\"1\" /><path clip-path=\"url(#clip520)\" d=\"M 0 0 M1685.94 404.005 L1685.94 389.977 L1690.2 389.977 L1690.2 425.996 L1685.94 425.996 L1685.94 422.107 Q1684.59 424.422 1682.53 425.556 Q1680.5 426.667 1677.63 426.667 Q1672.93 426.667 1669.96 422.917 Q1667.02 419.167 1667.02 413.056 Q1667.02 406.945 1669.96 403.195 Q1672.93 399.445 1677.63 399.445 Q1680.5 399.445 1682.53 400.579 Q1684.59 401.69 1685.94 404.005 M1671.42 413.056 Q1671.42 417.755 1673.34 420.44 Q1675.29 423.102 1678.67 423.102 Q1682.05 423.102 1683.99 420.44 Q1685.94 417.755 1685.94 413.056 Q1685.94 408.357 1683.99 405.695 Q1682.05 403.01 1678.67 403.01 Q1675.29 403.01 1673.34 405.695 Q1671.42 408.357 1671.42 413.056 Z\" fill=\"#000000\" fill-rule=\"evenodd\" fill-opacity=\"1\" /><path clip-path=\"url(#clip520)\" d=\"M 0 0 M1697.12 400.07 L1717.35 400.07 L1717.35 403.959 L1701.33 422.593 L1717.35 422.593 L1717.35 425.996 L1696.54 425.996 L1696.54 422.107 L1712.56 403.473 L1697.12 403.473 L1697.12 400.07 Z\" fill=\"#000000\" fill-rule=\"evenodd\" fill-opacity=\"1\" /><path clip-path=\"url(#clip520)\" d=\"M 0 0 M1723.85 400.07 L1728.11 400.07 L1728.11 425.996 L1723.85 425.996 L1723.85 400.07 M1723.85 389.977 L1728.11 389.977 L1728.11 395.371 L1723.85 395.371 L1723.85 389.977 Z\" fill=\"#000000\" fill-rule=\"evenodd\" fill-opacity=\"1\" /><path clip-path=\"url(#clip520)\" d=\"M 0 0 M1759.2 411.968 L1759.2 414.051 L1739.62 414.051 Q1739.89 418.449 1742.26 420.764 Q1744.64 423.056 1748.88 423.056 Q1751.33 423.056 1753.62 422.454 Q1755.94 421.852 1758.2 420.649 L1758.2 424.676 Q1755.91 425.648 1753.51 426.158 Q1751.1 426.667 1748.62 426.667 Q1742.42 426.667 1738.78 423.056 Q1735.17 419.445 1735.17 413.287 Q1735.17 406.922 1738.6 403.195 Q1742.05 399.445 1747.88 399.445 Q1753.11 399.445 1756.14 402.825 Q1759.2 406.181 1759.2 411.968 M1754.94 410.718 Q1754.89 407.223 1752.97 405.139 Q1751.08 403.056 1747.93 403.056 Q1744.36 403.056 1742.21 405.07 Q1740.08 407.084 1739.76 410.741 L1754.94 410.718 Z\" fill=\"#000000\" fill-rule=\"evenodd\" fill-opacity=\"1\" /><path clip-path=\"url(#clip520)\" d=\"M 0 0 M1766.19 389.977 L1770.45 389.977 L1770.45 425.996 L1766.19 425.996 L1766.19 389.977 Z\" fill=\"#000000\" fill-rule=\"evenodd\" fill-opacity=\"1\" /><path clip-path=\"url(#clip520)\" d=\"M 0 0 M1801.54 411.968 L1801.54 414.051 L1781.95 414.051 Q1782.23 418.449 1784.59 420.764 Q1786.98 423.056 1791.21 423.056 Q1793.67 423.056 1795.96 422.454 Q1798.27 421.852 1800.54 420.649 L1800.54 424.676 Q1798.25 425.648 1795.84 426.158 Q1793.44 426.667 1790.96 426.667 Q1784.76 426.667 1781.12 423.056 Q1777.51 419.445 1777.51 413.287 Q1777.51 406.922 1780.94 403.195 Q1784.39 399.445 1790.22 399.445 Q1795.45 399.445 1798.48 402.825 Q1801.54 406.181 1801.54 411.968 M1797.28 410.718 Q1797.23 407.223 1795.31 405.139 Q1793.41 403.056 1790.26 403.056 Q1786.7 403.056 1784.55 405.07 Q1782.42 407.084 1782.09 410.741 L1797.28 410.718 Z\" fill=\"#000000\" fill-rule=\"evenodd\" fill-opacity=\"1\" /><path clip-path=\"url(#clip520)\" d=\"M 0 0 M1830.08 410.348 L1830.08 425.996 L1825.82 425.996 L1825.82 410.487 Q1825.82 406.806 1824.39 404.977 Q1822.95 403.149 1820.08 403.149 Q1816.63 403.149 1814.64 405.348 Q1812.65 407.547 1812.65 411.343 L1812.65 425.996 L1808.37 425.996 L1808.37 400.07 L1812.65 400.07 L1812.65 404.098 Q1814.18 401.76 1816.24 400.602 Q1818.32 399.445 1821.03 399.445 Q1825.5 399.445 1827.79 402.223 Q1830.08 404.977 1830.08 410.348 Z\" fill=\"#000000\" fill-rule=\"evenodd\" fill-opacity=\"1\" /><path clip-path=\"url(#clip520)\" d=\"M 0 0 M1838.57 400.07 L1842.83 400.07 L1842.83 425.996 L1838.57 425.996 L1838.57 400.07 M1838.57 389.977 L1842.83 389.977 L1842.83 395.371 L1838.57 395.371 L1838.57 389.977 Z\" fill=\"#000000\" fill-rule=\"evenodd\" fill-opacity=\"1\" /><path clip-path=\"url(#clip520)\" d=\"M 0 0 M1873.92 411.968 L1873.92 414.051 L1854.34 414.051 Q1854.62 418.449 1856.98 420.764 Q1859.36 423.056 1863.6 423.056 Q1866.05 423.056 1868.34 422.454 Q1870.66 421.852 1872.93 420.649 L1872.93 424.676 Q1870.63 425.648 1868.23 426.158 Q1865.82 426.667 1863.34 426.667 Q1857.14 426.667 1853.51 423.056 Q1849.89 419.445 1849.89 413.287 Q1849.89 406.922 1853.32 403.195 Q1856.77 399.445 1862.6 399.445 Q1867.83 399.445 1870.87 402.825 Q1873.92 406.181 1873.92 411.968 M1869.66 410.718 Q1869.62 407.223 1867.7 405.139 Q1865.8 403.056 1862.65 403.056 Q1859.08 403.056 1856.93 405.07 Q1854.8 407.084 1854.48 410.741 L1869.66 410.718 Z\" fill=\"#000000\" fill-rule=\"evenodd\" fill-opacity=\"1\" /><path clip-path=\"url(#clip520)\" d=\"M 0 0 M1900.1 422.107 L1900.1 435.857 L1895.82 435.857 L1895.82 400.07 L1900.1 400.07 L1900.1 404.005 Q1901.44 401.69 1903.48 400.579 Q1905.54 399.445 1908.39 399.445 Q1913.11 399.445 1916.05 403.195 Q1919.01 406.945 1919.01 413.056 Q1919.01 419.167 1916.05 422.917 Q1913.11 426.667 1908.39 426.667 Q1905.54 426.667 1903.48 425.556 Q1901.44 424.422 1900.1 422.107 M1914.59 413.056 Q1914.59 408.357 1912.65 405.695 Q1910.73 403.01 1907.35 403.01 Q1903.97 403.01 1902.02 405.695 Q1900.1 408.357 1900.1 413.056 Q1900.1 417.755 1902.02 420.44 Q1903.97 423.102 1907.35 423.102 Q1910.73 423.102 1912.65 420.44 Q1914.59 417.755 1914.59 413.056 Z\" fill=\"#000000\" fill-rule=\"evenodd\" fill-opacity=\"1\" /><path clip-path=\"url(#clip520)\" d=\"M 0 0 M1936.12 403.056 Q1932.69 403.056 1930.7 405.741 Q1928.71 408.403 1928.71 413.056 Q1928.71 417.709 1930.68 420.394 Q1932.67 423.056 1936.12 423.056 Q1939.52 423.056 1941.51 420.371 Q1943.5 417.686 1943.5 413.056 Q1943.5 408.45 1941.51 405.764 Q1939.52 403.056 1936.12 403.056 M1936.12 399.445 Q1941.68 399.445 1944.85 403.056 Q1948.02 406.667 1948.02 413.056 Q1948.02 419.422 1944.85 423.056 Q1941.68 426.667 1936.12 426.667 Q1930.54 426.667 1927.37 423.056 Q1924.22 419.422 1924.22 413.056 Q1924.22 406.667 1927.37 403.056 Q1930.54 399.445 1936.12 399.445 Z\" fill=\"#000000\" fill-rule=\"evenodd\" fill-opacity=\"1\" /><path clip-path=\"url(#clip520)\" d=\"M 0 0 M1983.27 389.977 L1983.27 393.519 L1979.2 393.519 Q1976.91 393.519 1976 394.445 Q1975.13 395.371 1975.13 397.778 L1975.13 400.07 L1982.14 400.07 L1982.14 403.38 L1975.13 403.38 L1975.13 425.996 L1970.84 425.996 L1970.84 403.38 L1966.77 403.38 L1966.77 400.07 L1970.84 400.07 L1970.84 398.264 Q1970.84 393.936 1972.86 391.968 Q1974.87 389.977 1979.25 389.977 L1983.27 389.977 Z\" fill=\"#000000\" fill-rule=\"evenodd\" fill-opacity=\"1\" /><path clip-path=\"url(#clip520)\" d=\"M 0 0 M1998.62 412.963 Q1993.46 412.963 1991.47 414.144 Q1989.48 415.324 1989.48 418.172 Q1989.48 420.44 1990.96 421.783 Q1992.46 423.102 1995.03 423.102 Q1998.57 423.102 2000.7 420.602 Q2002.86 418.079 2002.86 413.912 L2002.86 412.963 L1998.62 412.963 M2007.12 411.204 L2007.12 425.996 L2002.86 425.996 L2002.86 422.061 Q2001.4 424.422 1999.22 425.556 Q1997.05 426.667 1993.9 426.667 Q1989.92 426.667 1987.56 424.445 Q1985.22 422.199 1985.22 418.449 Q1985.22 414.074 1988.13 411.852 Q1991.07 409.63 1996.88 409.63 L2002.86 409.63 L2002.86 409.213 Q2002.86 406.274 2000.91 404.676 Q1998.99 403.056 1995.5 403.056 Q1993.27 403.056 1991.17 403.588 Q1989.06 404.121 1987.12 405.186 L1987.12 401.25 Q1989.45 400.348 1991.65 399.908 Q1993.85 399.445 1995.94 399.445 Q2001.56 399.445 2004.34 402.362 Q2007.12 405.278 2007.12 411.204 Z\" fill=\"#000000\" fill-rule=\"evenodd\" fill-opacity=\"1\" /><path clip-path=\"url(#clip520)\" d=\"M 0 0 M2015.73 389.977 L2020.01 389.977 L2020.01 411.25 L2032.72 400.07 L2038.16 400.07 L2024.41 412.199 L2038.74 425.996 L2033.18 425.996 L2020.01 413.334 L2020.01 425.996 L2015.73 425.996 L2015.73 389.977 Z\" fill=\"#000000\" fill-rule=\"evenodd\" fill-opacity=\"1\" /><path clip-path=\"url(#clip520)\" d=\"M 0 0 M2047.56 392.709 L2047.56 400.07 L2056.33 400.07 L2056.33 403.38 L2047.56 403.38 L2047.56 417.454 Q2047.56 420.625 2048.41 421.528 Q2049.29 422.431 2051.95 422.431 L2056.33 422.431 L2056.33 425.996 L2051.95 425.996 Q2047.02 425.996 2045.15 424.167 Q2043.27 422.315 2043.27 417.454 L2043.27 403.38 L2040.15 403.38 L2040.15 400.07 L2043.27 400.07 L2043.27 392.709 L2047.56 392.709 Z\" fill=\"#000000\" fill-rule=\"evenodd\" fill-opacity=\"1\" /><path clip-path=\"url(#clip520)\" d=\"M 0 0 M2071.98 403.056 Q2068.55 403.056 2066.56 405.741 Q2064.57 408.403 2064.57 413.056 Q2064.57 417.709 2066.54 420.394 Q2068.53 423.056 2071.98 423.056 Q2075.38 423.056 2077.37 420.371 Q2079.36 417.686 2079.36 413.056 Q2079.36 408.45 2077.37 405.764 Q2075.38 403.056 2071.98 403.056 M2071.98 399.445 Q2077.53 399.445 2080.7 403.056 Q2083.87 406.667 2083.87 413.056 Q2083.87 419.422 2080.7 423.056 Q2077.53 426.667 2071.98 426.667 Q2066.4 426.667 2063.23 423.056 Q2060.08 419.422 2060.08 413.056 Q2060.08 406.667 2063.23 403.056 Q2066.4 399.445 2071.98 399.445 Z\" fill=\"#000000\" fill-rule=\"evenodd\" fill-opacity=\"1\" /><path clip-path=\"url(#clip520)\" d=\"M 0 0 M2105.96 404.051 Q2105.24 403.635 2104.38 403.45 Q2103.55 403.241 2102.53 403.241 Q2098.92 403.241 2096.98 405.602 Q2095.05 407.94 2095.05 412.338 L2095.05 425.996 L2090.77 425.996 L2090.77 400.07 L2095.05 400.07 L2095.05 404.098 Q2096.4 401.737 2098.55 400.602 Q2100.7 399.445 2103.78 399.445 Q2104.22 399.445 2104.75 399.514 Q2105.29 399.561 2105.93 399.676 L2105.96 404.051 Z\" fill=\"#000000\" fill-rule=\"evenodd\" fill-opacity=\"1\" /><path clip-path=\"url(#clip520)\" d=\"M 0 0 M2121.21 428.403 Q2119.41 433.033 2117.69 434.445 Q2115.98 435.857 2113.11 435.857 L2109.71 435.857 L2109.71 432.292 L2112.21 432.292 Q2113.97 432.292 2114.94 431.459 Q2115.91 430.625 2117.09 427.523 L2117.86 425.579 L2107.37 400.07 L2111.88 400.07 L2119.99 420.348 L2128.09 400.07 L2132.6 400.07 L2121.21 428.403 Z\" fill=\"#000000\" fill-rule=\"evenodd\" fill-opacity=\"1\" /><path clip-path=\"url(#clip520)\" d=\"M 0 0 M2136.63 400.07 L2156.86 400.07 L2156.86 403.959 L2140.84 422.593 L2156.86 422.593 L2156.86 425.996 L2136.05 425.996 L2136.05 422.107 L2152.07 403.473 L2136.63 403.473 L2136.63 400.07 Z\" fill=\"#000000\" fill-rule=\"evenodd\" fill-opacity=\"1\" /><path clip-path=\"url(#clip520)\" d=\"M 0 0 M2175.15 412.963 Q2169.99 412.963 2167.99 414.144 Q2166 415.324 2166 418.172 Q2166 420.44 2167.49 421.783 Q2168.99 423.102 2171.56 423.102 Q2175.1 423.102 2177.23 420.602 Q2179.38 418.079 2179.38 413.912 L2179.38 412.963 L2175.15 412.963 M2183.64 411.204 L2183.64 425.996 L2179.38 425.996 L2179.38 422.061 Q2177.92 424.422 2175.75 425.556 Q2173.57 426.667 2170.42 426.667 Q2166.44 426.667 2164.08 424.445 Q2161.74 422.199 2161.74 418.449 Q2161.74 414.074 2164.66 411.852 Q2167.6 409.63 2173.41 409.63 L2179.38 409.63 L2179.38 409.213 Q2179.38 406.274 2177.44 404.676 Q2175.52 403.056 2172.02 403.056 Q2169.8 403.056 2167.69 403.588 Q2165.59 404.121 2163.64 405.186 L2163.64 401.25 Q2165.98 400.348 2168.18 399.908 Q2170.38 399.445 2172.46 399.445 Q2178.09 399.445 2180.86 402.362 Q2183.64 405.278 2183.64 411.204 Z\" fill=\"#000000\" fill-rule=\"evenodd\" fill-opacity=\"1\" /><path clip-path=\"url(#clip520)\" d=\"M 0 0 M2211.07 401.065 L2211.07 405.047 Q2209.27 404.051 2207.44 403.565 Q2205.63 403.056 2203.78 403.056 Q2199.64 403.056 2197.35 405.695 Q2195.05 408.311 2195.05 413.056 Q2195.05 417.801 2197.35 420.44 Q2199.64 423.056 2203.78 423.056 Q2205.63 423.056 2207.44 422.57 Q2209.27 422.061 2211.07 421.065 L2211.07 425 Q2209.29 425.834 2207.37 426.25 Q2205.47 426.667 2203.32 426.667 Q2197.46 426.667 2194.01 422.986 Q2190.56 419.306 2190.56 413.056 Q2190.56 406.713 2194.04 403.079 Q2197.53 399.445 2203.6 399.445 Q2205.56 399.445 2207.44 399.862 Q2209.31 400.255 2211.07 401.065 Z\" fill=\"#000000\" fill-rule=\"evenodd\" fill-opacity=\"1\" /><path clip-path=\"url(#clip520)\" d=\"M 0 0 M2218.48 400.07 L2222.74 400.07 L2222.74 426.459 Q2222.74 431.412 2220.84 433.635 Q2218.97 435.857 2214.78 435.857 L2213.16 435.857 L2213.16 432.246 L2214.29 432.246 Q2216.72 432.246 2217.6 431.111 Q2218.48 430 2218.48 426.459 L2218.48 400.07 M2218.48 389.977 L2222.74 389.977 L2222.74 395.371 L2218.48 395.371 L2218.48 389.977 Z\" fill=\"#000000\" fill-rule=\"evenodd\" fill-opacity=\"1\" /><path clip-path=\"url(#clip520)\" d=\"M 0 0 M2231.65 400.07 L2235.91 400.07 L2235.91 425.996 L2231.65 425.996 L2231.65 400.07 M2231.65 389.977 L2235.91 389.977 L2235.91 395.371 L2231.65 395.371 L2231.65 389.977 Z\" fill=\"#000000\" fill-rule=\"evenodd\" fill-opacity=\"1\" /></svg>\n"
      ]
     },
     "execution_count": 22,
     "metadata": {},
     "output_type": "execute_result"
    }
   ],
   "source": [
    "scatter(tm.\"Średni czas wykonania\", group=tm.Metoda, colour = [:red :blue :yellow :green], \n",
    "        yerr=tm.\"Odchylenie st. (czas)\")\n",
    "xlabel!(\"Metoda\")\n",
    "ylabel!(\"Średni czas wykonania [s]\")\n",
    "title!(\"Czas\")"
   ]
  },
  {
   "cell_type": "code",
   "execution_count": 23,
   "metadata": {},
   "outputs": [
    {
     "data": {
      "image/svg+xml": [
       "<?xml version=\"1.0\" encoding=\"utf-8\"?>\n",
       "<svg xmlns=\"http://www.w3.org/2000/svg\" xmlns:xlink=\"http://www.w3.org/1999/xlink\" width=\"600\" height=\"400\" viewBox=\"0 0 2400 1600\">\n",
       "<defs>\n",
       "  <clipPath id=\"clip560\">\n",
       "    <rect x=\"0\" y=\"0\" width=\"2400\" height=\"1600\"/>\n",
       "  </clipPath>\n",
       "</defs>\n",
       "<path clip-path=\"url(#clip560)\" d=\"\n",
       "M0 1600 L2400 1600 L2400 0 L0 0  Z\n",
       "  \" fill=\"#ffffff\" fill-rule=\"evenodd\" fill-opacity=\"1\"/>\n",
       "<defs>\n",
       "  <clipPath id=\"clip561\">\n",
       "    <rect x=\"480\" y=\"0\" width=\"1681\" height=\"1600\"/>\n",
       "  </clipPath>\n",
       "</defs>\n",
       "<path clip-path=\"url(#clip560)\" d=\"\n",
       "M348.355 1423.18 L2352.76 1423.18 L2352.76 123.472 L348.355 123.472  Z\n",
       "  \" fill=\"#ffffff\" fill-rule=\"evenodd\" fill-opacity=\"1\"/>\n",
       "<defs>\n",
       "  <clipPath id=\"clip562\">\n",
       "    <rect x=\"348\" y=\"123\" width=\"2005\" height=\"1301\"/>\n",
       "  </clipPath>\n",
       "</defs>\n",
       "<polyline clip-path=\"url(#clip562)\" style=\"stroke:#000000; stroke-width:2; stroke-opacity:0.1; fill:none\" points=\"\n",
       "  405.083,1423.18 405.083,123.472 \n",
       "  \"/>\n",
       "<polyline clip-path=\"url(#clip562)\" style=\"stroke:#000000; stroke-width:2; stroke-opacity:0.1; fill:none\" points=\"\n",
       "  1035.4,1423.18 1035.4,123.472 \n",
       "  \"/>\n",
       "<polyline clip-path=\"url(#clip562)\" style=\"stroke:#000000; stroke-width:2; stroke-opacity:0.1; fill:none\" points=\"\n",
       "  1665.71,1423.18 1665.71,123.472 \n",
       "  \"/>\n",
       "<polyline clip-path=\"url(#clip562)\" style=\"stroke:#000000; stroke-width:2; stroke-opacity:0.1; fill:none\" points=\"\n",
       "  2296.03,1423.18 2296.03,123.472 \n",
       "  \"/>\n",
       "<polyline clip-path=\"url(#clip560)\" style=\"stroke:#000000; stroke-width:4; stroke-opacity:1; fill:none\" points=\"\n",
       "  348.355,1423.18 2352.76,1423.18 \n",
       "  \"/>\n",
       "<polyline clip-path=\"url(#clip560)\" style=\"stroke:#000000; stroke-width:4; stroke-opacity:1; fill:none\" points=\"\n",
       "  405.083,1423.18 405.083,1407.58 \n",
       "  \"/>\n",
       "<polyline clip-path=\"url(#clip560)\" style=\"stroke:#000000; stroke-width:4; stroke-opacity:1; fill:none\" points=\"\n",
       "  1035.4,1423.18 1035.4,1407.58 \n",
       "  \"/>\n",
       "<polyline clip-path=\"url(#clip560)\" style=\"stroke:#000000; stroke-width:4; stroke-opacity:1; fill:none\" points=\"\n",
       "  1665.71,1423.18 1665.71,1407.58 \n",
       "  \"/>\n",
       "<polyline clip-path=\"url(#clip560)\" style=\"stroke:#000000; stroke-width:4; stroke-opacity:1; fill:none\" points=\"\n",
       "  2296.03,1423.18 2296.03,1407.58 \n",
       "  \"/>\n",
       "<path clip-path=\"url(#clip560)\" d=\"M 0 0 M395.465 1479.92 L403.104 1479.92 L403.104 1453.55 L394.794 1455.22 L394.794 1450.96 L403.058 1449.29 L407.734 1449.29 L407.734 1479.92 L415.373 1479.92 L415.373 1483.85 L395.465 1483.85 L395.465 1479.92 Z\" fill=\"#000000\" fill-rule=\"evenodd\" fill-opacity=\"1\" /><path clip-path=\"url(#clip560)\" d=\"M 0 0 M1030.05 1479.92 L1046.37 1479.92 L1046.37 1483.85 L1024.43 1483.85 L1024.43 1479.92 Q1027.09 1477.16 1031.67 1472.53 Q1036.28 1467.88 1037.46 1466.54 Q1039.7 1464.01 1040.58 1462.28 Q1041.49 1460.52 1041.49 1458.83 Q1041.49 1456.07 1039.54 1454.34 Q1037.62 1452.6 1034.52 1452.6 Q1032.32 1452.6 1029.87 1453.37 Q1027.44 1454.13 1024.66 1455.68 L1024.66 1450.96 Q1027.48 1449.82 1029.94 1449.25 Q1032.39 1448.67 1034.43 1448.67 Q1039.8 1448.67 1042.99 1451.35 Q1046.19 1454.04 1046.19 1458.53 Q1046.19 1460.66 1045.37 1462.58 Q1044.59 1464.48 1042.48 1467.07 Q1041.9 1467.74 1038.8 1470.96 Q1035.7 1474.15 1030.05 1479.92 Z\" fill=\"#000000\" fill-rule=\"evenodd\" fill-opacity=\"1\" /><path clip-path=\"url(#clip560)\" d=\"M 0 0 M1669.96 1465.22 Q1673.32 1465.94 1675.19 1468.2 Q1677.09 1470.47 1677.09 1473.81 Q1677.09 1478.92 1673.57 1481.72 Q1670.05 1484.52 1663.57 1484.52 Q1661.4 1484.52 1659.08 1484.08 Q1656.79 1483.67 1654.34 1482.81 L1654.34 1478.3 Q1656.28 1479.43 1658.59 1480.01 Q1660.91 1480.59 1663.43 1480.59 Q1667.83 1480.59 1670.12 1478.85 Q1672.44 1477.12 1672.44 1473.81 Q1672.44 1470.75 1670.28 1469.04 Q1668.15 1467.3 1664.34 1467.3 L1660.31 1467.3 L1660.31 1463.46 L1664.52 1463.46 Q1667.97 1463.46 1669.8 1462.09 Q1671.63 1460.7 1671.63 1458.11 Q1671.63 1455.45 1669.73 1454.04 Q1667.85 1452.6 1664.34 1452.6 Q1662.41 1452.6 1660.22 1453.02 Q1658.02 1453.44 1655.38 1454.31 L1655.38 1450.15 Q1658.04 1449.41 1660.35 1449.04 Q1662.69 1448.67 1664.75 1448.67 Q1670.08 1448.67 1673.18 1451.1 Q1676.28 1453.5 1676.28 1457.63 Q1676.28 1460.5 1674.64 1462.49 Q1672.99 1464.45 1669.96 1465.22 Z\" fill=\"#000000\" fill-rule=\"evenodd\" fill-opacity=\"1\" /><path clip-path=\"url(#clip560)\" d=\"M 0 0 M2299.04 1453.37 L2287.23 1471.81 L2299.04 1471.81 L2299.04 1453.37 M2297.81 1449.29 L2303.69 1449.29 L2303.69 1471.81 L2308.62 1471.81 L2308.62 1475.7 L2303.69 1475.7 L2303.69 1483.85 L2299.04 1483.85 L2299.04 1475.7 L2283.44 1475.7 L2283.44 1471.19 L2297.81 1449.29 Z\" fill=\"#000000\" fill-rule=\"evenodd\" fill-opacity=\"1\" /><path clip-path=\"url(#clip560)\" d=\"M 0 0 M1235.16 1520.52 L1244.74 1520.52 L1256.87 1552.86 L1269.06 1520.52 L1278.64 1520.52 L1278.64 1568.04 L1272.37 1568.04 L1272.37 1526.32 L1260.11 1558.91 L1253.65 1558.91 L1241.4 1526.32 L1241.4 1568.04 L1235.16 1568.04 L1235.16 1520.52 Z\" fill=\"#000000\" fill-rule=\"evenodd\" fill-opacity=\"1\" /><path clip-path=\"url(#clip560)\" d=\"M 0 0 M1321.64 1548.76 L1321.64 1551.62 L1294.71 1551.62 Q1295.09 1557.67 1298.34 1560.85 Q1301.62 1564 1307.44 1564 Q1310.82 1564 1313.97 1563.17 Q1317.15 1562.35 1320.27 1560.69 L1320.27 1566.23 Q1317.12 1567.57 1313.81 1568.27 Q1310.5 1568.97 1307.09 1568.97 Q1298.56 1568.97 1293.57 1564 Q1288.6 1559.04 1288.6 1550.57 Q1288.6 1541.82 1293.31 1536.69 Q1298.05 1531.54 1306.08 1531.54 Q1313.27 1531.54 1317.44 1536.18 Q1321.64 1540.8 1321.64 1548.76 M1315.78 1547.04 Q1315.72 1542.23 1313.08 1539.37 Q1310.47 1536.5 1306.14 1536.5 Q1301.24 1536.5 1298.28 1539.27 Q1295.35 1542.04 1294.9 1547.07 L1315.78 1547.04 Z\" fill=\"#000000\" fill-rule=\"evenodd\" fill-opacity=\"1\" /><path clip-path=\"url(#clip560)\" d=\"M 0 0 M1337.04 1522.27 L1337.04 1532.4 L1349.11 1532.4 L1349.11 1536.95 L1337.04 1536.95 L1337.04 1556.3 Q1337.04 1560.66 1338.22 1561.9 Q1339.43 1563.14 1343.09 1563.14 L1349.11 1563.14 L1349.11 1568.04 L1343.09 1568.04 Q1336.31 1568.04 1333.73 1565.53 Q1331.16 1562.98 1331.16 1556.3 L1331.16 1536.95 L1326.86 1536.95 L1326.86 1532.4 L1331.16 1532.4 L1331.16 1522.27 L1337.04 1522.27 Z\" fill=\"#000000\" fill-rule=\"evenodd\" fill-opacity=\"1\" /><path clip-path=\"url(#clip560)\" d=\"M 0 0 M1370.62 1536.5 Q1365.91 1536.5 1363.18 1540.19 Q1360.44 1543.85 1360.44 1550.25 Q1360.44 1556.65 1363.14 1560.34 Q1365.88 1564 1370.62 1564 Q1375.3 1564 1378.04 1560.31 Q1380.78 1556.62 1380.78 1550.25 Q1380.78 1543.92 1378.04 1540.23 Q1375.3 1536.5 1370.62 1536.5 M1370.62 1531.54 Q1378.26 1531.54 1382.62 1536.5 Q1386.98 1541.47 1386.98 1550.25 Q1386.98 1559 1382.62 1564 Q1378.26 1568.97 1370.62 1568.97 Q1362.95 1568.97 1358.59 1564 Q1354.26 1559 1354.26 1550.25 Q1354.26 1541.47 1358.59 1536.5 Q1362.95 1531.54 1370.62 1531.54 Z\" fill=\"#000000\" fill-rule=\"evenodd\" fill-opacity=\"1\" /><path clip-path=\"url(#clip560)\" d=\"M 0 0 M1420.15 1537.81 L1420.15 1518.52 L1426.01 1518.52 L1426.01 1568.04 L1420.15 1568.04 L1420.15 1562.7 Q1418.3 1565.88 1415.47 1567.44 Q1412.67 1568.97 1408.72 1568.97 Q1402.26 1568.97 1398.19 1563.81 Q1394.14 1558.65 1394.14 1550.25 Q1394.14 1541.85 1398.19 1536.69 Q1402.26 1531.54 1408.72 1531.54 Q1412.67 1531.54 1415.47 1533.1 Q1418.3 1534.62 1420.15 1537.81 M1400.19 1550.25 Q1400.19 1556.71 1402.83 1560.4 Q1405.51 1564.07 1410.15 1564.07 Q1414.8 1564.07 1417.48 1560.4 Q1420.15 1556.71 1420.15 1550.25 Q1420.15 1543.79 1417.48 1540.13 Q1414.8 1536.44 1410.15 1536.44 Q1405.51 1536.44 1402.83 1540.13 Q1400.19 1543.79 1400.19 1550.25 Z\" fill=\"#000000\" fill-rule=\"evenodd\" fill-opacity=\"1\" /><path clip-path=\"url(#clip560)\" d=\"M 0 0 M1454.27 1550.12 Q1447.17 1550.12 1444.43 1551.75 Q1441.7 1553.37 1441.7 1557.29 Q1441.7 1560.4 1443.73 1562.25 Q1445.8 1564.07 1449.34 1564.07 Q1454.21 1564.07 1457.13 1560.63 Q1460.09 1557.16 1460.09 1551.43 L1460.09 1550.12 L1454.27 1550.12 M1465.95 1547.71 L1465.95 1568.04 L1460.09 1568.04 L1460.09 1562.63 Q1458.09 1565.88 1455.1 1567.44 Q1452.1 1568.97 1447.78 1568.97 Q1442.3 1568.97 1439.05 1565.91 Q1435.84 1562.82 1435.84 1557.67 Q1435.84 1551.65 1439.85 1548.6 Q1443.89 1545.54 1451.88 1545.54 L1460.09 1545.54 L1460.09 1544.97 Q1460.09 1540.93 1457.42 1538.73 Q1454.78 1536.5 1449.97 1536.5 Q1446.92 1536.5 1444.02 1537.23 Q1441.12 1537.97 1438.45 1539.43 L1438.45 1534.02 Q1441.66 1532.78 1444.69 1532.17 Q1447.71 1531.54 1450.58 1531.54 Q1458.31 1531.54 1462.13 1535.55 Q1465.95 1539.56 1465.95 1547.71 Z\" fill=\"#000000\" fill-rule=\"evenodd\" fill-opacity=\"1\" /><polyline clip-path=\"url(#clip562)\" style=\"stroke:#000000; stroke-width:2; stroke-opacity:0.1; fill:none\" points=\"\n",
       "  348.355,1286.16 2352.76,1286.16 \n",
       "  \"/>\n",
       "<polyline clip-path=\"url(#clip562)\" style=\"stroke:#000000; stroke-width:2; stroke-opacity:0.1; fill:none\" points=\"\n",
       "  348.355,1018.95 2352.76,1018.95 \n",
       "  \"/>\n",
       "<polyline clip-path=\"url(#clip562)\" style=\"stroke:#000000; stroke-width:2; stroke-opacity:0.1; fill:none\" points=\"\n",
       "  348.355,751.728 2352.76,751.728 \n",
       "  \"/>\n",
       "<polyline clip-path=\"url(#clip562)\" style=\"stroke:#000000; stroke-width:2; stroke-opacity:0.1; fill:none\" points=\"\n",
       "  348.355,484.511 2352.76,484.511 \n",
       "  \"/>\n",
       "<polyline clip-path=\"url(#clip562)\" style=\"stroke:#000000; stroke-width:2; stroke-opacity:0.1; fill:none\" points=\"\n",
       "  348.355,217.294 2352.76,217.294 \n",
       "  \"/>\n",
       "<polyline clip-path=\"url(#clip560)\" style=\"stroke:#000000; stroke-width:4; stroke-opacity:1; fill:none\" points=\"\n",
       "  348.355,1423.18 348.355,123.472 \n",
       "  \"/>\n",
       "<polyline clip-path=\"url(#clip560)\" style=\"stroke:#000000; stroke-width:4; stroke-opacity:1; fill:none\" points=\"\n",
       "  348.355,1286.16 372.408,1286.16 \n",
       "  \"/>\n",
       "<polyline clip-path=\"url(#clip560)\" style=\"stroke:#000000; stroke-width:4; stroke-opacity:1; fill:none\" points=\"\n",
       "  348.355,1018.95 372.408,1018.95 \n",
       "  \"/>\n",
       "<polyline clip-path=\"url(#clip560)\" style=\"stroke:#000000; stroke-width:4; stroke-opacity:1; fill:none\" points=\"\n",
       "  348.355,751.728 372.408,751.728 \n",
       "  \"/>\n",
       "<polyline clip-path=\"url(#clip560)\" style=\"stroke:#000000; stroke-width:4; stroke-opacity:1; fill:none\" points=\"\n",
       "  348.355,484.511 372.408,484.511 \n",
       "  \"/>\n",
       "<polyline clip-path=\"url(#clip560)\" style=\"stroke:#000000; stroke-width:4; stroke-opacity:1; fill:none\" points=\"\n",
       "  348.355,217.294 372.408,217.294 \n",
       "  \"/>\n",
       "<path clip-path=\"url(#clip560)\" d=\"M 0 0 M300.411 1271.96 Q296.8 1271.96 294.971 1275.53 Q293.165 1279.07 293.165 1286.2 Q293.165 1293.3 294.971 1296.87 Q296.8 1300.41 300.411 1300.41 Q304.045 1300.41 305.851 1296.87 Q307.679 1293.3 307.679 1286.2 Q307.679 1279.07 305.851 1275.53 Q304.045 1271.96 300.411 1271.96 M300.411 1268.26 Q306.221 1268.26 309.276 1272.86 Q312.355 1277.45 312.355 1286.2 Q312.355 1294.92 309.276 1299.53 Q306.221 1304.11 300.411 1304.11 Q294.601 1304.11 291.522 1299.53 Q288.466 1294.92 288.466 1286.2 Q288.466 1277.45 291.522 1272.86 Q294.601 1268.26 300.411 1268.26 Z\" fill=\"#000000\" fill-rule=\"evenodd\" fill-opacity=\"1\" /><path clip-path=\"url(#clip560)\" d=\"M 0 0 M117.825 1038.74 L125.464 1038.74 L125.464 1012.37 L117.154 1014.04 L117.154 1009.78 L125.418 1008.11 L130.093 1008.11 L130.093 1038.74 L137.732 1038.74 L137.732 1042.67 L117.825 1042.67 L117.825 1038.74 Z\" fill=\"#000000\" fill-rule=\"evenodd\" fill-opacity=\"1\" /><path clip-path=\"url(#clip560)\" d=\"M 0 0 M175.348 1017.21 L164.769 1027.84 L175.348 1038.41 L172.593 1041.21 L161.968 1030.59 L151.343 1041.21 L148.612 1038.41 L159.167 1027.84 L148.612 1017.21 L151.343 1014.41 L161.968 1025.03 L172.593 1014.41 L175.348 1017.21 Z\" fill=\"#000000\" fill-rule=\"evenodd\" fill-opacity=\"1\" /><path clip-path=\"url(#clip560)\" d=\"M 0 0 M187.709 1038.74 L195.348 1038.74 L195.348 1012.37 L187.038 1014.04 L187.038 1009.78 L195.301 1008.11 L199.977 1008.11 L199.977 1038.74 L207.616 1038.74 L207.616 1042.67 L187.709 1042.67 L187.709 1038.74 Z\" fill=\"#000000\" fill-rule=\"evenodd\" fill-opacity=\"1\" /><path clip-path=\"url(#clip560)\" d=\"M 0 0 M227.06 1011.19 Q223.449 1011.19 221.621 1014.76 Q219.815 1018.3 219.815 1025.43 Q219.815 1032.53 221.621 1036.1 Q223.449 1039.64 227.06 1039.64 Q230.695 1039.64 232.5 1036.1 Q234.329 1032.53 234.329 1025.43 Q234.329 1018.3 232.5 1014.76 Q230.695 1011.19 227.06 1011.19 M227.06 1007.49 Q232.871 1007.49 235.926 1012.09 Q239.005 1016.68 239.005 1025.43 Q239.005 1034.15 235.926 1038.76 Q232.871 1043.34 227.06 1043.34 Q221.25 1043.34 218.172 1038.76 Q215.116 1034.15 215.116 1025.43 Q215.116 1016.68 218.172 1012.09 Q221.25 1007.49 227.06 1007.49 Z\" fill=\"#000000\" fill-rule=\"evenodd\" fill-opacity=\"1\" /><path clip-path=\"url(#clip560)\" d=\"M 0 0 M239.005 1001.59 L263.116 1001.59 L263.116 1004.79 L239.005 1004.79 L239.005 1001.59 Z\" fill=\"#000000\" fill-rule=\"evenodd\" fill-opacity=\"1\" /><path clip-path=\"url(#clip560)\" d=\"M 0 0 M271.975 1012.07 L278.181 1012.07 L278.181 990.643 L271.429 991.998 L271.429 988.537 L278.144 987.183 L281.943 987.183 L281.943 1012.07 L288.15 1012.07 L288.15 1015.26 L271.975 1015.26 L271.975 1012.07 Z\" fill=\"#000000\" fill-rule=\"evenodd\" fill-opacity=\"1\" /><path clip-path=\"url(#clip560)\" d=\"M 0 0 M299.096 1012.07 L312.355 1012.07 L312.355 1015.26 L294.525 1015.26 L294.525 1012.07 Q296.688 1009.83 300.412 1006.07 Q304.155 1002.29 305.114 1001.19 Q306.939 999.144 307.653 997.734 Q308.387 996.304 308.387 994.932 Q308.387 992.693 306.807 991.283 Q305.246 989.872 302.726 989.872 Q300.939 989.872 298.945 990.493 Q296.97 991.114 294.713 992.374 L294.713 988.537 Q297.008 987.615 299.002 987.145 Q300.995 986.675 302.65 986.675 Q307.014 986.675 309.609 988.857 Q312.205 991.038 312.205 994.687 Q312.205 996.417 311.546 997.978 Q310.907 999.521 309.195 1001.63 Q308.725 1002.17 306.205 1004.79 Q303.685 1007.38 299.096 1012.07 Z\" fill=\"#000000\" fill-rule=\"evenodd\" fill-opacity=\"1\" /><path clip-path=\"url(#clip560)\" d=\"M 0 0 M121.043 771.521 L137.362 771.521 L137.362 775.456 L115.418 775.456 L115.418 771.521 Q118.08 768.766 122.663 764.137 Q127.269 759.484 128.45 758.141 Q130.695 755.618 131.575 753.882 Q132.478 752.123 132.478 750.433 Q132.478 747.678 130.533 745.942 Q128.612 744.206 125.51 744.206 Q123.311 744.206 120.857 744.97 Q118.427 745.734 115.649 747.285 L115.649 742.563 Q118.473 741.428 120.927 740.85 Q123.38 740.271 125.418 740.271 Q130.788 740.271 133.982 742.956 Q137.177 745.641 137.177 750.132 Q137.177 752.262 136.367 754.183 Q135.579 756.081 133.473 758.674 Q132.894 759.345 129.792 762.563 Q126.691 765.757 121.043 771.521 Z\" fill=\"#000000\" fill-rule=\"evenodd\" fill-opacity=\"1\" /><path clip-path=\"url(#clip560)\" d=\"M 0 0 M175.348 749.993 L164.769 760.618 L175.348 771.197 L172.593 773.998 L161.968 763.373 L151.343 773.998 L148.612 771.197 L159.167 760.618 L148.612 749.993 L151.343 747.192 L161.968 757.817 L172.593 747.192 L175.348 749.993 Z\" fill=\"#000000\" fill-rule=\"evenodd\" fill-opacity=\"1\" /><path clip-path=\"url(#clip560)\" d=\"M 0 0 M187.709 771.521 L195.348 771.521 L195.348 745.155 L187.038 746.822 L187.038 742.563 L195.301 740.896 L199.977 740.896 L199.977 771.521 L207.616 771.521 L207.616 775.456 L187.709 775.456 L187.709 771.521 Z\" fill=\"#000000\" fill-rule=\"evenodd\" fill-opacity=\"1\" /><path clip-path=\"url(#clip560)\" d=\"M 0 0 M227.06 743.975 Q223.449 743.975 221.621 747.539 Q219.815 751.081 219.815 758.211 Q219.815 765.317 221.621 768.882 Q223.449 772.424 227.06 772.424 Q230.695 772.424 232.5 768.882 Q234.329 765.317 234.329 758.211 Q234.329 751.081 232.5 747.539 Q230.695 743.975 227.06 743.975 M227.06 740.271 Q232.871 740.271 235.926 744.877 Q239.005 749.461 239.005 758.211 Q239.005 766.938 235.926 771.544 Q232.871 776.127 227.06 776.127 Q221.25 776.127 218.172 771.544 Q215.116 766.938 215.116 758.211 Q215.116 749.461 218.172 744.877 Q221.25 740.271 227.06 740.271 Z\" fill=\"#000000\" fill-rule=\"evenodd\" fill-opacity=\"1\" /><path clip-path=\"url(#clip560)\" d=\"M 0 0 M239.005 734.372 L263.116 734.372 L263.116 737.57 L239.005 737.57 L239.005 734.372 Z\" fill=\"#000000\" fill-rule=\"evenodd\" fill-opacity=\"1\" /><path clip-path=\"url(#clip560)\" d=\"M 0 0 M271.975 744.848 L278.181 744.848 L278.181 723.426 L271.429 724.78 L271.429 721.32 L278.144 719.966 L281.943 719.966 L281.943 744.848 L288.15 744.848 L288.15 748.046 L271.975 748.046 L271.975 744.848 Z\" fill=\"#000000\" fill-rule=\"evenodd\" fill-opacity=\"1\" /><path clip-path=\"url(#clip560)\" d=\"M 0 0 M299.096 744.848 L312.355 744.848 L312.355 748.046 L294.525 748.046 L294.525 744.848 Q296.688 742.61 300.412 738.849 Q304.155 735.068 305.114 733.977 Q306.939 731.927 307.653 730.517 Q308.387 729.087 308.387 727.714 Q308.387 725.476 306.807 724.066 Q305.246 722.655 302.726 722.655 Q300.939 722.655 298.945 723.276 Q296.97 723.896 294.713 725.157 L294.713 721.32 Q297.008 720.398 299.002 719.928 Q300.995 719.458 302.65 719.458 Q307.014 719.458 309.609 721.64 Q312.205 723.821 312.205 727.47 Q312.205 729.2 311.546 730.761 Q310.907 732.304 309.195 734.41 Q308.725 734.955 306.205 737.57 Q303.685 740.165 299.096 744.848 Z\" fill=\"#000000\" fill-rule=\"evenodd\" fill-opacity=\"1\" /><path clip-path=\"url(#clip560)\" d=\"M 0 0 M131.181 489.605 Q134.538 490.322 136.413 492.591 Q138.311 494.859 138.311 498.193 Q138.311 503.308 134.792 506.109 Q131.274 508.91 124.793 508.91 Q122.617 508.91 120.302 508.47 Q118.01 508.054 115.556 507.197 L115.556 502.683 Q117.501 503.818 119.816 504.396 Q122.13 504.975 124.654 504.975 Q129.052 504.975 131.343 503.239 Q133.658 501.503 133.658 498.193 Q133.658 495.137 131.505 493.424 Q129.376 491.688 125.556 491.688 L121.529 491.688 L121.529 487.845 L125.742 487.845 Q129.191 487.845 131.019 486.48 Q132.848 485.091 132.848 482.498 Q132.848 479.836 130.95 478.424 Q129.075 476.989 125.556 476.989 Q123.635 476.989 121.436 477.406 Q119.237 477.822 116.598 478.702 L116.598 474.535 Q119.26 473.795 121.575 473.424 Q123.913 473.054 125.973 473.054 Q131.297 473.054 134.399 475.484 Q137.501 477.892 137.501 482.012 Q137.501 484.883 135.857 486.873 Q134.214 488.841 131.181 489.605 Z\" fill=\"#000000\" fill-rule=\"evenodd\" fill-opacity=\"1\" /><path clip-path=\"url(#clip560)\" d=\"M 0 0 M175.348 482.776 L164.769 493.401 L175.348 503.98 L172.593 506.781 L161.968 496.156 L151.343 506.781 L148.612 503.98 L159.167 493.401 L148.612 482.776 L151.343 479.975 L161.968 490.6 L172.593 479.975 L175.348 482.776 Z\" fill=\"#000000\" fill-rule=\"evenodd\" fill-opacity=\"1\" /><path clip-path=\"url(#clip560)\" d=\"M 0 0 M187.709 504.304 L195.348 504.304 L195.348 477.938 L187.038 479.605 L187.038 475.346 L195.301 473.679 L199.977 473.679 L199.977 504.304 L207.616 504.304 L207.616 508.239 L187.709 508.239 L187.709 504.304 Z\" fill=\"#000000\" fill-rule=\"evenodd\" fill-opacity=\"1\" /><path clip-path=\"url(#clip560)\" d=\"M 0 0 M227.06 476.758 Q223.449 476.758 221.621 480.322 Q219.815 483.864 219.815 490.994 Q219.815 498.1 221.621 501.665 Q223.449 505.207 227.06 505.207 Q230.695 505.207 232.5 501.665 Q234.329 498.1 234.329 490.994 Q234.329 483.864 232.5 480.322 Q230.695 476.758 227.06 476.758 M227.06 473.054 Q232.871 473.054 235.926 477.66 Q239.005 482.244 239.005 490.994 Q239.005 499.72 235.926 504.327 Q232.871 508.91 227.06 508.91 Q221.25 508.91 218.172 504.327 Q215.116 499.72 215.116 490.994 Q215.116 482.244 218.172 477.66 Q221.25 473.054 227.06 473.054 Z\" fill=\"#000000\" fill-rule=\"evenodd\" fill-opacity=\"1\" /><path clip-path=\"url(#clip560)\" d=\"M 0 0 M239.005 467.155 L263.116 467.155 L263.116 470.353 L239.005 470.353 L239.005 467.155 Z\" fill=\"#000000\" fill-rule=\"evenodd\" fill-opacity=\"1\" /><path clip-path=\"url(#clip560)\" d=\"M 0 0 M271.975 477.631 L278.181 477.631 L278.181 456.209 L271.429 457.563 L271.429 454.103 L278.144 452.748 L281.943 452.748 L281.943 477.631 L288.15 477.631 L288.15 480.828 L271.975 480.828 L271.975 477.631 Z\" fill=\"#000000\" fill-rule=\"evenodd\" fill-opacity=\"1\" /><path clip-path=\"url(#clip560)\" d=\"M 0 0 M299.096 477.631 L312.355 477.631 L312.355 480.828 L294.525 480.828 L294.525 477.631 Q296.688 475.393 300.412 471.631 Q304.155 467.851 305.114 466.76 Q306.939 464.71 307.653 463.3 Q308.387 461.87 308.387 460.497 Q308.387 458.259 306.807 456.849 Q305.246 455.438 302.726 455.438 Q300.939 455.438 298.945 456.059 Q296.97 456.679 294.713 457.939 L294.713 454.103 Q297.008 453.181 299.002 452.711 Q300.995 452.241 302.65 452.241 Q307.014 452.241 309.609 454.422 Q312.205 456.604 312.205 460.253 Q312.205 461.983 311.546 463.544 Q310.907 465.086 309.195 467.193 Q308.725 467.738 306.205 470.353 Q303.685 472.948 299.096 477.631 Z\" fill=\"#000000\" fill-rule=\"evenodd\" fill-opacity=\"1\" /><path clip-path=\"url(#clip560)\" d=\"M 0 0 M129.862 210.536 L118.056 228.985 L129.862 228.985 L129.862 210.536 M128.635 206.462 L134.515 206.462 L134.515 228.985 L139.445 228.985 L139.445 232.874 L134.515 232.874 L134.515 241.022 L129.862 241.022 L129.862 232.874 L114.26 232.874 L114.26 228.36 L128.635 206.462 Z\" fill=\"#000000\" fill-rule=\"evenodd\" fill-opacity=\"1\" /><path clip-path=\"url(#clip560)\" d=\"M 0 0 M175.348 215.559 L164.769 226.184 L175.348 236.763 L172.593 239.563 L161.968 228.939 L151.343 239.563 L148.612 236.763 L159.167 226.184 L148.612 215.559 L151.343 212.758 L161.968 223.383 L172.593 212.758 L175.348 215.559 Z\" fill=\"#000000\" fill-rule=\"evenodd\" fill-opacity=\"1\" /><path clip-path=\"url(#clip560)\" d=\"M 0 0 M187.709 237.087 L195.348 237.087 L195.348 210.721 L187.038 212.388 L187.038 208.128 L195.301 206.462 L199.977 206.462 L199.977 237.087 L207.616 237.087 L207.616 241.022 L187.709 241.022 L187.709 237.087 Z\" fill=\"#000000\" fill-rule=\"evenodd\" fill-opacity=\"1\" /><path clip-path=\"url(#clip560)\" d=\"M 0 0 M227.06 209.54 Q223.449 209.54 221.621 213.105 Q219.815 216.647 219.815 223.777 Q219.815 230.883 221.621 234.448 Q223.449 237.989 227.06 237.989 Q230.695 237.989 232.5 234.448 Q234.329 230.883 234.329 223.777 Q234.329 216.647 232.5 213.105 Q230.695 209.54 227.06 209.54 M227.06 205.837 Q232.871 205.837 235.926 210.443 Q239.005 215.027 239.005 223.777 Q239.005 232.503 235.926 237.11 Q232.871 241.693 227.06 241.693 Q221.25 241.693 218.172 237.11 Q215.116 232.503 215.116 223.777 Q215.116 215.027 218.172 210.443 Q221.25 205.837 227.06 205.837 Z\" fill=\"#000000\" fill-rule=\"evenodd\" fill-opacity=\"1\" /><path clip-path=\"url(#clip560)\" d=\"M 0 0 M239.005 199.938 L263.116 199.938 L263.116 203.135 L239.005 203.135 L239.005 199.938 Z\" fill=\"#000000\" fill-rule=\"evenodd\" fill-opacity=\"1\" /><path clip-path=\"url(#clip560)\" d=\"M 0 0 M271.975 210.414 L278.181 210.414 L278.181 188.992 L271.429 190.346 L271.429 186.886 L278.144 185.531 L281.943 185.531 L281.943 210.414 L288.15 210.414 L288.15 213.611 L271.975 213.611 L271.975 210.414 Z\" fill=\"#000000\" fill-rule=\"evenodd\" fill-opacity=\"1\" /><path clip-path=\"url(#clip560)\" d=\"M 0 0 M299.096 210.414 L312.355 210.414 L312.355 213.611 L294.525 213.611 L294.525 210.414 Q296.688 208.176 300.412 204.414 Q304.155 200.634 305.114 199.543 Q306.939 197.493 307.653 196.083 Q308.387 194.653 308.387 193.28 Q308.387 191.042 306.807 189.631 Q305.246 188.221 302.726 188.221 Q300.939 188.221 298.945 188.842 Q296.97 189.462 294.713 190.722 L294.713 186.886 Q297.008 185.964 299.002 185.494 Q300.995 185.024 302.65 185.024 Q307.014 185.024 309.609 187.205 Q312.205 189.387 312.205 193.036 Q312.205 194.766 311.546 196.327 Q310.907 197.869 309.195 199.976 Q308.725 200.521 306.205 203.135 Q303.685 205.731 299.096 210.414 Z\" fill=\"#000000\" fill-rule=\"evenodd\" fill-opacity=\"1\" /><path clip-path=\"url(#clip560)\" d=\"M 0 0 M3.52994 1316.3 L3.52994 1310.42 L11.9327 1317.67 L11.9327 1322.54 L3.52994 1316.3 M18.0438 1304.21 L24.314 1304.21 Q22.5634 1307.87 21.704 1311.12 Q20.8447 1314.36 20.8447 1317.39 Q20.8447 1322.64 22.8817 1325.5 Q24.9187 1328.34 28.6745 1328.34 Q31.8255 1328.34 33.4488 1326.46 Q35.0402 1324.55 36.0269 1319.26 L36.8226 1315.38 Q38.1912 1308.19 41.6605 1304.78 Q45.098 1301.35 50.8908 1301.35 Q57.7976 1301.35 61.3624 1305.99 Q64.9272 1310.61 64.9272 1319.55 Q64.9272 1322.93 64.1633 1326.74 Q63.3994 1330.53 61.9035 1334.61 L55.2831 1334.61 Q57.4793 1330.69 58.5933 1326.94 Q59.7073 1323.18 59.7073 1319.55 Q59.7073 1314.05 57.543 1311.05 Q55.3786 1308.06 51.3682 1308.06 Q47.8671 1308.06 45.8937 1310.23 Q43.9204 1312.36 42.9337 1317.26 L42.1698 1321.17 Q40.7375 1328.37 37.682 1331.58 Q34.6264 1334.8 29.1837 1334.8 Q22.8817 1334.8 19.2532 1330.37 Q15.6248 1325.92 15.6248 1318.12 Q15.6248 1314.78 16.2295 1311.31 Q16.8343 1307.84 18.0438 1304.21 Z\" fill=\"#000000\" fill-rule=\"evenodd\" fill-opacity=\"1\" /><path clip-path=\"url(#clip560)\" d=\"M 0 0 M33.8307 1270.92 Q33.2578 1271.9 33.0032 1273.08 Q32.7167 1274.23 32.7167 1275.63 Q32.7167 1280.59 35.9632 1283.27 Q39.1779 1285.91 45.2253 1285.91 L64.0042 1285.91 L64.0042 1291.8 L28.3562 1291.8 L28.3562 1285.91 L33.8944 1285.91 Q30.6479 1284.06 29.0883 1281.1 Q27.4968 1278.14 27.4968 1273.91 Q27.4968 1273.3 27.5923 1272.57 Q27.656 1271.84 27.8151 1270.95 L33.8307 1270.92 Z\" fill=\"#000000\" fill-rule=\"evenodd\" fill-opacity=\"1\" /><path clip-path=\"url(#clip560)\" d=\"M 0 0 M44.7161 1235.71 L47.5806 1235.71 L47.5806 1262.64 Q53.6281 1262.26 56.8109 1259.01 Q59.9619 1255.74 59.9619 1249.91 Q59.9619 1246.54 59.1344 1243.39 Q58.3069 1240.2 56.6518 1237.08 L62.1899 1237.08 Q63.5267 1240.23 64.227 1243.54 Q64.9272 1246.85 64.9272 1250.26 Q64.9272 1258.79 59.9619 1263.79 Q54.9967 1268.75 46.5303 1268.75 Q37.7774 1268.75 32.6531 1264.04 Q27.4968 1259.3 27.4968 1251.28 Q27.4968 1244.09 32.1438 1239.92 Q36.7589 1235.71 44.7161 1235.71 M42.9973 1241.57 Q38.1912 1241.64 35.3266 1244.28 Q32.4621 1246.89 32.4621 1251.22 Q32.4621 1256.12 35.2312 1259.08 Q38.0002 1262.01 43.0292 1262.45 L42.9973 1241.57 Z\" fill=\"#000000\" fill-rule=\"evenodd\" fill-opacity=\"1\" /><path clip-path=\"url(#clip560)\" d=\"M 0 0 M33.7671 1202.65 L14.479 1202.65 L14.479 1196.79 L64.0042 1196.79 L64.0042 1202.65 L58.657 1202.65 Q61.8398 1204.49 63.3994 1207.32 Q64.9272 1210.12 64.9272 1214.07 Q64.9272 1220.53 59.771 1224.61 Q54.6147 1228.65 46.212 1228.65 Q37.8093 1228.65 32.6531 1224.61 Q27.4968 1220.53 27.4968 1214.07 Q27.4968 1210.12 29.0564 1207.32 Q30.5842 1204.49 33.7671 1202.65 M46.212 1222.6 Q52.6732 1222.6 56.3653 1219.96 Q60.0256 1217.29 60.0256 1212.64 Q60.0256 1207.99 56.3653 1205.32 Q52.6732 1202.65 46.212 1202.65 Q39.7508 1202.65 36.0905 1205.32 Q32.3984 1207.99 32.3984 1212.64 Q32.3984 1217.29 36.0905 1219.96 Q39.7508 1222.6 46.212 1222.6 Z\" fill=\"#000000\" fill-rule=\"evenodd\" fill-opacity=\"1\" /><path clip-path=\"url(#clip560)\" d=\"M 0 0 M42.4881 1155.09 L64.0042 1155.09 L64.0042 1160.95 L42.679 1160.95 Q37.6183 1160.95 35.1038 1162.92 Q32.5894 1164.9 32.5894 1168.84 Q32.5894 1173.59 35.6131 1176.32 Q38.6368 1179.06 43.8567 1179.06 L64.0042 1179.06 L64.0042 1184.95 L28.3562 1184.95 L28.3562 1179.06 L33.8944 1179.06 Q30.6797 1176.96 29.0883 1174.13 Q27.4968 1171.26 27.4968 1167.54 Q27.4968 1161.4 31.3163 1158.24 Q35.1038 1155.09 42.4881 1155.09 Z\" fill=\"#000000\" fill-rule=\"evenodd\" fill-opacity=\"1\" /><path clip-path=\"url(#clip560)\" d=\"M 0 0 M28.3562 1143.41 L28.3562 1137.56 L64.0042 1137.56 L64.0042 1143.41 L28.3562 1143.41 M14.479 1143.41 L14.479 1137.56 L21.895 1137.56 L21.895 1143.41 L14.479 1143.41 Z\" fill=\"#000000\" fill-rule=\"evenodd\" fill-opacity=\"1\" /><path clip-path=\"url(#clip560)\" d=\"M 0 0 M46.0847 1109.1 Q46.0847 1116.2 47.7079 1118.94 Q49.3312 1121.67 53.2461 1121.67 Q56.3653 1121.67 58.2114 1119.64 Q60.0256 1117.57 60.0256 1114.03 Q60.0256 1109.16 56.5881 1106.24 Q53.1188 1103.28 47.3897 1103.28 L46.0847 1103.28 L46.0847 1109.1 M43.6657 1097.42 L64.0042 1097.42 L64.0042 1103.28 L58.5933 1103.28 Q61.8398 1105.28 63.3994 1108.27 Q64.9272 1111.27 64.9272 1115.59 Q64.9272 1121.07 61.8716 1124.32 Q58.7843 1127.53 53.6281 1127.53 Q47.6125 1127.53 44.5569 1123.52 Q41.5014 1119.48 41.5014 1111.49 L41.5014 1103.28 L40.9285 1103.28 Q36.8862 1103.28 34.6901 1105.95 Q32.4621 1108.59 32.4621 1113.4 Q32.4621 1116.45 33.1941 1119.35 Q33.9262 1122.25 35.3903 1124.92 L29.9795 1124.92 Q28.7381 1121.71 28.1334 1118.68 Q27.4968 1115.66 27.4968 1112.79 Q27.4968 1105.06 31.5072 1101.24 Q35.5176 1097.42 43.6657 1097.42 Z\" fill=\"#000000\" fill-rule=\"evenodd\" fill-opacity=\"1\" /><path clip-path=\"url(#clip560)\" d=\"M 0 0 M33.8307 1043.98 Q33.2578 1044.97 33.0032 1046.14 Q32.7167 1047.29 32.7167 1048.69 Q32.7167 1053.66 35.9632 1056.33 Q39.1779 1058.97 45.2253 1058.97 L64.0042 1058.97 L64.0042 1064.86 L28.3562 1064.86 L28.3562 1058.97 L33.8944 1058.97 Q30.6479 1057.13 29.0883 1054.17 Q27.4968 1051.2 27.4968 1046.97 Q27.4968 1046.37 27.5923 1045.63 Q27.656 1044.9 27.8151 1044.01 L33.8307 1043.98 Z\" fill=\"#000000\" fill-rule=\"evenodd\" fill-opacity=\"1\" /><path clip-path=\"url(#clip560)\" d=\"M 0 0 M32.4621 1025.46 Q32.4621 1030.17 36.1542 1032.9 Q39.8145 1035.64 46.212 1035.64 Q52.6095 1035.64 56.3017 1032.94 Q59.9619 1030.2 59.9619 1025.46 Q59.9619 1020.78 56.2698 1018.04 Q52.5777 1015.3 46.212 1015.3 Q39.8781 1015.3 36.186 1018.04 Q32.4621 1020.78 32.4621 1025.46 M27.4968 1025.46 Q27.4968 1017.82 32.4621 1013.46 Q37.4273 1009.1 46.212 1009.1 Q54.9649 1009.1 59.9619 1013.46 Q64.9272 1017.82 64.9272 1025.46 Q64.9272 1033.13 59.9619 1037.49 Q54.9649 1041.82 46.212 1041.82 Q37.4273 1041.82 32.4621 1037.49 Q27.4968 1033.13 27.4968 1025.46 M11.869 1021.03 L11.869 1014.7 L23.8365 1025.07 L23.8365 1029.94 L11.869 1021.03 Z\" fill=\"#000000\" fill-rule=\"evenodd\" fill-opacity=\"1\" /><path clip-path=\"url(#clip560)\" d=\"M 0 0 M14.479 991.495 L14.479 985.638 L21.895 985.638 L21.895 991.495 L14.479 991.495 M27.4968 988.503 L27.4968 988.503 M28.3562 1001.93 L28.3562 974.116 L33.7034 974.116 L59.3254 996.142 L59.3254 974.116 L64.0042 974.116 L64.0042 1002.73 L58.657 1002.73 L33.035 980.705 L33.035 1001.93 L28.3562 1001.93 Z\" fill=\"#000000\" fill-rule=\"evenodd\" fill-opacity=\"1\" /><path clip-path=\"url(#clip560)\" d=\"M 0 0 M42.4881 935.54 L64.0042 935.54 L64.0042 941.397 L42.679 941.397 Q37.6183 941.397 35.1038 943.37 Q32.5894 945.343 32.5894 949.29 Q32.5894 954.032 35.6131 956.77 Q38.6368 959.507 43.8567 959.507 L64.0042 959.507 L64.0042 965.395 L28.3562 965.395 L28.3562 959.507 L33.8944 959.507 Q30.6797 957.406 29.0883 954.574 Q27.4968 951.709 27.4968 947.985 Q27.4968 941.842 31.3163 938.691 Q35.1038 935.54 42.4881 935.54 Z\" fill=\"#000000\" fill-rule=\"evenodd\" fill-opacity=\"1\" /><path clip-path=\"url(#clip560)\" d=\"M 0 0 M28.3562 923.859 L28.3562 918.003 L64.0042 918.003 L64.0042 923.859 L28.3562 923.859 M14.479 923.859 L14.479 918.003 L21.895 918.003 L21.895 923.859 L14.479 923.859 Z\" fill=\"#000000\" fill-rule=\"evenodd\" fill-opacity=\"1\" /><path clip-path=\"url(#clip560)\" d=\"M 0 0 M29.7248 880.095 L35.1993 880.095 Q33.8307 882.577 33.1623 885.092 Q32.4621 887.575 32.4621 890.121 Q32.4621 895.818 36.0905 898.969 Q39.6872 902.12 46.212 902.12 Q52.7369 902.12 56.3653 898.969 Q59.9619 895.818 59.9619 890.121 Q59.9619 887.575 59.2935 885.092 Q58.5933 882.577 57.2247 880.095 L62.6355 880.095 Q63.7814 882.546 64.3543 885.187 Q64.9272 887.797 64.9272 890.757 Q64.9272 898.81 59.8664 903.552 Q54.8057 908.295 46.212 908.295 Q37.491 908.295 32.4939 903.521 Q27.4968 898.714 27.4968 890.375 Q27.4968 887.67 28.0697 885.092 Q28.6108 882.514 29.7248 880.095 Z\" fill=\"#000000\" fill-rule=\"evenodd\" fill-opacity=\"1\" /><path clip-path=\"url(#clip560)\" d=\"M 0 0 M46.0847 853.709 Q46.0847 860.807 47.7079 863.544 Q49.3312 866.281 53.2461 866.281 Q56.3653 866.281 58.2114 864.244 Q60.0256 862.175 60.0256 858.642 Q60.0256 853.773 56.5881 850.844 Q53.1188 847.884 47.3897 847.884 L46.0847 847.884 L46.0847 853.709 M43.6657 842.028 L64.0042 842.028 L64.0042 847.884 L58.5933 847.884 Q61.8398 849.89 63.3994 852.881 Q64.9272 855.873 64.9272 860.202 Q64.9272 865.676 61.8716 868.923 Q58.7843 872.138 53.6281 872.138 Q47.6125 872.138 44.5569 868.127 Q41.5014 864.085 41.5014 856.096 L41.5014 847.884 L40.9285 847.884 Q36.8862 847.884 34.6901 850.558 Q32.4621 853.2 32.4621 858.006 Q32.4621 861.061 33.1941 863.958 Q33.9262 866.854 35.3903 869.528 L29.9795 869.528 Q28.7381 866.313 28.1334 863.289 Q27.4968 860.266 27.4968 857.401 Q27.4968 849.667 31.5072 845.847 Q35.5176 842.028 43.6657 842.028 Z\" fill=\"#000000\" fill-rule=\"evenodd\" fill-opacity=\"1\" /><path clip-path=\"url(#clip560)\" d=\"M 0 0 M33.7671 785.787 L14.479 785.787 L14.479 779.93 L64.0042 779.93 L64.0042 785.787 L58.657 785.787 Q61.8398 787.633 63.3994 790.466 Q64.9272 793.267 64.9272 797.213 Q64.9272 803.674 59.771 807.749 Q54.6147 811.791 46.212 811.791 Q37.8093 811.791 32.6531 807.749 Q27.4968 803.674 27.4968 797.213 Q27.4968 793.267 29.0564 790.466 Q30.5842 787.633 33.7671 785.787 M46.212 805.743 Q52.6732 805.743 56.3653 803.102 Q60.0256 800.428 60.0256 795.781 Q60.0256 791.134 56.3653 788.46 Q52.6732 785.787 46.212 785.787 Q39.7508 785.787 36.0905 788.46 Q32.3984 791.134 32.3984 795.781 Q32.3984 800.428 36.0905 803.102 Q39.7508 805.743 46.212 805.743 Z\" fill=\"#000000\" fill-rule=\"evenodd\" fill-opacity=\"1\" /><path clip-path=\"url(#clip560)\" d=\"M 0 0 M14.479 767.676 L14.479 761.82 L33.6397 761.82 L30.7752 757.841 L34.149 755.422 L38.6368 761.82 L64.0042 761.82 L64.0042 767.676 L42.8064 767.676 L45.6073 771.591 L42.2334 773.947 L37.7456 767.676 L14.479 767.676 Z\" fill=\"#000000\" fill-rule=\"evenodd\" fill-opacity=\"1\" /><path clip-path=\"url(#clip560)\" d=\"M 0 0 M49.9359 749.948 L28.3562 749.948 L28.3562 744.091 L49.7131 744.091 Q54.7739 744.091 57.3202 742.118 Q59.8346 740.145 59.8346 736.198 Q59.8346 731.456 56.8109 728.718 Q53.7872 725.949 48.5673 725.949 L28.3562 725.949 L28.3562 720.093 L64.0042 720.093 L64.0042 725.949 L58.5296 725.949 Q61.7762 728.082 63.3676 730.914 Q64.9272 733.715 64.9272 737.439 Q64.9272 743.582 61.1078 746.765 Q57.2883 749.948 49.9359 749.948 M27.4968 735.211 L27.4968 735.211 Z\" fill=\"#000000\" fill-rule=\"evenodd\" fill-opacity=\"1\" /><path clip-path=\"url(#clip560)\" d=\"M 0 0 M45.7664 684.572 Q39.4007 684.572 35.8996 687.214 Q32.3984 689.824 32.3984 694.566 Q32.3984 699.277 35.8996 701.919 Q39.4007 704.529 45.7664 704.529 Q52.1003 704.529 55.6014 701.919 Q59.1026 699.277 59.1026 694.566 Q59.1026 689.824 55.6014 687.214 Q52.1003 684.572 45.7664 684.572 M59.58 678.716 Q68.683 678.716 73.1071 682.758 Q77.5631 686.8 77.5631 695.139 Q77.5631 698.227 77.0857 700.964 Q76.6401 703.701 75.6852 706.279 L69.9879 706.279 Q71.3884 703.701 72.0568 701.187 Q72.7252 698.672 72.7252 696.062 Q72.7252 690.301 69.7015 687.437 Q66.7096 684.572 60.6303 684.572 L57.7339 684.572 Q60.885 686.386 62.4446 689.219 Q64.0042 692.052 64.0042 695.999 Q64.0042 702.555 59.0071 706.566 Q54.01 710.576 45.7664 710.576 Q37.491 710.576 32.4939 706.566 Q27.4968 702.555 27.4968 695.999 Q27.4968 692.052 29.0564 689.219 Q30.616 686.386 33.7671 684.572 L28.3562 684.572 L28.3562 678.716 L59.58 678.716 Z\" fill=\"#000000\" fill-rule=\"evenodd\" fill-opacity=\"1\" /><path clip-path=\"url(#clip560)\" d=\"M 0 0 M32.4621 652.839 Q32.4621 657.55 36.1542 660.287 Q39.8145 663.024 46.212 663.024 Q52.6095 663.024 56.3017 660.319 Q59.9619 657.582 59.9619 652.839 Q59.9619 648.16 56.2698 645.423 Q52.5777 642.686 46.212 642.686 Q39.8781 642.686 36.186 645.423 Q32.4621 648.16 32.4621 652.839 M27.4968 652.839 Q27.4968 645.2 32.4621 640.84 Q37.4273 636.479 46.212 636.479 Q54.9649 636.479 59.9619 640.84 Q64.9272 645.2 64.9272 652.839 Q64.9272 660.51 59.9619 664.87 Q54.9649 669.199 46.212 669.199 Q37.4273 669.199 32.4621 664.87 Q27.4968 660.51 27.4968 652.839 Z\" fill=\"#000000\" fill-rule=\"evenodd\" fill-opacity=\"1\" /><path clip-path=\"url(#clip560)\" d=\"M 0 0 M11.6462 610.093 L11.6462 603.759 L23.6137 614.136 L23.6137 619.005 L11.6462 610.093 M29.4065 604.046 L34.9447 604.046 Q33.6716 606.529 33.035 609.202 Q32.3984 611.876 32.3984 614.74 Q32.3984 619.101 33.7352 621.297 Q35.072 623.461 37.7456 623.461 Q39.7826 623.461 40.9603 621.902 Q42.1061 620.342 43.1565 615.632 L43.6021 613.626 Q44.9389 607.388 47.3897 604.778 Q49.8086 602.136 54.1691 602.136 Q59.1344 602.136 62.0308 606.083 Q64.9272 609.998 64.9272 616.873 Q64.9272 619.737 64.3543 622.857 Q63.8132 625.944 62.6992 629.381 L56.6518 629.381 Q58.3387 626.135 59.198 622.984 Q60.0256 619.833 60.0256 616.746 Q60.0256 612.608 58.6251 610.38 Q57.1929 608.152 54.6147 608.152 Q52.2276 608.152 50.9545 609.775 Q49.6813 611.366 48.5037 616.809 L48.0262 618.846 Q46.8804 624.289 44.5251 626.708 Q42.138 629.127 38.0002 629.127 Q32.9713 629.127 30.2341 625.562 Q27.4968 621.997 27.4968 615.441 Q27.4968 612.194 27.9743 609.329 Q28.4517 606.465 29.4065 604.046 Z\" fill=\"#000000\" fill-rule=\"evenodd\" fill-opacity=\"1\" /><path clip-path=\"url(#clip560)\" d=\"M 0 0 M29.7248 567.157 L35.1993 567.157 Q33.8307 569.639 33.1623 572.154 Q32.4621 574.636 32.4621 577.183 Q32.4621 582.88 36.0905 586.031 Q39.6872 589.182 46.212 589.182 Q52.7369 589.182 56.3653 586.031 Q59.9619 582.88 59.9619 577.183 Q59.9619 574.636 59.2935 572.154 Q58.5933 569.639 57.2247 567.157 L62.6355 567.157 Q63.7814 569.607 64.3543 572.249 Q64.9272 574.859 64.9272 577.819 Q64.9272 585.872 59.8664 590.614 Q54.8057 595.357 46.212 595.357 Q37.491 595.357 32.4939 590.582 Q27.4968 585.776 27.4968 577.437 Q27.4968 574.732 28.0697 572.154 Q28.6108 569.576 29.7248 567.157 Z\" fill=\"#000000\" fill-rule=\"evenodd\" fill-opacity=\"1\" /><path clip-path=\"url(#clip560)\" d=\"M 0 0 M28.3562 556.972 L28.3562 551.115 L64.0042 551.115 L64.0042 556.972 L28.3562 556.972 M14.479 556.972 L14.479 551.115 L21.895 551.115 L21.895 556.972 L14.479 556.972 Z\" fill=\"#000000\" fill-rule=\"evenodd\" fill-opacity=\"1\" /><path clip-path=\"url(#clip560)\" d=\"M 0 0 M28.3562 521.546 L28.3562 515.69 L56.1743 508.369 L28.3562 501.081 L28.3562 494.174 L56.1743 486.853 L28.3562 479.565 L28.3562 473.708 L64.0042 483.034 L64.0042 489.941 L34.7856 497.611 L64.0042 505.314 L64.0042 512.221 L28.3562 521.546 Z\" fill=\"#000000\" fill-rule=\"evenodd\" fill-opacity=\"1\" /><path clip-path=\"url(#clip560)\" d=\"M 0 0 M44.7161 434.336 L47.5806 434.336 L47.5806 461.263 Q53.6281 460.881 56.8109 457.635 Q59.9619 454.356 59.9619 448.532 Q59.9619 445.158 59.1344 442.007 Q58.3069 438.824 56.6518 435.705 L62.1899 435.705 Q63.5267 438.856 64.227 442.166 Q64.9272 445.476 64.9272 448.882 Q64.9272 457.412 59.9619 462.409 Q54.9967 467.374 46.5303 467.374 Q37.7774 467.374 32.6531 462.664 Q27.4968 457.921 27.4968 449.9 Q27.4968 442.707 32.1438 438.538 Q36.7589 434.336 44.7161 434.336 M42.9973 440.193 Q38.1912 440.256 35.3266 442.898 Q32.4621 445.508 32.4621 449.837 Q32.4621 454.738 35.2312 457.698 Q38.0002 460.627 43.0292 461.072 L42.9973 440.193 Z\" fill=\"#000000\" fill-rule=\"evenodd\" fill-opacity=\"1\" /><path clip-path=\"url(#clip560)\" d=\"M 0 0 M14.479 424.947 L14.479 419.058 L43.7294 419.058 L28.3562 401.585 L28.3562 394.105 L45.0344 413.011 L64.0042 393.309 L64.0042 400.948 L46.5939 419.058 L64.0042 419.058 L64.0042 424.947 L14.479 424.947 Z\" fill=\"#000000\" fill-rule=\"evenodd\" fill-opacity=\"1\" /><path clip-path=\"url(#clip560)\" d=\"M 0 0 M18.2347 381.183 L28.3562 381.183 L28.3562 369.12 L32.9077 369.12 L32.9077 381.183 L52.2594 381.183 Q56.6199 381.183 57.8613 380.005 Q59.1026 378.795 59.1026 375.135 L59.1026 369.12 L64.0042 369.12 L64.0042 375.135 Q64.0042 381.915 61.4897 384.493 Q58.9434 387.071 52.2594 387.071 L32.9077 387.071 L32.9077 391.368 L28.3562 391.368 L28.3562 387.071 L18.2347 387.071 L18.2347 381.183 Z\" fill=\"#000000\" fill-rule=\"evenodd\" fill-opacity=\"1\" /><path clip-path=\"url(#clip560)\" d=\"M 0 0 M32.4621 347.603 Q32.4621 352.314 36.1542 355.051 Q39.8145 357.789 46.212 357.789 Q52.6095 357.789 56.3017 355.083 Q59.9619 352.346 59.9619 347.603 Q59.9619 342.925 56.2698 340.187 Q52.5777 337.45 46.212 337.45 Q39.8781 337.45 36.186 340.187 Q32.4621 342.925 32.4621 347.603 M27.4968 347.603 Q27.4968 339.965 32.4621 335.604 Q37.4273 331.244 46.212 331.244 Q54.9649 331.244 59.9619 335.604 Q64.9272 339.965 64.9272 347.603 Q64.9272 355.274 59.9619 359.635 Q54.9649 363.963 46.212 363.963 Q37.4273 363.963 32.4621 359.635 Q27.4968 355.274 27.4968 347.603 Z\" fill=\"#000000\" fill-rule=\"evenodd\" fill-opacity=\"1\" /><path clip-path=\"url(#clip560)\" d=\"M 0 0 M33.8307 300.879 Q33.2578 301.866 33.0032 303.043 Q32.7167 304.189 32.7167 305.59 Q32.7167 310.555 35.9632 313.229 Q39.1779 315.87 45.2253 315.87 L64.0042 315.87 L64.0042 321.759 L28.3562 321.759 L28.3562 315.87 L33.8944 315.87 Q30.6479 314.024 29.0883 311.064 Q27.4968 308.104 27.4968 303.871 Q27.4968 303.266 27.5923 302.534 Q27.656 301.802 27.8151 300.911 L33.8307 300.879 Z\" fill=\"#000000\" fill-rule=\"evenodd\" fill-opacity=\"1\" /><path clip-path=\"url(#clip560)\" d=\"M 0 0 M32.4621 282.355 Q32.4621 287.066 36.1542 289.803 Q39.8145 292.54 46.212 292.54 Q52.6095 292.54 56.3017 289.835 Q59.9619 287.097 59.9619 282.355 Q59.9619 277.676 56.2698 274.939 Q52.5777 272.202 46.212 272.202 Q39.8781 272.202 36.186 274.939 Q32.4621 277.676 32.4621 282.355 M27.4968 282.355 Q27.4968 274.716 32.4621 270.356 Q37.4273 265.995 46.212 265.995 Q54.9649 265.995 59.9619 270.356 Q64.9272 274.716 64.9272 282.355 Q64.9272 290.026 59.9619 294.386 Q54.9649 298.715 46.212 298.715 Q37.4273 298.715 32.4621 294.386 Q27.4968 290.026 27.4968 282.355 M11.869 277.931 L11.869 271.597 L23.8365 281.973 L23.8365 286.843 L11.869 277.931 Z\" fill=\"#000000\" fill-rule=\"evenodd\" fill-opacity=\"1\" /><path clip-path=\"url(#clip560)\" d=\"M 0 0 M28.3562 259.693 L28.3562 253.837 L56.1743 246.516 L28.3562 239.227 L28.3562 232.32 L56.1743 225 L28.3562 217.711 L28.3562 211.855 L64.0042 221.181 L64.0042 228.087 L34.7856 235.758 L64.0042 243.46 L64.0042 250.367 L28.3562 259.693 Z\" fill=\"#000000\" fill-rule=\"evenodd\" fill-opacity=\"1\" /><path clip-path=\"url(#clip560)\" d=\"M 0 0 M1233.42 12.096 L1241.61 12.096 L1241.61 68.3631 Q1241.61 79.3005 1237.43 84.2426 Q1233.3 89.1847 1224.11 89.1847 L1220.99 89.1847 L1220.99 82.2982 L1223.54 82.2982 Q1228.97 82.2982 1231.2 79.26 Q1233.42 76.2218 1233.42 68.3631 L1233.42 12.096 Z\" fill=\"#000000\" fill-rule=\"evenodd\" fill-opacity=\"1\" /><path clip-path=\"url(#clip560)\" d=\"M 0 0 M1278.19 49.7694 Q1269.15 49.7694 1265.67 51.8354 Q1262.19 53.9013 1262.19 58.8839 Q1262.19 62.8538 1264.78 65.2034 Q1267.41 67.5124 1271.91 67.5124 Q1278.11 67.5124 1281.83 63.1374 Q1285.6 58.7219 1285.6 51.4303 L1285.6 49.7694 L1278.19 49.7694 M1293.05 46.6907 L1293.05 72.576 L1285.6 72.576 L1285.6 65.6895 Q1283.05 69.8214 1279.24 71.8063 Q1275.43 73.7508 1269.92 73.7508 Q1262.95 73.7508 1258.82 69.8619 Q1254.73 65.9325 1254.73 59.3701 Q1254.73 51.7138 1259.84 47.825 Q1264.98 43.9361 1275.15 43.9361 L1285.6 43.9361 L1285.6 43.2069 Q1285.6 38.0623 1282.2 35.2672 Q1278.83 32.4315 1272.72 32.4315 Q1268.83 32.4315 1265.14 33.3632 Q1261.46 34.295 1258.05 36.1584 L1258.05 29.2718 Q1262.14 27.692 1265.99 26.9223 Q1269.84 26.1121 1273.49 26.1121 Q1283.33 26.1121 1288.19 31.2163 Q1293.05 36.3204 1293.05 46.6907 Z\" fill=\"#000000\" fill-rule=\"evenodd\" fill-opacity=\"1\" /><path clip-path=\"url(#clip560)\" d=\"M 0 0 M1308.12 9.54393 L1315.62 9.54393 L1315.62 46.7717 L1337.86 27.2059 L1347.38 27.2059 L1323.31 48.4326 L1348.39 72.576 L1338.67 72.576 L1315.62 50.4176 L1315.62 72.576 L1308.12 72.576 L1308.12 9.54393 Z\" fill=\"#000000\" fill-rule=\"evenodd\" fill-opacity=\"1\" /><path clip-path=\"url(#clip560)\" d=\"M 0 0 M1371.07 32.4315 Q1365.08 32.4315 1361.59 37.1306 Q1358.11 41.7891 1358.11 49.9314 Q1358.11 58.0738 1361.55 62.7728 Q1365.04 67.4314 1371.07 67.4314 Q1377.03 67.4314 1380.51 62.7323 Q1384 58.0333 1384 49.9314 Q1384 41.8701 1380.51 37.1711 Q1377.03 32.4315 1371.07 32.4315 M1371.07 26.1121 Q1380.8 26.1121 1386.35 32.4315 Q1391.9 38.7509 1391.9 49.9314 Q1391.9 61.0714 1386.35 67.4314 Q1380.8 73.7508 1371.07 73.7508 Q1361.31 73.7508 1355.76 67.4314 Q1350.25 61.0714 1350.25 49.9314 Q1350.25 38.7509 1355.76 32.4315 Q1361.31 26.1121 1371.07 26.1121 Z\" fill=\"#000000\" fill-rule=\"evenodd\" fill-opacity=\"1\" /><path clip-path=\"url(#clip560)\" d=\"M 0 0 M1425.48 5.93863 L1433.54 5.93863 L1420.33 21.17 L1414.13 21.17 L1425.48 5.93863 M1433.17 28.5427 L1433.17 35.5912 Q1430.01 33.9709 1426.61 33.1607 Q1423.21 32.3505 1419.56 32.3505 Q1414.01 32.3505 1411.22 34.0519 Q1408.46 35.7533 1408.46 39.156 Q1408.46 41.7486 1410.45 43.2475 Q1412.43 44.7058 1418.43 46.0426 L1420.98 46.6097 Q1428.92 48.3111 1432.24 51.4303 Q1435.6 54.509 1435.6 60.0587 Q1435.6 66.3781 1430.58 70.0644 Q1425.6 73.7508 1416.85 73.7508 Q1413.2 73.7508 1409.23 73.0216 Q1405.3 72.3329 1400.93 70.9151 L1400.93 63.2184 Q1405.06 65.3654 1409.07 66.4591 Q1413.08 67.5124 1417.01 67.5124 Q1422.28 67.5124 1425.11 65.73 Q1427.95 63.9071 1427.95 60.6258 Q1427.95 57.5877 1425.88 55.9673 Q1423.86 54.3469 1416.93 52.8481 L1414.34 52.2405 Q1407.41 50.7821 1404.33 47.7845 Q1401.25 44.7463 1401.25 39.4801 Q1401.25 33.0797 1405.79 29.5959 Q1410.33 26.1121 1418.67 26.1121 Q1422.8 26.1121 1426.45 26.7198 Q1430.1 27.3274 1433.17 28.5427 Z\" fill=\"#000000\" fill-rule=\"evenodd\" fill-opacity=\"1\" /><path clip-path=\"url(#clip560)\" d=\"M 0 0 M1480.12 28.9478 L1480.12 35.9153 Q1476.96 34.1734 1473.76 33.3227 Q1470.6 32.4315 1467.36 32.4315 Q1460.11 32.4315 1456.1 37.0496 Q1452.09 41.6271 1452.09 49.9314 Q1452.09 58.2358 1456.1 62.8538 Q1460.11 67.4314 1467.36 67.4314 Q1470.6 67.4314 1473.76 66.5807 Q1476.96 65.6895 1480.12 63.9476 L1480.12 70.8341 Q1477 72.2924 1473.64 73.0216 Q1470.32 73.7508 1466.55 73.7508 Q1456.3 73.7508 1450.27 67.3098 Q1444.23 60.8689 1444.23 49.9314 Q1444.23 38.832 1450.31 32.472 Q1456.43 26.1121 1467.04 26.1121 Q1470.48 26.1121 1473.76 26.8413 Q1477.05 27.5299 1480.12 28.9478 M1471.58 6.22219 L1479.64 6.22219 L1466.43 21.4536 L1460.23 21.4536 L1471.58 6.22219 Z\" fill=\"#000000\" fill-rule=\"evenodd\" fill-opacity=\"1\" /><polyline clip-path=\"url(#clip562)\" style=\"stroke:#000000; stroke-width:4; stroke-opacity:1; fill:none\" points=\"\n",
       "  1665.71,1371.65 1665.71,1000.74 \n",
       "  \"/>\n",
       "<line clip-path=\"url(#clip562)\" x1=\"1681.71\" y1=\"1371.65\" x2=\"1649.71\" y2=\"1371.65\" style=\"stroke:#000000; stroke-width:3.2; stroke-opacity:1\"/>\n",
       "<line clip-path=\"url(#clip562)\" x1=\"1681.71\" y1=\"1000.74\" x2=\"1649.71\" y2=\"1000.74\" style=\"stroke:#000000; stroke-width:3.2; stroke-opacity:1\"/>\n",
       "<circle clip-path=\"url(#clip562)\" cx=\"1665.71\" cy=\"1186.2\" r=\"14\" fill=\"#ff0000\" fill-rule=\"evenodd\" fill-opacity=\"1\" stroke=\"#000000\" stroke-opacity=\"1\" stroke-width=\"3.2\"/>\n",
       "<polyline clip-path=\"url(#clip562)\" style=\"stroke:#000000; stroke-width:4; stroke-opacity:1; fill:none\" points=\"\n",
       "  405.083,1386.4 405.083,160.256 \n",
       "  \"/>\n",
       "<line clip-path=\"url(#clip562)\" x1=\"421.083\" y1=\"1386.4\" x2=\"389.083\" y2=\"1386.4\" style=\"stroke:#000000; stroke-width:3.2; stroke-opacity:1\"/>\n",
       "<line clip-path=\"url(#clip562)\" x1=\"421.083\" y1=\"160.256\" x2=\"389.083\" y2=\"160.256\" style=\"stroke:#000000; stroke-width:3.2; stroke-opacity:1\"/>\n",
       "<circle clip-path=\"url(#clip562)\" cx=\"405.083\" cy=\"773.326\" r=\"14\" fill=\"#0000ff\" fill-rule=\"evenodd\" fill-opacity=\"1\" stroke=\"#000000\" stroke-opacity=\"1\" stroke-width=\"3.2\"/>\n",
       "<polyline clip-path=\"url(#clip562)\" style=\"stroke:#000000; stroke-width:4; stroke-opacity:1; fill:none\" points=\"\n",
       "  1035.4,1371.65 1035.4,1000.74 \n",
       "  \"/>\n",
       "<line clip-path=\"url(#clip562)\" x1=\"1051.4\" y1=\"1371.65\" x2=\"1019.4\" y2=\"1371.65\" style=\"stroke:#000000; stroke-width:3.2; stroke-opacity:1\"/>\n",
       "<line clip-path=\"url(#clip562)\" x1=\"1051.4\" y1=\"1000.74\" x2=\"1019.4\" y2=\"1000.74\" style=\"stroke:#000000; stroke-width:3.2; stroke-opacity:1\"/>\n",
       "<circle clip-path=\"url(#clip562)\" cx=\"1035.4\" cy=\"1186.2\" r=\"14\" fill=\"#ffff00\" fill-rule=\"evenodd\" fill-opacity=\"1\" stroke=\"#000000\" stroke-opacity=\"1\" stroke-width=\"3.2\"/>\n",
       "<polyline clip-path=\"url(#clip562)\" style=\"stroke:#000000; stroke-width:4; stroke-opacity:1; fill:none\" points=\"\n",
       "  2296.03,1371.65 2296.03,1000.74 \n",
       "  \"/>\n",
       "<line clip-path=\"url(#clip562)\" x1=\"2312.03\" y1=\"1371.65\" x2=\"2280.03\" y2=\"1371.65\" style=\"stroke:#000000; stroke-width:3.2; stroke-opacity:1\"/>\n",
       "<line clip-path=\"url(#clip562)\" x1=\"2312.03\" y1=\"1000.74\" x2=\"2280.03\" y2=\"1000.74\" style=\"stroke:#000000; stroke-width:3.2; stroke-opacity:1\"/>\n",
       "<circle clip-path=\"url(#clip562)\" cx=\"2296.03\" cy=\"1186.2\" r=\"14\" fill=\"#008000\" fill-rule=\"evenodd\" fill-opacity=\"1\" stroke=\"#000000\" stroke-opacity=\"1\" stroke-width=\"3.2\"/>\n",
       "<path clip-path=\"url(#clip560)\" d=\"\n",
       "M1350.3 469.196 L2285.94 469.196 L2285.94 166.796 L1350.3 166.796  Z\n",
       "  \" fill=\"#ffffff\" fill-rule=\"evenodd\" fill-opacity=\"1\"/>\n",
       "<polyline clip-path=\"url(#clip560)\" style=\"stroke:#000000; stroke-width:4; stroke-opacity:1; fill:none\" points=\"\n",
       "  1350.3,469.196 2285.94,469.196 2285.94,166.796 1350.3,166.796 1350.3,469.196 \n",
       "  \"/>\n",
       "<circle clip-path=\"url(#clip560)\" cx=\"1439.38\" cy=\"227.276\" r=\"23\" fill=\"#ff0000\" fill-rule=\"evenodd\" fill-opacity=\"1\" stroke=\"#000000\" stroke-opacity=\"1\" stroke-width=\"5.12\"/>\n",
       "<path clip-path=\"url(#clip560)\" d=\"M 0 0 M1544.97 208.537 L1544.97 212.079 L1540.89 212.079 Q1538.6 212.079 1537.7 213.005 Q1536.82 213.931 1536.82 216.338 L1536.82 218.63 L1543.83 218.63 L1543.83 221.94 L1536.82 221.94 L1536.82 244.556 L1532.54 244.556 L1532.54 221.94 L1528.46 221.94 L1528.46 218.63 L1532.54 218.63 L1532.54 216.824 Q1532.54 212.496 1534.55 210.528 Q1536.57 208.537 1540.94 208.537 L1544.97 208.537 Z\" fill=\"#000000\" fill-rule=\"evenodd\" fill-opacity=\"1\" /><path clip-path=\"url(#clip560)\" d=\"M 0 0 M1560.32 231.523 Q1555.15 231.523 1553.16 232.704 Q1551.17 233.884 1551.17 236.732 Q1551.17 239 1552.65 240.343 Q1554.16 241.662 1556.73 241.662 Q1560.27 241.662 1562.4 239.162 Q1564.55 236.639 1564.55 232.472 L1564.55 231.523 L1560.32 231.523 M1568.81 229.764 L1568.81 244.556 L1564.55 244.556 L1564.55 240.621 Q1563.09 242.982 1560.92 244.116 Q1558.74 245.227 1555.59 245.227 Q1551.61 245.227 1549.25 243.005 Q1546.91 240.759 1546.91 237.009 Q1546.91 232.634 1549.83 230.412 Q1552.77 228.19 1558.58 228.19 L1564.55 228.19 L1564.55 227.773 Q1564.55 224.834 1562.61 223.236 Q1560.69 221.616 1557.19 221.616 Q1554.97 221.616 1552.86 222.148 Q1550.76 222.681 1548.81 223.746 L1548.81 219.81 Q1551.15 218.908 1553.35 218.468 Q1555.55 218.005 1557.63 218.005 Q1563.26 218.005 1566.03 220.922 Q1568.81 223.838 1568.81 229.764 Z\" fill=\"#000000\" fill-rule=\"evenodd\" fill-opacity=\"1\" /><path clip-path=\"url(#clip560)\" d=\"M 0 0 M1596.24 219.625 L1596.24 223.607 Q1594.44 222.611 1592.61 222.125 Q1590.8 221.616 1588.95 221.616 Q1584.81 221.616 1582.51 224.255 Q1580.22 226.871 1580.22 231.616 Q1580.22 236.361 1582.51 239 Q1584.81 241.616 1588.95 241.616 Q1590.8 241.616 1592.61 241.13 Q1594.44 240.621 1596.24 239.625 L1596.24 243.56 Q1594.46 244.394 1592.54 244.81 Q1590.64 245.227 1588.49 245.227 Q1582.63 245.227 1579.18 241.546 Q1575.73 237.866 1575.73 231.616 Q1575.73 225.273 1579.2 221.639 Q1582.7 218.005 1588.76 218.005 Q1590.73 218.005 1592.61 218.422 Q1594.48 218.815 1596.24 219.625 Z\" fill=\"#000000\" fill-rule=\"evenodd\" fill-opacity=\"1\" /><path clip-path=\"url(#clip560)\" d=\"M 0 0 M1607.86 211.269 L1607.86 218.63 L1616.64 218.63 L1616.64 221.94 L1607.86 221.94 L1607.86 236.014 Q1607.86 239.185 1608.72 240.088 Q1609.6 240.991 1612.26 240.991 L1616.64 240.991 L1616.64 244.556 L1612.26 244.556 Q1607.33 244.556 1605.45 242.727 Q1603.58 240.875 1603.58 236.014 L1603.58 221.94 L1600.45 221.94 L1600.45 218.63 L1603.58 218.63 L1603.58 211.269 L1607.86 211.269 Z\" fill=\"#000000\" fill-rule=\"evenodd\" fill-opacity=\"1\" /><path clip-path=\"url(#clip560)\" d=\"M 0 0 M1632.28 221.616 Q1628.86 221.616 1626.87 224.301 Q1624.88 226.963 1624.88 231.616 Q1624.88 236.269 1626.84 238.954 Q1628.83 241.616 1632.28 241.616 Q1635.69 241.616 1637.68 238.931 Q1639.67 236.246 1639.67 231.616 Q1639.67 227.01 1637.68 224.324 Q1635.69 221.616 1632.28 221.616 M1632.28 218.005 Q1637.84 218.005 1641.01 221.616 Q1644.18 225.227 1644.18 231.616 Q1644.18 237.982 1641.01 241.616 Q1637.84 245.227 1632.28 245.227 Q1626.7 245.227 1623.53 241.616 Q1620.39 237.982 1620.39 231.616 Q1620.39 225.227 1623.53 221.616 Q1626.7 218.005 1632.28 218.005 Z\" fill=\"#000000\" fill-rule=\"evenodd\" fill-opacity=\"1\" /><path clip-path=\"url(#clip560)\" d=\"M 0 0 M1666.26 222.611 Q1665.55 222.195 1664.69 222.01 Q1663.86 221.801 1662.84 221.801 Q1659.23 221.801 1657.28 224.162 Q1655.36 226.5 1655.36 230.898 L1655.36 244.556 L1651.08 244.556 L1651.08 218.63 L1655.36 218.63 L1655.36 222.658 Q1656.7 220.297 1658.86 219.162 Q1661.01 218.005 1664.09 218.005 Q1664.53 218.005 1665.06 218.074 Q1665.59 218.121 1666.24 218.236 L1666.26 222.611 Z\" fill=\"#000000\" fill-rule=\"evenodd\" fill-opacity=\"1\" /><path clip-path=\"url(#clip560)\" d=\"M 0 0 M1670.73 218.63 L1674.99 218.63 L1674.99 244.556 L1670.73 244.556 L1670.73 218.63 M1670.73 208.537 L1674.99 208.537 L1674.99 213.931 L1670.73 213.931 L1670.73 208.537 Z\" fill=\"#000000\" fill-rule=\"evenodd\" fill-opacity=\"1\" /><path clip-path=\"url(#clip560)\" d=\"M 0 0 M1682.05 218.63 L1702.28 218.63 L1702.28 222.519 L1686.26 241.153 L1702.28 241.153 L1702.28 244.556 L1681.47 244.556 L1681.47 240.667 L1697.49 222.033 L1682.05 222.033 L1682.05 218.63 Z\" fill=\"#000000\" fill-rule=\"evenodd\" fill-opacity=\"1\" /><path clip-path=\"url(#clip560)\" d=\"M 0 0 M1730.96 230.528 L1730.96 232.611 L1711.38 232.611 Q1711.66 237.009 1714.02 239.324 Q1716.4 241.616 1720.64 241.616 Q1723.09 241.616 1725.38 241.014 Q1727.7 240.412 1729.97 239.209 L1729.97 243.236 Q1727.68 244.208 1725.27 244.718 Q1722.86 245.227 1720.38 245.227 Q1714.18 245.227 1710.55 241.616 Q1706.94 238.005 1706.94 231.847 Q1706.94 225.482 1710.36 221.755 Q1713.81 218.005 1719.64 218.005 Q1724.88 218.005 1727.91 221.385 Q1730.96 224.741 1730.96 230.528 M1726.7 229.278 Q1726.66 225.783 1724.74 223.699 Q1722.84 221.616 1719.69 221.616 Q1716.13 221.616 1713.97 223.63 Q1711.84 225.644 1711.52 229.301 L1726.7 229.278 Z\" fill=\"#000000\" fill-rule=\"evenodd\" fill-opacity=\"1\" /><path clip-path=\"url(#clip560)\" d=\"M 0 0 M1770.36 214.834 L1770.36 227.727 L1783.25 227.727 L1783.25 231.662 L1770.36 231.662 L1770.36 244.556 L1766.47 244.556 L1766.47 231.662 L1753.58 231.662 L1753.58 227.727 L1766.47 227.727 L1766.47 214.834 L1770.36 214.834 Z\" fill=\"#000000\" fill-rule=\"evenodd\" fill-opacity=\"1\" /><path clip-path=\"url(#clip560)\" d=\"M 0 0 M1824.87 222.565 L1824.87 208.537 L1829.13 208.537 L1829.13 244.556 L1824.87 244.556 L1824.87 240.667 Q1823.53 242.982 1821.47 244.116 Q1819.43 245.227 1816.56 245.227 Q1811.87 245.227 1808.9 241.477 Q1805.96 237.727 1805.96 231.616 Q1805.96 225.505 1808.9 221.755 Q1811.87 218.005 1816.56 218.005 Q1819.43 218.005 1821.47 219.139 Q1823.53 220.25 1824.87 222.565 M1810.36 231.616 Q1810.36 236.315 1812.28 239 Q1814.23 241.662 1817.61 241.662 Q1820.99 241.662 1822.93 239 Q1824.87 236.315 1824.87 231.616 Q1824.87 226.917 1822.93 224.255 Q1820.99 221.57 1817.61 221.57 Q1814.23 221.57 1812.28 224.255 Q1810.36 226.917 1810.36 231.616 Z\" fill=\"#000000\" fill-rule=\"evenodd\" fill-opacity=\"1\" /><path clip-path=\"url(#clip560)\" d=\"M 0 0 M1836.06 218.63 L1856.29 218.63 L1856.29 222.519 L1840.27 241.153 L1856.29 241.153 L1856.29 244.556 L1835.48 244.556 L1835.48 240.667 L1851.49 222.033 L1836.06 222.033 L1836.06 218.63 Z\" fill=\"#000000\" fill-rule=\"evenodd\" fill-opacity=\"1\" /><path clip-path=\"url(#clip560)\" d=\"M 0 0 M1862.79 218.63 L1867.05 218.63 L1867.05 244.556 L1862.79 244.556 L1862.79 218.63 M1862.79 208.537 L1867.05 208.537 L1867.05 213.931 L1862.79 213.931 L1862.79 208.537 Z\" fill=\"#000000\" fill-rule=\"evenodd\" fill-opacity=\"1\" /><path clip-path=\"url(#clip560)\" d=\"M 0 0 M1898.14 230.528 L1898.14 232.611 L1878.56 232.611 Q1878.83 237.009 1881.19 239.324 Q1883.58 241.616 1887.81 241.616 Q1890.27 241.616 1892.56 241.014 Q1894.87 240.412 1897.14 239.209 L1897.14 243.236 Q1894.85 244.208 1892.44 244.718 Q1890.04 245.227 1887.56 245.227 Q1881.36 245.227 1877.72 241.616 Q1874.11 238.005 1874.11 231.847 Q1874.11 225.482 1877.54 221.755 Q1880.99 218.005 1886.82 218.005 Q1892.05 218.005 1895.08 221.385 Q1898.14 224.741 1898.14 230.528 M1893.88 229.278 Q1893.83 225.783 1891.91 223.699 Q1890.01 221.616 1886.87 221.616 Q1883.3 221.616 1881.15 223.63 Q1879.02 225.644 1878.69 229.301 L1893.88 229.278 Z\" fill=\"#000000\" fill-rule=\"evenodd\" fill-opacity=\"1\" /><path clip-path=\"url(#clip560)\" d=\"M 0 0 M1905.13 208.537 L1909.39 208.537 L1909.39 244.556 L1905.13 244.556 L1905.13 208.537 Z\" fill=\"#000000\" fill-rule=\"evenodd\" fill-opacity=\"1\" /><path clip-path=\"url(#clip560)\" d=\"M 0 0 M1940.48 230.528 L1940.48 232.611 L1920.89 232.611 Q1921.17 237.009 1923.53 239.324 Q1925.92 241.616 1930.15 241.616 Q1932.61 241.616 1934.9 241.014 Q1937.21 240.412 1939.48 239.209 L1939.48 243.236 Q1937.19 244.208 1934.78 244.718 Q1932.37 245.227 1929.9 245.227 Q1923.69 245.227 1920.06 241.616 Q1916.45 238.005 1916.45 231.847 Q1916.45 225.482 1919.87 221.755 Q1923.32 218.005 1929.16 218.005 Q1934.39 218.005 1937.42 221.385 Q1940.48 224.741 1940.48 230.528 M1936.22 229.278 Q1936.17 225.783 1934.25 223.699 Q1932.35 221.616 1929.2 221.616 Q1925.64 221.616 1923.49 223.63 Q1921.36 225.644 1921.03 229.301 L1936.22 229.278 Z\" fill=\"#000000\" fill-rule=\"evenodd\" fill-opacity=\"1\" /><path clip-path=\"url(#clip560)\" d=\"M 0 0 M1969.02 228.908 L1969.02 244.556 L1964.76 244.556 L1964.76 229.047 Q1964.76 225.366 1963.32 223.537 Q1961.89 221.709 1959.02 221.709 Q1955.57 221.709 1953.58 223.908 Q1951.59 226.107 1951.59 229.903 L1951.59 244.556 L1947.3 244.556 L1947.3 218.63 L1951.59 218.63 L1951.59 222.658 Q1953.11 220.32 1955.17 219.162 Q1957.26 218.005 1959.97 218.005 Q1964.43 218.005 1966.73 220.783 Q1969.02 223.537 1969.02 228.908 Z\" fill=\"#000000\" fill-rule=\"evenodd\" fill-opacity=\"1\" /><path clip-path=\"url(#clip560)\" d=\"M 0 0 M1977.51 218.63 L1981.77 218.63 L1981.77 244.556 L1977.51 244.556 L1977.51 218.63 M1977.51 208.537 L1981.77 208.537 L1981.77 213.931 L1977.51 213.931 L1977.51 208.537 Z\" fill=\"#000000\" fill-rule=\"evenodd\" fill-opacity=\"1\" /><path clip-path=\"url(#clip560)\" d=\"M 0 0 M2012.86 230.528 L2012.86 232.611 L1993.28 232.611 Q1993.55 237.009 1995.92 239.324 Q1998.3 241.616 2002.54 241.616 Q2004.99 241.616 2007.28 241.014 Q2009.6 240.412 2011.86 239.209 L2011.86 243.236 Q2009.57 244.208 2007.17 244.718 Q2004.76 245.227 2002.28 245.227 Q1996.08 245.227 1992.44 241.616 Q1988.83 238.005 1988.83 231.847 Q1988.83 225.482 1992.26 221.755 Q1995.71 218.005 2001.54 218.005 Q2006.77 218.005 2009.8 221.385 Q2012.86 224.741 2012.86 230.528 M2008.6 229.278 Q2008.55 225.783 2006.63 223.699 Q2004.73 221.616 2001.59 221.616 Q1998.02 221.616 1995.87 223.63 Q1993.74 225.644 1993.42 229.301 L2008.6 229.278 Z\" fill=\"#000000\" fill-rule=\"evenodd\" fill-opacity=\"1\" /><circle clip-path=\"url(#clip560)\" cx=\"1439.38\" cy=\"287.756\" r=\"23\" fill=\"#0000ff\" fill-rule=\"evenodd\" fill-opacity=\"1\" stroke=\"#000000\" stroke-opacity=\"1\" stroke-width=\"5.12\"/>\n",
       "<path clip-path=\"url(#clip560)\" d=\"M 0 0 M1528.46 279.11 L1532.72 279.11 L1532.72 305.036 L1528.46 305.036 L1528.46 279.11 M1528.46 269.017 L1532.72 269.017 L1532.72 274.411 L1528.46 274.411 L1528.46 269.017 Z\" fill=\"#000000\" fill-rule=\"evenodd\" fill-opacity=\"1\" /><path clip-path=\"url(#clip560)\" d=\"M 0 0 M1563.19 289.388 L1563.19 305.036 L1558.93 305.036 L1558.93 289.527 Q1558.93 285.846 1557.49 284.017 Q1556.06 282.189 1553.19 282.189 Q1549.74 282.189 1547.75 284.388 Q1545.76 286.587 1545.76 290.383 L1545.76 305.036 L1541.47 305.036 L1541.47 279.11 L1545.76 279.11 L1545.76 283.138 Q1547.28 280.8 1549.34 279.642 Q1551.43 278.485 1554.14 278.485 Q1558.6 278.485 1560.89 281.263 Q1563.19 284.017 1563.19 289.388 Z\" fill=\"#000000\" fill-rule=\"evenodd\" fill-opacity=\"1\" /><path clip-path=\"url(#clip560)\" d=\"M 0 0 M1568.63 279.11 L1573.14 279.11 L1581.24 300.869 L1589.34 279.11 L1593.86 279.11 L1584.14 305.036 L1578.35 305.036 L1568.63 279.11 Z\" fill=\"#000000\" fill-rule=\"evenodd\" fill-opacity=\"1\" /><circle clip-path=\"url(#clip560)\" cx=\"1439.38\" cy=\"348.236\" r=\"23\" fill=\"#ffff00\" fill-rule=\"evenodd\" fill-opacity=\"1\" stroke=\"#000000\" stroke-opacity=\"1\" stroke-width=\"5.12\"/>\n",
       "<path clip-path=\"url(#clip560)\" d=\"M 0 0 M1540.36 342.576 Q1536.94 342.576 1534.95 345.261 Q1532.96 347.923 1532.96 352.576 Q1532.96 357.229 1534.92 359.914 Q1536.91 362.576 1540.36 362.576 Q1543.77 362.576 1545.76 359.891 Q1547.75 357.206 1547.75 352.576 Q1547.75 347.97 1545.76 345.284 Q1543.77 342.576 1540.36 342.576 M1540.36 338.965 Q1545.92 338.965 1549.09 342.576 Q1552.26 346.187 1552.26 352.576 Q1552.26 358.942 1549.09 362.576 Q1545.92 366.187 1540.36 366.187 Q1534.78 366.187 1531.61 362.576 Q1528.46 358.942 1528.46 352.576 Q1528.46 346.187 1531.61 342.576 Q1534.78 338.965 1540.36 338.965 Z\" fill=\"#000000\" fill-rule=\"evenodd\" fill-opacity=\"1\" /><path clip-path=\"url(#clip560)\" d=\"M 0 0 M1563.44 361.627 L1563.44 375.377 L1559.16 375.377 L1559.16 339.59 L1563.44 339.59 L1563.44 343.525 Q1564.78 341.21 1566.82 340.099 Q1568.88 338.965 1571.73 338.965 Q1576.45 338.965 1579.39 342.715 Q1582.35 346.465 1582.35 352.576 Q1582.35 358.687 1579.39 362.437 Q1576.45 366.187 1571.73 366.187 Q1568.88 366.187 1566.82 365.076 Q1564.78 363.942 1563.44 361.627 M1577.93 352.576 Q1577.93 347.877 1575.99 345.215 Q1574.07 342.53 1570.69 342.53 Q1567.31 342.53 1565.36 345.215 Q1563.44 347.877 1563.44 352.576 Q1563.44 357.275 1565.36 359.96 Q1567.31 362.622 1570.69 362.622 Q1574.07 362.622 1575.99 359.96 Q1577.93 357.275 1577.93 352.576 Z\" fill=\"#000000\" fill-rule=\"evenodd\" fill-opacity=\"1\" /><path clip-path=\"url(#clip560)\" d=\"M 0 0 M1611.59 351.488 L1611.59 353.571 L1592.01 353.571 Q1592.28 357.969 1594.64 360.284 Q1597.03 362.576 1601.26 362.576 Q1603.72 362.576 1606.01 361.974 Q1608.32 361.372 1610.59 360.169 L1610.59 364.196 Q1608.3 365.168 1605.89 365.678 Q1603.49 366.187 1601.01 366.187 Q1594.81 366.187 1591.17 362.576 Q1587.56 358.965 1587.56 352.807 Q1587.56 346.442 1590.99 342.715 Q1594.44 338.965 1600.27 338.965 Q1605.5 338.965 1608.53 342.345 Q1611.59 345.701 1611.59 351.488 M1607.33 350.238 Q1607.28 346.743 1605.36 344.659 Q1603.46 342.576 1600.32 342.576 Q1596.75 342.576 1594.6 344.59 Q1592.47 346.604 1592.14 350.261 L1607.33 350.238 Z\" fill=\"#000000\" fill-rule=\"evenodd\" fill-opacity=\"1\" /><path clip-path=\"url(#clip560)\" d=\"M 0 0 M1633.6 343.571 Q1632.89 343.155 1632.03 342.97 Q1631.2 342.761 1630.18 342.761 Q1626.57 342.761 1624.62 345.122 Q1622.7 347.46 1622.7 351.858 L1622.7 365.516 L1618.42 365.516 L1618.42 339.59 L1622.7 339.59 L1622.7 343.618 Q1624.04 341.257 1626.2 340.122 Q1628.35 338.965 1631.43 338.965 Q1631.87 338.965 1632.4 339.034 Q1632.93 339.081 1633.58 339.196 L1633.6 343.571 Z\" fill=\"#000000\" fill-rule=\"evenodd\" fill-opacity=\"1\" /><path clip-path=\"url(#clip560)\" d=\"M 0 0 M1649.85 352.483 Q1644.69 352.483 1642.7 353.664 Q1640.71 354.844 1640.71 357.692 Q1640.71 359.96 1642.19 361.303 Q1643.7 362.622 1646.26 362.622 Q1649.81 362.622 1651.94 360.122 Q1654.09 357.599 1654.09 353.432 L1654.09 352.483 L1649.85 352.483 M1658.35 350.724 L1658.35 365.516 L1654.09 365.516 L1654.09 361.581 Q1652.63 363.942 1650.45 365.076 Q1648.28 366.187 1645.13 366.187 Q1641.15 366.187 1638.79 363.965 Q1636.45 361.719 1636.45 357.969 Q1636.45 353.594 1639.37 351.372 Q1642.31 349.15 1648.12 349.15 L1654.09 349.15 L1654.09 348.733 Q1654.09 345.794 1652.14 344.196 Q1650.22 342.576 1646.73 342.576 Q1644.51 342.576 1642.4 343.108 Q1640.29 343.641 1638.35 344.706 L1638.35 340.77 Q1640.69 339.868 1642.88 339.428 Q1645.08 338.965 1647.17 338.965 Q1652.79 338.965 1655.57 341.882 Q1658.35 344.798 1658.35 350.724 Z\" fill=\"#000000\" fill-rule=\"evenodd\" fill-opacity=\"1\" /><path clip-path=\"url(#clip560)\" d=\"M 0 0 M1671.33 332.229 L1671.33 339.59 L1680.11 339.59 L1680.11 342.9 L1671.33 342.9 L1671.33 356.974 Q1671.33 360.145 1672.19 361.048 Q1673.07 361.951 1675.73 361.951 L1680.11 361.951 L1680.11 365.516 L1675.73 365.516 Q1670.8 365.516 1668.93 363.687 Q1667.05 361.835 1667.05 356.974 L1667.05 342.9 L1663.93 342.9 L1663.93 339.59 L1667.05 339.59 L1667.05 332.229 L1671.33 332.229 Z\" fill=\"#000000\" fill-rule=\"evenodd\" fill-opacity=\"1\" /><path clip-path=\"url(#clip560)\" d=\"M 0 0 M1695.76 342.576 Q1692.33 342.576 1690.34 345.261 Q1688.35 347.923 1688.35 352.576 Q1688.35 357.229 1690.32 359.914 Q1692.31 362.576 1695.76 362.576 Q1699.16 362.576 1701.15 359.891 Q1703.14 357.206 1703.14 352.576 Q1703.14 347.97 1701.15 345.284 Q1699.16 342.576 1695.76 342.576 M1695.76 338.965 Q1701.31 338.965 1704.48 342.576 Q1707.65 346.187 1707.65 352.576 Q1707.65 358.942 1704.48 362.576 Q1701.31 366.187 1695.76 366.187 Q1690.18 366.187 1687.01 362.576 Q1683.86 358.942 1683.86 352.576 Q1683.86 346.187 1687.01 342.576 Q1690.18 338.965 1695.76 338.965 Z\" fill=\"#000000\" fill-rule=\"evenodd\" fill-opacity=\"1\" /><path clip-path=\"url(#clip560)\" d=\"M 0 0 M1729.74 343.571 Q1729.02 343.155 1728.16 342.97 Q1727.33 342.761 1726.31 342.761 Q1722.7 342.761 1720.75 345.122 Q1718.83 347.46 1718.83 351.858 L1718.83 365.516 L1714.55 365.516 L1714.55 339.59 L1718.83 339.59 L1718.83 343.618 Q1720.18 341.257 1722.33 340.122 Q1724.48 338.965 1727.56 338.965 Q1728 338.965 1728.53 339.034 Q1729.07 339.081 1729.71 339.196 L1729.74 343.571 Z\" fill=\"#000000\" fill-rule=\"evenodd\" fill-opacity=\"1\" /><path clip-path=\"url(#clip560)\" d=\"M 0 0 M1766.33 343.525 L1766.33 329.497 L1770.59 329.497 L1770.59 365.516 L1766.33 365.516 L1766.33 361.627 Q1764.99 363.942 1762.93 365.076 Q1760.89 366.187 1758.02 366.187 Q1753.32 366.187 1750.36 362.437 Q1747.42 358.687 1747.42 352.576 Q1747.42 346.465 1750.36 342.715 Q1753.32 338.965 1758.02 338.965 Q1760.89 338.965 1762.93 340.099 Q1764.99 341.21 1766.33 343.525 M1751.82 352.576 Q1751.82 357.275 1753.74 359.96 Q1755.69 362.622 1759.06 362.622 Q1762.44 362.622 1764.39 359.96 Q1766.33 357.275 1766.33 352.576 Q1766.33 347.877 1764.39 345.215 Q1762.44 342.53 1759.06 342.53 Q1755.69 342.53 1753.74 345.215 Q1751.82 347.877 1751.82 352.576 Z\" fill=\"#000000\" fill-rule=\"evenodd\" fill-opacity=\"1\" /><path clip-path=\"url(#clip560)\" d=\"M 0 0 M1777.51 339.59 L1797.75 339.59 L1797.75 343.479 L1781.73 362.113 L1797.75 362.113 L1797.75 365.516 L1776.94 365.516 L1776.94 361.627 L1792.95 342.993 L1777.51 342.993 L1777.51 339.59 Z\" fill=\"#000000\" fill-rule=\"evenodd\" fill-opacity=\"1\" /><path clip-path=\"url(#clip560)\" d=\"M 0 0 M1804.25 339.59 L1808.51 339.59 L1808.51 365.516 L1804.25 365.516 L1804.25 339.59 M1804.25 329.497 L1808.51 329.497 L1808.51 334.891 L1804.25 334.891 L1804.25 329.497 Z\" fill=\"#000000\" fill-rule=\"evenodd\" fill-opacity=\"1\" /><path clip-path=\"url(#clip560)\" d=\"M 0 0 M1839.6 351.488 L1839.6 353.571 L1820.01 353.571 Q1820.29 357.969 1822.65 360.284 Q1825.04 362.576 1829.27 362.576 Q1831.73 362.576 1834.02 361.974 Q1836.33 361.372 1838.6 360.169 L1838.6 364.196 Q1836.31 365.168 1833.9 365.678 Q1831.5 366.187 1829.02 366.187 Q1822.81 366.187 1819.18 362.576 Q1815.57 358.965 1815.57 352.807 Q1815.57 346.442 1819 342.715 Q1822.44 338.965 1828.28 338.965 Q1833.51 338.965 1836.54 342.345 Q1839.6 345.701 1839.6 351.488 M1835.34 350.238 Q1835.29 346.743 1833.37 344.659 Q1831.47 342.576 1828.32 342.576 Q1824.76 342.576 1822.61 344.59 Q1820.48 346.604 1820.15 350.261 L1835.34 350.238 Z\" fill=\"#000000\" fill-rule=\"evenodd\" fill-opacity=\"1\" /><path clip-path=\"url(#clip560)\" d=\"M 0 0 M1846.59 329.497 L1850.85 329.497 L1850.85 365.516 L1846.59 365.516 L1846.59 329.497 Z\" fill=\"#000000\" fill-rule=\"evenodd\" fill-opacity=\"1\" /><path clip-path=\"url(#clip560)\" d=\"M 0 0 M1881.93 351.488 L1881.93 353.571 L1862.35 353.571 Q1862.63 357.969 1864.99 360.284 Q1867.37 362.576 1871.61 362.576 Q1874.06 362.576 1876.36 361.974 Q1878.67 361.372 1880.94 360.169 L1880.94 364.196 Q1878.65 365.168 1876.24 365.678 Q1873.83 366.187 1871.36 366.187 Q1865.15 366.187 1861.52 362.576 Q1857.91 358.965 1857.91 352.807 Q1857.91 346.442 1861.33 342.715 Q1864.78 338.965 1870.62 338.965 Q1875.85 338.965 1878.88 342.345 Q1881.93 345.701 1881.93 351.488 M1877.68 350.238 Q1877.63 346.743 1875.71 344.659 Q1873.81 342.576 1870.66 342.576 Q1867.1 342.576 1864.94 344.59 Q1862.81 346.604 1862.49 350.261 L1877.68 350.238 Z\" fill=\"#000000\" fill-rule=\"evenodd\" fill-opacity=\"1\" /><path clip-path=\"url(#clip560)\" d=\"M 0 0 M1910.48 349.868 L1910.48 365.516 L1906.22 365.516 L1906.22 350.007 Q1906.22 346.326 1904.78 344.497 Q1903.35 342.669 1900.48 342.669 Q1897.03 342.669 1895.04 344.868 Q1893.05 347.067 1893.05 350.863 L1893.05 365.516 L1888.76 365.516 L1888.76 339.59 L1893.05 339.59 L1893.05 343.618 Q1894.57 341.28 1896.63 340.122 Q1898.72 338.965 1901.43 338.965 Q1905.89 338.965 1908.18 341.743 Q1910.48 344.497 1910.48 349.868 Z\" fill=\"#000000\" fill-rule=\"evenodd\" fill-opacity=\"1\" /><path clip-path=\"url(#clip560)\" d=\"M 0 0 M1918.97 339.59 L1923.23 339.59 L1923.23 365.516 L1918.97 365.516 L1918.97 339.59 M1918.97 329.497 L1923.23 329.497 L1923.23 334.891 L1918.97 334.891 L1918.97 329.497 Z\" fill=\"#000000\" fill-rule=\"evenodd\" fill-opacity=\"1\" /><path clip-path=\"url(#clip560)\" d=\"M 0 0 M1943.93 352.483 Q1938.76 352.483 1936.77 353.664 Q1934.78 354.844 1934.78 357.692 Q1934.78 359.96 1936.26 361.303 Q1937.77 362.622 1940.34 362.622 Q1943.88 362.622 1946.01 360.122 Q1948.16 357.599 1948.16 353.432 L1948.16 352.483 L1943.93 352.483 M1952.42 350.724 L1952.42 365.516 L1948.16 365.516 L1948.16 361.581 Q1946.7 363.942 1944.53 365.076 Q1942.35 366.187 1939.2 366.187 Q1935.22 366.187 1932.86 363.965 Q1930.52 361.719 1930.52 357.969 Q1930.52 353.594 1933.44 351.372 Q1936.38 349.15 1942.19 349.15 L1948.16 349.15 L1948.16 348.733 Q1948.16 345.794 1946.22 344.196 Q1944.3 342.576 1940.8 342.576 Q1938.58 342.576 1936.47 343.108 Q1934.36 343.641 1932.42 344.706 L1932.42 340.77 Q1934.76 339.868 1936.96 339.428 Q1939.16 338.965 1941.24 338.965 Q1946.86 338.965 1949.64 341.882 Q1952.42 344.798 1952.42 350.724 Z\" fill=\"#000000\" fill-rule=\"evenodd\" fill-opacity=\"1\" /><circle clip-path=\"url(#clip560)\" cx=\"1439.38\" cy=\"408.716\" r=\"23\" fill=\"#008000\" fill-rule=\"evenodd\" fill-opacity=\"1\" stroke=\"#000000\" stroke-opacity=\"1\" stroke-width=\"5.12\"/>\n",
       "<path clip-path=\"url(#clip560)\" d=\"M 0 0 M1546.89 400.834 L1546.89 404.862 Q1545.08 403.936 1543.14 403.473 Q1541.2 403.01 1539.11 403.01 Q1535.94 403.01 1534.34 403.982 Q1532.77 404.954 1532.77 406.899 Q1532.77 408.38 1533.9 409.237 Q1535.04 410.07 1538.46 410.834 L1539.92 411.158 Q1544.46 412.13 1546.36 413.912 Q1548.28 415.672 1548.28 418.843 Q1548.28 422.454 1545.41 424.561 Q1542.56 426.667 1537.56 426.667 Q1535.48 426.667 1533.21 426.25 Q1530.96 425.857 1528.46 425.047 L1528.46 420.649 Q1530.83 421.875 1533.12 422.5 Q1535.41 423.102 1537.65 423.102 Q1540.66 423.102 1542.28 422.084 Q1543.9 421.042 1543.9 419.167 Q1543.9 417.431 1542.72 416.505 Q1541.57 415.579 1537.61 414.723 L1536.13 414.375 Q1532.17 413.542 1530.41 411.829 Q1528.65 410.093 1528.65 407.084 Q1528.65 403.426 1531.24 401.436 Q1533.83 399.445 1538.6 399.445 Q1540.96 399.445 1543.05 399.792 Q1545.13 400.139 1546.89 400.834 Z\" fill=\"#000000\" fill-rule=\"evenodd\" fill-opacity=\"1\" /><path clip-path=\"url(#clip560)\" d=\"M 0 0 M1566.84 412.963 Q1561.68 412.963 1559.69 414.144 Q1557.7 415.324 1557.7 418.172 Q1557.7 420.44 1559.18 421.783 Q1560.69 423.102 1563.26 423.102 Q1566.8 423.102 1568.93 420.602 Q1571.08 418.079 1571.08 413.912 L1571.08 412.963 L1566.84 412.963 M1575.34 411.204 L1575.34 425.996 L1571.08 425.996 L1571.08 422.061 Q1569.62 424.422 1567.45 425.556 Q1565.27 426.667 1562.12 426.667 Q1558.14 426.667 1555.78 424.445 Q1553.44 422.199 1553.44 418.449 Q1553.44 414.074 1556.36 411.852 Q1559.3 409.63 1565.11 409.63 L1571.08 409.63 L1571.08 409.213 Q1571.08 406.274 1569.14 404.676 Q1567.21 403.056 1563.72 403.056 Q1561.5 403.056 1559.39 403.588 Q1557.28 404.121 1555.34 405.186 L1555.34 401.25 Q1557.68 400.348 1559.88 399.908 Q1562.08 399.445 1564.16 399.445 Q1569.78 399.445 1572.56 402.362 Q1575.34 405.278 1575.34 411.204 Z\" fill=\"#000000\" fill-rule=\"evenodd\" fill-opacity=\"1\" /><path clip-path=\"url(#clip560)\" d=\"M 0 0 M1604.3 405.047 Q1605.89 402.176 1608.12 400.811 Q1610.34 399.445 1613.35 399.445 Q1617.4 399.445 1619.6 402.292 Q1621.8 405.116 1621.8 410.348 L1621.8 425.996 L1617.51 425.996 L1617.51 410.487 Q1617.51 406.76 1616.2 404.954 Q1614.88 403.149 1612.17 403.149 Q1608.86 403.149 1606.94 405.348 Q1605.01 407.547 1605.01 411.343 L1605.01 425.996 L1600.73 425.996 L1600.73 410.487 Q1600.73 406.737 1599.41 404.954 Q1598.09 403.149 1595.34 403.149 Q1592.08 403.149 1590.15 405.371 Q1588.23 407.57 1588.23 411.343 L1588.23 425.996 L1583.95 425.996 L1583.95 400.07 L1588.23 400.07 L1588.23 404.098 Q1589.69 401.713 1591.73 400.579 Q1593.76 399.445 1596.57 399.445 Q1599.39 399.445 1601.36 400.88 Q1603.35 402.315 1604.3 405.047 Z\" fill=\"#000000\" fill-rule=\"evenodd\" fill-opacity=\"1\" /><path clip-path=\"url(#clip560)\" d=\"M 0 0 M1640.34 403.056 Q1636.91 403.056 1634.92 405.741 Q1632.93 408.403 1632.93 413.056 Q1632.93 417.709 1634.9 420.394 Q1636.89 423.056 1640.34 423.056 Q1643.74 423.056 1645.73 420.371 Q1647.72 417.686 1647.72 413.056 Q1647.72 408.45 1645.73 405.764 Q1643.74 403.056 1640.34 403.056 M1640.34 399.445 Q1645.89 399.445 1649.07 403.056 Q1652.24 406.667 1652.24 413.056 Q1652.24 419.422 1649.07 423.056 Q1645.89 426.667 1640.34 426.667 Q1634.76 426.667 1631.59 423.056 Q1628.44 419.422 1628.44 413.056 Q1628.44 406.667 1631.59 403.056 Q1634.76 399.445 1640.34 399.445 Z\" fill=\"#000000\" fill-rule=\"evenodd\" fill-opacity=\"1\" /><path clip-path=\"url(#clip560)\" d=\"M 0 0 M1691.43 404.005 L1691.43 389.977 L1695.69 389.977 L1695.69 425.996 L1691.43 425.996 L1691.43 422.107 Q1690.08 424.422 1688.02 425.556 Q1685.99 426.667 1683.12 426.667 Q1678.42 426.667 1675.45 422.917 Q1672.51 419.167 1672.51 413.056 Q1672.51 406.945 1675.45 403.195 Q1678.42 399.445 1683.12 399.445 Q1685.99 399.445 1688.02 400.579 Q1690.08 401.69 1691.43 404.005 M1676.91 413.056 Q1676.91 417.755 1678.83 420.44 Q1680.78 423.102 1684.16 423.102 Q1687.54 423.102 1689.48 420.44 Q1691.43 417.755 1691.43 413.056 Q1691.43 408.357 1689.48 405.695 Q1687.54 403.01 1684.16 403.01 Q1680.78 403.01 1678.83 405.695 Q1676.91 408.357 1676.91 413.056 Z\" fill=\"#000000\" fill-rule=\"evenodd\" fill-opacity=\"1\" /><path clip-path=\"url(#clip560)\" d=\"M 0 0 M1702.61 400.07 L1722.84 400.07 L1722.84 403.959 L1706.82 422.593 L1722.84 422.593 L1722.84 425.996 L1702.03 425.996 L1702.03 422.107 L1718.05 403.473 L1702.61 403.473 L1702.61 400.07 Z\" fill=\"#000000\" fill-rule=\"evenodd\" fill-opacity=\"1\" /><path clip-path=\"url(#clip560)\" d=\"M 0 0 M1729.34 400.07 L1733.6 400.07 L1733.6 425.996 L1729.34 425.996 L1729.34 400.07 M1729.34 389.977 L1733.6 389.977 L1733.6 395.371 L1729.34 395.371 L1729.34 389.977 Z\" fill=\"#000000\" fill-rule=\"evenodd\" fill-opacity=\"1\" /><path clip-path=\"url(#clip560)\" d=\"M 0 0 M1764.69 411.968 L1764.69 414.051 L1745.11 414.051 Q1745.38 418.449 1747.75 420.764 Q1750.13 423.056 1754.37 423.056 Q1756.82 423.056 1759.11 422.454 Q1761.43 421.852 1763.69 420.649 L1763.69 424.676 Q1761.4 425.648 1759 426.158 Q1756.59 426.667 1754.11 426.667 Q1747.91 426.667 1744.27 423.056 Q1740.66 419.445 1740.66 413.287 Q1740.66 406.922 1744.09 403.195 Q1747.54 399.445 1753.37 399.445 Q1758.6 399.445 1761.63 402.825 Q1764.69 406.181 1764.69 411.968 M1760.43 410.718 Q1760.38 407.223 1758.46 405.139 Q1756.56 403.056 1753.42 403.056 Q1749.85 403.056 1747.7 405.07 Q1745.57 407.084 1745.25 410.741 L1760.43 410.718 Z\" fill=\"#000000\" fill-rule=\"evenodd\" fill-opacity=\"1\" /><path clip-path=\"url(#clip560)\" d=\"M 0 0 M1771.68 389.977 L1775.94 389.977 L1775.94 425.996 L1771.68 425.996 L1771.68 389.977 Z\" fill=\"#000000\" fill-rule=\"evenodd\" fill-opacity=\"1\" /><path clip-path=\"url(#clip560)\" d=\"M 0 0 M1807.03 411.968 L1807.03 414.051 L1787.44 414.051 Q1787.72 418.449 1790.08 420.764 Q1792.47 423.056 1796.7 423.056 Q1799.16 423.056 1801.45 422.454 Q1803.76 421.852 1806.03 420.649 L1806.03 424.676 Q1803.74 425.648 1801.33 426.158 Q1798.93 426.667 1796.45 426.667 Q1790.25 426.667 1786.61 423.056 Q1783 419.445 1783 413.287 Q1783 406.922 1786.43 403.195 Q1789.87 399.445 1795.71 399.445 Q1800.94 399.445 1803.97 402.825 Q1807.03 406.181 1807.03 411.968 M1802.77 410.718 Q1802.72 407.223 1800.8 405.139 Q1798.9 403.056 1795.75 403.056 Q1792.19 403.056 1790.04 405.07 Q1787.91 407.084 1787.58 410.741 L1802.77 410.718 Z\" fill=\"#000000\" fill-rule=\"evenodd\" fill-opacity=\"1\" /><path clip-path=\"url(#clip560)\" d=\"M 0 0 M1835.57 410.348 L1835.57 425.996 L1831.31 425.996 L1831.31 410.487 Q1831.31 406.806 1829.87 404.977 Q1828.44 403.149 1825.57 403.149 Q1822.12 403.149 1820.13 405.348 Q1818.14 407.547 1818.14 411.343 L1818.14 425.996 L1813.86 425.996 L1813.86 400.07 L1818.14 400.07 L1818.14 404.098 Q1819.67 401.76 1821.73 400.602 Q1823.81 399.445 1826.52 399.445 Q1830.99 399.445 1833.28 402.223 Q1835.57 404.977 1835.57 410.348 Z\" fill=\"#000000\" fill-rule=\"evenodd\" fill-opacity=\"1\" /><path clip-path=\"url(#clip560)\" d=\"M 0 0 M1844.06 400.07 L1848.32 400.07 L1848.32 425.996 L1844.06 425.996 L1844.06 400.07 M1844.06 389.977 L1848.32 389.977 L1848.32 395.371 L1844.06 395.371 L1844.06 389.977 Z\" fill=\"#000000\" fill-rule=\"evenodd\" fill-opacity=\"1\" /><path clip-path=\"url(#clip560)\" d=\"M 0 0 M1879.41 411.968 L1879.41 414.051 L1859.83 414.051 Q1860.11 418.449 1862.47 420.764 Q1864.85 423.056 1869.09 423.056 Q1871.54 423.056 1873.83 422.454 Q1876.15 421.852 1878.42 420.649 L1878.42 424.676 Q1876.12 425.648 1873.72 426.158 Q1871.31 426.667 1868.83 426.667 Q1862.63 426.667 1858.99 423.056 Q1855.38 419.445 1855.38 413.287 Q1855.38 406.922 1858.81 403.195 Q1862.26 399.445 1868.09 399.445 Q1873.32 399.445 1876.36 402.825 Q1879.41 406.181 1879.41 411.968 M1875.15 410.718 Q1875.11 407.223 1873.18 405.139 Q1871.29 403.056 1868.14 403.056 Q1864.57 403.056 1862.42 405.07 Q1860.29 407.084 1859.97 410.741 L1875.15 410.718 Z\" fill=\"#000000\" fill-rule=\"evenodd\" fill-opacity=\"1\" /><path clip-path=\"url(#clip560)\" d=\"M 0 0 M1905.59 422.107 L1905.59 435.857 L1901.31 435.857 L1901.31 400.07 L1905.59 400.07 L1905.59 404.005 Q1906.93 401.69 1908.97 400.579 Q1911.03 399.445 1913.88 399.445 Q1918.6 399.445 1921.54 403.195 Q1924.5 406.945 1924.5 413.056 Q1924.5 419.167 1921.54 422.917 Q1918.6 426.667 1913.88 426.667 Q1911.03 426.667 1908.97 425.556 Q1906.93 424.422 1905.59 422.107 M1920.08 413.056 Q1920.08 408.357 1918.14 405.695 Q1916.22 403.01 1912.84 403.01 Q1909.46 403.01 1907.51 405.695 Q1905.59 408.357 1905.59 413.056 Q1905.59 417.755 1907.51 420.44 Q1909.46 423.102 1912.84 423.102 Q1916.22 423.102 1918.14 420.44 Q1920.08 417.755 1920.08 413.056 Z\" fill=\"#000000\" fill-rule=\"evenodd\" fill-opacity=\"1\" /><path clip-path=\"url(#clip560)\" d=\"M 0 0 M1941.61 403.056 Q1938.18 403.056 1936.19 405.741 Q1934.2 408.403 1934.2 413.056 Q1934.2 417.709 1936.17 420.394 Q1938.16 423.056 1941.61 423.056 Q1945.01 423.056 1947 420.371 Q1948.99 417.686 1948.99 413.056 Q1948.99 408.45 1947 405.764 Q1945.01 403.056 1941.61 403.056 M1941.61 399.445 Q1947.17 399.445 1950.34 403.056 Q1953.51 406.667 1953.51 413.056 Q1953.51 419.422 1950.34 423.056 Q1947.17 426.667 1941.61 426.667 Q1936.03 426.667 1932.86 423.056 Q1929.71 419.422 1929.71 413.056 Q1929.71 406.667 1932.86 403.056 Q1936.03 399.445 1941.61 399.445 Z\" fill=\"#000000\" fill-rule=\"evenodd\" fill-opacity=\"1\" /><path clip-path=\"url(#clip560)\" d=\"M 0 0 M1988.76 389.977 L1988.76 393.519 L1984.69 393.519 Q1982.4 393.519 1981.49 394.445 Q1980.61 395.371 1980.61 397.778 L1980.61 400.07 L1987.63 400.07 L1987.63 403.38 L1980.61 403.38 L1980.61 425.996 L1976.33 425.996 L1976.33 403.38 L1972.26 403.38 L1972.26 400.07 L1976.33 400.07 L1976.33 398.264 Q1976.33 393.936 1978.35 391.968 Q1980.36 389.977 1984.74 389.977 L1988.76 389.977 Z\" fill=\"#000000\" fill-rule=\"evenodd\" fill-opacity=\"1\" /><path clip-path=\"url(#clip560)\" d=\"M 0 0 M2004.11 412.963 Q1998.95 412.963 1996.96 414.144 Q1994.97 415.324 1994.97 418.172 Q1994.97 420.44 1996.45 421.783 Q1997.95 423.102 2000.52 423.102 Q2004.06 423.102 2006.19 420.602 Q2008.35 418.079 2008.35 413.912 L2008.35 412.963 L2004.11 412.963 M2012.61 411.204 L2012.61 425.996 L2008.35 425.996 L2008.35 422.061 Q2006.89 424.422 2004.71 425.556 Q2002.54 426.667 1999.39 426.667 Q1995.41 426.667 1993.05 424.445 Q1990.71 422.199 1990.71 418.449 Q1990.71 414.074 1993.62 411.852 Q1996.56 409.63 2002.37 409.63 L2008.35 409.63 L2008.35 409.213 Q2008.35 406.274 2006.4 404.676 Q2004.48 403.056 2000.98 403.056 Q1998.76 403.056 1996.66 403.588 Q1994.55 404.121 1992.61 405.186 L1992.61 401.25 Q1994.94 400.348 1997.14 399.908 Q1999.34 399.445 2001.42 399.445 Q2007.05 399.445 2009.83 402.362 Q2012.61 405.278 2012.61 411.204 Z\" fill=\"#000000\" fill-rule=\"evenodd\" fill-opacity=\"1\" /><path clip-path=\"url(#clip560)\" d=\"M 0 0 M2021.22 389.977 L2025.5 389.977 L2025.5 411.25 L2038.21 400.07 L2043.65 400.07 L2029.9 412.199 L2044.23 425.996 L2038.67 425.996 L2025.5 413.334 L2025.5 425.996 L2021.22 425.996 L2021.22 389.977 Z\" fill=\"#000000\" fill-rule=\"evenodd\" fill-opacity=\"1\" /><path clip-path=\"url(#clip560)\" d=\"M 0 0 M2053.04 392.709 L2053.04 400.07 L2061.82 400.07 L2061.82 403.38 L2053.04 403.38 L2053.04 417.454 Q2053.04 420.625 2053.9 421.528 Q2054.78 422.431 2057.44 422.431 L2061.82 422.431 L2061.82 425.996 L2057.44 425.996 Q2052.51 425.996 2050.64 424.167 Q2048.76 422.315 2048.76 417.454 L2048.76 403.38 L2045.64 403.38 L2045.64 400.07 L2048.76 400.07 L2048.76 392.709 L2053.04 392.709 Z\" fill=\"#000000\" fill-rule=\"evenodd\" fill-opacity=\"1\" /><path clip-path=\"url(#clip560)\" d=\"M 0 0 M2077.47 403.056 Q2074.04 403.056 2072.05 405.741 Q2070.06 408.403 2070.06 413.056 Q2070.06 417.709 2072.03 420.394 Q2074.02 423.056 2077.47 423.056 Q2080.87 423.056 2082.86 420.371 Q2084.85 417.686 2084.85 413.056 Q2084.85 408.45 2082.86 405.764 Q2080.87 403.056 2077.47 403.056 M2077.47 399.445 Q2083.02 399.445 2086.19 403.056 Q2089.36 406.667 2089.36 413.056 Q2089.36 419.422 2086.19 423.056 Q2083.02 426.667 2077.47 426.667 Q2071.89 426.667 2068.72 423.056 Q2065.57 419.422 2065.57 413.056 Q2065.57 406.667 2068.72 403.056 Q2071.89 399.445 2077.47 399.445 Z\" fill=\"#000000\" fill-rule=\"evenodd\" fill-opacity=\"1\" /><path clip-path=\"url(#clip560)\" d=\"M 0 0 M2111.45 404.051 Q2110.73 403.635 2109.87 403.45 Q2109.04 403.241 2108.02 403.241 Q2104.41 403.241 2102.47 405.602 Q2100.54 407.94 2100.54 412.338 L2100.54 425.996 L2096.26 425.996 L2096.26 400.07 L2100.54 400.07 L2100.54 404.098 Q2101.89 401.737 2104.04 400.602 Q2106.19 399.445 2109.27 399.445 Q2109.71 399.445 2110.24 399.514 Q2110.78 399.561 2111.42 399.676 L2111.45 404.051 Z\" fill=\"#000000\" fill-rule=\"evenodd\" fill-opacity=\"1\" /><path clip-path=\"url(#clip560)\" d=\"M 0 0 M2126.7 428.403 Q2124.9 433.033 2123.18 434.445 Q2121.47 435.857 2118.6 435.857 L2115.2 435.857 L2115.2 432.292 L2117.7 432.292 Q2119.46 432.292 2120.43 431.459 Q2121.4 430.625 2122.58 427.523 L2123.35 425.579 L2112.86 400.07 L2117.37 400.07 L2125.48 420.348 L2133.58 400.07 L2138.09 400.07 L2126.7 428.403 Z\" fill=\"#000000\" fill-rule=\"evenodd\" fill-opacity=\"1\" /><path clip-path=\"url(#clip560)\" d=\"M 0 0 M2142.12 400.07 L2162.35 400.07 L2162.35 403.959 L2146.33 422.593 L2162.35 422.593 L2162.35 425.996 L2141.54 425.996 L2141.54 422.107 L2157.56 403.473 L2142.12 403.473 L2142.12 400.07 Z\" fill=\"#000000\" fill-rule=\"evenodd\" fill-opacity=\"1\" /><path clip-path=\"url(#clip560)\" d=\"M 0 0 M2180.64 412.963 Q2175.47 412.963 2173.48 414.144 Q2171.49 415.324 2171.49 418.172 Q2171.49 420.44 2172.97 421.783 Q2174.48 423.102 2177.05 423.102 Q2180.59 423.102 2182.72 420.602 Q2184.87 418.079 2184.87 413.912 L2184.87 412.963 L2180.64 412.963 M2189.13 411.204 L2189.13 425.996 L2184.87 425.996 L2184.87 422.061 Q2183.41 424.422 2181.24 425.556 Q2179.06 426.667 2175.91 426.667 Q2171.93 426.667 2169.57 424.445 Q2167.23 422.199 2167.23 418.449 Q2167.23 414.074 2170.15 411.852 Q2173.09 409.63 2178.9 409.63 L2184.87 409.63 L2184.87 409.213 Q2184.87 406.274 2182.93 404.676 Q2181.01 403.056 2177.51 403.056 Q2175.29 403.056 2173.18 403.588 Q2171.08 404.121 2169.13 405.186 L2169.13 401.25 Q2171.47 400.348 2173.67 399.908 Q2175.87 399.445 2177.95 399.445 Q2183.58 399.445 2186.35 402.362 Q2189.13 405.278 2189.13 411.204 Z\" fill=\"#000000\" fill-rule=\"evenodd\" fill-opacity=\"1\" /><path clip-path=\"url(#clip560)\" d=\"M 0 0 M2216.56 401.065 L2216.56 405.047 Q2214.76 404.051 2212.93 403.565 Q2211.12 403.056 2209.27 403.056 Q2205.13 403.056 2202.84 405.695 Q2200.54 408.311 2200.54 413.056 Q2200.54 417.801 2202.84 420.44 Q2205.13 423.056 2209.27 423.056 Q2211.12 423.056 2212.93 422.57 Q2214.76 422.061 2216.56 421.065 L2216.56 425 Q2214.78 425.834 2212.86 426.25 Q2210.96 426.667 2208.81 426.667 Q2202.95 426.667 2199.5 422.986 Q2196.05 419.306 2196.05 413.056 Q2196.05 406.713 2199.53 403.079 Q2203.02 399.445 2209.09 399.445 Q2211.05 399.445 2212.93 399.862 Q2214.8 400.255 2216.56 401.065 Z\" fill=\"#000000\" fill-rule=\"evenodd\" fill-opacity=\"1\" /><path clip-path=\"url(#clip560)\" d=\"M 0 0 M2223.97 400.07 L2228.23 400.07 L2228.23 426.459 Q2228.23 431.412 2226.33 433.635 Q2224.46 435.857 2220.27 435.857 L2218.65 435.857 L2218.65 432.246 L2219.78 432.246 Q2222.21 432.246 2223.09 431.111 Q2223.97 430 2223.97 426.459 L2223.97 400.07 M2223.97 389.977 L2228.23 389.977 L2228.23 395.371 L2223.97 395.371 L2223.97 389.977 Z\" fill=\"#000000\" fill-rule=\"evenodd\" fill-opacity=\"1\" /><path clip-path=\"url(#clip560)\" d=\"M 0 0 M2237.14 400.07 L2241.4 400.07 L2241.4 425.996 L2237.14 425.996 L2237.14 400.07 M2237.14 389.977 L2241.4 389.977 L2241.4 395.371 L2237.14 395.371 L2237.14 389.977 Z\" fill=\"#000000\" fill-rule=\"evenodd\" fill-opacity=\"1\" /></svg>\n"
      ]
     },
     "execution_count": 23,
     "metadata": {},
     "output_type": "execute_result"
    }
   ],
   "source": [
    "scatter(tm.\"Średnia różnica dł.\", group=tm.Metoda, colour = [:red :blue :yellow :green], \n",
    "        yerr=tm.\"Odchylenie st. (dł)\")\n",
    "xlabel!(\"Metoda\")\n",
    "ylabel!(\"Średnia różnica długości wektorów\")\n",
    "title!(\"Jakość\")"
   ]
  },
  {
   "cell_type": "markdown",
   "metadata": {},
   "source": [
    "### Do policzenia współczynników wielomianu aproksymującego użyję pomiarów czasu mnożenia macierzy funkją \"better\" z Lab. 4"
   ]
  },
  {
   "cell_type": "code",
   "execution_count": 24,
   "metadata": {
    "scrolled": true
   },
   "outputs": [
    {
     "data": {
      "text/html": [
       "<table class=\"data-frame\"><thead><tr><th></th><th>Mnożenie</th><th>Wielkość macierzy</th><th>Średni czas wykonania</th><th>Odchylenie st.</th></tr><tr><th></th><th>String</th><th>Int64</th><th>Float64</th><th>Float64</th></tr></thead><tbody><p>10 rows × 4 columns</p><tr><th>1</th><td>Better</td><td>100</td><td>0.0470691</td><td>0.0455054</td></tr><tr><th>2</th><td>Better</td><td>200</td><td>0.0239522</td><td>0.0030377</td></tr><tr><th>3</th><td>Better</td><td>300</td><td>0.0828952</td><td>0.0127928</td></tr><tr><th>4</th><td>Better</td><td>400</td><td>0.17873</td><td>0.00777664</td></tr><tr><th>5</th><td>Better</td><td>500</td><td>0.340657</td><td>0.00580736</td></tr><tr><th>6</th><td>Better</td><td>600</td><td>0.610051</td><td>0.0238009</td></tr><tr><th>7</th><td>Better</td><td>700</td><td>0.962674</td><td>0.0283572</td></tr><tr><th>8</th><td>Better</td><td>800</td><td>1.47355</td><td>0.0585355</td></tr><tr><th>9</th><td>Better</td><td>900</td><td>2.07506</td><td>0.0561853</td></tr><tr><th>10</th><td>Better</td><td>1000</td><td>3.11606</td><td>0.316789</td></tr></tbody></table>"
      ],
      "text/latex": [
       "\\begin{tabular}{r|cccc}\n",
       "\t& Mnożenie & Wielkość macierzy & Średni czas wykonania & Odchylenie st.\\\\\n",
       "\t\\hline\n",
       "\t& String & Int64 & Float64 & Float64\\\\\n",
       "\t\\hline\n",
       "\t1 & Better & 100 & 0.0470691 & 0.0455054 \\\\\n",
       "\t2 & Better & 200 & 0.0239522 & 0.0030377 \\\\\n",
       "\t3 & Better & 300 & 0.0828952 & 0.0127928 \\\\\n",
       "\t4 & Better & 400 & 0.17873 & 0.00777664 \\\\\n",
       "\t5 & Better & 500 & 0.340657 & 0.00580736 \\\\\n",
       "\t6 & Better & 600 & 0.610051 & 0.0238009 \\\\\n",
       "\t7 & Better & 700 & 0.962674 & 0.0283572 \\\\\n",
       "\t8 & Better & 800 & 1.47355 & 0.0585355 \\\\\n",
       "\t9 & Better & 900 & 2.07506 & 0.0561853 \\\\\n",
       "\t10 & Better & 1000 & 3.11606 & 0.316789 \\\\\n",
       "\\end{tabular}\n"
      ],
      "text/plain": [
       "10×4 DataFrame\n",
       "│ Row │ Mnożenie │ Wielkość macierzy │ Średni czas wykonania │ Odchylenie st. │\n",
       "│     │ \u001b[90mString\u001b[39m   │ \u001b[90mInt64\u001b[39m             │ \u001b[90mFloat64\u001b[39m               │ \u001b[90mFloat64\u001b[39m        │\n",
       "├─────┼──────────┼───────────────────┼───────────────────────┼────────────────┤\n",
       "│ 1   │ Better   │ 100               │ 0.0470691             │ 0.0455054      │\n",
       "│ 2   │ Better   │ 200               │ 0.0239522             │ 0.0030377      │\n",
       "│ 3   │ Better   │ 300               │ 0.0828952             │ 0.0127928      │\n",
       "│ 4   │ Better   │ 400               │ 0.17873               │ 0.00777664     │\n",
       "│ 5   │ Better   │ 500               │ 0.340657              │ 0.00580736     │\n",
       "│ 6   │ Better   │ 600               │ 0.610051              │ 0.0238009      │\n",
       "│ 7   │ Better   │ 700               │ 0.962674              │ 0.0283572      │\n",
       "│ 8   │ Better   │ 800               │ 1.47355               │ 0.0585355      │\n",
       "│ 9   │ Better   │ 900               │ 2.07506               │ 0.0561853      │\n",
       "│ 10  │ Better   │ 1000              │ 3.11606               │ 0.316789       │"
      ]
     },
     "execution_count": 24,
     "metadata": {},
     "output_type": "execute_result"
    }
   ],
   "source": [
    "input = \"Pomiary2.csv\"\n",
    "pomiary=CSV.read(input, delim=\",\",DataFrame)"
   ]
  },
  {
   "cell_type": "markdown",
   "metadata": {},
   "source": [
    "Punkty użyte w macierzy:"
   ]
  },
  {
   "cell_type": "code",
   "execution_count": 33,
   "metadata": {},
   "outputs": [
    {
     "data": {
      "image/svg+xml": [
       "<?xml version=\"1.0\" encoding=\"utf-8\"?>\n",
       "<svg xmlns=\"http://www.w3.org/2000/svg\" xmlns:xlink=\"http://www.w3.org/1999/xlink\" width=\"600\" height=\"400\" viewBox=\"0 0 2400 1600\">\n",
       "<defs>\n",
       "  <clipPath id=\"clip600\">\n",
       "    <rect x=\"0\" y=\"0\" width=\"2400\" height=\"1600\"/>\n",
       "  </clipPath>\n",
       "</defs>\n",
       "<path clip-path=\"url(#clip600)\" d=\"\n",
       "M0 1600 L2400 1600 L2400 0 L0 0  Z\n",
       "  \" fill=\"#ffffff\" fill-rule=\"evenodd\" fill-opacity=\"1\"/>\n",
       "<defs>\n",
       "  <clipPath id=\"clip601\">\n",
       "    <rect x=\"480\" y=\"0\" width=\"1681\" height=\"1600\"/>\n",
       "  </clipPath>\n",
       "</defs>\n",
       "<path clip-path=\"url(#clip600)\" d=\"\n",
       "M174.149 1423.18 L2352.76 1423.18 L2352.76 47.2441 L174.149 47.2441  Z\n",
       "  \" fill=\"#ffffff\" fill-rule=\"evenodd\" fill-opacity=\"1\"/>\n",
       "<defs>\n",
       "  <clipPath id=\"clip602\">\n",
       "    <rect x=\"174\" y=\"47\" width=\"2180\" height=\"1377\"/>\n",
       "  </clipPath>\n",
       "</defs>\n",
       "<polyline clip-path=\"url(#clip602)\" style=\"stroke:#000000; stroke-width:2; stroke-opacity:0.1; fill:none\" points=\"\n",
       "  464.173,1423.18 464.173,47.2441 \n",
       "  \"/>\n",
       "<polyline clip-path=\"url(#clip602)\" style=\"stroke:#000000; stroke-width:2; stroke-opacity:0.1; fill:none\" points=\"\n",
       "  920.904,1423.18 920.904,47.2441 \n",
       "  \"/>\n",
       "<polyline clip-path=\"url(#clip602)\" style=\"stroke:#000000; stroke-width:2; stroke-opacity:0.1; fill:none\" points=\"\n",
       "  1377.64,1423.18 1377.64,47.2441 \n",
       "  \"/>\n",
       "<polyline clip-path=\"url(#clip602)\" style=\"stroke:#000000; stroke-width:2; stroke-opacity:0.1; fill:none\" points=\"\n",
       "  1834.37,1423.18 1834.37,47.2441 \n",
       "  \"/>\n",
       "<polyline clip-path=\"url(#clip602)\" style=\"stroke:#000000; stroke-width:2; stroke-opacity:0.1; fill:none\" points=\"\n",
       "  2291.1,1423.18 2291.1,47.2441 \n",
       "  \"/>\n",
       "<polyline clip-path=\"url(#clip600)\" style=\"stroke:#000000; stroke-width:4; stroke-opacity:1; fill:none\" points=\"\n",
       "  174.149,1423.18 2352.76,1423.18 \n",
       "  \"/>\n",
       "<polyline clip-path=\"url(#clip600)\" style=\"stroke:#000000; stroke-width:4; stroke-opacity:1; fill:none\" points=\"\n",
       "  464.173,1423.18 464.173,1406.67 \n",
       "  \"/>\n",
       "<polyline clip-path=\"url(#clip600)\" style=\"stroke:#000000; stroke-width:4; stroke-opacity:1; fill:none\" points=\"\n",
       "  920.904,1423.18 920.904,1406.67 \n",
       "  \"/>\n",
       "<polyline clip-path=\"url(#clip600)\" style=\"stroke:#000000; stroke-width:4; stroke-opacity:1; fill:none\" points=\"\n",
       "  1377.64,1423.18 1377.64,1406.67 \n",
       "  \"/>\n",
       "<polyline clip-path=\"url(#clip600)\" style=\"stroke:#000000; stroke-width:4; stroke-opacity:1; fill:none\" points=\"\n",
       "  1834.37,1423.18 1834.37,1406.67 \n",
       "  \"/>\n",
       "<polyline clip-path=\"url(#clip600)\" style=\"stroke:#000000; stroke-width:4; stroke-opacity:1; fill:none\" points=\"\n",
       "  2291.1,1423.18 2291.1,1406.67 \n",
       "  \"/>\n",
       "<path clip-path=\"url(#clip600)\" d=\"M 0 0 M427.865 1479.92 L444.185 1479.92 L444.185 1483.85 L422.24 1483.85 L422.24 1479.92 Q424.902 1477.16 429.486 1472.53 Q434.092 1467.88 435.273 1466.54 Q437.518 1464.01 438.398 1462.28 Q439.301 1460.52 439.301 1458.83 Q439.301 1456.07 437.356 1454.34 Q435.435 1452.6 432.333 1452.6 Q430.134 1452.6 427.68 1453.37 Q425.25 1454.13 422.472 1455.68 L422.472 1450.96 Q425.296 1449.82 427.75 1449.25 Q430.203 1448.67 432.24 1448.67 Q437.611 1448.67 440.805 1451.35 Q444 1454.04 444 1458.53 Q444 1460.66 443.189 1462.58 Q442.402 1464.48 440.296 1467.07 Q439.717 1467.74 436.615 1470.96 Q433.514 1474.15 427.865 1479.92 Z\" fill=\"#000000\" fill-rule=\"evenodd\" fill-opacity=\"1\" /><path clip-path=\"url(#clip600)\" d=\"M 0 0 M464 1452.37 Q460.388 1452.37 458.56 1455.94 Q456.754 1459.48 456.754 1466.61 Q456.754 1473.71 458.56 1477.28 Q460.388 1480.82 464 1480.82 Q467.634 1480.82 469.439 1477.28 Q471.268 1473.71 471.268 1466.61 Q471.268 1459.48 469.439 1455.94 Q467.634 1452.37 464 1452.37 M464 1448.67 Q469.81 1448.67 472.865 1453.27 Q475.944 1457.86 475.944 1466.61 Q475.944 1475.33 472.865 1479.94 Q469.81 1484.52 464 1484.52 Q458.189 1484.52 455.111 1479.94 Q452.055 1475.33 452.055 1466.61 Q452.055 1457.86 455.111 1453.27 Q458.189 1448.67 464 1448.67 Z\" fill=\"#000000\" fill-rule=\"evenodd\" fill-opacity=\"1\" /><path clip-path=\"url(#clip600)\" d=\"M 0 0 M494.161 1452.37 Q490.55 1452.37 488.722 1455.94 Q486.916 1459.48 486.916 1466.61 Q486.916 1473.71 488.722 1477.28 Q490.55 1480.82 494.161 1480.82 Q497.796 1480.82 499.601 1477.28 Q501.43 1473.71 501.43 1466.61 Q501.43 1459.48 499.601 1455.94 Q497.796 1452.37 494.161 1452.37 M494.161 1448.67 Q499.972 1448.67 503.027 1453.27 Q506.106 1457.86 506.106 1466.61 Q506.106 1475.33 503.027 1479.94 Q499.972 1484.52 494.161 1484.52 Q488.351 1484.52 485.273 1479.94 Q482.217 1475.33 482.217 1466.61 Q482.217 1457.86 485.273 1453.27 Q488.351 1448.67 494.161 1448.67 Z\" fill=\"#000000\" fill-rule=\"evenodd\" fill-opacity=\"1\" /><path clip-path=\"url(#clip600)\" d=\"M 0 0 M893.995 1453.37 L882.189 1471.81 L893.995 1471.81 L893.995 1453.37 M892.768 1449.29 L898.647 1449.29 L898.647 1471.81 L903.578 1471.81 L903.578 1475.7 L898.647 1475.7 L898.647 1483.85 L893.995 1483.85 L893.995 1475.7 L878.393 1475.7 L878.393 1471.19 L892.768 1449.29 Z\" fill=\"#000000\" fill-rule=\"evenodd\" fill-opacity=\"1\" /><path clip-path=\"url(#clip600)\" d=\"M 0 0 M921.309 1452.37 Q917.698 1452.37 915.869 1455.94 Q914.064 1459.48 914.064 1466.61 Q914.064 1473.71 915.869 1477.28 Q917.698 1480.82 921.309 1480.82 Q924.943 1480.82 926.749 1477.28 Q928.578 1473.71 928.578 1466.61 Q928.578 1459.48 926.749 1455.94 Q924.943 1452.37 921.309 1452.37 M921.309 1448.67 Q927.119 1448.67 930.175 1453.27 Q933.254 1457.86 933.254 1466.61 Q933.254 1475.33 930.175 1479.94 Q927.119 1484.52 921.309 1484.52 Q915.499 1484.52 912.42 1479.94 Q909.365 1475.33 909.365 1466.61 Q909.365 1457.86 912.42 1453.27 Q915.499 1448.67 921.309 1448.67 Z\" fill=\"#000000\" fill-rule=\"evenodd\" fill-opacity=\"1\" /><path clip-path=\"url(#clip600)\" d=\"M 0 0 M951.471 1452.37 Q947.86 1452.37 946.031 1455.94 Q944.226 1459.48 944.226 1466.61 Q944.226 1473.71 946.031 1477.28 Q947.86 1480.82 951.471 1480.82 Q955.105 1480.82 956.911 1477.28 Q958.74 1473.71 958.74 1466.61 Q958.74 1459.48 956.911 1455.94 Q955.105 1452.37 951.471 1452.37 M951.471 1448.67 Q957.281 1448.67 960.337 1453.27 Q963.415 1457.86 963.415 1466.61 Q963.415 1475.33 960.337 1479.94 Q957.281 1484.52 951.471 1484.52 Q945.661 1484.52 942.582 1479.94 Q939.527 1475.33 939.527 1466.61 Q939.527 1457.86 942.582 1453.27 Q945.661 1448.67 951.471 1448.67 Z\" fill=\"#000000\" fill-rule=\"evenodd\" fill-opacity=\"1\" /><path clip-path=\"url(#clip600)\" d=\"M 0 0 M1347.96 1464.71 Q1344.81 1464.71 1342.96 1466.86 Q1341.13 1469.01 1341.13 1472.76 Q1341.13 1476.49 1342.96 1478.67 Q1344.81 1480.82 1347.96 1480.82 Q1351.11 1480.82 1352.94 1478.67 Q1354.79 1476.49 1354.79 1472.76 Q1354.79 1469.01 1352.94 1466.86 Q1351.11 1464.71 1347.96 1464.71 M1357.24 1450.06 L1357.24 1454.31 Q1355.48 1453.48 1353.68 1453.04 Q1351.89 1452.6 1350.14 1452.6 Q1345.51 1452.6 1343.05 1455.73 Q1340.62 1458.85 1340.27 1465.17 Q1341.64 1463.16 1343.7 1462.09 Q1345.76 1461 1348.24 1461 Q1353.45 1461 1356.45 1464.18 Q1359.49 1467.32 1359.49 1472.76 Q1359.49 1478.09 1356.34 1481.31 Q1353.19 1484.52 1347.96 1484.52 Q1341.96 1484.52 1338.79 1479.94 Q1335.62 1475.33 1335.62 1466.61 Q1335.62 1458.41 1339.51 1453.55 Q1343.4 1448.67 1349.95 1448.67 Q1351.71 1448.67 1353.49 1449.01 Q1355.3 1449.36 1357.24 1450.06 Z\" fill=\"#000000\" fill-rule=\"evenodd\" fill-opacity=\"1\" /><path clip-path=\"url(#clip600)\" d=\"M 0 0 M1377.54 1452.37 Q1373.93 1452.37 1372.1 1455.94 Q1370.3 1459.48 1370.3 1466.61 Q1370.3 1473.71 1372.1 1477.28 Q1373.93 1480.82 1377.54 1480.82 Q1381.18 1480.82 1382.98 1477.28 Q1384.81 1473.71 1384.81 1466.61 Q1384.81 1459.48 1382.98 1455.94 Q1381.18 1452.37 1377.54 1452.37 M1377.54 1448.67 Q1383.35 1448.67 1386.41 1453.27 Q1389.49 1457.86 1389.49 1466.61 Q1389.49 1475.33 1386.41 1479.94 Q1383.35 1484.52 1377.54 1484.52 Q1371.73 1484.52 1368.65 1479.94 Q1365.6 1475.33 1365.6 1466.61 Q1365.6 1457.86 1368.65 1453.27 Q1371.73 1448.67 1377.54 1448.67 Z\" fill=\"#000000\" fill-rule=\"evenodd\" fill-opacity=\"1\" /><path clip-path=\"url(#clip600)\" d=\"M 0 0 M1407.7 1452.37 Q1404.09 1452.37 1402.26 1455.94 Q1400.46 1459.48 1400.46 1466.61 Q1400.46 1473.71 1402.26 1477.28 Q1404.09 1480.82 1407.7 1480.82 Q1411.34 1480.82 1413.14 1477.28 Q1414.97 1473.71 1414.97 1466.61 Q1414.97 1459.48 1413.14 1455.94 Q1411.34 1452.37 1407.7 1452.37 M1407.7 1448.67 Q1413.51 1448.67 1416.57 1453.27 Q1419.65 1457.86 1419.65 1466.61 Q1419.65 1475.33 1416.57 1479.94 Q1413.51 1484.52 1407.7 1484.52 Q1401.89 1484.52 1398.82 1479.94 Q1395.76 1475.33 1395.76 1466.61 Q1395.76 1457.86 1398.82 1453.27 Q1401.89 1448.67 1407.7 1448.67 Z\" fill=\"#000000\" fill-rule=\"evenodd\" fill-opacity=\"1\" /><path clip-path=\"url(#clip600)\" d=\"M 0 0 M1804.16 1467.44 Q1800.82 1467.44 1798.9 1469.22 Q1797.01 1471 1797.01 1474.13 Q1797.01 1477.25 1798.9 1479.04 Q1800.82 1480.82 1804.16 1480.82 Q1807.49 1480.82 1809.41 1479.04 Q1811.33 1477.23 1811.33 1474.13 Q1811.33 1471 1809.41 1469.22 Q1807.51 1467.44 1804.16 1467.44 M1799.48 1465.45 Q1796.47 1464.71 1794.78 1462.65 Q1793.12 1460.59 1793.12 1457.63 Q1793.12 1453.48 1796.06 1451.07 Q1799.02 1448.67 1804.16 1448.67 Q1809.32 1448.67 1812.26 1451.07 Q1815.2 1453.48 1815.2 1457.63 Q1815.2 1460.59 1813.51 1462.65 Q1811.84 1464.71 1808.86 1465.45 Q1812.24 1466.24 1814.11 1468.53 Q1816.01 1470.82 1816.01 1474.13 Q1816.01 1479.15 1812.93 1481.84 Q1809.88 1484.52 1804.16 1484.52 Q1798.44 1484.52 1795.36 1481.84 Q1792.31 1479.15 1792.31 1474.13 Q1792.31 1470.82 1794.2 1468.53 Q1796.1 1466.24 1799.48 1465.45 M1797.77 1458.06 Q1797.77 1460.75 1799.44 1462.25 Q1801.13 1463.76 1804.16 1463.76 Q1807.17 1463.76 1808.86 1462.25 Q1810.57 1460.75 1810.57 1458.06 Q1810.57 1455.38 1808.86 1453.88 Q1807.17 1452.37 1804.16 1452.37 Q1801.13 1452.37 1799.44 1453.88 Q1797.77 1455.38 1797.77 1458.06 Z\" fill=\"#000000\" fill-rule=\"evenodd\" fill-opacity=\"1\" /><path clip-path=\"url(#clip600)\" d=\"M 0 0 M1834.32 1452.37 Q1830.71 1452.37 1828.88 1455.94 Q1827.07 1459.48 1827.07 1466.61 Q1827.07 1473.71 1828.88 1477.28 Q1830.71 1480.82 1834.32 1480.82 Q1837.95 1480.82 1839.76 1477.28 Q1841.59 1473.71 1841.59 1466.61 Q1841.59 1459.48 1839.76 1455.94 Q1837.95 1452.37 1834.32 1452.37 M1834.32 1448.67 Q1840.13 1448.67 1843.19 1453.27 Q1846.26 1457.86 1846.26 1466.61 Q1846.26 1475.33 1843.19 1479.94 Q1840.13 1484.52 1834.32 1484.52 Q1828.51 1484.52 1825.43 1479.94 Q1822.38 1475.33 1822.38 1466.61 Q1822.38 1457.86 1825.43 1453.27 Q1828.51 1448.67 1834.32 1448.67 Z\" fill=\"#000000\" fill-rule=\"evenodd\" fill-opacity=\"1\" /><path clip-path=\"url(#clip600)\" d=\"M 0 0 M1864.48 1452.37 Q1860.87 1452.37 1859.04 1455.94 Q1857.24 1459.48 1857.24 1466.61 Q1857.24 1473.71 1859.04 1477.28 Q1860.87 1480.82 1864.48 1480.82 Q1868.12 1480.82 1869.92 1477.28 Q1871.75 1473.71 1871.75 1466.61 Q1871.75 1459.48 1869.92 1455.94 Q1868.12 1452.37 1864.48 1452.37 M1864.48 1448.67 Q1870.29 1448.67 1873.35 1453.27 Q1876.43 1457.86 1876.43 1466.61 Q1876.43 1475.33 1873.35 1479.94 Q1870.29 1484.52 1864.48 1484.52 Q1858.67 1484.52 1855.59 1479.94 Q1852.54 1475.33 1852.54 1466.61 Q1852.54 1457.86 1855.59 1453.27 Q1858.67 1448.67 1864.48 1448.67 Z\" fill=\"#000000\" fill-rule=\"evenodd\" fill-opacity=\"1\" /><path clip-path=\"url(#clip600)\" d=\"M 0 0 M2235.62 1479.92 L2243.26 1479.92 L2243.26 1453.55 L2234.95 1455.22 L2234.95 1450.96 L2243.22 1449.29 L2247.89 1449.29 L2247.89 1479.92 L2255.53 1479.92 L2255.53 1483.85 L2235.62 1483.85 L2235.62 1479.92 Z\" fill=\"#000000\" fill-rule=\"evenodd\" fill-opacity=\"1\" /><path clip-path=\"url(#clip600)\" d=\"M 0 0 M2274.97 1452.37 Q2271.36 1452.37 2269.53 1455.94 Q2267.73 1459.48 2267.73 1466.61 Q2267.73 1473.71 2269.53 1477.28 Q2271.36 1480.82 2274.97 1480.82 Q2278.61 1480.82 2280.41 1477.28 Q2282.24 1473.71 2282.24 1466.61 Q2282.24 1459.48 2280.41 1455.94 Q2278.61 1452.37 2274.97 1452.37 M2274.97 1448.67 Q2280.78 1448.67 2283.84 1453.27 Q2286.92 1457.86 2286.92 1466.61 Q2286.92 1475.33 2283.84 1479.94 Q2280.78 1484.52 2274.97 1484.52 Q2269.16 1484.52 2266.09 1479.94 Q2263.03 1475.33 2263.03 1466.61 Q2263.03 1457.86 2266.09 1453.27 Q2269.16 1448.67 2274.97 1448.67 Z\" fill=\"#000000\" fill-rule=\"evenodd\" fill-opacity=\"1\" /><path clip-path=\"url(#clip600)\" d=\"M 0 0 M2305.14 1452.37 Q2301.53 1452.37 2299.7 1455.94 Q2297.89 1459.48 2297.89 1466.61 Q2297.89 1473.71 2299.7 1477.28 Q2301.53 1480.82 2305.14 1480.82 Q2308.77 1480.82 2310.58 1477.28 Q2312.4 1473.71 2312.4 1466.61 Q2312.4 1459.48 2310.58 1455.94 Q2308.77 1452.37 2305.14 1452.37 M2305.14 1448.67 Q2310.95 1448.67 2314 1453.27 Q2317.08 1457.86 2317.08 1466.61 Q2317.08 1475.33 2314 1479.94 Q2310.95 1484.52 2305.14 1484.52 Q2299.33 1484.52 2296.25 1479.94 Q2293.19 1475.33 2293.19 1466.61 Q2293.19 1457.86 2296.25 1453.27 Q2299.33 1448.67 2305.14 1448.67 Z\" fill=\"#000000\" fill-rule=\"evenodd\" fill-opacity=\"1\" /><path clip-path=\"url(#clip600)\" d=\"M 0 0 M2335.3 1452.37 Q2331.69 1452.37 2329.86 1455.94 Q2328.05 1459.48 2328.05 1466.61 Q2328.05 1473.71 2329.86 1477.28 Q2331.69 1480.82 2335.3 1480.82 Q2338.93 1480.82 2340.74 1477.28 Q2342.57 1473.71 2342.57 1466.61 Q2342.57 1459.48 2340.74 1455.94 Q2338.93 1452.37 2335.3 1452.37 M2335.3 1448.67 Q2341.11 1448.67 2344.16 1453.27 Q2347.24 1457.86 2347.24 1466.61 Q2347.24 1475.33 2344.16 1479.94 Q2341.11 1484.52 2335.3 1484.52 Q2329.49 1484.52 2326.41 1479.94 Q2323.35 1475.33 2323.35 1466.61 Q2323.35 1457.86 2326.41 1453.27 Q2329.49 1448.67 2335.3 1448.67 Z\" fill=\"#000000\" fill-rule=\"evenodd\" fill-opacity=\"1\" /><path clip-path=\"url(#clip600)\" d=\"M 0 0 M964.376 1520.52 L970.869 1520.52 L980.863 1560.69 L990.825 1520.52 L998.05 1520.52 L1008.04 1560.69 L1018.01 1520.52 L1024.53 1520.52 L1012.6 1568.04 L1004.51 1568.04 L994.485 1526.79 L984.364 1568.04 L976.279 1568.04 L964.376 1520.52 Z\" fill=\"#000000\" fill-rule=\"evenodd\" fill-opacity=\"1\" /><path clip-path=\"url(#clip600)\" d=\"M 0 0 M1031.37 1532.4 L1037.23 1532.4 L1037.23 1568.04 L1031.37 1568.04 L1031.37 1532.4 M1031.37 1518.52 L1037.23 1518.52 L1037.23 1525.93 L1031.37 1525.93 L1031.37 1518.52 Z\" fill=\"#000000\" fill-rule=\"evenodd\" fill-opacity=\"1\" /><path clip-path=\"url(#clip600)\" d=\"M 0 0 M1079.98 1548.76 L1079.98 1551.62 L1053.05 1551.62 Q1053.43 1557.67 1056.68 1560.85 Q1059.96 1564 1065.78 1564 Q1069.16 1564 1072.31 1563.17 Q1075.49 1562.35 1078.61 1560.69 L1078.61 1566.23 Q1075.46 1567.57 1072.15 1568.27 Q1068.84 1568.97 1065.43 1568.97 Q1056.9 1568.97 1051.9 1564 Q1046.94 1559.04 1046.94 1550.57 Q1046.94 1541.82 1051.65 1536.69 Q1056.39 1531.54 1064.41 1531.54 Q1071.61 1531.54 1075.78 1536.18 Q1079.98 1540.8 1079.98 1548.76 M1074.12 1547.04 Q1074.06 1542.23 1071.41 1539.37 Q1068.81 1536.5 1064.48 1536.5 Q1059.57 1536.5 1056.61 1539.27 Q1053.69 1542.04 1053.24 1547.07 L1074.12 1547.04 Z\" fill=\"#000000\" fill-rule=\"evenodd\" fill-opacity=\"1\" /><path clip-path=\"url(#clip600)\" d=\"M 0 0 M1089.59 1518.52 L1095.45 1518.52 L1095.45 1568.04 L1089.59 1568.04 L1089.59 1518.52 Z\" fill=\"#000000\" fill-rule=\"evenodd\" fill-opacity=\"1\" /><path clip-path=\"url(#clip600)\" d=\"M 0 0 M1107.48 1518.52 L1113.36 1518.52 L1113.36 1547.77 L1130.84 1532.4 L1138.32 1532.4 L1119.41 1549.07 L1139.11 1568.04 L1131.48 1568.04 L1113.36 1550.63 L1113.36 1568.04 L1107.48 1568.04 L1107.48 1518.52 Z\" fill=\"#000000\" fill-rule=\"evenodd\" fill-opacity=\"1\" /><path clip-path=\"url(#clip600)\" d=\"M 0 0 M1156.94 1536.5 Q1152.23 1536.5 1149.49 1540.19 Q1146.75 1543.85 1146.75 1550.25 Q1146.75 1556.65 1149.46 1560.34 Q1152.2 1564 1156.94 1564 Q1161.62 1564 1164.35 1560.31 Q1167.09 1556.62 1167.09 1550.25 Q1167.09 1543.92 1164.35 1540.23 Q1161.62 1536.5 1156.94 1536.5 M1156.94 1531.54 Q1164.58 1531.54 1168.94 1536.5 Q1173.3 1541.47 1173.3 1550.25 Q1173.3 1559 1168.94 1564 Q1164.58 1568.97 1156.94 1568.97 Q1149.27 1568.97 1144.91 1564 Q1140.58 1559 1140.58 1550.25 Q1140.58 1541.47 1144.91 1536.5 Q1149.27 1531.54 1156.94 1531.54 Z\" fill=\"#000000\" fill-rule=\"evenodd\" fill-opacity=\"1\" /><path clip-path=\"url(#clip600)\" d=\"M 0 0 M1199.68 1515.69 L1206.02 1515.69 L1195.64 1527.65 L1190.77 1527.65 L1199.68 1515.69 M1205.73 1533.45 L1205.73 1538.98 Q1203.25 1537.71 1200.58 1537.07 Q1197.9 1536.44 1195.04 1536.44 Q1190.68 1536.44 1188.48 1537.77 Q1186.32 1539.11 1186.32 1541.79 Q1186.32 1543.82 1187.88 1545 Q1189.44 1546.15 1194.15 1547.2 L1196.15 1547.64 Q1202.39 1548.98 1205 1551.43 Q1207.64 1553.85 1207.64 1558.21 Q1207.64 1563.17 1203.69 1566.07 Q1199.78 1568.97 1192.9 1568.97 Q1190.04 1568.97 1186.92 1568.39 Q1183.83 1567.85 1180.4 1566.74 L1180.4 1560.69 Q1183.64 1562.38 1186.79 1563.24 Q1189.94 1564.07 1193.03 1564.07 Q1197.17 1564.07 1199.4 1562.66 Q1201.63 1561.23 1201.63 1558.65 Q1201.63 1556.27 1200 1554.99 Q1198.41 1553.72 1192.97 1552.54 L1190.93 1552.07 Q1185.49 1550.92 1183.07 1548.56 Q1180.65 1546.18 1180.65 1542.04 Q1180.65 1537.01 1184.22 1534.27 Q1187.78 1531.54 1194.34 1531.54 Q1197.58 1531.54 1200.45 1532.01 Q1203.31 1532.49 1205.73 1533.45 Z\" fill=\"#000000\" fill-rule=\"evenodd\" fill-opacity=\"1\" /><path clip-path=\"url(#clip600)\" d=\"M 0 0 M1242.62 1533.76 L1242.62 1539.24 Q1240.14 1537.87 1237.62 1537.2 Q1235.14 1536.5 1232.59 1536.5 Q1226.9 1536.5 1223.75 1540.13 Q1220.6 1543.73 1220.6 1550.25 Q1220.6 1556.78 1223.75 1560.4 Q1226.9 1564 1232.59 1564 Q1235.14 1564 1237.62 1563.33 Q1240.14 1562.63 1242.62 1561.26 L1242.62 1566.68 Q1240.17 1567.82 1237.53 1568.39 Q1234.92 1568.97 1231.96 1568.97 Q1223.91 1568.97 1219.16 1563.91 Q1214.42 1558.85 1214.42 1550.25 Q1214.42 1541.53 1219.19 1536.53 Q1224 1531.54 1232.34 1531.54 Q1235.05 1531.54 1237.62 1532.11 Q1240.2 1532.65 1242.62 1533.76 M1235.9 1515.91 L1242.24 1515.91 L1231.86 1527.88 L1226.99 1527.88 L1235.9 1515.91 Z\" fill=\"#000000\" fill-rule=\"evenodd\" fill-opacity=\"1\" /><path clip-path=\"url(#clip600)\" d=\"M 0 0 M1301.28 1539.24 Q1303.48 1535.29 1306.53 1533.41 Q1309.59 1531.54 1313.73 1531.54 Q1319.3 1531.54 1322.32 1535.45 Q1325.34 1539.33 1325.34 1546.53 L1325.34 1568.04 L1319.45 1568.04 L1319.45 1546.72 Q1319.45 1541.59 1317.64 1539.11 Q1315.83 1536.63 1312.1 1536.63 Q1307.55 1536.63 1304.91 1539.65 Q1302.27 1542.68 1302.27 1547.9 L1302.27 1568.04 L1296.38 1568.04 L1296.38 1546.72 Q1296.38 1541.56 1294.56 1539.11 Q1292.75 1536.63 1288.96 1536.63 Q1284.48 1536.63 1281.83 1539.68 Q1279.19 1542.71 1279.19 1547.9 L1279.19 1568.04 L1273.3 1568.04 L1273.3 1532.4 L1279.19 1532.4 L1279.19 1537.93 Q1281.2 1534.66 1284 1533.1 Q1286.8 1531.54 1290.65 1531.54 Q1294.53 1531.54 1297.24 1533.51 Q1299.98 1535.48 1301.28 1539.24 Z\" fill=\"#000000\" fill-rule=\"evenodd\" fill-opacity=\"1\" /><path clip-path=\"url(#clip600)\" d=\"M 0 0 M1353.22 1550.12 Q1346.13 1550.12 1343.39 1551.75 Q1340.65 1553.37 1340.65 1557.29 Q1340.65 1560.4 1342.69 1562.25 Q1344.76 1564.07 1348.29 1564.07 Q1353.16 1564.07 1356.09 1560.63 Q1359.05 1557.16 1359.05 1551.43 L1359.05 1550.12 L1353.22 1550.12 M1364.91 1547.71 L1364.91 1568.04 L1359.05 1568.04 L1359.05 1562.63 Q1357.04 1565.88 1354.05 1567.44 Q1351.06 1568.97 1346.73 1568.97 Q1341.26 1568.97 1338.01 1565.91 Q1334.8 1562.82 1334.8 1557.67 Q1334.8 1551.65 1338.81 1548.6 Q1342.85 1545.54 1350.84 1545.54 L1359.05 1545.54 L1359.05 1544.97 Q1359.05 1540.93 1356.38 1538.73 Q1353.73 1536.5 1348.93 1536.5 Q1345.87 1536.5 1342.98 1537.23 Q1340.08 1537.97 1337.41 1539.43 L1337.41 1534.02 Q1340.62 1532.78 1343.64 1532.17 Q1346.67 1531.54 1349.53 1531.54 Q1357.27 1531.54 1361.09 1535.55 Q1364.91 1539.56 1364.91 1547.71 Z\" fill=\"#000000\" fill-rule=\"evenodd\" fill-opacity=\"1\" /><path clip-path=\"url(#clip600)\" d=\"M 0 0 M1402.62 1533.76 L1402.62 1539.24 Q1400.14 1537.87 1397.63 1537.2 Q1395.14 1536.5 1392.6 1536.5 Q1386.9 1536.5 1383.75 1540.13 Q1380.6 1543.73 1380.6 1550.25 Q1380.6 1556.78 1383.75 1560.4 Q1386.9 1564 1392.6 1564 Q1395.14 1564 1397.63 1563.33 Q1400.14 1562.63 1402.62 1561.26 L1402.62 1566.68 Q1400.17 1567.82 1397.53 1568.39 Q1394.92 1568.97 1391.96 1568.97 Q1383.91 1568.97 1379.17 1563.91 Q1374.42 1558.85 1374.42 1550.25 Q1374.42 1541.53 1379.2 1536.53 Q1384 1531.54 1392.34 1531.54 Q1395.05 1531.54 1397.63 1532.11 Q1400.2 1532.65 1402.62 1533.76 Z\" fill=\"#000000\" fill-rule=\"evenodd\" fill-opacity=\"1\" /><path clip-path=\"url(#clip600)\" d=\"M 0 0 M1412.81 1532.4 L1418.66 1532.4 L1418.66 1568.04 L1412.81 1568.04 L1412.81 1532.4 M1412.81 1518.52 L1418.66 1518.52 L1418.66 1525.93 L1412.81 1525.93 L1412.81 1518.52 Z\" fill=\"#000000\" fill-rule=\"evenodd\" fill-opacity=\"1\" /><path clip-path=\"url(#clip600)\" d=\"M 0 0 M1461.41 1548.76 L1461.41 1551.62 L1434.48 1551.62 Q1434.86 1557.67 1438.11 1560.85 Q1441.39 1564 1447.21 1564 Q1450.59 1564 1453.74 1563.17 Q1456.92 1562.35 1460.04 1560.69 L1460.04 1566.23 Q1456.89 1567.57 1453.58 1568.27 Q1450.27 1568.97 1446.86 1568.97 Q1438.33 1568.97 1433.34 1564 Q1428.37 1559.04 1428.37 1550.57 Q1428.37 1541.82 1433.08 1536.69 Q1437.83 1531.54 1445.85 1531.54 Q1453.04 1531.54 1457.21 1536.18 Q1461.41 1540.8 1461.41 1548.76 M1455.55 1547.04 Q1455.49 1542.23 1452.85 1539.37 Q1450.24 1536.5 1445.91 1536.5 Q1441.01 1536.5 1438.05 1539.27 Q1435.12 1542.04 1434.67 1547.07 L1455.55 1547.04 Z\" fill=\"#000000\" fill-rule=\"evenodd\" fill-opacity=\"1\" /><path clip-path=\"url(#clip600)\" d=\"M 0 0 M1491.68 1537.87 Q1490.69 1537.3 1489.51 1537.04 Q1488.37 1536.76 1486.97 1536.76 Q1482 1536.76 1479.33 1540 Q1476.69 1543.22 1476.69 1549.27 L1476.69 1568.04 L1470.8 1568.04 L1470.8 1532.4 L1476.69 1532.4 L1476.69 1537.93 Q1478.53 1534.69 1481.49 1533.13 Q1484.45 1531.54 1488.69 1531.54 Q1489.29 1531.54 1490.02 1531.63 Q1490.76 1531.7 1491.65 1531.85 L1491.68 1537.87 Z\" fill=\"#000000\" fill-rule=\"evenodd\" fill-opacity=\"1\" /><path clip-path=\"url(#clip600)\" d=\"M 0 0 M1495.28 1532.4 L1523.09 1532.4 L1523.09 1537.74 L1501.07 1563.37 L1523.09 1563.37 L1523.09 1568.04 L1494.48 1568.04 L1494.48 1562.7 L1516.51 1537.07 L1495.28 1537.07 L1495.28 1532.4 Z\" fill=\"#000000\" fill-rule=\"evenodd\" fill-opacity=\"1\" /><path clip-path=\"url(#clip600)\" d=\"M 0 0 M1546.87 1571.35 Q1544.39 1577.72 1542.03 1579.66 Q1539.68 1581.6 1535.73 1581.6 L1531.05 1581.6 L1531.05 1576.7 L1534.49 1576.7 Q1536.91 1576.7 1538.24 1575.56 Q1539.58 1574.41 1541.2 1570.14 L1542.25 1567.47 L1527.84 1532.4 L1534.04 1532.4 L1545.18 1560.28 L1556.32 1532.4 L1562.53 1532.4 L1546.87 1571.35 Z\" fill=\"#000000\" fill-rule=\"evenodd\" fill-opacity=\"1\" /><polyline clip-path=\"url(#clip602)\" style=\"stroke:#000000; stroke-width:2; stroke-opacity:0.1; fill:none\" points=\"\n",
       "  174.149,1384.83 2352.76,1384.83 \n",
       "  \"/>\n",
       "<polyline clip-path=\"url(#clip602)\" style=\"stroke:#000000; stroke-width:2; stroke-opacity:0.1; fill:none\" points=\"\n",
       "  174.149,1006.53 2352.76,1006.53 \n",
       "  \"/>\n",
       "<polyline clip-path=\"url(#clip602)\" style=\"stroke:#000000; stroke-width:2; stroke-opacity:0.1; fill:none\" points=\"\n",
       "  174.149,628.232 2352.76,628.232 \n",
       "  \"/>\n",
       "<polyline clip-path=\"url(#clip602)\" style=\"stroke:#000000; stroke-width:2; stroke-opacity:0.1; fill:none\" points=\"\n",
       "  174.149,249.933 2352.76,249.933 \n",
       "  \"/>\n",
       "<polyline clip-path=\"url(#clip600)\" style=\"stroke:#000000; stroke-width:4; stroke-opacity:1; fill:none\" points=\"\n",
       "  174.149,1423.18 174.149,47.2441 \n",
       "  \"/>\n",
       "<polyline clip-path=\"url(#clip600)\" style=\"stroke:#000000; stroke-width:4; stroke-opacity:1; fill:none\" points=\"\n",
       "  174.149,1384.83 200.292,1384.83 \n",
       "  \"/>\n",
       "<polyline clip-path=\"url(#clip600)\" style=\"stroke:#000000; stroke-width:4; stroke-opacity:1; fill:none\" points=\"\n",
       "  174.149,1006.53 200.292,1006.53 \n",
       "  \"/>\n",
       "<polyline clip-path=\"url(#clip600)\" style=\"stroke:#000000; stroke-width:4; stroke-opacity:1; fill:none\" points=\"\n",
       "  174.149,628.232 200.292,628.232 \n",
       "  \"/>\n",
       "<polyline clip-path=\"url(#clip600)\" style=\"stroke:#000000; stroke-width:4; stroke-opacity:1; fill:none\" points=\"\n",
       "  174.149,249.933 200.292,249.933 \n",
       "  \"/>\n",
       "<path clip-path=\"url(#clip600)\" d=\"M 0 0 M126.205 1370.63 Q122.593 1370.63 120.765 1374.19 Q118.959 1377.73 118.959 1384.86 Q118.959 1391.97 120.765 1395.54 Q122.593 1399.08 126.205 1399.08 Q129.839 1399.08 131.644 1395.54 Q133.473 1391.97 133.473 1384.86 Q133.473 1377.73 131.644 1374.19 Q129.839 1370.63 126.205 1370.63 M126.205 1366.92 Q132.015 1366.92 135.07 1371.53 Q138.149 1376.11 138.149 1384.86 Q138.149 1393.59 135.07 1398.2 Q132.015 1402.78 126.205 1402.78 Q120.394 1402.78 117.316 1398.2 Q114.26 1393.59 114.26 1384.86 Q114.26 1376.11 117.316 1371.53 Q120.394 1366.92 126.205 1366.92 Z\" fill=\"#000000\" fill-rule=\"evenodd\" fill-opacity=\"1\" /><path clip-path=\"url(#clip600)\" d=\"M 0 0 M118.242 1019.88 L125.88 1019.88 L125.88 993.51 L117.57 995.177 L117.57 990.917 L125.834 989.251 L130.51 989.251 L130.51 1019.88 L138.149 1019.88 L138.149 1023.81 L118.242 1023.81 L118.242 1019.88 Z\" fill=\"#000000\" fill-rule=\"evenodd\" fill-opacity=\"1\" /><path clip-path=\"url(#clip600)\" d=\"M 0 0 M121.83 641.577 L138.149 641.577 L138.149 645.512 L116.205 645.512 L116.205 641.577 Q118.867 638.822 123.45 634.192 Q128.056 629.54 129.237 628.197 Q131.482 625.674 132.362 623.938 Q133.265 622.179 133.265 620.489 Q133.265 617.734 131.32 615.998 Q129.399 614.262 126.297 614.262 Q124.098 614.262 121.644 615.026 Q119.214 615.79 116.436 617.341 L116.436 612.618 Q119.26 611.484 121.714 610.905 Q124.168 610.327 126.205 610.327 Q131.575 610.327 134.769 613.012 Q137.964 615.697 137.964 620.188 Q137.964 622.317 137.154 624.239 Q136.367 626.137 134.26 628.729 Q133.681 629.401 130.58 632.618 Q127.478 635.813 121.83 641.577 Z\" fill=\"#000000\" fill-rule=\"evenodd\" fill-opacity=\"1\" /><path clip-path=\"url(#clip600)\" d=\"M 0 0 M131.019 248.579 Q134.376 249.296 136.251 251.565 Q138.149 253.833 138.149 257.167 Q138.149 262.282 134.63 265.083 Q131.112 267.884 124.63 267.884 Q122.455 267.884 120.14 267.444 Q117.848 267.028 115.394 266.171 L115.394 261.657 Q117.339 262.791 119.654 263.37 Q121.968 263.949 124.492 263.949 Q128.89 263.949 131.181 262.213 Q133.496 260.477 133.496 257.167 Q133.496 254.111 131.343 252.398 Q129.214 250.662 125.394 250.662 L121.367 250.662 L121.367 246.819 L125.58 246.819 Q129.029 246.819 130.857 245.454 Q132.686 244.065 132.686 241.472 Q132.686 238.81 130.788 237.398 Q128.913 235.963 125.394 235.963 Q123.473 235.963 121.274 236.38 Q119.075 236.796 116.436 237.676 L116.436 233.509 Q119.098 232.769 121.413 232.398 Q123.751 232.028 125.811 232.028 Q131.135 232.028 134.237 234.458 Q137.339 236.866 137.339 240.986 Q137.339 243.856 135.695 245.847 Q134.052 247.815 131.019 248.579 Z\" fill=\"#000000\" fill-rule=\"evenodd\" fill-opacity=\"1\" /><path clip-path=\"url(#clip600)\" d=\"M 0 0 M3.52994 1134.98 L3.52994 1129.09 L11.9327 1136.35 L11.9327 1141.22 L3.52994 1134.98 M18.0438 1122.88 L24.314 1122.88 Q22.5634 1126.54 21.704 1129.79 Q20.8447 1133.04 20.8447 1136.06 Q20.8447 1141.31 22.8817 1144.18 Q24.9187 1147.01 28.6745 1147.01 Q31.8255 1147.01 33.4488 1145.13 Q35.0402 1143.22 36.0269 1137.94 L36.8226 1134.06 Q38.1912 1126.86 41.6605 1123.46 Q45.098 1120.02 50.8908 1120.02 Q57.7976 1120.02 61.3624 1124.67 Q64.9272 1129.28 64.9272 1138.22 Q64.9272 1141.6 64.1633 1145.42 Q63.3994 1149.21 61.9035 1153.28 L55.2831 1153.28 Q57.4793 1149.36 58.5933 1145.61 Q59.7073 1141.85 59.7073 1138.22 Q59.7073 1132.72 57.543 1129.73 Q55.3786 1126.73 51.3682 1126.73 Q47.8671 1126.73 45.8937 1128.9 Q43.9204 1131.03 42.9337 1135.93 L42.1698 1139.85 Q40.7375 1147.04 37.682 1150.26 Q34.6264 1153.47 29.1837 1153.47 Q22.8817 1153.47 19.2532 1149.05 Q15.6248 1144.59 15.6248 1136.79 Q15.6248 1133.45 16.2295 1129.98 Q16.8343 1126.51 18.0438 1122.88 Z\" fill=\"#000000\" fill-rule=\"evenodd\" fill-opacity=\"1\" /><path clip-path=\"url(#clip600)\" d=\"M 0 0 M33.8307 1089.59 Q33.2578 1090.58 33.0032 1091.76 Q32.7167 1092.9 32.7167 1094.3 Q32.7167 1099.27 35.9632 1101.94 Q39.1779 1104.58 45.2253 1104.58 L64.0042 1104.58 L64.0042 1110.47 L28.3562 1110.47 L28.3562 1104.58 L33.8944 1104.58 Q30.6479 1102.74 29.0883 1099.78 Q27.4968 1096.82 27.4968 1092.58 Q27.4968 1091.98 27.5923 1091.25 Q27.656 1090.51 27.8151 1089.62 L33.8307 1089.59 Z\" fill=\"#000000\" fill-rule=\"evenodd\" fill-opacity=\"1\" /><path clip-path=\"url(#clip600)\" d=\"M 0 0 M44.7161 1054.39 L47.5806 1054.39 L47.5806 1081.32 Q53.6281 1080.93 56.8109 1077.69 Q59.9619 1074.41 59.9619 1068.58 Q59.9619 1065.21 59.1344 1062.06 Q58.3069 1058.88 56.6518 1055.76 L62.1899 1055.76 Q63.5267 1058.91 64.227 1062.22 Q64.9272 1065.53 64.9272 1068.93 Q64.9272 1077.46 59.9619 1082.46 Q54.9967 1087.43 46.5303 1087.43 Q37.7774 1087.43 32.6531 1082.72 Q27.4968 1077.97 27.4968 1069.95 Q27.4968 1062.76 32.1438 1058.59 Q36.7589 1054.39 44.7161 1054.39 M42.9973 1060.24 Q38.1912 1060.31 35.3266 1062.95 Q32.4621 1065.56 32.4621 1069.89 Q32.4621 1074.79 35.2312 1077.75 Q38.0002 1080.68 43.0292 1081.12 L42.9973 1060.24 Z\" fill=\"#000000\" fill-rule=\"evenodd\" fill-opacity=\"1\" /><path clip-path=\"url(#clip600)\" d=\"M 0 0 M33.7671 1021.32 L14.479 1021.32 L14.479 1015.46 L64.0042 1015.46 L64.0042 1021.32 L58.657 1021.32 Q61.8398 1023.16 63.3994 1026 Q64.9272 1028.8 64.9272 1032.75 Q64.9272 1039.21 59.771 1043.28 Q54.6147 1047.32 46.212 1047.32 Q37.8093 1047.32 32.6531 1043.28 Q27.4968 1039.21 27.4968 1032.75 Q27.4968 1028.8 29.0564 1026 Q30.5842 1023.16 33.7671 1021.32 M46.212 1041.28 Q52.6732 1041.28 56.3653 1038.63 Q60.0256 1035.96 60.0256 1031.31 Q60.0256 1026.67 56.3653 1023.99 Q52.6732 1021.32 46.212 1021.32 Q39.7508 1021.32 36.0905 1023.99 Q32.3984 1026.67 32.3984 1031.31 Q32.3984 1035.96 36.0905 1038.63 Q39.7508 1041.28 46.212 1041.28 Z\" fill=\"#000000\" fill-rule=\"evenodd\" fill-opacity=\"1\" /><path clip-path=\"url(#clip600)\" d=\"M 0 0 M42.4881 973.767 L64.0042 973.767 L64.0042 979.623 L42.679 979.623 Q37.6183 979.623 35.1038 981.597 Q32.5894 983.57 32.5894 987.517 Q32.5894 992.259 35.6131 994.996 Q38.6368 997.734 43.8567 997.734 L64.0042 997.734 L64.0042 1003.62 L28.3562 1003.62 L28.3562 997.734 L33.8944 997.734 Q30.6797 995.633 29.0883 992.8 Q27.4968 989.936 27.4968 986.212 Q27.4968 980.069 31.3163 976.918 Q35.1038 973.767 42.4881 973.767 Z\" fill=\"#000000\" fill-rule=\"evenodd\" fill-opacity=\"1\" /><path clip-path=\"url(#clip600)\" d=\"M 0 0 M28.3562 962.086 L28.3562 956.229 L64.0042 956.229 L64.0042 962.086 L28.3562 962.086 M14.479 962.086 L14.479 956.229 L21.895 956.229 L21.895 962.086 L14.479 962.086 Z\" fill=\"#000000\" fill-rule=\"evenodd\" fill-opacity=\"1\" /><path clip-path=\"url(#clip600)\" d=\"M 0 0 M29.7248 897.601 L35.1993 897.601 Q33.8307 900.084 33.1623 902.598 Q32.4621 905.081 32.4621 907.627 Q32.4621 913.324 36.0905 916.475 Q39.6872 919.626 46.212 919.626 Q52.7369 919.626 56.3653 916.475 Q59.9619 913.324 59.9619 907.627 Q59.9619 905.081 59.2935 902.598 Q58.5933 900.084 57.2247 897.601 L62.6355 897.601 Q63.7814 900.052 64.3543 902.694 Q64.9272 905.304 64.9272 908.264 Q64.9272 916.316 59.8664 921.059 Q54.8057 925.801 46.212 925.801 Q37.491 925.801 32.4939 921.027 Q27.4968 916.221 27.4968 907.882 Q27.4968 905.176 28.0697 902.598 Q28.6108 900.02 29.7248 897.601 Z\" fill=\"#000000\" fill-rule=\"evenodd\" fill-opacity=\"1\" /><path clip-path=\"url(#clip600)\" d=\"M 0 0 M28.3562 889.962 L28.3562 862.144 L33.7034 862.144 L59.3254 884.17 L59.3254 862.144 L64.0042 862.144 L64.0042 890.758 L58.657 890.758 L33.035 868.733 L33.035 889.962 L28.3562 889.962 Z\" fill=\"#000000\" fill-rule=\"evenodd\" fill-opacity=\"1\" /><path clip-path=\"url(#clip600)\" d=\"M 0 0 M46.0847 837 Q46.0847 844.097 47.7079 846.835 Q49.3312 849.572 53.2461 849.572 Q56.3653 849.572 58.2114 847.535 Q60.0256 845.466 60.0256 841.933 Q60.0256 837.063 56.5881 834.135 Q53.1188 831.175 47.3897 831.175 L46.0847 831.175 L46.0847 837 M43.6657 825.319 L64.0042 825.319 L64.0042 831.175 L58.5933 831.175 Q61.8398 833.18 63.3994 836.172 Q64.9272 839.164 64.9272 843.493 Q64.9272 848.967 61.8716 852.214 Q58.7843 855.428 53.6281 855.428 Q47.6125 855.428 44.5569 851.418 Q41.5014 847.376 41.5014 839.387 L41.5014 831.175 L40.9285 831.175 Q36.8862 831.175 34.6901 833.849 Q32.4621 836.49 32.4621 841.296 Q32.4621 844.352 33.1941 847.248 Q33.9262 850.145 35.3903 852.818 L29.9795 852.818 Q28.7381 849.604 28.1334 846.58 Q27.4968 843.556 27.4968 840.692 Q27.4968 832.957 31.5072 829.138 Q35.5176 825.319 43.6657 825.319 Z\" fill=\"#000000\" fill-rule=\"evenodd\" fill-opacity=\"1\" /><path clip-path=\"url(#clip600)\" d=\"M 0 0 M29.4065 790.53 L34.9447 790.53 Q33.6716 793.013 33.035 795.686 Q32.3984 798.36 32.3984 801.224 Q32.3984 805.585 33.7352 807.781 Q35.072 809.945 37.7456 809.945 Q39.7826 809.945 40.9603 808.386 Q42.1061 806.826 43.1565 802.116 L43.6021 800.11 Q44.9389 793.872 47.3897 791.262 Q49.8086 788.62 54.1691 788.62 Q59.1344 788.62 62.0308 792.567 Q64.9272 796.482 64.9272 803.357 Q64.9272 806.221 64.3543 809.341 Q63.8132 812.428 62.6992 815.865 L56.6518 815.865 Q58.3387 812.619 59.198 809.468 Q60.0256 806.317 60.0256 803.23 Q60.0256 799.092 58.6251 796.864 Q57.1929 794.636 54.6147 794.636 Q52.2276 794.636 50.9545 796.259 Q49.6813 797.851 48.5037 803.293 L48.0262 805.33 Q46.8804 810.773 44.5251 813.192 Q42.138 815.611 38.0002 815.611 Q32.9713 815.611 30.2341 812.046 Q27.4968 808.481 27.4968 801.925 Q27.4968 798.678 27.9743 795.813 Q28.4517 792.949 29.4065 790.53 Z\" fill=\"#000000\" fill-rule=\"evenodd\" fill-opacity=\"1\" /><path clip-path=\"url(#clip600)\" d=\"M 0 0 M28.3562 761.98 L28.3562 756.123 L56.1743 748.803 L28.3562 741.514 L28.3562 734.607 L56.1743 727.287 L28.3562 719.998 L28.3562 714.141 L64.0042 723.467 L64.0042 730.374 L34.7856 738.045 L64.0042 745.747 L64.0042 752.654 L28.3562 761.98 Z\" fill=\"#000000\" fill-rule=\"evenodd\" fill-opacity=\"1\" /><path clip-path=\"url(#clip600)\" d=\"M 0 0 M67.3143 690.429 Q73.68 692.912 75.6216 695.267 Q77.5631 697.622 77.5631 701.569 L77.5631 706.248 L72.6615 706.248 L72.6615 702.811 Q72.6615 700.392 71.5157 699.055 Q70.3699 697.718 66.1048 696.095 L63.4312 695.044 L28.3562 709.463 L28.3562 703.256 L56.238 692.116 L28.3562 680.976 L28.3562 674.77 L67.3143 690.429 Z\" fill=\"#000000\" fill-rule=\"evenodd\" fill-opacity=\"1\" /><path clip-path=\"url(#clip600)\" d=\"M 0 0 M14.479 666.908 L14.479 661.02 L43.7294 661.02 L28.3562 643.546 L28.3562 636.066 L45.0344 654.972 L64.0042 635.27 L64.0042 642.909 L46.5939 661.02 L64.0042 661.02 L64.0042 666.908 L14.479 666.908 Z\" fill=\"#000000\" fill-rule=\"evenodd\" fill-opacity=\"1\" /><path clip-path=\"url(#clip600)\" d=\"M 0 0 M32.4621 617.446 Q32.4621 622.157 36.1542 624.894 Q39.8145 627.632 46.212 627.632 Q52.6095 627.632 56.3017 624.926 Q59.9619 622.189 59.9619 617.446 Q59.9619 612.768 56.2698 610.03 Q52.5777 607.293 46.212 607.293 Q39.8781 607.293 36.186 610.03 Q32.4621 612.768 32.4621 617.446 M27.4968 617.446 Q27.4968 609.808 32.4621 605.447 Q37.4273 601.087 46.212 601.087 Q54.9649 601.087 59.9619 605.447 Q64.9272 609.808 64.9272 617.446 Q64.9272 625.117 59.9619 629.478 Q54.9649 633.806 46.212 633.806 Q37.4273 633.806 32.4621 629.478 Q27.4968 625.117 27.4968 617.446 Z\" fill=\"#000000\" fill-rule=\"evenodd\" fill-opacity=\"1\" /><path clip-path=\"url(#clip600)\" d=\"M 0 0 M42.4881 561.746 L64.0042 561.746 L64.0042 567.603 L42.679 567.603 Q37.6183 567.603 35.1038 569.576 Q32.5894 571.55 32.5894 575.496 Q32.5894 580.239 35.6131 582.976 Q38.6368 585.713 43.8567 585.713 L64.0042 585.713 L64.0042 591.602 L28.3562 591.602 L28.3562 585.713 L33.8944 585.713 Q30.6797 583.613 29.0883 580.78 Q27.4968 577.915 27.4968 574.191 Q27.4968 568.049 31.3163 564.897 Q35.1038 561.746 42.4881 561.746 Z\" fill=\"#000000\" fill-rule=\"evenodd\" fill-opacity=\"1\" /><path clip-path=\"url(#clip600)\" d=\"M 0 0 M46.0847 533.865 Q46.0847 540.962 47.7079 543.7 Q49.3312 546.437 53.2461 546.437 Q56.3653 546.437 58.2114 544.4 Q60.0256 542.331 60.0256 538.798 Q60.0256 533.928 56.5881 531 Q53.1188 528.04 47.3897 528.04 L46.0847 528.04 L46.0847 533.865 M43.6657 522.184 L64.0042 522.184 L64.0042 528.04 L58.5933 528.04 Q61.8398 530.045 63.3994 533.037 Q64.9272 536.029 64.9272 540.358 Q64.9272 545.832 61.8716 549.079 Q58.7843 552.293 53.6281 552.293 Q47.6125 552.293 44.5569 548.283 Q41.5014 544.241 41.5014 536.252 L41.5014 528.04 L40.9285 528.04 Q36.8862 528.04 34.6901 530.714 Q32.4621 533.355 32.4621 538.162 Q32.4621 541.217 33.1941 544.113 Q33.9262 547.01 35.3903 549.683 L29.9795 549.683 Q28.7381 546.469 28.1334 543.445 Q27.4968 540.421 27.4968 537.557 Q27.4968 529.822 31.5072 526.003 Q35.5176 522.184 43.6657 522.184 Z\" fill=\"#000000\" fill-rule=\"evenodd\" fill-opacity=\"1\" /><path clip-path=\"url(#clip600)\" d=\"M 0 0 M42.4881 480.488 L64.0042 480.488 L64.0042 486.345 L42.679 486.345 Q37.6183 486.345 35.1038 488.318 Q32.5894 490.291 32.5894 494.238 Q32.5894 498.981 35.6131 501.718 Q38.6368 504.455 43.8567 504.455 L64.0042 504.455 L64.0042 510.343 L28.3562 510.343 L28.3562 504.455 L33.8944 504.455 Q30.6797 502.354 29.0883 499.522 Q27.4968 496.657 27.4968 492.933 Q27.4968 486.79 31.3163 483.639 Q35.1038 480.488 42.4881 480.488 Z\" fill=\"#000000\" fill-rule=\"evenodd\" fill-opacity=\"1\" /><path clip-path=\"url(#clip600)\" d=\"M 0 0 M28.3562 468.807 L28.3562 462.951 L64.0042 462.951 L64.0042 468.807 L28.3562 468.807 M14.479 468.807 L14.479 462.951 L21.895 462.951 L21.895 468.807 L14.479 468.807 Z\" fill=\"#000000\" fill-rule=\"evenodd\" fill-opacity=\"1\" /><path clip-path=\"url(#clip600)\" d=\"M 0 0 M46.0847 434.496 Q46.0847 441.594 47.7079 444.331 Q49.3312 447.068 53.2461 447.068 Q56.3653 447.068 58.2114 445.031 Q60.0256 442.962 60.0256 439.429 Q60.0256 434.56 56.5881 431.631 Q53.1188 428.671 47.3897 428.671 L46.0847 428.671 L46.0847 434.496 M43.6657 422.815 L64.0042 422.815 L64.0042 428.671 L58.5933 428.671 Q61.8398 430.677 63.3994 433.668 Q64.9272 436.66 64.9272 440.989 Q64.9272 446.464 61.8716 449.71 Q58.7843 452.925 53.6281 452.925 Q47.6125 452.925 44.5569 448.914 Q41.5014 444.872 41.5014 436.883 L41.5014 428.671 L40.9285 428.671 Q36.8862 428.671 34.6901 431.345 Q32.4621 433.987 32.4621 438.793 Q32.4621 441.848 33.1941 444.745 Q33.9262 447.641 35.3903 450.315 L29.9795 450.315 Q28.7381 447.1 28.1334 444.076 Q27.4968 441.053 27.4968 438.188 Q27.4968 430.454 31.5072 426.634 Q35.5176 422.815 43.6657 422.815 Z\" fill=\"#000000\" fill-rule=\"evenodd\" fill-opacity=\"1\" /><path clip-path=\"url(#clip600)\" d=\"M 0 0 M14.479 390.573 L14.479 377.077 L19.0304 377.077 L19.0304 384.716 L68.0464 384.716 L68.0464 377.077 L72.5979 377.077 L72.5979 390.573 L14.479 390.573 Z\" fill=\"#000000\" fill-rule=\"evenodd\" fill-opacity=\"1\" /><path clip-path=\"url(#clip600)\" d=\"M 0 0 M29.4065 341.875 L34.9447 341.875 Q33.6716 344.358 33.035 347.031 Q32.3984 349.705 32.3984 352.569 Q32.3984 356.93 33.7352 359.126 Q35.072 361.29 37.7456 361.29 Q39.7826 361.29 40.9603 359.731 Q42.1061 358.171 43.1565 353.461 L43.6021 351.455 Q44.9389 345.217 47.3897 342.607 Q49.8086 339.965 54.1691 339.965 Q59.1344 339.965 62.0308 343.912 Q64.9272 347.827 64.9272 354.702 Q64.9272 357.566 64.3543 360.686 Q63.8132 363.773 62.6992 367.21 L56.6518 367.21 Q58.3387 363.964 59.198 360.813 Q60.0256 357.662 60.0256 354.575 Q60.0256 350.437 58.6251 348.209 Q57.1929 345.981 54.6147 345.981 Q52.2276 345.981 50.9545 347.604 Q49.6813 349.196 48.5037 354.638 L48.0262 356.675 Q46.8804 362.118 44.5251 364.537 Q42.138 366.956 38.0002 366.956 Q32.9713 366.956 30.2341 363.391 Q27.4968 359.826 27.4968 353.27 Q27.4968 350.023 27.9743 347.158 Q28.4517 344.294 29.4065 341.875 Z\" fill=\"#000000\" fill-rule=\"evenodd\" fill-opacity=\"1\" /><path clip-path=\"url(#clip600)\" d=\"M 0 0 M14.479 316.953 L72.5979 316.953 L72.5979 330.449 L68.0464 330.449 L68.0464 322.841 L19.0304 322.841 L19.0304 330.449 L14.479 330.449 L14.479 316.953 Z\" fill=\"#000000\" fill-rule=\"evenodd\" fill-opacity=\"1\" /><polyline clip-path=\"url(#clip602)\" style=\"stroke:#000000; stroke-width:4; stroke-opacity:1; fill:none\" points=\"\n",
       "  235.808,1384.24 235.808,1349.81 \n",
       "  \"/>\n",
       "<polyline clip-path=\"url(#clip602)\" style=\"stroke:#000000; stroke-width:4; stroke-opacity:1; fill:none\" points=\"\n",
       "  464.173,1376.92 464.173,1374.62 \n",
       "  \"/>\n",
       "<polyline clip-path=\"url(#clip602)\" style=\"stroke:#000000; stroke-width:4; stroke-opacity:1; fill:none\" points=\"\n",
       "  692.539,1358.31 692.539,1348.63 \n",
       "  \"/>\n",
       "<polyline clip-path=\"url(#clip602)\" style=\"stroke:#000000; stroke-width:4; stroke-opacity:1; fill:none\" points=\"\n",
       "  920.904,1320.16 920.904,1314.27 \n",
       "  \"/>\n",
       "<polyline clip-path=\"url(#clip602)\" style=\"stroke:#000000; stroke-width:4; stroke-opacity:1; fill:none\" points=\"\n",
       "  1149.27,1258.16 1149.27,1253.76 \n",
       "  \"/>\n",
       "<polyline clip-path=\"url(#clip602)\" style=\"stroke:#000000; stroke-width:4; stroke-opacity:1; fill:none\" points=\"\n",
       "  1377.64,1163.05 1377.64,1145.04 \n",
       "  \"/>\n",
       "<polyline clip-path=\"url(#clip602)\" style=\"stroke:#000000; stroke-width:4; stroke-opacity:1; fill:none\" points=\"\n",
       "  1606,1031.38 1606,1009.92 \n",
       "  \"/>\n",
       "<polyline clip-path=\"url(#clip602)\" style=\"stroke:#000000; stroke-width:4; stroke-opacity:1; fill:none\" points=\"\n",
       "  1834.37,849.53 1834.37,805.243 \n",
       "  \"/>\n",
       "<polyline clip-path=\"url(#clip602)\" style=\"stroke:#000000; stroke-width:4; stroke-opacity:1; fill:none\" points=\"\n",
       "  2062.73,621.091 2062.73,578.581 \n",
       "  \"/>\n",
       "<polyline clip-path=\"url(#clip602)\" style=\"stroke:#000000; stroke-width:4; stroke-opacity:1; fill:none\" points=\"\n",
       "  2291.1,325.867 2291.1,86.1857 \n",
       "  \"/>\n",
       "<line clip-path=\"url(#clip602)\" x1=\"251.808\" y1=\"1384.24\" x2=\"219.808\" y2=\"1384.24\" style=\"stroke:#000000; stroke-width:3.2; stroke-opacity:1\"/>\n",
       "<line clip-path=\"url(#clip602)\" x1=\"251.808\" y1=\"1349.81\" x2=\"219.808\" y2=\"1349.81\" style=\"stroke:#000000; stroke-width:3.2; stroke-opacity:1\"/>\n",
       "<line clip-path=\"url(#clip602)\" x1=\"480.173\" y1=\"1376.92\" x2=\"448.173\" y2=\"1376.92\" style=\"stroke:#000000; stroke-width:3.2; stroke-opacity:1\"/>\n",
       "<line clip-path=\"url(#clip602)\" x1=\"480.173\" y1=\"1374.62\" x2=\"448.173\" y2=\"1374.62\" style=\"stroke:#000000; stroke-width:3.2; stroke-opacity:1\"/>\n",
       "<line clip-path=\"url(#clip602)\" x1=\"708.539\" y1=\"1358.31\" x2=\"676.539\" y2=\"1358.31\" style=\"stroke:#000000; stroke-width:3.2; stroke-opacity:1\"/>\n",
       "<line clip-path=\"url(#clip602)\" x1=\"708.539\" y1=\"1348.63\" x2=\"676.539\" y2=\"1348.63\" style=\"stroke:#000000; stroke-width:3.2; stroke-opacity:1\"/>\n",
       "<line clip-path=\"url(#clip602)\" x1=\"936.904\" y1=\"1320.16\" x2=\"904.904\" y2=\"1320.16\" style=\"stroke:#000000; stroke-width:3.2; stroke-opacity:1\"/>\n",
       "<line clip-path=\"url(#clip602)\" x1=\"936.904\" y1=\"1314.27\" x2=\"904.904\" y2=\"1314.27\" style=\"stroke:#000000; stroke-width:3.2; stroke-opacity:1\"/>\n",
       "<line clip-path=\"url(#clip602)\" x1=\"1165.27\" y1=\"1258.16\" x2=\"1133.27\" y2=\"1258.16\" style=\"stroke:#000000; stroke-width:3.2; stroke-opacity:1\"/>\n",
       "<line clip-path=\"url(#clip602)\" x1=\"1165.27\" y1=\"1253.76\" x2=\"1133.27\" y2=\"1253.76\" style=\"stroke:#000000; stroke-width:3.2; stroke-opacity:1\"/>\n",
       "<line clip-path=\"url(#clip602)\" x1=\"1393.64\" y1=\"1163.05\" x2=\"1361.64\" y2=\"1163.05\" style=\"stroke:#000000; stroke-width:3.2; stroke-opacity:1\"/>\n",
       "<line clip-path=\"url(#clip602)\" x1=\"1393.64\" y1=\"1145.04\" x2=\"1361.64\" y2=\"1145.04\" style=\"stroke:#000000; stroke-width:3.2; stroke-opacity:1\"/>\n",
       "<line clip-path=\"url(#clip602)\" x1=\"1622\" y1=\"1031.38\" x2=\"1590\" y2=\"1031.38\" style=\"stroke:#000000; stroke-width:3.2; stroke-opacity:1\"/>\n",
       "<line clip-path=\"url(#clip602)\" x1=\"1622\" y1=\"1009.92\" x2=\"1590\" y2=\"1009.92\" style=\"stroke:#000000; stroke-width:3.2; stroke-opacity:1\"/>\n",
       "<line clip-path=\"url(#clip602)\" x1=\"1850.37\" y1=\"849.53\" x2=\"1818.37\" y2=\"849.53\" style=\"stroke:#000000; stroke-width:3.2; stroke-opacity:1\"/>\n",
       "<line clip-path=\"url(#clip602)\" x1=\"1850.37\" y1=\"805.243\" x2=\"1818.37\" y2=\"805.243\" style=\"stroke:#000000; stroke-width:3.2; stroke-opacity:1\"/>\n",
       "<line clip-path=\"url(#clip602)\" x1=\"2078.73\" y1=\"621.091\" x2=\"2046.73\" y2=\"621.091\" style=\"stroke:#000000; stroke-width:3.2; stroke-opacity:1\"/>\n",
       "<line clip-path=\"url(#clip602)\" x1=\"2078.73\" y1=\"578.581\" x2=\"2046.73\" y2=\"578.581\" style=\"stroke:#000000; stroke-width:3.2; stroke-opacity:1\"/>\n",
       "<line clip-path=\"url(#clip602)\" x1=\"2307.1\" y1=\"325.867\" x2=\"2275.1\" y2=\"325.867\" style=\"stroke:#000000; stroke-width:3.2; stroke-opacity:1\"/>\n",
       "<line clip-path=\"url(#clip602)\" x1=\"2307.1\" y1=\"86.1857\" x2=\"2275.1\" y2=\"86.1857\" style=\"stroke:#000000; stroke-width:3.2; stroke-opacity:1\"/>\n",
       "<circle clip-path=\"url(#clip602)\" cx=\"235.808\" cy=\"1367.02\" r=\"14\" fill=\"#ff0000\" fill-rule=\"evenodd\" fill-opacity=\"1\" stroke=\"#000000\" stroke-opacity=\"1\" stroke-width=\"3.2\"/>\n",
       "<circle clip-path=\"url(#clip602)\" cx=\"464.173\" cy=\"1375.77\" r=\"14\" fill=\"#ff0000\" fill-rule=\"evenodd\" fill-opacity=\"1\" stroke=\"#000000\" stroke-opacity=\"1\" stroke-width=\"3.2\"/>\n",
       "<circle clip-path=\"url(#clip602)\" cx=\"692.539\" cy=\"1353.47\" r=\"14\" fill=\"#ff0000\" fill-rule=\"evenodd\" fill-opacity=\"1\" stroke=\"#000000\" stroke-opacity=\"1\" stroke-width=\"3.2\"/>\n",
       "<circle clip-path=\"url(#clip602)\" cx=\"920.904\" cy=\"1317.22\" r=\"14\" fill=\"#ff0000\" fill-rule=\"evenodd\" fill-opacity=\"1\" stroke=\"#000000\" stroke-opacity=\"1\" stroke-width=\"3.2\"/>\n",
       "<circle clip-path=\"url(#clip602)\" cx=\"1149.27\" cy=\"1255.96\" r=\"14\" fill=\"#ff0000\" fill-rule=\"evenodd\" fill-opacity=\"1\" stroke=\"#000000\" stroke-opacity=\"1\" stroke-width=\"3.2\"/>\n",
       "<circle clip-path=\"url(#clip602)\" cx=\"1377.64\" cy=\"1154.05\" r=\"14\" fill=\"#ff0000\" fill-rule=\"evenodd\" fill-opacity=\"1\" stroke=\"#000000\" stroke-opacity=\"1\" stroke-width=\"3.2\"/>\n",
       "<circle clip-path=\"url(#clip602)\" cx=\"1606\" cy=\"1020.65\" r=\"14\" fill=\"#ff0000\" fill-rule=\"evenodd\" fill-opacity=\"1\" stroke=\"#000000\" stroke-opacity=\"1\" stroke-width=\"3.2\"/>\n",
       "<circle clip-path=\"url(#clip602)\" cx=\"1834.37\" cy=\"827.387\" r=\"14\" fill=\"#ff0000\" fill-rule=\"evenodd\" fill-opacity=\"1\" stroke=\"#000000\" stroke-opacity=\"1\" stroke-width=\"3.2\"/>\n",
       "<circle clip-path=\"url(#clip602)\" cx=\"2062.73\" cy=\"599.836\" r=\"14\" fill=\"#ff0000\" fill-rule=\"evenodd\" fill-opacity=\"1\" stroke=\"#000000\" stroke-opacity=\"1\" stroke-width=\"3.2\"/>\n",
       "<circle clip-path=\"url(#clip602)\" cx=\"2291.1\" cy=\"206.027\" r=\"14\" fill=\"#ff0000\" fill-rule=\"evenodd\" fill-opacity=\"1\" stroke=\"#000000\" stroke-opacity=\"1\" stroke-width=\"3.2\"/>\n",
       "<path clip-path=\"url(#clip600)\" d=\"\n",
       "M246.769 214.069 L631.706 214.069 L631.706 93.1086 L246.769 93.1086  Z\n",
       "  \" fill=\"#ffffff\" fill-rule=\"evenodd\" fill-opacity=\"1\"/>\n",
       "<polyline clip-path=\"url(#clip600)\" style=\"stroke:#000000; stroke-width:4; stroke-opacity:1; fill:none\" points=\"\n",
       "  246.769,214.069 631.706,214.069 631.706,93.1086 246.769,93.1086 246.769,214.069 \n",
       "  \"/>\n",
       "<circle clip-path=\"url(#clip600)\" cx=\"343.596\" cy=\"153.589\" r=\"23\" fill=\"#ff0000\" fill-rule=\"evenodd\" fill-opacity=\"1\" stroke=\"#000000\" stroke-opacity=\"1\" stroke-width=\"5.12\"/>\n",
       "<path clip-path=\"url(#clip600)\" d=\"M 0 0 M445.099 154.364 L445.099 167.026 L452.599 167.026 Q456.372 167.026 458.178 165.475 Q460.006 163.901 460.006 160.683 Q460.006 157.443 458.178 155.915 Q456.372 154.364 452.599 154.364 L445.099 154.364 M445.099 140.151 L445.099 150.568 L452.02 150.568 Q455.446 150.568 457.113 149.295 Q458.803 147.998 458.803 145.359 Q458.803 142.744 457.113 141.447 Q455.446 140.151 452.02 140.151 L445.099 140.151 M440.423 136.309 L452.367 136.309 Q457.715 136.309 460.608 138.531 Q463.502 140.753 463.502 144.85 Q463.502 148.022 462.02 149.897 Q460.539 151.771 457.668 152.234 Q461.117 152.975 463.016 155.336 Q464.937 157.674 464.937 161.193 Q464.937 165.822 461.789 168.345 Q458.641 170.869 452.83 170.869 L440.423 170.869 L440.423 136.309 Z\" fill=\"#000000\" fill-rule=\"evenodd\" fill-opacity=\"1\" /><path clip-path=\"url(#clip600)\" d=\"M 0 0 M494.937 156.841 L494.937 158.924 L475.353 158.924 Q475.631 163.322 477.992 165.637 Q480.377 167.929 484.613 167.929 Q487.066 167.929 489.358 167.327 Q491.673 166.725 493.941 165.521 L493.941 169.549 Q491.65 170.521 489.242 171.031 Q486.835 171.54 484.358 171.54 Q478.154 171.54 474.52 167.929 Q470.909 164.318 470.909 158.16 Q470.909 151.795 474.335 148.068 Q477.784 144.318 483.617 144.318 Q488.849 144.318 491.881 147.697 Q494.937 151.054 494.937 156.841 M490.677 155.591 Q490.631 152.096 488.71 150.012 Q486.812 147.929 483.664 147.929 Q480.099 147.929 477.946 149.943 Q475.816 151.957 475.492 155.614 L490.677 155.591 Z\" fill=\"#000000\" fill-rule=\"evenodd\" fill-opacity=\"1\" /><path clip-path=\"url(#clip600)\" d=\"M 0 0 M506.14 137.582 L506.14 144.943 L514.913 144.943 L514.913 148.253 L506.14 148.253 L506.14 162.327 Q506.14 165.498 506.997 166.401 Q507.876 167.304 510.538 167.304 L514.913 167.304 L514.913 170.869 L510.538 170.869 Q505.608 170.869 503.733 169.04 Q501.858 167.188 501.858 162.327 L501.858 148.253 L498.733 148.253 L498.733 144.943 L501.858 144.943 L501.858 137.582 L506.14 137.582 Z\" fill=\"#000000\" fill-rule=\"evenodd\" fill-opacity=\"1\" /><path clip-path=\"url(#clip600)\" d=\"M 0 0 M524.728 137.582 L524.728 144.943 L533.501 144.943 L533.501 148.253 L524.728 148.253 L524.728 162.327 Q524.728 165.498 525.585 166.401 Q526.464 167.304 529.126 167.304 L533.501 167.304 L533.501 170.869 L529.126 170.869 Q524.196 170.869 522.321 169.04 Q520.446 167.188 520.446 162.327 L520.446 148.253 L517.321 148.253 L517.321 144.943 L520.446 144.943 L520.446 137.582 L524.728 137.582 Z\" fill=\"#000000\" fill-rule=\"evenodd\" fill-opacity=\"1\" /><path clip-path=\"url(#clip600)\" d=\"M 0 0 M561.279 156.841 L561.279 158.924 L541.696 158.924 Q541.973 163.322 544.335 165.637 Q546.719 167.929 550.955 167.929 Q553.409 167.929 555.7 167.327 Q558.015 166.725 560.284 165.521 L560.284 169.549 Q557.992 170.521 555.585 171.031 Q553.177 171.54 550.7 171.54 Q544.497 171.54 540.862 167.929 Q537.251 164.318 537.251 158.16 Q537.251 151.795 540.677 148.068 Q544.126 144.318 549.96 144.318 Q555.191 144.318 558.223 147.697 Q561.279 151.054 561.279 156.841 M557.02 155.591 Q556.973 152.096 555.052 150.012 Q553.154 147.929 550.006 147.929 Q546.441 147.929 544.288 149.943 Q542.159 151.957 541.835 155.614 L557.02 155.591 Z\" fill=\"#000000\" fill-rule=\"evenodd\" fill-opacity=\"1\" /><path clip-path=\"url(#clip600)\" d=\"M 0 0 M583.293 148.924 Q582.575 148.508 581.719 148.322 Q580.885 148.114 579.867 148.114 Q576.256 148.114 574.311 150.475 Q572.39 152.813 572.39 157.211 L572.39 170.869 L568.108 170.869 L568.108 144.943 L572.39 144.943 L572.39 148.971 Q573.733 146.609 575.885 145.475 Q578.038 144.318 581.117 144.318 Q581.557 144.318 582.089 144.387 Q582.621 144.434 583.27 144.549 L583.293 148.924 Z\" fill=\"#000000\" fill-rule=\"evenodd\" fill-opacity=\"1\" /></svg>\n"
      ]
     },
     "execution_count": 33,
     "metadata": {},
     "output_type": "execute_result"
    }
   ],
   "source": [
    "scatter(pomiary.\"Wielkość macierzy\", pomiary.\"Średni czas wykonania\", group=pomiary.Mnożenie, \n",
    "    colour = [:red :blue :magenta], yerr=pomiary.\"Odchylenie st.\")\n",
    "xlabel!(\"Wielkość macierzy\")\n",
    "ylabel!(\"Średni czas wykonania [s]\")\n",
    "plot!(legend = :topleft)"
   ]
  },
  {
   "cell_type": "code",
   "execution_count": 27,
   "metadata": {},
   "outputs": [
    {
     "data": {
      "text/plain": [
       "10×3 Array{Float64,2}:\n",
       " 0.0  0.0  0.0\n",
       " 0.0  0.0  0.0\n",
       " 0.0  0.0  0.0\n",
       " 0.0  0.0  0.0\n",
       " 0.0  0.0  0.0\n",
       " 0.0  0.0  0.0\n",
       " 0.0  0.0  0.0\n",
       " 0.0  0.0  0.0\n",
       " 0.0  0.0  0.0\n",
       " 0.0  0.0  0.0"
      ]
     },
     "execution_count": 27,
     "metadata": {},
     "output_type": "execute_result"
    }
   ],
   "source": [
    "xs = pomiary[2]\n",
    "ys = pomiary[3]\n",
    "\n",
    "A = zeros(10,3)\n",
    "A[:,1] = xs.^2\n",
    "A[:,2] = xs\n",
    "\n",
    "A"
   ]
  },
  {
   "cell_type": "code",
   "execution_count": 35,
   "metadata": {},
   "outputs": [
    {
     "data": {
      "text/plain": [
       "QRPivoted{Float64,Array{Float64,2}}\n",
       "Q factor:\n",
       "10×10 LinearAlgebra.QRPackedQ{Float64,Array{Float64,2}}:\n",
       " -0.00628285  -0.180555    0.765207   …  -0.0284868   -0.233895   -0.512314\n",
       " -0.0251314   -0.312143    0.425115       0.338725     0.449124    0.54828\n",
       " -0.0565456   -0.394764    0.155876      -0.335443    -0.16683     0.0721115\n",
       " -0.100526    -0.428418   -0.0425115     -0.00247151   0.0490448   0.109208\n",
       " -0.157071    -0.413105   -0.170046      -0.0807517   -0.0194093   0.0591343\n",
       " -0.226183    -0.348824   -0.226728   …  -0.139421    -0.0865541  -0.0143963\n",
       " -0.30786     -0.235576   -0.212558      -0.178479    -0.15239    -0.111384\n",
       " -0.402102    -0.0733617  -0.127535       0.802074    -0.216916   -0.231827\n",
       " -0.508911     0.13782     0.028341      -0.197761     0.719867   -0.375728\n",
       " -0.628285     0.397969    0.255069      -0.177986    -0.342041    0.456915\n",
       "R factor:\n",
       "3×3 Array{Float64,2}:\n",
       " -1.59163e6  -1900.56   -2.4189\n",
       "  0.0         -487.713  -1.85096\n",
       "  0.0            0.0     0.85023\n",
       "permutation:\n",
       "3-element Array{Int64,1}:\n",
       " 1\n",
       " 2\n",
       " 3"
      ]
     },
     "execution_count": 35,
     "metadata": {},
     "output_type": "execute_result"
    }
   ],
   "source": [
    "AF = factorize(A)"
   ]
  },
  {
   "cell_type": "code",
   "execution_count": 36,
   "metadata": {},
   "outputs": [
    {
     "data": {
      "text/plain": [
       "3-element Array{Float64,1}:\n",
       "  5.452017864545451e-6\n",
       " -0.002872781976933331\n",
       "  0.37207371531333305"
      ]
     },
     "execution_count": 36,
     "metadata": {},
     "output_type": "execute_result"
    }
   ],
   "source": [
    "AF.R\\((Transpose(AF.Q)*ys)[1:3])"
   ]
  },
  {
   "cell_type": "code",
   "execution_count": 37,
   "metadata": {},
   "outputs": [
    {
     "data": {
      "text/html": [
       "0.3720737153133321 &#45; 0.00287278197693333&#8729;x &#43; 5.452017864545451e-6&#8729;x<sup>2</sup>"
      ],
      "text/latex": [
       "$0.3720737153133321 - 0.00287278197693333\\cdot x + 5.452017864545451e-6\\cdot x^{2}$"
      ],
      "text/plain": [
       "Polynomial(0.3720737153133321 - 0.00287278197693333*x + 5.452017864545451e-6*x^2)"
      ]
     },
     "execution_count": 37,
     "metadata": {},
     "output_type": "execute_result"
    }
   ],
   "source": [
    "fit(xs,ys, 2)"
   ]
  },
  {
   "cell_type": "markdown",
   "metadata": {},
   "source": [
    "Wyniki są podobne do otrzymanych przy pomocy funkcji fit."
   ]
  }
 ],
 "metadata": {
  "kernelspec": {
   "display_name": "Julia 1.5.3",
   "language": "julia",
   "name": "julia-1.5"
  },
  "language_info": {
   "file_extension": ".jl",
   "mimetype": "application/julia",
   "name": "julia",
   "version": "1.5.3"
  }
 },
 "nbformat": 4,
 "nbformat_minor": 4
}
